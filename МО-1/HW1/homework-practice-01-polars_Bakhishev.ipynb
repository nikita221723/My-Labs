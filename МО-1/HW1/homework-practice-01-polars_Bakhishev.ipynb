{
  "cells": [
    {
      "cell_type": "markdown",
      "metadata": {
        "id": "qT4lcRBz3JKd"
      },
      "source": [
        "## Машинное обучение 1, ПМИ ФКН ВШЭ\n",
        "\n",
        "## Практическое домашнее задание 1\n",
        "\n",
        "### Общая информация\n",
        "\n",
        "Дата выдачи: 25.09.2024\n",
        "\n",
        "Мягкий дедлайн: 23:59MSK 06.10.2024\n",
        "\n",
        "Жесткий дедлайн: 23:59MSK 10.10.2024"
      ]
    },
    {
      "cell_type": "markdown",
      "metadata": {
        "id": "UzmZAvdT3JKf"
      },
      "source": [
        "### О задании\n",
        "\n",
        "Задание состоит из двух разделов, посвященных работе с табличными данными с помощью библиотеки `polars` и визуализации с помощью `matplotlib`. В первом разделе вам предстоит выполнить базовые задания с помощью вышеуказанных библиотек, а во втором распределить студентов по курсам. Баллы даются за выполнение отдельных пунктов. Задачи в рамках одного раздела рекомендуется решать в том порядке, в котором они даны в задании.\n",
        "\n",
        "Задание направлено на освоение jupyter notebook (будет использоваться в дальнейших заданиях), библиотек polars и matplotlib.\n",
        "\n",
        "### Оценивание и штрафы\n",
        "Каждая из задач имеет определенную «стоимость» (указана в скобках около задачи). Максимально допустимая оценка за работу — 10 баллов без учёта бонусов. Сдавать задание после жёсткого дедлайна нельзя.\n",
        "\n",
        "Задание выполняется самостоятельно. «Похожие» решения считаются плагиатом и все задействованные студенты (в том числе те, у кого списали) не могут получить за него больше 0 баллов (подробнее о плагиате см. на странице курса). Если вы нашли решение какого-то из заданий (или его часть) в открытом источнике, необходимо указать ссылку на этот источник (скорее всего вы будете не единственным, кто это нашел, поэтому чтобы исключить подозрение в плагиате, необходима ссылка на источник).\n",
        "\n",
        "### Формат сдачи\n",
        "Задания сдаются через систему Anytask. Инвайт можно получить у семинариста или ассистента. Присылать необходимо ноутбук с выполненным заданием. Сам ноутбук называйте в формате `homework-practice-01-polars-Username.ipynb`, где Username — ваша фамилия.\n",
        "\n",
        "Для удобства проверки самостоятельно посчитайте свою максимальную оценку (исходя из набора решенных задач) и укажите ниже.\n",
        "\n",
        "Оценка: xx."
      ]
    },
    {
      "cell_type": "markdown",
      "metadata": {
        "id": "bQMq9hxz3JKg"
      },
      "source": [
        "## 0. Введение"
      ]
    },
    {
      "cell_type": "markdown",
      "metadata": {
        "id": "rDm3xw-Y3JKg"
      },
      "source": [
        "Сейчас мы находимся в jupyter-ноутбуке (или ipython-ноутбуке). Это удобная среда для написания кода, проведения экспериментов, изучения данных, построения визуализаций и других нужд, не связанных с написанием production-кода.\n",
        "\n",
        "Ноутбук состоит из ячеек, каждая из которых может быть либо ячейкой с кодом, либо ячейкой с текстом размеченным и неразмеченным. Текст поддерживает markdown-разметку и формулы в Latex.\n",
        "\n",
        "Для работы с содержимым ячейки используется *режим редактирования* (*Edit mode*, включается нажатием клавиши **Enter** после выбора ячейки), а для навигации между ячейками искользуется *командный режим* (*Command mode*, включается нажатием клавиши **Esc**). Тип ячейки можно задать в командном режиме либо с помощью горячих клавиш (**y** to code, **m** to markdown, **r** to edit raw text), либо в меню *Cell -> Cell type*.\n",
        "\n",
        "После заполнения ячейки нужно нажать *Shift + Enter*, эта команда обработает содержимое ячейки: проинтерпретирует код или сверстает размеченный текст."
      ]
    },
    {
      "cell_type": "code",
      "execution_count": 452,
      "metadata": {
        "id": "OEmmbrlv3JKh"
      },
      "outputs": [
        {
          "data": {
            "text/plain": [
              "4"
            ]
          },
          "execution_count": 452,
          "metadata": {},
          "output_type": "execute_result"
        }
      ],
      "source": [
        "# ячейка с кодом, при выполнении которой появится output\n",
        "2 + 2"
      ]
    },
    {
      "cell_type": "markdown",
      "metadata": {
        "id": "pHuI1gxN3JKi"
      },
      "source": [
        "Ячейка с неразмеченыным текстом."
      ]
    },
    {
      "cell_type": "markdown",
      "metadata": {
        "id": "7Od1jM9q3JKi"
      },
      "source": [
        "Попробуйте создать свои ячейки, написать какой-нибудь код и текст какой-нибудь формулой."
      ]
    },
    {
      "cell_type": "code",
      "execution_count": 453,
      "metadata": {
        "id": "bmR2-3Ut3JKi"
      },
      "outputs": [],
      "source": [
        "# your code"
      ]
    },
    {
      "cell_type": "markdown",
      "metadata": {
        "id": "eNSsZ84J3JKj"
      },
      "source": [
        "[Здесь](https://athena.brynmawr.edu/jupyter/hub/dblank/public/Jupyter%20Notebook%20Users%20Manual.ipynb) находится <s>не</s>большая заметка о используемом языке разметки Markdown. Он позволяет:\n",
        "\n",
        "0. Составлять упорядоченные списки\n",
        "1. Выделять *текст* <s>при</s> **необходимости**\n",
        "2. Добавлять [ссылки](http://imgs.xkcd.com/comics/the_universal_label.png)\n",
        "\n",
        "\n",
        "* Составлять неупорядоченные списки\n",
        "\n",
        "Делать вставки с помощью LaTex:\n",
        "    \n",
        "$\n",
        "\\left\\{\n",
        "\\begin{array}{ll}\n",
        "x = 16 \\sin^3 (t) \\\\\n",
        "y = 13 \\cos (t) - 5 \\cos (2t) - 2 \\cos (3t) - \\cos (4t) \\\\\n",
        "t \\in [0, 2 \\pi]\n",
        "\\end{array}\n",
        "\\right.$"
      ]
    },
    {
      "cell_type": "markdown",
      "metadata": {
        "id": "lmR9WkMh3JKj"
      },
      "source": [
        "А ещё можно вставлять картинки, или гифки, или что захотите:\n",
        "\n",
        "<img src=\"https://i.imgur.com/k5df8lX.gif\" width=\"400px\">\n",
        "\n"
      ]
    },
    {
      "cell_type": "markdown",
      "metadata": {
        "id": "dPLYl66y3JKj"
      },
      "source": [
        "### Google Colab"
      ]
    },
    {
      "cell_type": "markdown",
      "metadata": {
        "id": "A4lqG21G3JKj"
      },
      "source": [
        "Что за колаб?\n",
        "\n",
        "**Google Colab (Colaboratory)** это **Jupyter Notebook + Cloud + Google Drive.**\n",
        "\n",
        "Компания Google предоставляет возможность бесплатно запускать ноутбуки (предварительно загрузив их на свой гугл-диск) прямо в облаке. При этом вам не требуется установка никаких пакетов на свою машину, а работать можно прямиком из браузера. Вот ссылка:"
      ]
    },
    {
      "cell_type": "markdown",
      "metadata": {
        "id": "79bVOFY_3JKj"
      },
      "source": [
        "https://colab.research.google.com"
      ]
    },
    {
      "cell_type": "markdown",
      "metadata": {
        "id": "LnMoUH2P3JKj"
      },
      "source": [
        "При использовании вы увидите много сходств с jupyter ноутбуком. Одним из преимуществ является доступность GPU, соответствующую опцию можно активировать в настройках сервиса. При желании вы сможете найти в интернете много туториалов по использованию или разобраться самостоятельно =)"
      ]
    },
    {
      "cell_type": "markdown",
      "metadata": {
        "id": "iAb44N3VjD11"
      },
      "source": [
        "### Kaggle\n",
        "\n",
        "Альтернативой является **Kaggle**, он же площадка для самых разных соревнований по машинному обучению\n",
        "\n",
        "Он, как и колаб, предоставляет бесплатный GPU, и даже не один, с чётким лимитом в 30 часов в неделю (colab может его внезапно отобрать, kaggle - нет) более мощные CPU с большим числом ядер, и больше Гб ОЗУ (раз так в 2.5)\n",
        "\n",
        "https://www.kaggle.com\n",
        "\n",
        "К сожалению мир не идеален, недостатки следующие:\n",
        "- необходимость загружать датасеты через специальную кнопочку\n",
        "- невозможность использовать свои скрипты и модули :(\n",
        "- нужно тыкать техподдержку, чтобы создать аккаунт из России"
      ]
    },
    {
      "cell_type": "markdown",
      "metadata": {
        "id": "91bWX9jd3JKk"
      },
      "source": [
        "## 1. Табличные данные и Polars"
      ]
    },
    {
      "cell_type": "markdown",
      "metadata": {
        "id": "Z9L3rKBm3JKk"
      },
      "source": [
        "Эта версия домашки предполагает, что вы уже являетесь уверенным пользователем `pandas` и знакомы с датафреймами, как они устроены и как ими манипулировать. Библиотека `polars` основана на тех же концептах.\n",
        "\n",
        "Главные достоинства, которые чуть позже продемонстрируем:\n",
        "- он написан на Rust, поэтому почти все операции в нём выполняются значительно быстрее, есть распараллеливание из коробки, автоматическая оптимизация запросов и пр\n",
        "- он позволяет работать с данными, которые не помещаются в оперативку, с этим поможет `pl.LazyFrame` и streaming\n",
        "- конечно же имеются дополнительные функции, которых в `pandas` нет, но очень хочется, например агрегации с расширяющимся окном, произвольные оконные функции и прочее, для этого есть крайне гибкая штука `pl.Expr`\n",
        "\n",
        "Подробнее можете прочитать на [любом](https://habr.com/ru/articles/710240/) [ресурсе](https://realpython.com/polars-python/), [посвящённом](https://blog.jetbrains.com/pycharm/2024/07/polars-vs-pandas/) [`polars`](https://habr.com/ru/companies/spectr/articles/738766/)\n",
        "\n",
        "В этой части потребуется выполнить несколько небольших заданий. Можно пойти двумя путями: сначала изучить материалы, а потом приступить к заданиям, или же разбираться \"по ходу\". Выбирайте сами\n",
        "\n",
        "Если не понятно, как вызывать конкретный метод, обратитесь к материалам ниже. Имейте в виду, что синтаксис `polars` отличается от привычного нампаевского.\n",
        "Скорее всего все ваши самые извращённые фантазии уже как-то реализованы в `polars`, поэтому читайте внимательно. Ну и конечно гуглить не запрещено, но желательно прикладывать источник\n",
        "\n",
        "Материалы:\n",
        "1. [Getting started](https://docs.pola.rs/user-guide/getting-started/#reading-writing) из официального руководства\n",
        "2. [Документация](https://docs.pola.rs/api/python/stable/reference/index.html) со всем необходимым\n",
        "3. [Модификация для Data Science](https://polars-ds-extension.readthedocs.io/en/latest/index.html), вам скорее всего не понадобится в данном задании, но имейте в виду\n",
        "\n",
        "Многие из заданий можно выполнить несколькими способами. Не существуют единственно верного, но попробуйте максимально задействовать арсенал polars и ориентируйтесь на простоту и понятность вашего кода. Мы не будем подсказывать, что нужно использовать для решения конкретной задачи, попробуйте находить необходимый функционал сами (название метода чаще всего очевидно)"
      ]
    },
    {
      "cell_type": "code",
      "execution_count": 454,
      "metadata": {
        "id": "TwYQ-X_Q-m2A"
      },
      "outputs": [
        {
          "name": "stdout",
          "output_type": "stream",
          "text": [
            "zsh:1: command not found: pip\n"
          ]
        }
      ],
      "source": [
        "# поларс относительно молодой, имейте в виду, что что-то может сломаться, если будете менять версию\n",
        "!pip install -qU hvplot xlsx2csv polars==1.5.0"
      ]
    },
    {
      "cell_type": "code",
      "execution_count": 455,
      "metadata": {
        "id": "72smvZpD3JKk"
      },
      "outputs": [],
      "source": [
        "import polars as pl"
      ]
    },
    {
      "cell_type": "markdown",
      "metadata": {
        "id": "hX2zRkMI3JKk"
      },
      "source": [
        "Скачаем данные:"
      ]
    },
    {
      "cell_type": "code",
      "execution_count": 456,
      "metadata": {
        "id": "a4wqrhEA3JKk"
      },
      "outputs": [],
      "source": [
        "!wget  -O 'end_seminar.xlsx' -q 'https://www.dropbox.com/s/f4rm8sjc3v99p0m/_end_seminar.xlsx?dl=0'"
      ]
    },
    {
      "cell_type": "markdown",
      "metadata": {
        "id": "joackhzP3JKl"
      },
      "source": [
        "Для пользователей Windows: скачайте файл самостоятельно и поместите его в папку с тетрадкой. Или попробуйте один из следующих вариантов:"
      ]
    },
    {
      "cell_type": "code",
      "execution_count": 457,
      "metadata": {
        "id": "yhc9NUeE3JKl"
      },
      "outputs": [],
      "source": [
        "# !powershell iwr -outf somefile https://somesite/somefile"
      ]
    },
    {
      "cell_type": "code",
      "execution_count": 458,
      "metadata": {
        "id": "FxbRPi183JKl"
      },
      "outputs": [],
      "source": [
        "# !pip install wget\n",
        "# import wget\n",
        "# wget.download('https://dropbox.com/s/f4rm8sjc3v99p0m/_end_seminar.xlsx?dl=1', 'end_seminar.xlsx')"
      ]
    },
    {
      "cell_type": "markdown",
      "metadata": {
        "id": "5hIwLXz43JKl"
      },
      "source": [
        "### 📌 **Обязательно прочитайте блок ниже**\n",
        "\n",
        "> Пандасом и нампаем пользоваться неельзяя... Совсем\n",
        "\n",
        "> В первой части задания (до раздела \"Распределение студентов по курсам\") использование циклов запрещается и повлечет за собой снижение оценки. Во второй уже можно, но с оговорками, о чём ниже\n",
        "\n",
        "> Циклами в данном случае считается `for`, `while` и map-методы `polars`, где можно использовать лямбда-функцию. Главным образом `map_elements` и его производные.\n",
        "И как правило, всё то, что не умеет делать `pl.LazyFrame` - список [здесь](https://docs.pola.rs/api/python/stable/reference/lazyframe/index.html). Мотивация следующая - используя встроенные функции и методы, `polars` может оптимизировать ваш запрос и провести все нужные манипуляции, прежде чем сериализовать и вывести ответ (за некоторыми исключениями), поэтому важно научиться с этим управляться\n",
        "\n",
        "> Чтобы сделать выбор `polars` осмысленным, мы немножко модифицируем исходный датасет. Он будет больше в несколько раз и может не влезть в память, если у вас меньше 8 Гб, а с учётом преобразований может потребоваться до 64 Гб! Не пренебрегайте возможностями `pl.LazyFrame`. Его использование не обязательно, но может сильно облегчить вам жизнь\n",
        "\n",
        "> Трансформировать датасет `df` можно, как только это потребуется по условию (таких пунктов всего 2), на всякий случай поставим значок 🔄\n",
        "\n",
        "> Если небрежно обращаться с методами `polars`, вы рискуете крашнуть ядро, взорвать компутер, потерять рассудок... Если вдруг у вас есть тачка или хотите подебажить на исходном датасете, то пожалуйста, но помните про условия выше\n",
        "\n",
        "> Гарантируется, что задание можно выполнить, имея лишь ресурсы Google Colab (бесплатные), удачи ( ͡° ͜ʖ ͡°)"
      ]
    },
    {
      "cell_type": "markdown",
      "metadata": {
        "id": "das_ZBWy3JKl"
      },
      "source": [
        "Для каждой задачи из этого раздела вы должны написать код для получения ответа, а также дать текстовый ответ, если он предполагается.\n",
        "\n",
        "На некоторые вопросы вы можете получить путём пристального взгляда на таблицу, но это не будет засчитываться. Вы в любом случае должны получить ответ с помощью кода."
      ]
    },
    {
      "cell_type": "markdown",
      "metadata": {
        "id": "7L9UmKvHSBhk"
      },
      "source": [
        "### 🐻 Бонус polars. [3 балла]\n",
        "Бонус за использование `polars` равен вашей оценке за дз, умноженной на коэффициент 1.3, поэтому даже если сделали не всё, не отчаивайтесь)"
      ]
    },
    {
      "cell_type": "markdown",
      "metadata": {
        "id": "KH2B5XPBDlgp"
      },
      "source": [
        "#### 0. Ещё пара красивых слов"
      ]
    },
    {
      "cell_type": "markdown",
      "metadata": {
        "id": "-pO9LsL5Dsds"
      },
      "source": [
        "Первые несколько манипуляций мы сделаем за вас, а заодно поясним, в чём тут нюанс"
      ]
    },
    {
      "cell_type": "code",
      "execution_count": 584,
      "metadata": {
        "colab": {
          "base_uri": "https://localhost:8080/"
        },
        "id": "Ee0QXmptDrX7",
        "outputId": "8e4d5bd7-52d1-4e61-bcce-7ea12d09eb95"
      },
      "outputs": [
        {
          "name": "stdout",
          "output_type": "stream",
          "text": [
            "361 rows\n",
            "0.1458873748779297 mb\n"
          ]
        }
      ],
      "source": [
        "# читаем датафрейм\n",
        "initial_df = pl.read_excel(\"end_seminar.xlsx\", engine=\"xlsx2csv\")\n",
        "print(initial_df.shape[0], \"rows\")\n",
        "print(initial_df.estimated_size(\"mb\"), \"mb\")"
      ]
    },
    {
      "cell_type": "markdown",
      "metadata": {
        "id": "P0nMQNXCD1IO"
      },
      "source": [
        "Как видим, он достаточно маленький. С такими объёмами выбор библиотеки это чисто вкусовщина. Давайте немного поднимем ставки"
      ]
    },
    {
      "cell_type": "code",
      "execution_count": 585,
      "metadata": {
        "id": "PzBRfWY1ECOV"
      },
      "outputs": [],
      "source": [
        "def repeat_df(df: pl.DataFrame | pl.LazyFrame, n: int = 2) -> pl.LazyFrame:\n",
        "    return (\n",
        "        df.lazy()\n",
        "        .select(pl.col(\"timestamp\").unique().sort().repeat_by(n).flatten())\n",
        "        .join(df.lazy(), on=\"timestamp\", how=\"left\")\n",
        "    )"
      ]
    },
    {
      "cell_type": "markdown",
      "metadata": {
        "id": "loouiViPEHGJ"
      },
      "source": [
        "Для работы с датафреймами, которые в память не влезают, нам понадобится объект `pl.LazyFrame`. Он представляет из себя схему выполнения вашего запроса, который оптимизируется, бьётся на батчи и параллелится под капотом через StreamingAPI, что для нас просто идеально. Перевести объект туда можно через метод `lazy`, обратно через `collect`. Учтите, что `streaming=True` работает не со всеми операциями, применяйте с умом, это можно проверить через `pl.LazyFrame.explain(streaming=True)`"
      ]
    },
    {
      "cell_type": "code",
      "execution_count": 586,
      "metadata": {
        "colab": {
          "base_uri": "https://localhost:8080/"
        },
        "id": "OvTbmiSjEEfA",
        "outputId": "f8b11103-cacf-4a32-d4c8-af5cb5134bbf"
      },
      "outputs": [
        {
          "name": "stdout",
          "output_type": "stream",
          "text": [
            "Schema\n",
            "LEFT JOIN:\n",
            "LEFT PLAN ON: [col(\"timestamp\")]\n",
            "   SELECT [col(\"timestamp\").unique().sort(asc).repeat_by([dyn int: 2]).explode()] FROM\n",
            "    STREAMING:\n",
            "      DF [\"timestamp\", \"id\", \"rating\", \"18_group\"]; PROJECT 1/16 COLUMNS; SELECTION: None\n",
            "RIGHT PLAN ON: [col(\"timestamp\")]\n",
            "  DF [\"timestamp\", \"id\", \"rating\", \"18_group\"]; PROJECT */16 COLUMNS; SELECTION: None\n",
            "END LEFT JOIN\n"
          ]
        }
      ],
      "source": [
        "repeat_n = 2\n",
        "\n",
        "repeated_df = repeat_df(initial_df, repeat_n)\n",
        "print(\"Schema\")\n",
        "print(repeated_df.explain(streaming=True, optimized=True))"
      ]
    },
    {
      "cell_type": "code",
      "execution_count": 587,
      "metadata": {
        "colab": {
          "base_uri": "https://localhost:8080/"
        },
        "id": "7geBTZI6F691",
        "outputId": "0d7b8457-aad1-447c-efa3-b96263cf451d"
      },
      "outputs": [
        {
          "name": "stdout",
          "output_type": "stream",
          "text": [
            "722 rows\n",
            "0.2917900085449219 mb\n"
          ]
        }
      ],
      "source": [
        "# как видим, повторы работают\n",
        "repeated_df = repeated_df.collect()\n",
        "assert repeated_df.shape[0] == initial_df.shape[0] * repeat_n\n",
        "print(repeated_df.shape[0], \"rows\")\n",
        "print(repeated_df.estimated_size(\"mb\"), \"mb\")"
      ]
    },
    {
      "cell_type": "markdown",
      "metadata": {
        "id": "00wHctZJGe8s"
      },
      "source": [
        "Теперь ещё интереснее. Если бы наш датасет был не в 2 раза больше, а в 100000 раз, что бы мы делали? К счастью для нас, поларс может уместить 300кк строк всего лишь в 512Мб, и это даже не прикол, но работать с этим придётся немного иначе"
      ]
    },
    {
      "cell_type": "code",
      "execution_count": 588,
      "metadata": {
        "colab": {
          "base_uri": "https://localhost:8080/"
        },
        "id": "jm93pikEGqJi",
        "outputId": "6c910985-7cb1-4b62-e208-5a3c0a13f123"
      },
      "outputs": [
        {
          "name": "stdout",
          "output_type": "stream",
          "text": [
            "14.246813952922821 gb\n"
          ]
        }
      ],
      "source": [
        "N = 100000\n",
        "\n",
        "df = repeat_df(initial_df, N)\n",
        "print(initial_df.estimated_size(\"gb\") * N, \"gb\")"
      ]
    },
    {
      "cell_type": "markdown",
      "metadata": {
        "id": "MGMtuNEiG-xH"
      },
      "source": [
        "Поэтому даже такая тривиальная задача, как подсчёт строк становится уже не такой простой. Про это и будет дз"
      ]
    },
    {
      "cell_type": "code",
      "execution_count": 589,
      "metadata": {
        "colab": {
          "base_uri": "https://localhost:8080/"
        },
        "id": "pKo9lSvnHlgW",
        "outputId": "7b05d5fb-0ab1-4758-b883-433a1e2df805"
      },
      "outputs": [
        {
          "name": "stdout",
          "output_type": "stream",
          "text": [
            "ой, не получилось...\n"
          ]
        }
      ],
      "source": [
        "try:\n",
        "    print(df.shape[0], \"rows\")\n",
        "except AttributeError:\n",
        "    print(\"ой, не получилось...\")\n",
        "\n",
        "# df.collect().shape[0] # тоже можно, если влезет\n",
        "# len(df.collect().to_pandas()) # а такое может крашнуть ядро, попробуйте, хехе..."
      ]
    },
    {
      "cell_type": "code",
      "execution_count": 590,
      "metadata": {
        "colab": {
          "base_uri": "https://localhost:8080/"
        },
        "id": "mt-cWy3LHhvR",
        "outputId": "2465164c-a86a-4102-f636-90d0e4524e9f"
      },
      "outputs": [
        {
          "name": "stdout",
          "output_type": "stream",
          "text": [
            "36100000 rows\n"
          ]
        }
      ],
      "source": [
        "def lazy_len(df: pl.LazyFrame) -> int:\n",
        "    return df.select(pl.len()).collect().item()\n",
        "\n",
        "\n",
        "rows = lazy_len(df)  # намного экономнее, потому что оптимизировано под капотом\n",
        "assert rows == initial_df.shape[0] * N\n",
        "print(rows, \"rows\")"
      ]
    },
    {
      "cell_type": "markdown",
      "metadata": {
        "id": "JZd3QSTo3JKl"
      },
      "source": [
        "#### 1. [0.5 баллов] Откройте файл с таблицей (не забудьте про её формат). Выведите 3 последних строки\n",
        "\n",
        "Посмотрите на данные и скажите, что они из себя представляют, сколько в таблице строк, какие столбцы? (на это не надо отвечать, просто подумайте об этом)"
      ]
    },
    {
      "cell_type": "code",
      "execution_count": 591,
      "metadata": {
        "id": "FArd5QGESdyO"
      },
      "outputs": [
        {
          "data": {
            "text/html": [
              "<div><style>\n",
              ".dataframe > thead > tr,\n",
              ".dataframe > tbody > tr {\n",
              "  text-align: right;\n",
              "  white-space: pre-wrap;\n",
              "}\n",
              "</style>\n",
              "<small>shape: (9, 17)</small><table border=\"1\" class=\"dataframe\"><thead><tr><th>statistic</th><th>timestamp</th><th>id</th><th>rating</th><th>18_group</th><th>is_mi</th><th>fall_1</th><th>fall_2</th><th>fall_3</th><th>spring_1</th><th>spring_2</th><th>spring_3</th><th>is_first_time</th><th>percentile</th><th>17_group</th><th>blended</th><th>is_ml_student</th></tr><tr><td>str</td><td>str</td><td>str</td><td>f64</td><td>f64</td><td>f64</td><td>str</td><td>str</td><td>str</td><td>str</td><td>str</td><td>str</td><td>str</td><td>f64</td><td>str</td><td>str</td><td>f64</td></tr></thead><tbody><tr><td>&quot;count&quot;</td><td>&quot;36100000&quot;</td><td>&quot;36100000&quot;</td><td>3.61e7</td><td>2.23e7</td><td>1.8e6</td><td>&quot;36100000&quot;</td><td>&quot;36100000&quot;</td><td>&quot;36100000&quot;</td><td>&quot;36100000&quot;</td><td>&quot;36100000&quot;</td><td>&quot;36100000&quot;</td><td>&quot;35900000&quot;</td><td>3.61e7</td><td>&quot;13800000&quot;</td><td>&quot;13800000&quot;</td><td>5.7e6</td></tr><tr><td>&quot;null_count&quot;</td><td>&quot;0&quot;</td><td>&quot;0&quot;</td><td>0.0</td><td>1.38e7</td><td>3.43e7</td><td>&quot;0&quot;</td><td>&quot;0&quot;</td><td>&quot;0&quot;</td><td>&quot;0&quot;</td><td>&quot;0&quot;</td><td>&quot;0&quot;</td><td>&quot;200000&quot;</td><td>0.0</td><td>&quot;22300000&quot;</td><td>&quot;22300000&quot;</td><td>3.04e7</td></tr><tr><td>&quot;mean&quot;</td><td>null</td><td>null</td><td>833.34626</td><td>184.520179</td><td>1.0</td><td>null</td><td>null</td><td>null</td><td>null</td><td>null</td><td>null</td><td>null</td><td>0.49723</td><td>null</td><td>null</td><td>1.0</td></tr><tr><td>&quot;std&quot;</td><td>null</td><td>null</td><td>266.295508</td><td>2.266602</td><td>0.0</td><td>null</td><td>null</td><td>null</td><td>null</td><td>null</td><td>null</td><td>null</td><td>0.28867</td><td>null</td><td>null</td><td>null</td></tr><tr><td>&quot;min&quot;</td><td>&quot;2020-05-14 20:23:21&quot;</td><td>&quot;00b40fe7dbfd23e5daba7652445094…</td><td>495.0</td><td>181.0</td><td>1.0</td><td>&quot;Statistical Learning Theory&quot;</td><td>&quot;Statistical Learning Theory&quot;</td><td>&quot;Statistical Learning Theory&quot;</td><td>&quot;Анализ данных в бизнесе&quot;</td><td>&quot;Анализ данных в бизнесе&quot;</td><td>&quot;Анализ данных в бизнесе&quot;</td><td>&quot;Да&quot;</td><td>0.0</td><td>&quot;171&quot;</td><td>&quot;DevOps&quot;</td><td>1.0</td></tr><tr><td>&quot;25%&quot;</td><td>null</td><td>null</td><td>613.0</td><td>183.0</td><td>1.0</td><td>null</td><td>null</td><td>null</td><td>null</td><td>null</td><td>null</td><td>null</td><td>0.246637</td><td>null</td><td>null</td><td>null</td></tr><tr><td>&quot;50%&quot;</td><td>null</td><td>null</td><td>697.0</td><td>185.0</td><td>1.0</td><td>null</td><td>null</td><td>null</td><td>null</td><td>null</td><td>null</td><td>null</td><td>0.497758</td><td>null</td><td>null</td><td>null</td></tr><tr><td>&quot;75%&quot;</td><td>null</td><td>null</td><td>1111.0</td><td>187.0</td><td>1.0</td><td>null</td><td>null</td><td>null</td><td>null</td><td>null</td><td>null</td><td>null</td><td>0.746377</td><td>null</td><td>null</td><td>null</td></tr><tr><td>&quot;max&quot;</td><td>&quot;2020-05-24 01:23:31&quot;</td><td>&quot;ffc58d371e2f52e1c7f45d49d3d629…</td><td>1457.0</td><td>188.0</td><td>1.0</td><td>&quot;Язык SQL&quot;</td><td>&quot;Язык SQL&quot;</td><td>&quot;Язык SQL&quot;</td><td>&quot;Численные методы&quot;</td><td>&quot;Численные методы&quot;</td><td>&quot;Численные методы&quot;</td><td>&quot;Нет&quot;</td><td>0.995516</td><td>&quot;177&quot;</td><td>&quot;Соревновательный анализ данных&quot;</td><td>1.0</td></tr></tbody></table></div>"
            ],
            "text/plain": [
              "shape: (9, 17)\n",
              "┌───────────┬───────────┬───────────┬───────────┬───┬───────────┬──────────┬───────────┬───────────┐\n",
              "│ statistic ┆ timestamp ┆ id        ┆ rating    ┆ … ┆ percentil ┆ 17_group ┆ blended   ┆ is_ml_stu │\n",
              "│ ---       ┆ ---       ┆ ---       ┆ ---       ┆   ┆ e         ┆ ---      ┆ ---       ┆ dent      │\n",
              "│ str       ┆ str       ┆ str       ┆ f64       ┆   ┆ ---       ┆ str      ┆ str       ┆ ---       │\n",
              "│           ┆           ┆           ┆           ┆   ┆ f64       ┆          ┆           ┆ f64       │\n",
              "╞═══════════╪═══════════╪═══════════╪═══════════╪═══╪═══════════╪══════════╪═══════════╪═══════════╡\n",
              "│ count     ┆ 36100000  ┆ 36100000  ┆ 3.61e7    ┆ … ┆ 3.61e7    ┆ 13800000 ┆ 13800000  ┆ 5.7e6     │\n",
              "│ null_coun ┆ 0         ┆ 0         ┆ 0.0       ┆ … ┆ 0.0       ┆ 22300000 ┆ 22300000  ┆ 3.04e7    │\n",
              "│ t         ┆           ┆           ┆           ┆   ┆           ┆          ┆           ┆           │\n",
              "│ mean      ┆ null      ┆ null      ┆ 833.34626 ┆ … ┆ 0.49723   ┆ null     ┆ null      ┆ 1.0       │\n",
              "│ std       ┆ null      ┆ null      ┆ 266.29550 ┆ … ┆ 0.28867   ┆ null     ┆ null      ┆ null      │\n",
              "│           ┆           ┆           ┆ 8         ┆   ┆           ┆          ┆           ┆           │\n",
              "│ min       ┆ 2020-05-1 ┆ 00b40fe7d ┆ 495.0     ┆ … ┆ 0.0       ┆ 171      ┆ DevOps    ┆ 1.0       │\n",
              "│           ┆ 4         ┆ bfd23e5da ┆           ┆   ┆           ┆          ┆           ┆           │\n",
              "│           ┆ 20:23:21  ┆ ba7652445 ┆           ┆   ┆           ┆          ┆           ┆           │\n",
              "│           ┆           ┆ 094…      ┆           ┆   ┆           ┆          ┆           ┆           │\n",
              "│ 25%       ┆ null      ┆ null      ┆ 613.0     ┆ … ┆ 0.246637  ┆ null     ┆ null      ┆ null      │\n",
              "│ 50%       ┆ null      ┆ null      ┆ 697.0     ┆ … ┆ 0.497758  ┆ null     ┆ null      ┆ null      │\n",
              "│ 75%       ┆ null      ┆ null      ┆ 1111.0    ┆ … ┆ 0.746377  ┆ null     ┆ null      ┆ null      │\n",
              "│ max       ┆ 2020-05-2 ┆ ffc58d371 ┆ 1457.0    ┆ … ┆ 0.995516  ┆ 177      ┆ Соревнова ┆ 1.0       │\n",
              "│           ┆ 4         ┆ e2f52e1c7 ┆           ┆   ┆           ┆          ┆ тельный   ┆           │\n",
              "│           ┆ 01:23:31  ┆ f45d49d3d ┆           ┆   ┆           ┆          ┆ анализ    ┆           │\n",
              "│           ┆           ┆ 629…      ┆           ┆   ┆           ┆          ┆ данных    ┆           │\n",
              "└───────────┴───────────┴───────────┴───────────┴───┴───────────┴──────────┴───────────┴───────────┘"
            ]
          },
          "execution_count": 591,
          "metadata": {},
          "output_type": "execute_result"
        }
      ],
      "source": [
        "df.describe()"
      ]
    },
    {
      "cell_type": "code",
      "execution_count": 592,
      "metadata": {},
      "outputs": [
        {
          "data": {
            "text/html": [
              "<div><style>\n",
              ".dataframe > thead > tr,\n",
              ".dataframe > tbody > tr {\n",
              "  text-align: right;\n",
              "  white-space: pre-wrap;\n",
              "}\n",
              "</style>\n",
              "<small>shape: (3, 16)</small><table border=\"1\" class=\"dataframe\"><thead><tr><th>timestamp</th><th>id</th><th>rating</th><th>18_group</th><th>is_mi</th><th>fall_1</th><th>fall_2</th><th>fall_3</th><th>spring_1</th><th>spring_2</th><th>spring_3</th><th>is_first_time</th><th>percentile</th><th>17_group</th><th>blended</th><th>is_ml_student</th></tr><tr><td>str</td><td>str</td><td>i64</td><td>i64</td><td>i64</td><td>str</td><td>str</td><td>str</td><td>str</td><td>str</td><td>str</td><td>str</td><td>f64</td><td>str</td><td>str</td><td>bool</td></tr></thead><tbody><tr><td>&quot;2020-05-24 01:23:31&quot;</td><td>&quot;9d19b0d5f4fc8d7edc2258406f872c…</td><td>695</td><td>188</td><td>null</td><td>&quot;Безопасность компьютерных сист…</td><td>&quot;Язык SQL&quot;</td><td>&quot;Высокопроизводительные вычисле…</td><td>&quot;Компьютерные сети&quot;</td><td>&quot;Дискретная оптимизация&quot;</td><td>&quot;Численные методы&quot;</td><td>null</td><td>0.197309</td><td>null</td><td>null</td><td>null</td></tr><tr><td>&quot;2020-05-24 01:23:31&quot;</td><td>&quot;9d19b0d5f4fc8d7edc2258406f872c…</td><td>695</td><td>188</td><td>null</td><td>&quot;Безопасность компьютерных сист…</td><td>&quot;Язык SQL&quot;</td><td>&quot;Высокопроизводительные вычисле…</td><td>&quot;Компьютерные сети&quot;</td><td>&quot;Дискретная оптимизация&quot;</td><td>&quot;Численные методы&quot;</td><td>null</td><td>0.197309</td><td>null</td><td>null</td><td>null</td></tr><tr><td>&quot;2020-05-24 01:23:31&quot;</td><td>&quot;9d19b0d5f4fc8d7edc2258406f872c…</td><td>695</td><td>188</td><td>null</td><td>&quot;Безопасность компьютерных сист…</td><td>&quot;Язык SQL&quot;</td><td>&quot;Высокопроизводительные вычисле…</td><td>&quot;Компьютерные сети&quot;</td><td>&quot;Дискретная оптимизация&quot;</td><td>&quot;Численные методы&quot;</td><td>null</td><td>0.197309</td><td>null</td><td>null</td><td>null</td></tr></tbody></table></div>"
            ],
            "text/plain": [
              "shape: (3, 16)\n",
              "┌─────────────┬─────────────┬────────┬──────────┬───┬────────────┬──────────┬─────────┬────────────┐\n",
              "│ timestamp   ┆ id          ┆ rating ┆ 18_group ┆ … ┆ percentile ┆ 17_group ┆ blended ┆ is_ml_stud │\n",
              "│ ---         ┆ ---         ┆ ---    ┆ ---      ┆   ┆ ---        ┆ ---      ┆ ---     ┆ ent        │\n",
              "│ str         ┆ str         ┆ i64    ┆ i64      ┆   ┆ f64        ┆ str      ┆ str     ┆ ---        │\n",
              "│             ┆             ┆        ┆          ┆   ┆            ┆          ┆         ┆ bool       │\n",
              "╞═════════════╪═════════════╪════════╪══════════╪═══╪════════════╪══════════╪═════════╪════════════╡\n",
              "│ 2020-05-24  ┆ 9d19b0d5f4f ┆ 695    ┆ 188      ┆ … ┆ 0.197309   ┆ null     ┆ null    ┆ null       │\n",
              "│ 01:23:31    ┆ c8d7edc2258 ┆        ┆          ┆   ┆            ┆          ┆         ┆            │\n",
              "│             ┆ 406f872c…   ┆        ┆          ┆   ┆            ┆          ┆         ┆            │\n",
              "│ 2020-05-24  ┆ 9d19b0d5f4f ┆ 695    ┆ 188      ┆ … ┆ 0.197309   ┆ null     ┆ null    ┆ null       │\n",
              "│ 01:23:31    ┆ c8d7edc2258 ┆        ┆          ┆   ┆            ┆          ┆         ┆            │\n",
              "│             ┆ 406f872c…   ┆        ┆          ┆   ┆            ┆          ┆         ┆            │\n",
              "│ 2020-05-24  ┆ 9d19b0d5f4f ┆ 695    ┆ 188      ┆ … ┆ 0.197309   ┆ null     ┆ null    ┆ null       │\n",
              "│ 01:23:31    ┆ c8d7edc2258 ┆        ┆          ┆   ┆            ┆          ┆         ┆            │\n",
              "│             ┆ 406f872c…   ┆        ┆          ┆   ┆            ┆          ┆         ┆            │\n",
              "└─────────────┴─────────────┴────────┴──────────┴───┴────────────┴──────────┴─────────┴────────────┘"
            ]
          },
          "execution_count": 592,
          "metadata": {},
          "output_type": "execute_result"
        }
      ],
      "source": [
        "df.tail(3).collect()"
      ]
    },
    {
      "cell_type": "markdown",
      "metadata": {
        "id": "o74LHRbU3JKl"
      },
      "source": [
        "### Ответьте на вопросы:\n",
        "1. Сколько было уникальных пользователей из групп 18-го года набора, а сколько из групп 17-го года?"
      ]
    },
    {
      "cell_type": "code",
      "execution_count": 593,
      "metadata": {
        "id": "P8U67LmG3JKm"
      },
      "outputs": [
        {
          "name": "stdout",
          "output_type": "stream",
          "text": [
            "18 группа: 213\n",
            "17 группа: 134\n"
          ]
        }
      ],
      "source": [
        "print(\"18 группа:\", lazy_len(df.filter(pl.col(\"18_group\").is_not_null()).select(pl.col(\"id\").unique())))\n",
        "print(\"17 группа:\", lazy_len(df.filter(pl.col(\"17_group\").is_not_null()).select(pl.col(\"id\").unique())))"
      ]
    },
    {
      "cell_type": "markdown",
      "metadata": {
        "id": "nKYih84LTNfe"
      },
      "source": [
        "2. Есть ли уникальные студенты с равными перцентилями?"
      ]
    },
    {
      "cell_type": "code",
      "execution_count": 594,
      "metadata": {
        "id": "VlZxsjoO9964"
      },
      "outputs": [
        {
          "data": {
            "text/html": [
              "<div><style>\n",
              ".dataframe > thead > tr,\n",
              ".dataframe > tbody > tr {\n",
              "  text-align: right;\n",
              "  white-space: pre-wrap;\n",
              "}\n",
              "</style>\n",
              "<small>shape: (1, 2)</small><table border=\"1\" class=\"dataframe\"><thead><tr><th>percentile</th><th>id</th></tr><tr><td>f64</td><td>u32</td></tr></thead><tbody><tr><td>0.0</td><td>2</td></tr></tbody></table></div>"
            ],
            "text/plain": [
              "shape: (1, 2)\n",
              "┌────────────┬─────┐\n",
              "│ percentile ┆ id  │\n",
              "│ ---        ┆ --- │\n",
              "│ f64        ┆ u32 │\n",
              "╞════════════╪═════╡\n",
              "│ 0.0        ┆ 2   │\n",
              "└────────────┴─────┘"
            ]
          },
          "execution_count": 594,
          "metadata": {},
          "output_type": "execute_result"
        }
      ],
      "source": [
        "df.group_by(\"percentile\").agg(pl.col(\"id\").n_unique()).filter(pl.col(\"id\") != 1).collect()\n"
      ]
    },
    {
      "cell_type": "markdown",
      "metadata": {},
      "source": [
        "Как видим, есть двое уникальных студентов с перцентилем 0"
      ]
    },
    {
      "cell_type": "markdown",
      "metadata": {
        "id": "PObB1agk3JKm"
      },
      "source": [
        "#### 2. [0.5 балла] Есть ли в данных пропуски? В каких колонках? Сколько их в каждой из этих колонок?\n",
        "\n",
        "Уникальных или нет - не столь важно"
      ]
    },
    {
      "cell_type": "code",
      "execution_count": 595,
      "metadata": {
        "id": "zmMJ5oSi3JKm"
      },
      "outputs": [
        {
          "data": {
            "text/html": [
              "<div><style>\n",
              ".dataframe > thead > tr,\n",
              ".dataframe > tbody > tr {\n",
              "  text-align: right;\n",
              "  white-space: pre-wrap;\n",
              "}\n",
              "</style>\n",
              "<small>shape: (1, 16)</small><table border=\"1\" class=\"dataframe\"><thead><tr><th>timestamp</th><th>id</th><th>rating</th><th>18_group</th><th>is_mi</th><th>fall_1</th><th>fall_2</th><th>fall_3</th><th>spring_1</th><th>spring_2</th><th>spring_3</th><th>is_first_time</th><th>percentile</th><th>17_group</th><th>blended</th><th>is_ml_student</th></tr><tr><td>u32</td><td>u32</td><td>u32</td><td>u32</td><td>u32</td><td>u32</td><td>u32</td><td>u32</td><td>u32</td><td>u32</td><td>u32</td><td>u32</td><td>u32</td><td>u32</td><td>u32</td><td>u32</td></tr></thead><tbody><tr><td>0</td><td>0</td><td>0</td><td>13800000</td><td>34300000</td><td>0</td><td>0</td><td>0</td><td>0</td><td>0</td><td>0</td><td>200000</td><td>0</td><td>22300000</td><td>22300000</td><td>30400000</td></tr></tbody></table></div>"
            ],
            "text/plain": [
              "shape: (1, 16)\n",
              "┌───────────┬─────┬────────┬──────────┬───┬────────────┬──────────┬──────────┬───────────────┐\n",
              "│ timestamp ┆ id  ┆ rating ┆ 18_group ┆ … ┆ percentile ┆ 17_group ┆ blended  ┆ is_ml_student │\n",
              "│ ---       ┆ --- ┆ ---    ┆ ---      ┆   ┆ ---        ┆ ---      ┆ ---      ┆ ---           │\n",
              "│ u32       ┆ u32 ┆ u32    ┆ u32      ┆   ┆ u32        ┆ u32      ┆ u32      ┆ u32           │\n",
              "╞═══════════╪═════╪════════╪══════════╪═══╪════════════╪══════════╪══════════╪═══════════════╡\n",
              "│ 0         ┆ 0   ┆ 0      ┆ 13800000 ┆ … ┆ 0          ┆ 22300000 ┆ 22300000 ┆ 30400000      │\n",
              "└───────────┴─────┴────────┴──────────┴───┴────────────┴──────────┴──────────┴───────────────┘"
            ]
          },
          "execution_count": 595,
          "metadata": {},
          "output_type": "execute_result"
        }
      ],
      "source": [
        "df.null_count().collect()"
      ]
    },
    {
      "cell_type": "markdown",
      "metadata": {},
      "source": [
        "Нули есть, количество в таблице сверху"
      ]
    },
    {
      "cell_type": "markdown",
      "metadata": {
        "id": "H0gva-uD3JKm"
      },
      "source": [
        "🔄 Преобразуйте датасет - заполните пропуски пустой строкой для строковых колонок, нулём для числовых и False для булевых (постарайтесь избежать перечисления названий всех столбцов)."
      ]
    },
    {
      "cell_type": "code",
      "execution_count": 471,
      "metadata": {
        "id": "1WOBP3Yx3JKm"
      },
      "outputs": [],
      "source": [
        "# your code here\n",
        "df = df.fill_null(strategy=\"zero\")"
      ]
    },
    {
      "cell_type": "markdown",
      "metadata": {
        "id": "a0TfG6CY3JKn"
      },
      "source": [
        "#### 3. [0.5 балла] Посмотрите повнимательнее на колонку 'is_first_time'.\n",
        "\n",
        "Каково процентное соотношение ответов? Сколько из них \"Нет\"?"
      ]
    },
    {
      "cell_type": "code",
      "execution_count": 472,
      "metadata": {
        "id": "wGolS2eY3JKn"
      },
      "outputs": [
        {
          "data": {
            "text/html": [
              "<div><style>\n",
              ".dataframe > thead > tr,\n",
              ".dataframe > tbody > tr {\n",
              "  text-align: right;\n",
              "  white-space: pre-wrap;\n",
              "}\n",
              "</style>\n",
              "<small>shape: (3, 3)</small><table border=\"1\" class=\"dataframe\"><thead><tr><th>is_first_time</th><th>%-е соотношение</th><th>количество</th></tr><tr><td>str</td><td>f64</td><td>u32</td></tr></thead><tbody><tr><td>&quot;Нет&quot;</td><td>14.127424</td><td>5100000</td></tr><tr><td>&quot;Да&quot;</td><td>85.31856</td><td>30800000</td></tr><tr><td>&quot;&quot;</td><td>0.554017</td><td>200000</td></tr></tbody></table></div>"
            ],
            "text/plain": [
              "shape: (3, 3)\n",
              "┌───────────────┬─────────────────┬────────────┐\n",
              "│ is_first_time ┆ %-е соотношение ┆ количество │\n",
              "│ ---           ┆ ---             ┆ ---        │\n",
              "│ str           ┆ f64             ┆ u32        │\n",
              "╞═══════════════╪═════════════════╪════════════╡\n",
              "│ Нет           ┆ 14.127424       ┆ 5100000    │\n",
              "│ Да            ┆ 85.31856        ┆ 30800000   │\n",
              "│               ┆ 0.554017        ┆ 200000     │\n",
              "└───────────────┴─────────────────┴────────────┘"
            ]
          },
          "execution_count": 472,
          "metadata": {},
          "output_type": "execute_result"
        }
      ],
      "source": [
        "df.group_by(\"is_first_time\").agg(((pl.col(\"id\").count() / lazy_len(df) * 100)).alias(\"%-е соотношение\"), pl.col(\"id\").count().alias(\"количество\")).collect()"
      ]
    },
    {
      "cell_type": "markdown",
      "metadata": {
        "id": "ffyqq0ilf0pv"
      },
      "source": [
        "🔄 Оставьте только самую позднюю версию обращений студентов и сохраните изменения"
      ]
    },
    {
      "cell_type": "code",
      "execution_count": 598,
      "metadata": {},
      "outputs": [
        {
          "name": "stdout",
          "output_type": "stream",
          "text": [
            "отсортирован\n"
          ]
        }
      ],
      "source": [
        "df_time = df.select(pl.col('timestamp').str.strptime(pl.Datetime, format=\"%Y-%m-%d %H:%M:%S\")).sort('timestamp')\n",
        "df_time_s = df_time.sort('timestamp')\n",
        "if df_time.collect().equals(df_time_s.collect()):\n",
        "    print('отсортирован')\n",
        "else:\n",
        "    print('неа')"
      ]
    },
    {
      "cell_type": "markdown",
      "metadata": {},
      "source": [
        "Видим что отсортирован поэтому просто можем оставить последнее вхождение "
      ]
    },
    {
      "cell_type": "code",
      "execution_count": 599,
      "metadata": {
        "id": "kIgPHwvOA0tg"
      },
      "outputs": [],
      "source": [
        "df = df.unique(\"id\", keep=\"last\")"
      ]
    },
    {
      "cell_type": "code",
      "execution_count": 600,
      "metadata": {},
      "outputs": [
        {
          "data": {
            "text/html": [
              "<div><style>\n",
              ".dataframe > thead > tr,\n",
              ".dataframe > tbody > tr {\n",
              "  text-align: right;\n",
              "  white-space: pre-wrap;\n",
              "}\n",
              "</style>\n",
              "<small>shape: (347, 16)</small><table border=\"1\" class=\"dataframe\"><thead><tr><th>timestamp</th><th>id</th><th>rating</th><th>18_group</th><th>is_mi</th><th>fall_1</th><th>fall_2</th><th>fall_3</th><th>spring_1</th><th>spring_2</th><th>spring_3</th><th>is_first_time</th><th>percentile</th><th>17_group</th><th>blended</th><th>is_ml_student</th></tr><tr><td>str</td><td>str</td><td>i64</td><td>i64</td><td>i64</td><td>str</td><td>str</td><td>str</td><td>str</td><td>str</td><td>str</td><td>str</td><td>f64</td><td>str</td><td>str</td><td>bool</td></tr></thead><tbody><tr><td>&quot;2020-05-18 20:26:39&quot;</td><td>&quot;2b0d7dd550bcca4c586cbb27d8478a…</td><td>619</td><td>185</td><td>null</td><td>&quot;Безопасность компьютерных сист…</td><td>&quot;Сбор и обработка данных с помо…</td><td>&quot;Матричные вычисления&quot;</td><td>&quot;Компьютерные сети&quot;</td><td>&quot;Промышленное программирование …</td><td>&quot;Анализ данных в бизнесе&quot;</td><td>&quot;Да&quot;</td><td>0.560538</td><td>null</td><td>null</td><td>null</td></tr><tr><td>&quot;2020-05-18 17:21:14&quot;</td><td>&quot;7f9d0f835bf734ccd4619041c3475c…</td><td>689</td><td>182</td><td>null</td><td>&quot;Безопасность компьютерных сист…</td><td>&quot;Statistical Learning Theory&quot;</td><td>&quot;Матричные вычисления&quot;</td><td>&quot;Дискретная оптимизация&quot;</td><td>&quot;Дополнительные главы прикладно…</td><td>&quot;Промышленное программирование …</td><td>&quot;Нет&quot;</td><td>0.2287</td><td>null</td><td>null</td><td>true</td></tr><tr><td>&quot;2020-05-18 19:08:48&quot;</td><td>&quot;48f0ae24c435e6d7330ffc82eec054…</td><td>1154</td><td>null</td><td>null</td><td>&quot;Безопасность компьютерных сист…</td><td>&quot;Высокопроизводительные вычисле…</td><td>&quot;Глубинное обучение в обработке…</td><td>&quot;Проектирование и разработка вы…</td><td>&quot;Методы сжатия и передачи медиа…</td><td>&quot;Компьютерное зрение&quot;</td><td>&quot;Да&quot;</td><td>0.514493</td><td>&quot;176&quot;</td><td>&quot;DevOps&quot;</td><td>null</td></tr><tr><td>&quot;2020-05-14 23:31:44&quot;</td><td>&quot;e22f8203911170e6b68b1b88cf85fe…</td><td>1247</td><td>null</td><td>null</td><td>&quot;Высокопроизводительные вычисле…</td><td>&quot;Безопасность компьютерных сист…</td><td>&quot;Моделирование временных рядов&quot;</td><td>&quot;Проектирование и разработка вы…</td><td>&quot;Методы сжатия и передачи медиа…</td><td>&quot;Численные методы&quot;</td><td>&quot;Да&quot;</td><td>0.152174</td><td>&quot;175&quot;</td><td>&quot;Введение в дифференциальную ге…</td><td>null</td></tr><tr><td>&quot;2020-05-18 21:35:05&quot;</td><td>&quot;a69948a1730e412eab71a4d4e70791…</td><td>663</td><td>188</td><td>null</td><td>&quot;Моделирование временных рядов&quot;</td><td>&quot;Матричные вычисления&quot;</td><td>&quot;Язык SQL&quot;</td><td>&quot;Машинное обучение 2&quot;</td><td>&quot;Дополнительные главы прикладно…</td><td>&quot;Анализ данных в бизнесе&quot;</td><td>&quot;Да&quot;</td><td>0.349776</td><td>null</td><td>null</td><td>null</td></tr><tr><td>&hellip;</td><td>&hellip;</td><td>&hellip;</td><td>&hellip;</td><td>&hellip;</td><td>&hellip;</td><td>&hellip;</td><td>&hellip;</td><td>&hellip;</td><td>&hellip;</td><td>&hellip;</td><td>&hellip;</td><td>&hellip;</td><td>&hellip;</td><td>&hellip;</td><td>&hellip;</td></tr><tr><td>&quot;2020-05-18 18:13:35&quot;</td><td>&quot;c976c868dd660e792ab82ba8d9e025…</td><td>1087</td><td>null</td><td>null</td><td>&quot;Высокопроизводительные вычисле…</td><td>&quot;Безопасность компьютерных сист…</td><td>&quot;Сбор и обработка данных с помо…</td><td>&quot;Проектирование и разработка вы…</td><td>&quot;Методы сжатия и передачи медиа…</td><td>&quot;Компьютерное зрение&quot;</td><td>&quot;Да&quot;</td><td>0.753623</td><td>&quot;176&quot;</td><td>&quot;DevOps&quot;</td><td>null</td></tr><tr><td>&quot;2020-05-18 23:55:54&quot;</td><td>&quot;5ab47e4eef1a7c1899da4da2000490…</td><td>649</td><td>184</td><td>1</td><td>&quot;Моделирование временных рядов&quot;</td><td>&quot;Матричные вычисления&quot;</td><td>&quot;Принятие решений в условиях ри…</td><td>&quot;Численные методы&quot;</td><td>&quot;Анализ данных в бизнесе&quot;</td><td>&quot;Дополнительные главы прикладно…</td><td>&quot;Да&quot;</td><td>0.41704</td><td>null</td><td>null</td><td>null</td></tr><tr><td>&quot;2020-05-18 23:02:55&quot;</td><td>&quot;6541d659f05e45043d1b65e98e16a7…</td><td>681</td><td>182</td><td>null</td><td>&quot;Безопасность компьютерных сист…</td><td>&quot;Матричные вычисления&quot;</td><td>&quot;Язык SQL&quot;</td><td>&quot;Компьютерные сети&quot;</td><td>&quot;Промышленное программирование …</td><td>&quot;Дискретная оптимизация&quot;</td><td>&quot;Да&quot;</td><td>0.264574</td><td>null</td><td>null</td><td>true</td></tr><tr><td>&quot;2020-05-18 23:38:11&quot;</td><td>&quot;f941beb89ecc5c59076bcfa7969111…</td><td>610</td><td>186</td><td>1</td><td>&quot;Теория баз данных&quot;</td><td>&quot;Принятие решений в условиях ри…</td><td>&quot;Сбор и обработка данных с помо…</td><td>&quot;Промышленное программирование …</td><td>&quot;Анализ данных в бизнесе&quot;</td><td>&quot;Системы баз данных&quot;</td><td>&quot;Да&quot;</td><td>0.605381</td><td>null</td><td>null</td><td>null</td></tr><tr><td>&quot;2020-05-18 23:01:03&quot;</td><td>&quot;abceddfa2fc4eae8cff4a4e712abb3…</td><td>664</td><td>183</td><td>null</td><td>&quot;Моделирование временных рядов&quot;</td><td>&quot;Принятие решений в условиях ри…</td><td>&quot;Statistical Learning Theory&quot;</td><td>&quot;Машинное обучение 2&quot;</td><td>&quot;Промышленное программирование …</td><td>&quot;Дополнительные главы прикладно…</td><td>&quot;Да&quot;</td><td>0.345291</td><td>null</td><td>null</td><td>true</td></tr></tbody></table></div>"
            ],
            "text/plain": [
              "shape: (347, 16)\n",
              "┌────────────┬────────────┬────────┬──────────┬───┬────────────┬──────────┬────────────┬───────────┐\n",
              "│ timestamp  ┆ id         ┆ rating ┆ 18_group ┆ … ┆ percentile ┆ 17_group ┆ blended    ┆ is_ml_stu │\n",
              "│ ---        ┆ ---        ┆ ---    ┆ ---      ┆   ┆ ---        ┆ ---      ┆ ---        ┆ dent      │\n",
              "│ str        ┆ str        ┆ i64    ┆ i64      ┆   ┆ f64        ┆ str      ┆ str        ┆ ---       │\n",
              "│            ┆            ┆        ┆          ┆   ┆            ┆          ┆            ┆ bool      │\n",
              "╞════════════╪════════════╪════════╪══════════╪═══╪════════════╪══════════╪════════════╪═══════════╡\n",
              "│ 2020-05-18 ┆ 2b0d7dd550 ┆ 619    ┆ 185      ┆ … ┆ 0.560538   ┆ null     ┆ null       ┆ null      │\n",
              "│ 20:26:39   ┆ bcca4c586c ┆        ┆          ┆   ┆            ┆          ┆            ┆           │\n",
              "│            ┆ bb27d8478a ┆        ┆          ┆   ┆            ┆          ┆            ┆           │\n",
              "│            ┆ …          ┆        ┆          ┆   ┆            ┆          ┆            ┆           │\n",
              "│ 2020-05-18 ┆ 7f9d0f835b ┆ 689    ┆ 182      ┆ … ┆ 0.2287     ┆ null     ┆ null       ┆ true      │\n",
              "│ 17:21:14   ┆ f734ccd461 ┆        ┆          ┆   ┆            ┆          ┆            ┆           │\n",
              "│            ┆ 9041c3475c ┆        ┆          ┆   ┆            ┆          ┆            ┆           │\n",
              "│            ┆ …          ┆        ┆          ┆   ┆            ┆          ┆            ┆           │\n",
              "│ 2020-05-18 ┆ 48f0ae24c4 ┆ 1154   ┆ null     ┆ … ┆ 0.514493   ┆ 176      ┆ DevOps     ┆ null      │\n",
              "│ 19:08:48   ┆ 35e6d7330f ┆        ┆          ┆   ┆            ┆          ┆            ┆           │\n",
              "│            ┆ fc82eec054 ┆        ┆          ┆   ┆            ┆          ┆            ┆           │\n",
              "│            ┆ …          ┆        ┆          ┆   ┆            ┆          ┆            ┆           │\n",
              "│ 2020-05-14 ┆ e22f820391 ┆ 1247   ┆ null     ┆ … ┆ 0.152174   ┆ 175      ┆ Введение в ┆ null      │\n",
              "│ 23:31:44   ┆ 1170e6b68b ┆        ┆          ┆   ┆            ┆          ┆ дифференци ┆           │\n",
              "│            ┆ 1b88cf85fe ┆        ┆          ┆   ┆            ┆          ┆ альную ге… ┆           │\n",
              "│            ┆ …          ┆        ┆          ┆   ┆            ┆          ┆            ┆           │\n",
              "│ 2020-05-18 ┆ a69948a173 ┆ 663    ┆ 188      ┆ … ┆ 0.349776   ┆ null     ┆ null       ┆ null      │\n",
              "│ 21:35:05   ┆ 0e412eab71 ┆        ┆          ┆   ┆            ┆          ┆            ┆           │\n",
              "│            ┆ a4d4e70791 ┆        ┆          ┆   ┆            ┆          ┆            ┆           │\n",
              "│            ┆ …          ┆        ┆          ┆   ┆            ┆          ┆            ┆           │\n",
              "│ …          ┆ …          ┆ …      ┆ …        ┆ … ┆ …          ┆ …        ┆ …          ┆ …         │\n",
              "│ 2020-05-18 ┆ c976c868dd ┆ 1087   ┆ null     ┆ … ┆ 0.753623   ┆ 176      ┆ DevOps     ┆ null      │\n",
              "│ 18:13:35   ┆ 660e792ab8 ┆        ┆          ┆   ┆            ┆          ┆            ┆           │\n",
              "│            ┆ 2ba8d9e025 ┆        ┆          ┆   ┆            ┆          ┆            ┆           │\n",
              "│            ┆ …          ┆        ┆          ┆   ┆            ┆          ┆            ┆           │\n",
              "│ 2020-05-18 ┆ 5ab47e4eef ┆ 649    ┆ 184      ┆ … ┆ 0.41704    ┆ null     ┆ null       ┆ null      │\n",
              "│ 23:55:54   ┆ 1a7c1899da ┆        ┆          ┆   ┆            ┆          ┆            ┆           │\n",
              "│            ┆ 4da2000490 ┆        ┆          ┆   ┆            ┆          ┆            ┆           │\n",
              "│            ┆ …          ┆        ┆          ┆   ┆            ┆          ┆            ┆           │\n",
              "│ 2020-05-18 ┆ 6541d659f0 ┆ 681    ┆ 182      ┆ … ┆ 0.264574   ┆ null     ┆ null       ┆ true      │\n",
              "│ 23:02:55   ┆ 5e45043d1b ┆        ┆          ┆   ┆            ┆          ┆            ┆           │\n",
              "│            ┆ 65e98e16a7 ┆        ┆          ┆   ┆            ┆          ┆            ┆           │\n",
              "│            ┆ …          ┆        ┆          ┆   ┆            ┆          ┆            ┆           │\n",
              "│ 2020-05-18 ┆ f941beb89e ┆ 610    ┆ 186      ┆ … ┆ 0.605381   ┆ null     ┆ null       ┆ null      │\n",
              "│ 23:38:11   ┆ cc5c59076b ┆        ┆          ┆   ┆            ┆          ┆            ┆           │\n",
              "│            ┆ cfa7969111 ┆        ┆          ┆   ┆            ┆          ┆            ┆           │\n",
              "│            ┆ …          ┆        ┆          ┆   ┆            ┆          ┆            ┆           │\n",
              "│ 2020-05-18 ┆ abceddfa2f ┆ 664    ┆ 183      ┆ … ┆ 0.345291   ┆ null     ┆ null       ┆ true      │\n",
              "│ 23:01:03   ┆ c4eae8cff4 ┆        ┆          ┆   ┆            ┆          ┆            ┆           │\n",
              "│            ┆ a4e712abb3 ┆        ┆          ┆   ┆            ┆          ┆            ┆           │\n",
              "│            ┆ …          ┆        ┆          ┆   ┆            ┆          ┆            ┆           │\n",
              "└────────────┴────────────┴────────┴──────────┴───┴────────────┴──────────┴────────────┴───────────┘"
            ]
          },
          "execution_count": 600,
          "metadata": {},
          "output_type": "execute_result"
        }
      ],
      "source": [
        "df.collect()"
      ]
    },
    {
      "cell_type": "markdown",
      "metadata": {
        "id": "EXTt7DAJ3JKn"
      },
      "source": [
        "#### 4. [0.5 балла] Какие  blended-курсы для четверокурсников существуют? На какой blended-курс записалось наибольшее количество студентов? На каком из курсов собрались студенты с самым высоким средним рейтингом?"
      ]
    },
    {
      "cell_type": "code",
      "execution_count": 601,
      "metadata": {
        "id": "gJ0SzAfheBBi"
      },
      "outputs": [
        {
          "data": {
            "text/html": [
              "<div><style>\n",
              ".dataframe > thead > tr,\n",
              ".dataframe > tbody > tr {\n",
              "  text-align: right;\n",
              "  white-space: pre-wrap;\n",
              "}\n",
              "</style>\n",
              "<small>shape: (3, 3)</small><table border=\"1\" class=\"dataframe\"><thead><tr><th>blended</th><th># студентов</th><th>средний рейтинг</th></tr><tr><td>str</td><td>u32</td><td>f64</td></tr></thead><tbody><tr><td>&quot;DevOps&quot;</td><td>87</td><td>1154.172414</td></tr><tr><td>&quot;Введение в дифференциальную ге…</td><td>15</td><td>1210.733333</td></tr><tr><td>&quot;Соревновательный анализ данных&quot;</td><td>32</td><td>1144.21875</td></tr></tbody></table></div>"
            ],
            "text/plain": [
              "shape: (3, 3)\n",
              "┌─────────────────────────────────┬─────────────┬─────────────────┐\n",
              "│ blended                         ┆ # студентов ┆ средний рейтинг │\n",
              "│ ---                             ┆ ---         ┆ ---             │\n",
              "│ str                             ┆ u32         ┆ f64             │\n",
              "╞═════════════════════════════════╪═════════════╪═════════════════╡\n",
              "│ DevOps                          ┆ 87          ┆ 1154.172414     │\n",
              "│ Введение в дифференциальную ге… ┆ 15          ┆ 1210.733333     │\n",
              "│ Соревновательный анализ данных  ┆ 32          ┆ 1144.21875      │\n",
              "└─────────────────────────────────┴─────────────┴─────────────────┘"
            ]
          },
          "execution_count": 601,
          "metadata": {},
          "output_type": "execute_result"
        }
      ],
      "source": [
        "df.group_by(\"blended\").agg(pl.col(\"id\").count().alias(\"# студентов\"), pl.col(\"rating\").mean().alias(\"средний рейтинг\")).filter(pl.col(\"blended\") != \"\").collect()"
      ]
    },
    {
      "cell_type": "markdown",
      "metadata": {},
      "source": [
        "Больше всего записалось на \"DevOps\"\n",
        "Студенты с самым высоким рейтингом на \"Введении в дифференциальную геометрию\""
      ]
    },
    {
      "cell_type": "markdown",
      "metadata": {
        "id": "afbGGxV73JKn"
      },
      "source": [
        "#### 5. [1 балл] Выясните, есть ли студенты с абсолютно одинаковыми предпочтениями по всем курсам.\n",
        "\n",
        "Для этого сформируйте таблицу, где для каждого возможного набора курсов посчитано количество студентов, выбравших такой набор, и оставьте только строки где это количество больше 1.\n",
        "\n",
        "В данном случае набор курсов задается упорядоченным множеством ('fall_1', 'fall_2', 'fall_3', 'spring_1', 'spring_2', 'spring_3', 'blended'). Элемент blended будет нулевым для 3-го курса."
      ]
    },
    {
      "cell_type": "code",
      "execution_count": 476,
      "metadata": {
        "id": "fNXhoAMw3JKn"
      },
      "outputs": [
        {
          "data": {
            "text/html": [
              "<div><style>\n",
              ".dataframe > thead > tr,\n",
              ".dataframe > tbody > tr {\n",
              "  text-align: right;\n",
              "  white-space: pre-wrap;\n",
              "}\n",
              "</style>\n",
              "<small>shape: (15, 8)</small><table border=\"1\" class=\"dataframe\"><thead><tr><th>fall_1</th><th>fall_2</th><th>fall_3</th><th>spring_1</th><th>spring_2</th><th>spring_3</th><th>blended</th><th># студентов</th></tr><tr><td>str</td><td>str</td><td>str</td><td>str</td><td>str</td><td>str</td><td>str</td><td>u32</td></tr></thead><tbody><tr><td>&quot;Безопасность компьютерных сист…</td><td>&quot;Теория баз данных&quot;</td><td>&quot;Язык SQL&quot;</td><td>&quot;Машинное обучение 2&quot;</td><td>&quot;Компьютерные сети&quot;</td><td>&quot;Промышленное программирование …</td><td>&quot;&quot;</td><td>2</td></tr><tr><td>&quot;Безопасность компьютерных сист…</td><td>&quot;Высокопроизводительные вычисле…</td><td>&quot;Анализ неструктурированных дан…</td><td>&quot;Проектирование и разработка вы…</td><td>&quot;Методы сжатия и передачи медиа…</td><td>&quot;Конфликты и кооперация&quot;</td><td>&quot;DevOps&quot;</td><td>2</td></tr><tr><td>&quot;Безопасность компьютерных сист…</td><td>&quot;Высокопроизводительные вычисле…</td><td>&quot;Язык SQL&quot;</td><td>&quot;Промышленное программирование …</td><td>&quot;Компьютерные сети&quot;</td><td>&quot;Системы баз данных&quot;</td><td>&quot;&quot;</td><td>2</td></tr><tr><td>&quot;Байесовские методы машинного о…</td><td>&quot;Анализ неструктурированных дан…</td><td>&quot;Сбор и обработка данных с помо…</td><td>&quot;Обучение с подкреплением&quot;</td><td>&quot;Компьютерное зрение&quot;</td><td>&quot;Генеративные модели в машинном…</td><td>&quot;DevOps&quot;</td><td>2</td></tr><tr><td>&quot;Безопасность компьютерных сист…</td><td>&quot;Матричные вычисления&quot;</td><td>&quot;Моделирование временных рядов&quot;</td><td>&quot;Промышленное программирование …</td><td>&quot;Компьютерные сети&quot;</td><td>&quot;Дискретная оптимизация&quot;</td><td>&quot;&quot;</td><td>2</td></tr><tr><td>&hellip;</td><td>&hellip;</td><td>&hellip;</td><td>&hellip;</td><td>&hellip;</td><td>&hellip;</td><td>&hellip;</td><td>&hellip;</td></tr><tr><td>&quot;Безопасность компьютерных сист…</td><td>&quot;Statistical Learning Theory&quot;</td><td>&quot;Матричные вычисления&quot;</td><td>&quot;Дискретная оптимизация&quot;</td><td>&quot;Промышленное программирование …</td><td>&quot;Дополнительные главы прикладно…</td><td>&quot;&quot;</td><td>3</td></tr><tr><td>&quot;Моделирование временных рядов&quot;</td><td>&quot;Сбор и обработка данных с помо…</td><td>&quot;Безопасность компьютерных сист…</td><td>&quot;Компьютерные сети&quot;</td><td>&quot;Дополнительные главы прикладно…</td><td>&quot;Системы баз данных&quot;</td><td>&quot;&quot;</td><td>2</td></tr><tr><td>&quot;Сбор и обработка данных с помо…</td><td>&quot;Язык SQL&quot;</td><td>&quot;Теория баз данных&quot;</td><td>&quot;Промышленное программирование …</td><td>&quot;Машинное обучение 2&quot;</td><td>&quot;Компьютерные сети&quot;</td><td>&quot;&quot;</td><td>2</td></tr><tr><td>&quot;Байесовские методы машинного о…</td><td>&quot;Анализ неструктурированных дан…</td><td>&quot;Глубинное обучение в обработке…</td><td>&quot;Обучение с подкреплением&quot;</td><td>&quot;Генеративные модели в машинном…</td><td>&quot;Компьютерное зрение&quot;</td><td>&quot;DevOps&quot;</td><td>2</td></tr><tr><td>&quot;Безопасность компьютерных сист…</td><td>&quot;Сбор и обработка данных с помо…</td><td>&quot;Матричные вычисления&quot;</td><td>&quot;Компьютерные сети&quot;</td><td>&quot;Промышленное программирование …</td><td>&quot;Анализ данных в бизнесе&quot;</td><td>&quot;&quot;</td><td>2</td></tr></tbody></table></div>"
            ],
            "text/plain": [
              "shape: (15, 8)\n",
              "┌────────────┬────────────┬────────────┬────────────┬────────────┬───────────┬─────────┬───────────┐\n",
              "│ fall_1     ┆ fall_2     ┆ fall_3     ┆ spring_1   ┆ spring_2   ┆ spring_3  ┆ blended ┆ #         │\n",
              "│ ---        ┆ ---        ┆ ---        ┆ ---        ┆ ---        ┆ ---       ┆ ---     ┆ студентов │\n",
              "│ str        ┆ str        ┆ str        ┆ str        ┆ str        ┆ str       ┆ str     ┆ ---       │\n",
              "│            ┆            ┆            ┆            ┆            ┆           ┆         ┆ u32       │\n",
              "╞════════════╪════════════╪════════════╪════════════╪════════════╪═══════════╪═════════╪═══════════╡\n",
              "│ Безопаснос ┆ Теория баз ┆ Язык SQL   ┆ Машинное   ┆ Компьютерн ┆ Промышлен ┆         ┆ 2         │\n",
              "│ ть компьют ┆ данных     ┆            ┆ обучение 2 ┆ ые сети    ┆ ное прогр ┆         ┆           │\n",
              "│ ерных      ┆            ┆            ┆            ┆            ┆ аммирован ┆         ┆           │\n",
              "│ сист…      ┆            ┆            ┆            ┆            ┆ ие …      ┆         ┆           │\n",
              "│ Безопаснос ┆ Высокопрои ┆ Анализ нес ┆ Проектиров ┆ Методы     ┆ Конфликты ┆ DevOps  ┆ 2         │\n",
              "│ ть компьют ┆ зводительн ┆ труктуриро ┆ ание и     ┆ сжатия и   ┆ и коопера ┆         ┆           │\n",
              "│ ерных      ┆ ые         ┆ ванных     ┆ разработка ┆ передачи   ┆ ция       ┆         ┆           │\n",
              "│ сист…      ┆ вычисле…   ┆ дан…       ┆ вы…        ┆ медиа…     ┆           ┆         ┆           │\n",
              "│ Безопаснос ┆ Высокопрои ┆ Язык SQL   ┆ Промышленн ┆ Компьютерн ┆ Системы   ┆         ┆ 2         │\n",
              "│ ть компьют ┆ зводительн ┆            ┆ ое програм ┆ ые сети    ┆ баз       ┆         ┆           │\n",
              "│ ерных      ┆ ые         ┆            ┆ мирование  ┆            ┆ данных    ┆         ┆           │\n",
              "│ сист…      ┆ вычисле…   ┆            ┆ …          ┆            ┆           ┆         ┆           │\n",
              "│ Байесовски ┆ Анализ нес ┆ Сбор и     ┆ Обучение с ┆ Компьютерн ┆ Генератив ┆ DevOps  ┆ 2         │\n",
              "│ е методы   ┆ труктуриро ┆ обработка  ┆ подкреплен ┆ ое зрение  ┆ ные       ┆         ┆           │\n",
              "│ машинного  ┆ ванных     ┆ данных с   ┆ ием        ┆            ┆ модели в  ┆         ┆           │\n",
              "│ о…         ┆ дан…       ┆ помо…      ┆            ┆            ┆ машинном… ┆         ┆           │\n",
              "│ Безопаснос ┆ Матричные  ┆ Моделирова ┆ Промышленн ┆ Компьютерн ┆ Дискретна ┆         ┆ 2         │\n",
              "│ ть компьют ┆ вычисления ┆ ние        ┆ ое програм ┆ ые сети    ┆ я оптимиз ┆         ┆           │\n",
              "│ ерных      ┆            ┆ временных  ┆ мирование  ┆            ┆ ация      ┆         ┆           │\n",
              "│ сист…      ┆            ┆ рядов      ┆ …          ┆            ┆           ┆         ┆           │\n",
              "│ …          ┆ …          ┆ …          ┆ …          ┆ …          ┆ …         ┆ …       ┆ …         │\n",
              "│ Безопаснос ┆ Statistica ┆ Матричные  ┆ Дискретная ┆ Промышленн ┆ Дополните ┆         ┆ 3         │\n",
              "│ ть компьют ┆ l Learning ┆ вычисления ┆ оптимизаци ┆ ое програм ┆ льные     ┆         ┆           │\n",
              "│ ерных      ┆ Theory     ┆            ┆ я          ┆ мирование  ┆ главы при ┆         ┆           │\n",
              "│ сист…      ┆            ┆            ┆            ┆ …          ┆ кладно…   ┆         ┆           │\n",
              "│ Моделирова ┆ Сбор и     ┆ Безопаснос ┆ Компьютерн ┆ Дополнител ┆ Системы   ┆         ┆ 2         │\n",
              "│ ние        ┆ обработка  ┆ ть компьют ┆ ые сети    ┆ ьные главы ┆ баз       ┆         ┆           │\n",
              "│ временных  ┆ данных с   ┆ ерных      ┆            ┆ прикладно… ┆ данных    ┆         ┆           │\n",
              "│ рядов      ┆ помо…      ┆ сист…      ┆            ┆            ┆           ┆         ┆           │\n",
              "│ Сбор и     ┆ Язык SQL   ┆ Теория баз ┆ Промышленн ┆ Машинное   ┆ Компьютер ┆         ┆ 2         │\n",
              "│ обработка  ┆            ┆ данных     ┆ ое програм ┆ обучение 2 ┆ ные сети  ┆         ┆           │\n",
              "│ данных с   ┆            ┆            ┆ мирование  ┆            ┆           ┆         ┆           │\n",
              "│ помо…      ┆            ┆            ┆ …          ┆            ┆           ┆         ┆           │\n",
              "│ Байесовски ┆ Анализ нес ┆ Глубинное  ┆ Обучение с ┆ Генеративн ┆ Компьютер ┆ DevOps  ┆ 2         │\n",
              "│ е методы   ┆ труктуриро ┆ обучение в ┆ подкреплен ┆ ые модели  ┆ ное       ┆         ┆           │\n",
              "│ машинного  ┆ ванных     ┆ обработке… ┆ ием        ┆ в          ┆ зрение    ┆         ┆           │\n",
              "│ о…         ┆ дан…       ┆            ┆            ┆ машинном…  ┆           ┆         ┆           │\n",
              "│ Безопаснос ┆ Сбор и     ┆ Матричные  ┆ Компьютерн ┆ Промышленн ┆ Анализ    ┆         ┆ 2         │\n",
              "│ ть компьют ┆ обработка  ┆ вычисления ┆ ые сети    ┆ ое програм ┆ данных в  ┆         ┆           │\n",
              "│ ерных      ┆ данных с   ┆            ┆            ┆ мирование  ┆ бизнесе   ┆         ┆           │\n",
              "│ сист…      ┆ помо…      ┆            ┆            ┆ …          ┆           ┆         ┆           │\n",
              "└────────────┴────────────┴────────────┴────────────┴────────────┴───────────┴─────────┴───────────┘"
            ]
          },
          "execution_count": 476,
          "metadata": {},
          "output_type": "execute_result"
        }
      ],
      "source": [
        "df.group_by('fall_1', 'fall_2', 'fall_3', 'spring_1', 'spring_2', 'spring_3', 'blended').agg(pl.col(\"id\").count().alias(\"# студентов\")).filter(pl.col(\"# студентов\") > 1).collect()"
      ]
    },
    {
      "cell_type": "markdown",
      "metadata": {},
      "source": [
        "Как видим, да, есть и целых 15 наборов "
      ]
    },
    {
      "cell_type": "markdown",
      "metadata": {
        "id": "JU0vq96o3JKo"
      },
      "source": [
        "#### 6. [0.5 балла] Найдите курсы по выбору, на которые записывались как студенты 18-го года набора, так и студенты 17-го года."
      ]
    },
    {
      "cell_type": "code",
      "execution_count": 477,
      "metadata": {
        "id": "xIrynPwgesQU"
      },
      "outputs": [
        {
          "data": {
            "text/html": [
              "<div><style>\n",
              ".dataframe > thead > tr,\n",
              ".dataframe > tbody > tr {\n",
              "  text-align: right;\n",
              "  white-space: pre-wrap;\n",
              "}\n",
              "</style>\n",
              "<small>shape: (7, 1)</small><table border=\"1\" class=\"dataframe\"><thead><tr><th>курсы</th></tr><tr><td>str</td></tr></thead><tbody><tr><td>&quot;Безопасность компьютерных сист…</td></tr><tr><td>&quot;Statistical Learning Theory&quot;</td></tr><tr><td>&quot;Высокопроизводительные вычисле…</td></tr><tr><td>&quot;Принятие решений в условиях ри…</td></tr><tr><td>&quot;Сбор и обработка данных с помо…</td></tr><tr><td>&quot;Моделирование временных рядов&quot;</td></tr><tr><td>&quot;Численные методы&quot;</td></tr></tbody></table></div>"
            ],
            "text/plain": [
              "shape: (7, 1)\n",
              "┌─────────────────────────────────┐\n",
              "│ курсы                           │\n",
              "│ ---                             │\n",
              "│ str                             │\n",
              "╞═════════════════════════════════╡\n",
              "│ Безопасность компьютерных сист… │\n",
              "│ Statistical Learning Theory     │\n",
              "│ Высокопроизводительные вычисле… │\n",
              "│ Принятие решений в условиях ри… │\n",
              "│ Сбор и обработка данных с помо… │\n",
              "│ Моделирование временных рядов   │\n",
              "│ Численные методы                │\n",
              "└─────────────────────────────────┘"
            ]
          },
          "execution_count": 477,
          "metadata": {},
          "output_type": "execute_result"
        }
      ],
      "source": [
        "modules = ['spring_3', 'spring_2', 'spring_1', 'fall_1', 'fall_2', 'fall_3'] #тут без blended, буду добавлять его для 17-го года\n",
        "group_18 = df.filter(pl.col(\"18_group\") != 0).unpivot(index=[], on=modules).select(pl.col(\"value\").alias(\"курсы\")).unique()\n",
        "group_17 = df.filter(pl.col(\"17_group\") != \"\").unpivot(index=[], on=modules + [\"blended\"]).select(pl.col(\"value\").alias(\"курсы\")).unique()\n",
        "intersected = group_17.join(group_18, how='inner', on='курсы')\n",
        "intersected.collect()"
      ]
    },
    {
      "cell_type": "markdown",
      "metadata": {
        "id": "NMkajSaI3JKr"
      },
      "source": [
        "Методом исключения найдите курсы, которые предлагались только студентам 18-го года и только студентам 17-го года."
      ]
    },
    {
      "cell_type": "code",
      "execution_count": 478,
      "metadata": {},
      "outputs": [
        {
          "data": {
            "text/html": [
              "<div><style>\n",
              ".dataframe > thead > tr,\n",
              ".dataframe > tbody > tr {\n",
              "  text-align: right;\n",
              "  white-space: pre-wrap;\n",
              "}\n",
              "</style>\n",
              "<small>shape: (10, 1)</small><table border=\"1\" class=\"dataframe\"><thead><tr><th>курсы</th></tr><tr><td>str</td></tr></thead><tbody><tr><td>&quot;Теория баз данных&quot;</td></tr><tr><td>&quot;Язык SQL&quot;</td></tr><tr><td>&quot;Машинное обучение 2&quot;</td></tr><tr><td>&quot;Промышленное программирование …</td></tr><tr><td>&quot;Дискретная оптимизация&quot;</td></tr><tr><td>&quot;Анализ данных в бизнесе&quot;</td></tr><tr><td>&quot;Системы баз данных&quot;</td></tr><tr><td>&quot;Компьютерные сети&quot;</td></tr><tr><td>&quot;Матричные вычисления&quot;</td></tr><tr><td>&quot;Дополнительные главы прикладно…</td></tr></tbody></table></div>"
            ],
            "text/plain": [
              "shape: (10, 1)\n",
              "┌─────────────────────────────────┐\n",
              "│ курсы                           │\n",
              "│ ---                             │\n",
              "│ str                             │\n",
              "╞═════════════════════════════════╡\n",
              "│ Теория баз данных               │\n",
              "│ Язык SQL                        │\n",
              "│ Машинное обучение 2             │\n",
              "│ Промышленное программирование … │\n",
              "│ Дискретная оптимизация          │\n",
              "│ Анализ данных в бизнесе         │\n",
              "│ Системы баз данных              │\n",
              "│ Компьютерные сети               │\n",
              "│ Матричные вычисления            │\n",
              "│ Дополнительные главы прикладно… │\n",
              "└─────────────────────────────────┘"
            ]
          },
          "execution_count": 478,
          "metadata": {},
          "output_type": "execute_result"
        }
      ],
      "source": [
        "all_courses_without_blended = df.unpivot(index=[], on=modules).select(pl.col(\"value\").alias(\"курсы\")).unique()\n",
        "all_courses_without_blended.filter((pl.col(\"курсы\").is_in(group_18.select(\"курсы\").collect())) & (pl.col(\"курсы\").is_in(intersected.select(\"курсы\").collect()).not_())).collect()"
      ]
    },
    {
      "cell_type": "code",
      "execution_count": 479,
      "metadata": {},
      "outputs": [
        {
          "data": {
            "text/html": [
              "<div><style>\n",
              ".dataframe > thead > tr,\n",
              ".dataframe > tbody > tr {\n",
              "  text-align: right;\n",
              "  white-space: pre-wrap;\n",
              "}\n",
              "</style>\n",
              "<small>shape: (13, 1)</small><table border=\"1\" class=\"dataframe\"><thead><tr><th>курсы</th></tr><tr><td>str</td></tr></thead><tbody><tr><td>&quot;Байесовские методы машинного о…</td></tr><tr><td>&quot;Методы сжатия и передачи медиа…</td></tr><tr><td>&quot;Обучение с подкреплением&quot;</td></tr><tr><td>&quot;DevOps&quot;</td></tr><tr><td>&quot;Символьные вычисления&quot;</td></tr><tr><td>&hellip;</td></tr><tr><td>&quot;Введение в дифференциальную ге…</td></tr><tr><td>&quot;Конфликты и кооперация&quot;</td></tr><tr><td>&quot;Компьютерное зрение&quot;</td></tr><tr><td>&quot;Соревновательный анализ данных&quot;</td></tr><tr><td>&quot;Анализ неструктурированных дан…</td></tr></tbody></table></div>"
            ],
            "text/plain": [
              "shape: (13, 1)\n",
              "┌─────────────────────────────────┐\n",
              "│ курсы                           │\n",
              "│ ---                             │\n",
              "│ str                             │\n",
              "╞═════════════════════════════════╡\n",
              "│ Байесовские методы машинного о… │\n",
              "│ Методы сжатия и передачи медиа… │\n",
              "│ Обучение с подкреплением        │\n",
              "│ DevOps                          │\n",
              "│ Символьные вычисления           │\n",
              "│ …                               │\n",
              "│ Введение в дифференциальную ге… │\n",
              "│ Конфликты и кооперация          │\n",
              "│ Компьютерное зрение             │\n",
              "│ Соревновательный анализ данных  │\n",
              "│ Анализ неструктурированных дан… │\n",
              "└─────────────────────────────────┘"
            ]
          },
          "execution_count": 479,
          "metadata": {},
          "output_type": "execute_result"
        }
      ],
      "source": [
        "all_courses = df.unpivot(index=[], on= modules + [\"blended\"]).select(pl.col(\"value\").alias(\"курсы\")).unique()\n",
        "all_courses.filter((pl.col(\"курсы\").is_in(group_17.select(\"курсы\").collect())) & (pl.col(\"курсы\").is_in(intersected.select(\"курсы\").collect()).not_())).collect()"
      ]
    },
    {
      "cell_type": "markdown",
      "metadata": {
        "id": "c5TmcNdI3JKs"
      },
      "source": [
        "### Визуализации"
      ]
    },
    {
      "cell_type": "markdown",
      "metadata": {
        "id": "74juA0bp3JKs"
      },
      "source": [
        "При работе с данными часто неудобно делать какие-то выводы, если смотреть на таблицу и числа в частности, поэтому важно уметь визуализировать данные. Здесь будут описаны ключевые правила оформления графиков для **всех** домашних заданий.\n",
        "\n",
        "У matplotlib, конечно же, есть [документация](https://matplotlib.org/users/index.html) с большим количеством [примеров](https://matplotlib.org/examples/), но для начала достаточно знать про несколько основных типов графиков:\n",
        "- plot — обычный поточечный график, которым можно изображать кривые или отдельные точки;\n",
        "- hist — гистограмма, показывающая распределение некоторой величины;\n",
        "- scatter — график, показывающий взаимосвязь двух величин;\n",
        "- bar — столбцовый график, показывающий взаимосвязь количественной величины от категориальной.\n",
        "\n",
        "В этом задании вы попробуете построить один из них. Не забывайте про базовые принципы построения приличных графиков:\n",
        "- оси должны быть подписаны, причём не слишком мелко;\n",
        "- у графика должно быть название;\n",
        "- если изображено несколько графиков, то необходима поясняющая легенда;\n",
        "- все линии на графиках должны быть чётко видны (нет похожих цветов или цветов, сливающихся с фоном);\n",
        "- если возможно сделать график интерактивным, это обычно того стоит - помогает решить проблемы с читаемостью;\n",
        "- если отображена величина, имеющая очевидный диапазон значений (например, проценты могут быть от 0 до 100), то желательно масштабировать ось на весь диапазон значений (исключением является случай, когда вам необходимо показать малое отличие, которое незаметно в таких масштабах);\n",
        "- сетка на графике помогает оценить значения в точках на глаз, это обычно полезно, поэтому лучше ее отрисовывать;\n",
        "- если распределение на гистограмме имеет тяжёлые хвосты, лучше использовать логарифмическую шкалу.\n",
        "\n",
        "Еще одна билиотека для визуализации: [seaborn](https://jakevdp.github.io/PythonDataScienceHandbook/04.14-visualization-with-seaborn.html). Это настройка над matplotlib, иногда удобнее и красивее делать визуализации через неё.\n",
        "\n",
        "У `polars` уже есть встроенные инструменты для визуализации, в частности интерактивные на базе [hvplot](https://docs.pola.rs/user-guide/misc/visualization/#plotly). Из её преимуществ - хорошая производительность при работе с большими данными, есть поддержка самых популярных видов графиков, но синтаксис не самый удобный"
      ]
    },
    {
      "cell_type": "markdown",
      "metadata": {
        "id": "QkH7afPm3JKs"
      },
      "source": [
        "#### 7. [0.5 балла] Постройте график средних рейтингов по дням получения ответов (bar plot)."
      ]
    },
    {
      "cell_type": "code",
      "execution_count": 480,
      "metadata": {},
      "outputs": [
        {
          "data": {
            "text/html": [
              "<div><style>\n",
              ".dataframe > thead > tr,\n",
              ".dataframe > tbody > tr {\n",
              "  text-align: right;\n",
              "  white-space: pre-wrap;\n",
              "}\n",
              "</style>\n",
              "<small>shape: (9, 17)</small><table border=\"1\" class=\"dataframe\"><thead><tr><th>statistic</th><th>timestamp</th><th>id</th><th>rating</th><th>18_group</th><th>is_mi</th><th>fall_1</th><th>fall_2</th><th>fall_3</th><th>spring_1</th><th>spring_2</th><th>spring_3</th><th>is_first_time</th><th>percentile</th><th>17_group</th><th>blended</th><th>is_ml_student</th></tr><tr><td>str</td><td>str</td><td>str</td><td>f64</td><td>f64</td><td>f64</td><td>str</td><td>str</td><td>str</td><td>str</td><td>str</td><td>str</td><td>str</td><td>f64</td><td>str</td><td>str</td><td>f64</td></tr></thead><tbody><tr><td>&quot;count&quot;</td><td>&quot;347&quot;</td><td>&quot;347&quot;</td><td>347.0</td><td>347.0</td><td>347.0</td><td>&quot;347&quot;</td><td>&quot;347&quot;</td><td>&quot;347&quot;</td><td>&quot;347&quot;</td><td>&quot;347&quot;</td><td>&quot;347&quot;</td><td>&quot;347&quot;</td><td>347.0</td><td>&quot;347&quot;</td><td>&quot;347&quot;</td><td>347.0</td></tr><tr><td>&quot;null_count&quot;</td><td>&quot;0&quot;</td><td>&quot;0&quot;</td><td>0.0</td><td>0.0</td><td>0.0</td><td>&quot;0&quot;</td><td>&quot;0&quot;</td><td>&quot;0&quot;</td><td>&quot;0&quot;</td><td>&quot;0&quot;</td><td>&quot;0&quot;</td><td>&quot;0&quot;</td><td>0.0</td><td>&quot;0&quot;</td><td>&quot;0&quot;</td><td>0.0</td></tr><tr><td>&quot;mean&quot;</td><td>null</td><td>null</td><td>836.340058</td><td>113.233429</td><td>0.04611</td><td>null</td><td>null</td><td>null</td><td>null</td><td>null</td><td>null</td><td>null</td><td>0.493447</td><td>null</td><td>null</td><td>0.161383</td></tr><tr><td>&quot;std&quot;</td><td>null</td><td>null</td><td>267.318529</td><td>89.960044</td><td>0.210025</td><td>null</td><td>null</td><td>null</td><td>null</td><td>null</td><td>null</td><td>null</td><td>0.29082</td><td>null</td><td>null</td><td>null</td></tr><tr><td>&quot;min&quot;</td><td>&quot;2020-05-14 20:23:21&quot;</td><td>&quot;00b40fe7dbfd23e5daba7652445094…</td><td>495.0</td><td>0.0</td><td>0.0</td><td>&quot;Statistical Learning Theory&quot;</td><td>&quot;Statistical Learning Theory&quot;</td><td>&quot;Statistical Learning Theory&quot;</td><td>&quot;Анализ данных в бизнесе&quot;</td><td>&quot;Анализ данных в бизнесе&quot;</td><td>&quot;Анализ данных в бизнесе&quot;</td><td>&quot;&quot;</td><td>0.0</td><td>&quot;&quot;</td><td>&quot;&quot;</td><td>0.0</td></tr><tr><td>&quot;25%&quot;</td><td>null</td><td>null</td><td>614.0</td><td>0.0</td><td>0.0</td><td>null</td><td>null</td><td>null</td><td>null</td><td>null</td><td>null</td><td>null</td><td>0.242152</td><td>null</td><td>null</td><td>null</td></tr><tr><td>&quot;50%&quot;</td><td>null</td><td>null</td><td>701.0</td><td>182.0</td><td>0.0</td><td>null</td><td>null</td><td>null</td><td>null</td><td>null</td><td>null</td><td>null</td><td>0.488789</td><td>null</td><td>null</td><td>null</td></tr><tr><td>&quot;75%&quot;</td><td>null</td><td>null</td><td>1118.0</td><td>185.0</td><td>0.0</td><td>null</td><td>null</td><td>null</td><td>null</td><td>null</td><td>null</td><td>null</td><td>0.73991</td><td>null</td><td>null</td><td>null</td></tr><tr><td>&quot;max&quot;</td><td>&quot;2020-05-24 01:23:31&quot;</td><td>&quot;ffc58d371e2f52e1c7f45d49d3d629…</td><td>1457.0</td><td>188.0</td><td>1.0</td><td>&quot;Язык SQL&quot;</td><td>&quot;Язык SQL&quot;</td><td>&quot;Язык SQL&quot;</td><td>&quot;Численные методы&quot;</td><td>&quot;Численные методы&quot;</td><td>&quot;Численные методы&quot;</td><td>&quot;Нет&quot;</td><td>0.995516</td><td>&quot;177&quot;</td><td>&quot;Соревновательный анализ данных&quot;</td><td>1.0</td></tr></tbody></table></div>"
            ],
            "text/plain": [
              "shape: (9, 17)\n",
              "┌───────────┬───────────┬───────────┬───────────┬───┬───────────┬──────────┬───────────┬───────────┐\n",
              "│ statistic ┆ timestamp ┆ id        ┆ rating    ┆ … ┆ percentil ┆ 17_group ┆ blended   ┆ is_ml_stu │\n",
              "│ ---       ┆ ---       ┆ ---       ┆ ---       ┆   ┆ e         ┆ ---      ┆ ---       ┆ dent      │\n",
              "│ str       ┆ str       ┆ str       ┆ f64       ┆   ┆ ---       ┆ str      ┆ str       ┆ ---       │\n",
              "│           ┆           ┆           ┆           ┆   ┆ f64       ┆          ┆           ┆ f64       │\n",
              "╞═══════════╪═══════════╪═══════════╪═══════════╪═══╪═══════════╪══════════╪═══════════╪═══════════╡\n",
              "│ count     ┆ 347       ┆ 347       ┆ 347.0     ┆ … ┆ 347.0     ┆ 347      ┆ 347       ┆ 347.0     │\n",
              "│ null_coun ┆ 0         ┆ 0         ┆ 0.0       ┆ … ┆ 0.0       ┆ 0        ┆ 0         ┆ 0.0       │\n",
              "│ t         ┆           ┆           ┆           ┆   ┆           ┆          ┆           ┆           │\n",
              "│ mean      ┆ null      ┆ null      ┆ 836.34005 ┆ … ┆ 0.493447  ┆ null     ┆ null      ┆ 0.161383  │\n",
              "│           ┆           ┆           ┆ 8         ┆   ┆           ┆          ┆           ┆           │\n",
              "│ std       ┆ null      ┆ null      ┆ 267.31852 ┆ … ┆ 0.29082   ┆ null     ┆ null      ┆ null      │\n",
              "│           ┆           ┆           ┆ 9         ┆   ┆           ┆          ┆           ┆           │\n",
              "│ min       ┆ 2020-05-1 ┆ 00b40fe7d ┆ 495.0     ┆ … ┆ 0.0       ┆          ┆           ┆ 0.0       │\n",
              "│           ┆ 4         ┆ bfd23e5da ┆           ┆   ┆           ┆          ┆           ┆           │\n",
              "│           ┆ 20:23:21  ┆ ba7652445 ┆           ┆   ┆           ┆          ┆           ┆           │\n",
              "│           ┆           ┆ 094…      ┆           ┆   ┆           ┆          ┆           ┆           │\n",
              "│ 25%       ┆ null      ┆ null      ┆ 614.0     ┆ … ┆ 0.242152  ┆ null     ┆ null      ┆ null      │\n",
              "│ 50%       ┆ null      ┆ null      ┆ 701.0     ┆ … ┆ 0.488789  ┆ null     ┆ null      ┆ null      │\n",
              "│ 75%       ┆ null      ┆ null      ┆ 1118.0    ┆ … ┆ 0.73991   ┆ null     ┆ null      ┆ null      │\n",
              "│ max       ┆ 2020-05-2 ┆ ffc58d371 ┆ 1457.0    ┆ … ┆ 0.995516  ┆ 177      ┆ Соревнова ┆ 1.0       │\n",
              "│           ┆ 4         ┆ e2f52e1c7 ┆           ┆   ┆           ┆          ┆ тельный   ┆           │\n",
              "│           ┆ 01:23:31  ┆ f45d49d3d ┆           ┆   ┆           ┆          ┆ анализ    ┆           │\n",
              "│           ┆           ┆ 629…      ┆           ┆   ┆           ┆          ┆ данных    ┆           │\n",
              "└───────────┴───────────┴───────────┴───────────┴───┴───────────┴──────────┴───────────┴───────────┘"
            ]
          },
          "execution_count": 480,
          "metadata": {},
          "output_type": "execute_result"
        }
      ],
      "source": [
        "df.describe()"
      ]
    },
    {
      "cell_type": "code",
      "execution_count": 481,
      "metadata": {
        "id": "bQ3_dsZP3JKs"
      },
      "outputs": [
        {
          "data": {
            "text/html": [
              "<div><style>\n",
              ".dataframe > thead > tr,\n",
              ".dataframe > tbody > tr {\n",
              "  text-align: right;\n",
              "  white-space: pre-wrap;\n",
              "}\n",
              "</style>\n",
              "<small>shape: (10, 2)</small><table border=\"1\" class=\"dataframe\"><thead><tr><th>timestamp</th><th>rating</th></tr><tr><td>i8</td><td>f64</td></tr></thead><tbody><tr><td>14</td><td>1160.277778</td></tr><tr><td>15</td><td>719.866667</td></tr><tr><td>16</td><td>736.4</td></tr><tr><td>17</td><td>915.027027</td></tr><tr><td>18</td><td>827.352679</td></tr><tr><td>19</td><td>761.142857</td></tr><tr><td>20</td><td>689.5</td></tr><tr><td>21</td><td>584.0</td></tr><tr><td>23</td><td>1080.5</td></tr><tr><td>24</td><td>670.5</td></tr></tbody></table></div>"
            ],
            "text/plain": [
              "shape: (10, 2)\n",
              "┌───────────┬─────────────┐\n",
              "│ timestamp ┆ rating      │\n",
              "│ ---       ┆ ---         │\n",
              "│ i8        ┆ f64         │\n",
              "╞═══════════╪═════════════╡\n",
              "│ 14        ┆ 1160.277778 │\n",
              "│ 15        ┆ 719.866667  │\n",
              "│ 16        ┆ 736.4       │\n",
              "│ 17        ┆ 915.027027  │\n",
              "│ 18        ┆ 827.352679  │\n",
              "│ 19        ┆ 761.142857  │\n",
              "│ 20        ┆ 689.5       │\n",
              "│ 21        ┆ 584.0       │\n",
              "│ 23        ┆ 1080.5      │\n",
              "│ 24        ┆ 670.5       │\n",
              "└───────────┴─────────────┘"
            ]
          },
          "execution_count": 481,
          "metadata": {},
          "output_type": "execute_result"
        }
      ],
      "source": [
        "modified = df.with_columns(pl.col('timestamp').str.to_datetime()).sort(\"timestamp\").group_by_dynamic(\"timestamp\", every=\"1d\").agg(pl.col(\"rating\").mean()).collect()\n",
        "modified = modified.with_columns(pl.col(\"timestamp\").dt.day())\n",
        "modified"
      ]
    },
    {
      "cell_type": "code",
      "execution_count": 482,
      "metadata": {},
      "outputs": [],
      "source": [
        "import seaborn as sns\n",
        "import matplotlib.pyplot as plt"
      ]
    },
    {
      "cell_type": "code",
      "execution_count": 483,
      "metadata": {},
      "outputs": [
        {
          "data": {
            "image/png": "[encoded data removed]",
            "text/plain": [
              "<Figure size 640x480 with 1 Axes>"
            ]
          },
          "metadata": {},
          "output_type": "display_data"
        }
      ],
      "source": [
        "plt.xlabel('День Мая')\n",
        "plt.ylabel('Средний рейтинг')\n",
        "plt.title('График средних рейтингов по дням получения ответов')\n",
        "sns.set_style(rc = {'axes.facecolor': '#454A4B'})\n",
        "sns.barplot(x = \"timestamp\", y = \"rating\", color=\"#A5ABAC\",  data=modified)\n",
        "plt.savefig(\"average_daily_rating.pdf\", format='pdf')"
      ]
    },
    {
      "cell_type": "markdown",
      "metadata": {
        "id": "bZB_kTE63JKs"
      },
      "source": [
        "Сохраните график в формате pdf (так он останется векторизованным) или html (тогда останется интерактивным)"
      ]
    },
    {
      "cell_type": "markdown",
      "metadata": {
        "id": "EvWtDBRp3JKt"
      },
      "source": [
        "### 2. Распределение студентов по курсам."
      ]
    },
    {
      "cell_type": "markdown",
      "metadata": {
        "id": "zTPksBGL3JKt"
      },
      "source": [
        "<span style=\"color:red\">!!!ВНИМАТЕЛЬНО ИЗУЧИТЕ ТЕКСТ НИЖЕ!!!</span>.\n",
        "\n",
        "<span style=\"color:orange\">Если во время выполнения заданий у вас вознинут вопросы -- еще раз перечитайте текст целиком, скорее всего ответы уже содержатся в нем.</span>\n",
        "\n",
        "Теперь вам нужно распределить студентов по осенним курсам по выбору, учитывая их предпочтения."
      ]
    },
    {
      "cell_type": "markdown",
      "metadata": {
        "id": "S5lk67UA3JKt"
      },
      "source": [
        "## 📌 **Алгоритм распределения студентов по курсам**:\n",
        "1. По умолчанию на каждой дисциплине по выбору у 3 и 4 курсов может учиться 1 группа (до 30 студентов). Исключения описаны ниже. На blended-дисциплинах для четверокурсников количество мест не ограничено.\n",
        "2. Проводится первая волна отбора. Для каждой дисциплины формируется список тех, кто указал её первым приоритетом (если студент должен выбрать два курса по выбору, то для него дисциплины, которые он указал первым и вторым приоритетом, рассматриваются как дисциплины первого приоритета). Если желающих больше, чем мест, то выбирается топ по перцентилю рейтинга.\n",
        "3. На дисциплинах, где остались места после первой волны, формируются списки тех, кто выбрал их вторым приоритетом, и места заполняются лучшими по перцентили рейтинга студентами. После этого проводится такая же процедура для дисциплин третьего приоритета.\n",
        "4. Если студент не попал на необходимое количество курсов по итогам трёх волн, с ним связывается учебный офис и решает вопрос в индивидуальном порядке."
      ]
    },
    {
      "cell_type": "markdown",
      "metadata": {
        "id": "Ux4yMPan3JKu"
      },
      "source": [
        "## ☝️ **Обращаем ваше внимание на следующие детали:**\n",
        "\n",
        "- Конкурс на каждый курс общий для 3-го и 4-го курса\n",
        "\n",
        "- По умолчанию студент выбирает один осенний и один весенний курс по выбору, а также четверокурсники выбирают один blended-курс. Студенты групп 17-го года специализаций МОП и ТИ выбирают по 2 осенних и 2 весенних курса по выбору, также студенты групп 18' специализации МИ выбирают 2 осенних курса. <i>Для студентов, которые выбирают 2 курса (например, осенних) первый приоритет — <code>fall_1</code> и <code>fall_2</code>, второй приоритет — <code>fall_3</code>. Такие студенты участвуют только в двух волнах отбора</i>.\n",
        "\n",
        "- Студенты специализации МОП не могут выбрать весенним курсом по выбору Машинное обучение 2. **Если студент специализации МОП выбрал Машинное обучение 2, то его приоритеты сдвигаются.** Из-за совпадений первого и второго курса по выбору двигать приоритеты не надо.\n",
        "\n",
        "- Blended-курсы не трогайте, по ним не надо распределять, на другие курсы они никак не влияют.\n",
        "\n",
        "- Заведомо известно, что в процессе распределения не возникнет ситуации, когда на одно место претендуют студенты с одинаковым перцентилем.\n",
        "\n",
        "- Постарайтесь воздержаться от использования циклов там, где это возможно. <i>Допустимо итерироваться по <b>курсам</b>, на которые проводится отбор, и по <b>волнам</b> отбора. Если вы придумаете, как обойтись и без этих циклов, то на усмотрение проверяющего могут быть добавлены бонусные баллы. <b>Дублирование кода не признается успешным избавлением от циклов</b></i>\n",
        "\n",
        "- На выходе ожидается файл res_fall.csv с результатами распределения на осенние курсы по выбору. Файл должен быть следующего формата:\n",
        "\n",
        "    * три столбца: ID, course1, course2\n",
        "    \n",
        "    * Если студент не попал на курс, но должен был, то вместо названия курса в ячейке должна быть строка \"???\"\n",
        "    \n",
        "    * Если студент должен выбрать только один курс, то в колонке course2 для него должна стоять строка \"-\"\n",
        "\n",
        "    * Если студент должен выбрать два курса по выбору, то порядок в колонках course1 и course2 не важен.\n",
        "    \n",
        "    * Формат csv: для сохранения воспользуйтесь `df.write_csv('solution.csv')`"
      ]
    },
    {
      "cell_type": "markdown",
      "metadata": {
        "id": "q4b6w14cS_rW"
      },
      "source": [
        "Для работы вам могут понадобиться следующие данные:\n",
        "\n",
        "- Результаты опроса (вы уже использовали этот файл в первой части задания, но на всякий случай ссылка: https://www.dropbox.com/s/f4rm8sjc3v99p0m/_end_seminar.xlsx?dl=0)\n",
        "\n",
        "- Соответствие номеров групп специализациям:\n",
        "\n",
        "    * 171, 172 - МОП; 173 - ТИ; 174 — АДИС; 175, 176 — РС; 177 — АПР\n",
        "    \n",
        "    * У студентов 18-го года номера групп соответствуют номерам до распределения по специализациям. Это означает, что по номеру группы 18* нельзя однозначно определить специализацию студента. При этом в рамках распределения важно знать информацию только о двух из них: МОП и МИ. Эти знание можно получить из колонок 'is_ml_student ' и 'is_mi' соответственно.\n",
        "\n",
        "- Ограничения по количеству мест на курсах по выбору:\n",
        "\n",
        "    * Осенние: везде 30 мест, кроме Statistical Learning Theory (60 мест), Высокопроизводительных вычислений (60 мест), Анализа неструктурированных данных ($\\infty$ мест)\n",
        "\n",
        "    * Весенние: везде 30 мест, кроме Обучения с подкреплением (60 мест), Анализа данных в бизнесе (60 мест).\n",
        "\n",
        "\n",
        "Кстати, убедитесь, что в данных больше нет пропусков и повторных записей и сериализуйте датафрейм"
      ]
    },
    {
      "cell_type": "markdown",
      "metadata": {
        "id": "vOVE6Do13JKu"
      },
      "source": [
        "#### 0. Проверка\n",
        "\n",
        "Для начала давайте убедимся, что вы успешно выполнили задания первой части и проверим ваши данные на наличие пропусков и повторов:"
      ]
    },
    {
      "cell_type": "code",
      "execution_count": 484,
      "metadata": {
        "id": "tNeCa71zHEe8"
      },
      "outputs": [],
      "source": [
        "df = df.collect(streaming=True)\n",
        "\n",
        "assert df.shape[0] == 347, \"В таблице остались повторы или потеряны данные\"\n",
        "assert df.null_count().sum_horizontal().item() == 0, \"В таблице остались пропуски\""
      ]
    },
    {
      "cell_type": "markdown",
      "metadata": {
        "id": "H7qZDN0y3JKu"
      },
      "source": [
        "Если вы не получили AssertionError, то можете продолжать."
      ]
    },
    {
      "cell_type": "markdown",
      "metadata": {
        "id": "y81hqcoZ3JKu"
      },
      "source": [
        "#### 1. [1 балл] Создайте новый признак, обозначающий, сколько осенних курсов должен выбрать студент\n",
        "\n",
        "В этом вам может помочь информация о специализации и группе студента."
      ]
    },
    {
      "cell_type": "code",
      "execution_count": 485,
      "metadata": {},
      "outputs": [],
      "source": [
        "updf = df.with_columns(pl.col(\"17_group\").replace(\"\", \"0\").str.to_integer())"
      ]
    },
    {
      "cell_type": "code",
      "execution_count": 486,
      "metadata": {
        "id": "ThOnhPTs3JKv"
      },
      "outputs": [],
      "source": [
        "groups_17 = pl.DataFrame(\n",
        "    {\n",
        "        \"17_group\": [171, 172, 173, 174, 175, 176, 177],\n",
        "        \"specialization\": [\"МОП\", \"МОП\", \"ТИ\", \"АДИС\", \"РС\", \"РС\", \"АПР\"],\n",
        "    }\n",
        ")\n",
        "groups_17\n",
        "a = updf.select(\"id\", \"17_group\").join(groups_17, on=\"17_group\").filter(pl.col(\"specialization\").is_not_null())"
      ]
    },
    {
      "cell_type": "code",
      "execution_count": 487,
      "metadata": {},
      "outputs": [
        {
          "data": {
            "text/html": [
              "<div><style>\n",
              ".dataframe > thead > tr,\n",
              ".dataframe > tbody > tr {\n",
              "  text-align: right;\n",
              "  white-space: pre-wrap;\n",
              "}\n",
              "</style>\n",
              "<small>shape: (134, 3)</small><table border=\"1\" class=\"dataframe\"><thead><tr><th>id</th><th>17_group</th><th>specialization</th></tr><tr><td>str</td><td>i64</td><td>str</td></tr></thead><tbody><tr><td>&quot;b243a77fa09641c7f0a0b7dfb7a541…</td><td>175</td><td>&quot;РС&quot;</td></tr><tr><td>&quot;8fe79f84f36e3a5d2d674562132130…</td><td>174</td><td>&quot;АДИС&quot;</td></tr><tr><td>&quot;253bbe1a2021d0404712a1e4acd229…</td><td>176</td><td>&quot;РС&quot;</td></tr><tr><td>&quot;492c677be00bb8223ebbaffa3aff25…</td><td>173</td><td>&quot;ТИ&quot;</td></tr><tr><td>&quot;e22f8203911170e6b68b1b88cf85fe…</td><td>175</td><td>&quot;РС&quot;</td></tr><tr><td>&hellip;</td><td>&hellip;</td><td>&hellip;</td></tr><tr><td>&quot;15163c0c088c0ba42e1c77c9f3eabc…</td><td>177</td><td>&quot;АПР&quot;</td></tr><tr><td>&quot;276e2ccf4903d4ddf856b20a2b0839…</td><td>173</td><td>&quot;ТИ&quot;</td></tr><tr><td>&quot;ba4091ee80dd63a042464dbd2a7e33…</td><td>176</td><td>&quot;РС&quot;</td></tr><tr><td>&quot;93c0280966ae263fe26c5d78f719f2…</td><td>171</td><td>&quot;МОП&quot;</td></tr><tr><td>&quot;07b6ce7fd93bde95ce5fe14a5131a9…</td><td>176</td><td>&quot;РС&quot;</td></tr></tbody></table></div>"
            ],
            "text/plain": [
              "shape: (134, 3)\n",
              "┌─────────────────────────────────┬──────────┬────────────────┐\n",
              "│ id                              ┆ 17_group ┆ specialization │\n",
              "│ ---                             ┆ ---      ┆ ---            │\n",
              "│ str                             ┆ i64      ┆ str            │\n",
              "╞═════════════════════════════════╪══════════╪════════════════╡\n",
              "│ b243a77fa09641c7f0a0b7dfb7a541… ┆ 175      ┆ РС             │\n",
              "│ 8fe79f84f36e3a5d2d674562132130… ┆ 174      ┆ АДИС           │\n",
              "│ 253bbe1a2021d0404712a1e4acd229… ┆ 176      ┆ РС             │\n",
              "│ 492c677be00bb8223ebbaffa3aff25… ┆ 173      ┆ ТИ             │\n",
              "│ e22f8203911170e6b68b1b88cf85fe… ┆ 175      ┆ РС             │\n",
              "│ …                               ┆ …        ┆ …              │\n",
              "│ 15163c0c088c0ba42e1c77c9f3eabc… ┆ 177      ┆ АПР            │\n",
              "│ 276e2ccf4903d4ddf856b20a2b0839… ┆ 173      ┆ ТИ             │\n",
              "│ ba4091ee80dd63a042464dbd2a7e33… ┆ 176      ┆ РС             │\n",
              "│ 93c0280966ae263fe26c5d78f719f2… ┆ 171      ┆ МОП            │\n",
              "│ 07b6ce7fd93bde95ce5fe14a5131a9… ┆ 176      ┆ РС             │\n",
              "└─────────────────────────────────┴──────────┴────────────────┘"
            ]
          },
          "execution_count": 487,
          "metadata": {},
          "output_type": "execute_result"
        }
      ],
      "source": [
        "a"
      ]
    },
    {
      "cell_type": "code",
      "execution_count": 488,
      "metadata": {},
      "outputs": [
        {
          "data": {
            "text/html": [
              "<div><style>\n",
              ".dataframe > thead > tr,\n",
              ".dataframe > tbody > tr {\n",
              "  text-align: right;\n",
              "  white-space: pre-wrap;\n",
              "}\n",
              "</style>\n",
              "<small>shape: (347, 17)</small><table border=\"1\" class=\"dataframe\"><thead><tr><th>timestamp</th><th>id</th><th>rating</th><th>18_group</th><th>is_mi</th><th>fall_1</th><th>fall_2</th><th>fall_3</th><th>spring_1</th><th>spring_2</th><th>spring_3</th><th>is_first_time</th><th>percentile</th><th>17_group</th><th>blended</th><th>is_ml_student</th><th>how_many_fall</th></tr><tr><td>str</td><td>str</td><td>i64</td><td>i64</td><td>i64</td><td>str</td><td>str</td><td>str</td><td>str</td><td>str</td><td>str</td><td>str</td><td>f64</td><td>i64</td><td>str</td><td>bool</td><td>i32</td></tr></thead><tbody><tr><td>&quot;2020-05-18 22:52:40&quot;</td><td>&quot;b243a77fa09641c7f0a0b7dfb7a541…</td><td>1294</td><td>0</td><td>0</td><td>&quot;Высокопроизводительные вычисле…</td><td>&quot;Безопасность компьютерных сист…</td><td>&quot;Моделирование временных рядов&quot;</td><td>&quot;Методы сжатия и передачи медиа…</td><td>&quot;Проектирование и разработка вы…</td><td>&quot;Численные методы&quot;</td><td>&quot;Нет&quot;</td><td>0.065217</td><td>175</td><td>&quot;DevOps&quot;</td><td>false</td><td>1</td></tr><tr><td>&quot;2020-05-18 22:17:10&quot;</td><td>&quot;54b211907aac0ebbb8f853ab1fc4ee…</td><td>676</td><td>185</td><td>0</td><td>&quot;Сбор и обработка данных с помо…</td><td>&quot;Безопасность компьютерных сист…</td><td>&quot;Statistical Learning Theory&quot;</td><td>&quot;Машинное обучение 2&quot;</td><td>&quot;Системы баз данных&quot;</td><td>&quot;Промышленное программирование …</td><td>&quot;Да&quot;</td><td>0.286996</td><td>0</td><td>&quot;&quot;</td><td>false</td><td>1</td></tr><tr><td>&quot;2020-05-18 18:55:40&quot;</td><td>&quot;32fea7beb180e7de64ad408013cc01…</td><td>539</td><td>185</td><td>0</td><td>&quot;Безопасность компьютерных сист…</td><td>&quot;Язык SQL&quot;</td><td>&quot;Матричные вычисления&quot;</td><td>&quot;Компьютерные сети&quot;</td><td>&quot;Промышленное программирование …</td><td>&quot;Системы баз данных&quot;</td><td>&quot;Да&quot;</td><td>0.910314</td><td>0</td><td>&quot;&quot;</td><td>true</td><td>1</td></tr><tr><td>&quot;2020-05-19 01:06:33&quot;</td><td>&quot;b5548f676fbdd51ea08b8c3cc6c811…</td><td>583</td><td>188</td><td>0</td><td>&quot;Безопасность компьютерных сист…</td><td>&quot;Сбор и обработка данных с помо…</td><td>&quot;Язык SQL&quot;</td><td>&quot;Компьютерные сети&quot;</td><td>&quot;Системы баз данных&quot;</td><td>&quot;Системы баз данных&quot;</td><td>&quot;Да&quot;</td><td>0.726457</td><td>0</td><td>&quot;&quot;</td><td>false</td><td>1</td></tr><tr><td>&quot;2020-05-18 14:44:19&quot;</td><td>&quot;fa4860bc719aadedbb00ba027067a8…</td><td>642</td><td>187</td><td>0</td><td>&quot;Безопасность компьютерных сист…</td><td>&quot;Высокопроизводительные вычисле…</td><td>&quot;Язык SQL&quot;</td><td>&quot;Компьютерные сети&quot;</td><td>&quot;Промышленное программирование …</td><td>&quot;Дискретная оптимизация&quot;</td><td>&quot;Да&quot;</td><td>0.44843</td><td>0</td><td>&quot;&quot;</td><td>false</td><td>1</td></tr><tr><td>&hellip;</td><td>&hellip;</td><td>&hellip;</td><td>&hellip;</td><td>&hellip;</td><td>&hellip;</td><td>&hellip;</td><td>&hellip;</td><td>&hellip;</td><td>&hellip;</td><td>&hellip;</td><td>&hellip;</td><td>&hellip;</td><td>&hellip;</td><td>&hellip;</td><td>&hellip;</td><td>&hellip;</td></tr><tr><td>&quot;2020-05-18 18:53:41&quot;</td><td>&quot;5ee2ad618729a6dc3bdb7f2858826e…</td><td>628</td><td>185</td><td>0</td><td>&quot;Безопасность компьютерных сист…</td><td>&quot;Язык SQL&quot;</td><td>&quot;Теория баз данных&quot;</td><td>&quot;Компьютерные сети&quot;</td><td>&quot;Промышленное программирование …</td><td>&quot;Дискретная оптимизация&quot;</td><td>&quot;Нет&quot;</td><td>0.513453</td><td>0</td><td>&quot;&quot;</td><td>false</td><td>1</td></tr><tr><td>&quot;2020-05-18 21:20:14&quot;</td><td>&quot;ba4091ee80dd63a042464dbd2a7e33…</td><td>1022</td><td>0</td><td>0</td><td>&quot;Безопасность компьютерных сист…</td><td>&quot;Сбор и обработка данных с помо…</td><td>&quot;Моделирование временных рядов&quot;</td><td>&quot;Проектирование и разработка вы…</td><td>&quot;Методы сжатия и передачи медиа…</td><td>&quot;Компьютерное зрение&quot;</td><td>&quot;Да&quot;</td><td>0.927536</td><td>176</td><td>&quot;DevOps&quot;</td><td>false</td><td>1</td></tr><tr><td>&quot;2020-05-16 22:20:51&quot;</td><td>&quot;93c0280966ae263fe26c5d78f719f2…</td><td>1265</td><td>0</td><td>0</td><td>&quot;Анализ неструктурированных дан…</td><td>&quot;Байесовские методы машинного о…</td><td>&quot;Моделирование временных рядов&quot;</td><td>&quot;Генеративные модели в машинном…</td><td>&quot;Компьютерное зрение&quot;</td><td>&quot;Обучение с подкреплением&quot;</td><td>&quot;Да&quot;</td><td>0.130435</td><td>171</td><td>&quot;Соревновательный анализ данных&quot;</td><td>false</td><td>2</td></tr><tr><td>&quot;2020-05-18 23:10:45&quot;</td><td>&quot;07b6ce7fd93bde95ce5fe14a5131a9…</td><td>1160</td><td>0</td><td>0</td><td>&quot;Безопасность компьютерных сист…</td><td>&quot;Сбор и обработка данных с помо…</td><td>&quot;Высокопроизводительные вычисле…</td><td>&quot;Проектирование и разработка вы…</td><td>&quot;Методы сжатия и передачи медиа…</td><td>&quot;Конфликты и кооперация&quot;</td><td>&quot;Да&quot;</td><td>0.485507</td><td>176</td><td>&quot;DevOps&quot;</td><td>false</td><td>1</td></tr><tr><td>&quot;2020-05-19 01:15:42&quot;</td><td>&quot;1386d00c9c8229c2be3c0956949ee1…</td><td>545</td><td>181</td><td>0</td><td>&quot;Statistical Learning Theory&quot;</td><td>&quot;Моделирование временных рядов&quot;</td><td>&quot;Сбор и обработка данных с помо…</td><td>&quot;Машинное обучение 2&quot;</td><td>&quot;Дискретная оптимизация&quot;</td><td>&quot;Численные методы&quot;</td><td>&quot;Да&quot;</td><td>0.887892</td><td>0</td><td>&quot;&quot;</td><td>false</td><td>1</td></tr></tbody></table></div>"
            ],
            "text/plain": [
              "shape: (347, 17)\n",
              "┌────────────┬────────────┬────────┬──────────┬───┬──────────┬────────────┬────────────┬───────────┐\n",
              "│ timestamp  ┆ id         ┆ rating ┆ 18_group ┆ … ┆ 17_group ┆ blended    ┆ is_ml_stud ┆ how_many_ │\n",
              "│ ---        ┆ ---        ┆ ---    ┆ ---      ┆   ┆ ---      ┆ ---        ┆ ent        ┆ fall      │\n",
              "│ str        ┆ str        ┆ i64    ┆ i64      ┆   ┆ i64      ┆ str        ┆ ---        ┆ ---       │\n",
              "│            ┆            ┆        ┆          ┆   ┆          ┆            ┆ bool       ┆ i32       │\n",
              "╞════════════╪════════════╪════════╪══════════╪═══╪══════════╪════════════╪════════════╪═══════════╡\n",
              "│ 2020-05-18 ┆ b243a77fa0 ┆ 1294   ┆ 0        ┆ … ┆ 175      ┆ DevOps     ┆ false      ┆ 1         │\n",
              "│ 22:52:40   ┆ 9641c7f0a0 ┆        ┆          ┆   ┆          ┆            ┆            ┆           │\n",
              "│            ┆ b7dfb7a541 ┆        ┆          ┆   ┆          ┆            ┆            ┆           │\n",
              "│            ┆ …          ┆        ┆          ┆   ┆          ┆            ┆            ┆           │\n",
              "│ 2020-05-18 ┆ 54b211907a ┆ 676    ┆ 185      ┆ … ┆ 0        ┆            ┆ false      ┆ 1         │\n",
              "│ 22:17:10   ┆ ac0ebbb8f8 ┆        ┆          ┆   ┆          ┆            ┆            ┆           │\n",
              "│            ┆ 53ab1fc4ee ┆        ┆          ┆   ┆          ┆            ┆            ┆           │\n",
              "│            ┆ …          ┆        ┆          ┆   ┆          ┆            ┆            ┆           │\n",
              "│ 2020-05-18 ┆ 32fea7beb1 ┆ 539    ┆ 185      ┆ … ┆ 0        ┆            ┆ true       ┆ 1         │\n",
              "│ 18:55:40   ┆ 80e7de64ad ┆        ┆          ┆   ┆          ┆            ┆            ┆           │\n",
              "│            ┆ 408013cc01 ┆        ┆          ┆   ┆          ┆            ┆            ┆           │\n",
              "│            ┆ …          ┆        ┆          ┆   ┆          ┆            ┆            ┆           │\n",
              "│ 2020-05-19 ┆ b5548f676f ┆ 583    ┆ 188      ┆ … ┆ 0        ┆            ┆ false      ┆ 1         │\n",
              "│ 01:06:33   ┆ bdd51ea08b ┆        ┆          ┆   ┆          ┆            ┆            ┆           │\n",
              "│            ┆ 8c3cc6c811 ┆        ┆          ┆   ┆          ┆            ┆            ┆           │\n",
              "│            ┆ …          ┆        ┆          ┆   ┆          ┆            ┆            ┆           │\n",
              "│ 2020-05-18 ┆ fa4860bc71 ┆ 642    ┆ 187      ┆ … ┆ 0        ┆            ┆ false      ┆ 1         │\n",
              "│ 14:44:19   ┆ 9aadedbb00 ┆        ┆          ┆   ┆          ┆            ┆            ┆           │\n",
              "│            ┆ ba027067a8 ┆        ┆          ┆   ┆          ┆            ┆            ┆           │\n",
              "│            ┆ …          ┆        ┆          ┆   ┆          ┆            ┆            ┆           │\n",
              "│ …          ┆ …          ┆ …      ┆ …        ┆ … ┆ …        ┆ …          ┆ …          ┆ …         │\n",
              "│ 2020-05-18 ┆ 5ee2ad6187 ┆ 628    ┆ 185      ┆ … ┆ 0        ┆            ┆ false      ┆ 1         │\n",
              "│ 18:53:41   ┆ 29a6dc3bdb ┆        ┆          ┆   ┆          ┆            ┆            ┆           │\n",
              "│            ┆ 7f2858826e ┆        ┆          ┆   ┆          ┆            ┆            ┆           │\n",
              "│            ┆ …          ┆        ┆          ┆   ┆          ┆            ┆            ┆           │\n",
              "│ 2020-05-18 ┆ ba4091ee80 ┆ 1022   ┆ 0        ┆ … ┆ 176      ┆ DevOps     ┆ false      ┆ 1         │\n",
              "│ 21:20:14   ┆ dd63a04246 ┆        ┆          ┆   ┆          ┆            ┆            ┆           │\n",
              "│            ┆ 4dbd2a7e33 ┆        ┆          ┆   ┆          ┆            ┆            ┆           │\n",
              "│            ┆ …          ┆        ┆          ┆   ┆          ┆            ┆            ┆           │\n",
              "│ 2020-05-16 ┆ 93c0280966 ┆ 1265   ┆ 0        ┆ … ┆ 171      ┆ Соревноват ┆ false      ┆ 2         │\n",
              "│ 22:20:51   ┆ ae263fe26c ┆        ┆          ┆   ┆          ┆ ельный     ┆            ┆           │\n",
              "│            ┆ 5d78f719f2 ┆        ┆          ┆   ┆          ┆ анализ     ┆            ┆           │\n",
              "│            ┆ …          ┆        ┆          ┆   ┆          ┆ данных     ┆            ┆           │\n",
              "│ 2020-05-18 ┆ 07b6ce7fd9 ┆ 1160   ┆ 0        ┆ … ┆ 176      ┆ DevOps     ┆ false      ┆ 1         │\n",
              "│ 23:10:45   ┆ 3bde95ce5f ┆        ┆          ┆   ┆          ┆            ┆            ┆           │\n",
              "│            ┆ e14a5131a9 ┆        ┆          ┆   ┆          ┆            ┆            ┆           │\n",
              "│            ┆ …          ┆        ┆          ┆   ┆          ┆            ┆            ┆           │\n",
              "│ 2020-05-19 ┆ 1386d00c9c ┆ 545    ┆ 181      ┆ … ┆ 0        ┆            ┆ false      ┆ 1         │\n",
              "│ 01:15:42   ┆ 8229c2be3c ┆        ┆          ┆   ┆          ┆            ┆            ┆           │\n",
              "│            ┆ 0956949ee1 ┆        ┆          ┆   ┆          ┆            ┆            ┆           │\n",
              "│            ┆ …          ┆        ┆          ┆   ┆          ┆            ┆            ┆           │\n",
              "└────────────┴────────────┴────────┴──────────┴───┴──────────┴────────────┴────────────┴───────────┘"
            ]
          },
          "execution_count": 488,
          "metadata": {},
          "output_type": "execute_result"
        }
      ],
      "source": [
        "b = updf.with_columns(pl.when(pl.col(\"is_ml_student\") == False, pl.col(\"is_mi\") == 0).then(pl.lit(\"\")).\n",
        "                  when(pl.col(\"is_ml_student\") == True, pl.col(\"is_mi\") == 0).then(pl.lit(\"МОП\")).\n",
        "                  when(pl.col(\"is_ml_student\") == False, pl.col(\"is_mi\") == 1).then(pl.lit(\"МИ\")).\n",
        "                  otherwise(pl.lit('')).alias(\"specialization\")).select(\"id\", \"18_group\", \"specialization\").filter(pl.col(\"18_group\") != 0)\n",
        "specializations = pl.concat([a.rename({\"17_group\": \"group\"}), b.rename({\"18_group\": \"group\"})])\n",
        "ids = specializations.filter((pl.col(\"specialization\").is_in([\"ТИ\", \"МОП\"]).and_(pl.col('group') < 180)).or_((pl.col('group') >= 180).and_(pl.col('specialization').is_in([\"МИ\"])))).select(\"id\")\n",
        "df = updf.with_columns(pl.when(pl.col(\"id\").is_in(ids)).then(2).otherwise(1).alias(\"how_many_fall\"))\n",
        "df"
      ]
    },
    {
      "cell_type": "code",
      "execution_count": 553,
      "metadata": {},
      "outputs": [
        {
          "data": {
            "text/html": [
              "<div><style>\n",
              ".dataframe > thead > tr,\n",
              ".dataframe > tbody > tr {\n",
              "  text-align: right;\n",
              "  white-space: pre-wrap;\n",
              "}\n",
              "</style>\n",
              "<small>shape: (3, 1)</small><table border=\"1\" class=\"dataframe\"><thead><tr><th>id</th></tr><tr><td>str</td></tr></thead><tbody><tr><td>&quot;3a7326c9e355a67d3805824ca34c4b…</td></tr><tr><td>&quot;e0fceae1e285f737630bb6123a1bd8…</td></tr><tr><td>&quot;7fcf56aae6836855a689000a50e803…</td></tr></tbody></table></div>"
            ],
            "text/plain": [
              "shape: (3, 1)\n",
              "┌─────────────────────────────────┐\n",
              "│ id                              │\n",
              "│ ---                             │\n",
              "│ str                             │\n",
              "╞═════════════════════════════════╡\n",
              "│ 3a7326c9e355a67d3805824ca34c4b… │\n",
              "│ e0fceae1e285f737630bb6123a1bd8… │\n",
              "│ 7fcf56aae6836855a689000a50e803… │\n",
              "└─────────────────────────────────┘"
            ]
          },
          "execution_count": 553,
          "metadata": {},
          "output_type": "execute_result"
        }
      ],
      "source": [
        "cringe_student = df.filter((pl.col(\"fall_1\") == pl.col(\"fall_3\")).or_(pl.col(\"fall_2\") == pl.col(\"fall_3\")).and_(pl.col(\"how_many_fall\") == 2)).select(\"id\")\n",
        "cringe_student #пригодится позднее......"
      ]
    },
    {
      "cell_type": "markdown",
      "metadata": {
        "id": "hapnRDPU3JKv"
      },
      "source": [
        "Проверка:"
      ]
    },
    {
      "cell_type": "code",
      "execution_count": 535,
      "metadata": {
        "id": "3qK9-jmP3JKv"
      },
      "outputs": [],
      "source": [
        "col_name = \"how_many_fall\"\n",
        "\n",
        "ids = [\n",
        "    \"2662600c2c37e11e62f6ee0b88452f22\",\n",
        "    \"d555d2805e1d93d4f023e57dc4c8f403\",\n",
        "    \"8fe79f84f36e3a5d2d6745621321302c\",\n",
        "    \"e4caca755ee0bdd711e18fb8084958b5\",\n",
        "]\n",
        "assert (\n",
        "    df.filter(pl.col(\"id\").is_in(ids)).sort(\"id\")[col_name] == [2, 1, 2, 1]\n",
        ").all()"
      ]
    },
    {
      "cell_type": "markdown",
      "metadata": {
        "id": "kty-lzOJ3JKv"
      },
      "source": [
        "#### 2. [2 балла] Распределите студентов в соответствии с первым приоритетом"
      ]
    },
    {
      "cell_type": "code",
      "execution_count": 536,
      "metadata": {},
      "outputs": [
        {
          "data": {
            "text/html": [
              "<div><style>\n",
              ".dataframe > thead > tr,\n",
              ".dataframe > tbody > tr {\n",
              "  text-align: right;\n",
              "  white-space: pre-wrap;\n",
              "}\n",
              "</style>\n",
              "<small>shape: (347, 3)</small><table border=\"1\" class=\"dataframe\"><thead><tr><th>id</th><th>course1</th><th>course2</th></tr><tr><td>str</td><td>str</td><td>str</td></tr></thead><tbody><tr><td>&quot;b243a77fa09641c7f0a0b7dfb7a541…</td><td>&quot;Высокопроизводительные вычисле…</td><td>&quot;-&quot;</td></tr><tr><td>&quot;54b211907aac0ebbb8f853ab1fc4ee…</td><td>&quot;Сбор и обработка данных с помо…</td><td>&quot;-&quot;</td></tr><tr><td>&quot;32fea7beb180e7de64ad408013cc01…</td><td>&quot;-&quot;</td><td>&quot;-&quot;</td></tr><tr><td>&quot;b5548f676fbdd51ea08b8c3cc6c811…</td><td>&quot;-&quot;</td><td>&quot;-&quot;</td></tr><tr><td>&quot;fa4860bc719aadedbb00ba027067a8…</td><td>&quot;-&quot;</td><td>&quot;-&quot;</td></tr><tr><td>&hellip;</td><td>&hellip;</td><td>&hellip;</td></tr><tr><td>&quot;5ee2ad618729a6dc3bdb7f2858826e…</td><td>&quot;-&quot;</td><td>&quot;-&quot;</td></tr><tr><td>&quot;ba4091ee80dd63a042464dbd2a7e33…</td><td>&quot;-&quot;</td><td>&quot;-&quot;</td></tr><tr><td>&quot;93c0280966ae263fe26c5d78f719f2…</td><td>&quot;Анализ неструктурированных дан…</td><td>&quot;Байесовские методы машинного о…</td></tr><tr><td>&quot;07b6ce7fd93bde95ce5fe14a5131a9…</td><td>&quot;-&quot;</td><td>&quot;-&quot;</td></tr><tr><td>&quot;1386d00c9c8229c2be3c0956949ee1…</td><td>&quot;Statistical Learning Theory&quot;</td><td>&quot;-&quot;</td></tr></tbody></table></div>"
            ],
            "text/plain": [
              "shape: (347, 3)\n",
              "┌──────────────────────────────────┬─────────────────────────────┬─────────────────────────────────┐\n",
              "│ id                               ┆ course1                     ┆ course2                         │\n",
              "│ ---                              ┆ ---                         ┆ ---                             │\n",
              "│ str                              ┆ str                         ┆ str                             │\n",
              "╞══════════════════════════════════╪═════════════════════════════╪═════════════════════════════════╡\n",
              "│ b243a77fa09641c7f0a0b7dfb7a541…  ┆ Высокопроизводительные      ┆ -                               │\n",
              "│                                  ┆ вычисле…                    ┆                                 │\n",
              "│ 54b211907aac0ebbb8f853ab1fc4ee…  ┆ Сбор и обработка данных с   ┆ -                               │\n",
              "│                                  ┆ помо…                       ┆                                 │\n",
              "│ 32fea7beb180e7de64ad408013cc01…  ┆ -                           ┆ -                               │\n",
              "│ b5548f676fbdd51ea08b8c3cc6c811…  ┆ -                           ┆ -                               │\n",
              "│ fa4860bc719aadedbb00ba027067a8…  ┆ -                           ┆ -                               │\n",
              "│ …                                ┆ …                           ┆ …                               │\n",
              "│ 5ee2ad618729a6dc3bdb7f2858826e…  ┆ -                           ┆ -                               │\n",
              "│ ba4091ee80dd63a042464dbd2a7e33…  ┆ -                           ┆ -                               │\n",
              "│ 93c0280966ae263fe26c5d78f719f2…  ┆ Анализ неструктурированных  ┆ Байесовские методы машинного о… │\n",
              "│                                  ┆ дан…                        ┆                                 │\n",
              "│ 07b6ce7fd93bde95ce5fe14a5131a9…  ┆ -                           ┆ -                               │\n",
              "│ 1386d00c9c8229c2be3c0956949ee1…  ┆ Statistical Learning Theory ┆ -                               │\n",
              "└──────────────────────────────────┴─────────────────────────────┴─────────────────────────────────┘"
            ]
          },
          "execution_count": 536,
          "metadata": {},
          "output_type": "execute_result"
        }
      ],
      "source": [
        "modules = ['fall_1', 'fall_2', 'fall_3']\n",
        "all_fall_courses = df.unpivot(index=[], on= modules).select(pl.col(\"value\").alias(\"курсы\")).unique().filter(pl.col(\"курсы\") != '') #тут все осенние курсы \n",
        "\n",
        "new1 = df.group_by(\"fall_1\").agg(pl.col(\"id\")).rename({\"fall_1\": 'курсы'}) #берем всех, кто выбрал курсы fall_1 \n",
        "joined1 = all_fall_courses.join(new1, on=\"курсы\", how=\"left\") #чтоб ничего не потеряли \n",
        "\n",
        "new2 = df.filter(pl.col(\"how_many_fall\") == 2).group_by(\"fall_2\").agg(pl.col(\"id\")).rename({\"fall_2\": 'курсы'}) #то же самое для тех кто должен выбрать 2 выбираем fall_2 \n",
        "joined2 = all_fall_courses.join(new2, on=\"курсы\", how=\"left\")\n",
        "\n",
        "joined = joined1.join(joined2, on=\"курсы\", how=\"inner\") #соединяем нвших чувачков \n",
        "joined = joined.with_columns(pl.concat_list(\"id\", \"id_right\").list.unique().alias(\"concated\")).select(\"курсы\", \"concated\").with_columns(pl.col(\"concated\").list.len().alias(\"длина\")) #сливаем и получаем уникальные айди для каждого курса \n",
        "\n",
        "strange_courses = ['Statistical Learning Theory', 'Высокопроизводительные вычисления', 'Анализ неструктурированных данных']\n",
        "prom1 = joined.filter((pl.col(\"длина\") <= 30).or_(pl.col(\"курсы\").is_in(strange_courses))).explode(\"concated\").drop(\"длина\").rename({\"concated\" : \"id\"}) #ставим тех кого не будем отрезать\n",
        " #на \"странные\" курсы людей хотят меньше чем всего мест в первой волне поэтому не ставлю ограничения \n",
        " \n",
        "prom2 = joined.filter((pl.col(\"длина\") > 30).\n",
        "                      and_(pl.col(\"курсы\").is_in(strange_courses).not_())).explode(\"concated\").drop(\"длина\").rename({\"concated\" : \"id\"}).join(\n",
        "                          df, on=\"id\", how=\"left\").sort(by=[\"курсы\", \"percentile\"]).group_by(\"курсы\").head(30).select(\"курсы\", \"id\") #тут мы взрываем сортируем и обратно в список фигачим, отрезаем 30 \n",
        "                      #человек потому что тут курсы не странные и желающих больше \n",
        "\n",
        "first_done = pl.concat([prom1, prom2]).group_by(\"id\").agg(\"курсы\").with_columns(pl.col(\"курсы\").list.get(0).alias(\"course1\"), pl.when(pl.col(\"курсы\").list.len() > 1).\n",
        "                                                                   then(pl.col(\"курсы\").list.last()).otherwise(pl.lit('-')).alias(\"course2\")) \\\n",
        "                                                                       .select(\"id\", \"course1\", \"course2\") #получаю список всех кто прошел на первую волну и распределяю по course1 course2 \n",
        "                                                                       \n",
        "full_seconds = first_done.filter((pl.col(\"course1\") != '-').and_(pl.col(\"course2\") != '-')) #список тех кто должен выбрать два курса и попал на оба \n",
        "\n",
        "df_wave_1 = pl.DataFrame({\"id\": df.select(\"id\")})\n",
        "df_wave_1 = df_wave_1.join(first_done, on=\"id\", how=\"left\").fill_null(\"-\") #первая волна готова \n",
        "df_wave_1"
      ]
    },
    {
      "cell_type": "markdown",
      "metadata": {},
      "source": [
        "Тут я не заполнял тех кто должны были попасть на первый курс как ???, сделаю это потом чтоб дальше не париться с этими вопросиками "
      ]
    },
    {
      "cell_type": "markdown",
      "metadata": {
        "id": "YtFzmI0q3JKv"
      },
      "source": [
        "Здесь для проверки приведена таблица, в которой есть 2 дополнительные колонки:\n",
        "    \n",
        "    1) is_first_place - является ли студент лучшим по перцентили хотя бы на одном из курсов, куда он был зачислен\n",
        "    (True / NaN)\n",
        "    \n",
        "    2) is_last_place  - является ли студент худшим по перцентили хотя бы на одном из курсов, куда он был зачислен (True / NaN)"
      ]
    },
    {
      "cell_type": "markdown",
      "metadata": {},
      "source": [
        "Сказали можно кокнуть так как, если ОК в контесте то можно забить "
      ]
    },
    {
      "cell_type": "code",
      "execution_count": 500,
      "metadata": {
        "id": "Fdmh053Y3JKw"
      },
      "outputs": [],
      "source": [
        "!wget  -O '2_task_check.csv' -q 'https://www.dropbox.com/s/v8o2zzq3iz5gc9w/_2_task_check.csv?dl=0'\n",
        "check_df = pl.read_csv('2_task_check.csv')"
      ]
    },
    {
      "cell_type": "markdown",
      "metadata": {
        "id": "eA-fUDln3JKw"
      },
      "source": [
        "После распределения студентов в соответствии с первым приоритетом добавьте в свой датафрейм аналогичные признаки и запустите проверку:"
      ]
    },
    {
      "cell_type": "code",
      "execution_count": 501,
      "metadata": {
        "id": "ueNXylC23JKw"
      },
      "outputs": [
        {
          "ename": "SyntaxError",
          "evalue": "invalid syntax (116020612.py, line 1)",
          "output_type": "error",
          "traceback": [
            "\u001b[0;36m  Cell \u001b[0;32mIn[501], line 1\u001b[0;36m\u001b[0m\n\u001b[0;31m    fir_col_name =  # insert name of your new column with is_first_place as str\u001b[0m\n\u001b[0m                    ^\u001b[0m\n\u001b[0;31mSyntaxError\u001b[0m\u001b[0;31m:\u001b[0m invalid syntax\n"
          ]
        }
      ],
      "source": [
        "fir_col_name =  # insert name of your new column with is_first_place as str\n",
        "last_col_name =  # insert name of your new column with is_last_place as str\n",
        "\n",
        "assert (\n",
        "    check_df.sort(\"id\").select(\"is_first_place\", \"is_last_place\")\n",
        "    == df_wave_1.sort(\"id\").select(fir_col_name, last_col_name)\n",
        ").sum().rows() == [(10, 12)]"
      ]
    },
    {
      "cell_type": "markdown",
      "metadata": {
        "id": "qrPM6dpZ3JKw"
      },
      "source": [
        "#### 3. [2 балла] Проведите все три волны отбора студентов на курсы по выбору"
      ]
    },
    {
      "cell_type": "markdown",
      "metadata": {},
      "source": [
        "#### Вторая волна"
      ]
    },
    {
      "cell_type": "code",
      "execution_count": 559,
      "metadata": {},
      "outputs": [],
      "source": [
        "very_cringe = cringe_student.filter(pl.col('id').is_in(first_done.select('id'))) #вот эти чувачки попали в первую волну а второй приоритет у них одинаковый "
      ]
    },
    {
      "cell_type": "code",
      "execution_count": 561,
      "metadata": {},
      "outputs": [
        {
          "data": {
            "text/html": [
              "<div><style>\n",
              ".dataframe > thead > tr,\n",
              ".dataframe > tbody > tr {\n",
              "  text-align: right;\n",
              "  white-space: pre-wrap;\n",
              "}\n",
              "</style>\n",
              "<small>shape: (2, 1)</small><table border=\"1\" class=\"dataframe\"><thead><tr><th>id</th></tr><tr><td>str</td></tr></thead><tbody><tr><td>&quot;3a7326c9e355a67d3805824ca34c4b…</td></tr><tr><td>&quot;e0fceae1e285f737630bb6123a1bd8…</td></tr></tbody></table></div>"
            ],
            "text/plain": [
              "shape: (2, 1)\n",
              "┌─────────────────────────────────┐\n",
              "│ id                              │\n",
              "│ ---                             │\n",
              "│ str                             │\n",
              "╞═════════════════════════════════╡\n",
              "│ 3a7326c9e355a67d3805824ca34c4b… │\n",
              "│ e0fceae1e285f737630bb6123a1bd8… │\n",
              "└─────────────────────────────────┘"
            ]
          },
          "execution_count": 561,
          "metadata": {},
          "output_type": "execute_result"
        }
      ],
      "source": [
        "very_cringe"
      ]
    },
    {
      "cell_type": "code",
      "execution_count": 562,
      "metadata": {
        "collapsed": true,
        "id": "G_pKJQHo3JKw"
      },
      "outputs": [
        {
          "data": {
            "text/html": [
              "<div><style>\n",
              ".dataframe > thead > tr,\n",
              ".dataframe > tbody > tr {\n",
              "  text-align: right;\n",
              "  white-space: pre-wrap;\n",
              "}\n",
              "</style>\n",
              "<small>shape: (55, 2)</small><table border=\"1\" class=\"dataframe\"><thead><tr><th>курсы</th><th>id</th></tr><tr><td>str</td><td>str</td></tr></thead><tbody><tr><td>&quot;Безопасность компьютерных сист…</td><td>null</td></tr><tr><td>&quot;Сбор и обработка данных с помо…</td><td>null</td></tr><tr><td>&quot;Моделирование временных рядов&quot;</td><td>null</td></tr><tr><td>&quot;Высокопроизводительные вычисле…</td><td>&quot;31e38f7596f83b72ebba1c6fc6b7a5…</td></tr><tr><td>&quot;Высокопроизводительные вычисле…</td><td>&quot;8e8d87fd686122d2c061d7b1eea2d3…</td></tr><tr><td>&hellip;</td><td>&hellip;</td></tr><tr><td>&quot;Глубинное обучение в обработке…</td><td>&quot;2e04f9bc8796f095ed7b9c7941df91…</td></tr><tr><td>&quot;Глубинное обучение в обработке…</td><td>&quot;881b1a6fda195b354ae2edb396a69f…</td></tr><tr><td>&quot;Глубинное обучение в обработке…</td><td>&quot;ba028043babda44219f3346809874c…</td></tr><tr><td>&quot;Глубинное обучение в обработке…</td><td>&quot;492c677be00bb8223ebbaffa3aff25…</td></tr><tr><td>&quot;Байесовские методы машинного о…</td><td>&quot;d555d2805e1d93d4f023e57dc4c8f4…</td></tr></tbody></table></div>"
            ],
            "text/plain": [
              "shape: (55, 2)\n",
              "┌─────────────────────────────────┬─────────────────────────────────┐\n",
              "│ курсы                           ┆ id                              │\n",
              "│ ---                             ┆ ---                             │\n",
              "│ str                             ┆ str                             │\n",
              "╞═════════════════════════════════╪═════════════════════════════════╡\n",
              "│ Безопасность компьютерных сист… ┆ null                            │\n",
              "│ Сбор и обработка данных с помо… ┆ null                            │\n",
              "│ Моделирование временных рядов   ┆ null                            │\n",
              "│ Высокопроизводительные вычисле… ┆ 31e38f7596f83b72ebba1c6fc6b7a5… │\n",
              "│ Высокопроизводительные вычисле… ┆ 8e8d87fd686122d2c061d7b1eea2d3… │\n",
              "│ …                               ┆ …                               │\n",
              "│ Глубинное обучение в обработке… ┆ 2e04f9bc8796f095ed7b9c7941df91… │\n",
              "│ Глубинное обучение в обработке… ┆ 881b1a6fda195b354ae2edb396a69f… │\n",
              "│ Глубинное обучение в обработке… ┆ ba028043babda44219f3346809874c… │\n",
              "│ Глубинное обучение в обработке… ┆ 492c677be00bb8223ebbaffa3aff25… │\n",
              "│ Байесовские методы машинного о… ┆ d555d2805e1d93d4f023e57dc4c8f4… │\n",
              "└─────────────────────────────────┴─────────────────────────────────┘"
            ]
          },
          "execution_count": 562,
          "metadata": {},
          "output_type": "execute_result"
        }
      ],
      "source": [
        "remained = joined.drop(\"concated\").with_columns(pl.when((pl.col(\"курсы\") == 'Высокопроизводительные вычисления').or_(pl.col(\"курсы\") == 'Statistical Learning Theory')).then(\n",
        "    (60 - pl.col(\"длина\"))).when(pl.col(\"курсы\") == 'Анализ неструктурированных данных')\n",
        "                            .then(df.shape[0]).when(pl.col(\"длина\") > 30).then(0)\n",
        "                            .otherwise(30 - pl.col(\"длина\")).alias(\"мест осталось\") #смотрю сколько мест осталось на каждом \n",
        " ).drop(\"длина\")\n",
        "\n",
        "new11 = df.filter((pl.col(\"how_many_fall\") == 1).and_((pl.col(\"id\").is_in(first_done.select(\"id\"))).not_())).group_by(\"fall_2\").agg(pl.col(\"id\")).rename({\"fall_2\": 'курсы'}) #чуваки должны выбрать 1 но они не попали \n",
        "joined11 = all_fall_courses.join(new11, on=\"курсы\", how=\"left\").fill_null([\"\"]) #смотрим чтоб ниче не потеряли \n",
        "\n",
        "new21 = df.filter((pl.col(\"how_many_fall\") == 2).\n",
        "                  and_((pl.col(\"id\").is_in(full_seconds.select(\"id\"))).not_())\n",
        "                  .and_((pl.col(\"id\").is_in(very_cringe).not_()))).group_by(\"fall_3\").agg(pl.col(\"id\")).rename({\"fall_3\": 'курсы'}) #выбираем тех кто должен выбрать 2 но не попал на два и без кринж студентов потому что они беду принесут \n",
        "joined21 = all_fall_courses.join(new21, on=\"курсы\", how=\"left\").fill_null([\"\"])\n",
        "\n",
        "joined2 = joined11.join(joined21, on=\"курсы\", how=\"inner\") #соединяем обе выборки вместе \n",
        "\n",
        "joined2 = joined2.with_columns(pl.concat_list(\"id\", \"id_right\").list.unique().alias(\"concated\")).select(\"курсы\", \"concated\").with_columns(pl.col(\"concated\").list.len().alias(\"длина\")) #соединяем списки убираем дубликаты и выводим длину \n",
        "joined2 = joined2.explode(\"concated\").filter(pl.col(\"concated\") != \"\").drop(\"длина\").group_by(pl.col(\"курсы\")).agg(\"concated\") #убираю все '' значения в списках \n",
        "joined2 = joined2.join(remained, on=\"курсы\").with_columns(pl.col(\"concated\").list.len().alias(\"длина\")) #соединяю с оставшимися чтобы сравнить сколько оталось на каждом мест \n",
        "\n",
        "prom21 = joined2.filter((pl.col(\"мест осталось\") < pl.col(\"длина\"))).explode(\"concated\").rename({\"concated\" : \"id\"}).filter(pl.col(\"id\") != \"\").join(df, on=\"id\", how=\"left\").sort(by=[\"курсы\", \"percentile\"]).group_by(pl.col(\"курсы\")).agg(\"id\") #если желающих блольше то сортирую\n",
        "prom21 = prom21.join(joined2.select(\"курсы\", \"мест осталось\", \"длина\"), on=\"курсы\")\n",
        "prom21 = prom21.with_columns(pl.col(\"id\").list.slice(0, pl.col(\"мест осталось\"))) #срезаю первых по перцентилю \n",
        "\n",
        "prom22 = joined2.filter((pl.col(\"мест осталось\") >= pl.col(\"длина\"))).explode(\"concated\").rename({\"concated\" : \"id\"}).filter(pl.col(\"id\") != \"\").group_by(pl.col(\"курсы\")).agg(\"id\") #тут все проходят ура \n",
        "prom22 = prom22.join(joined2.select(\"курсы\", \"мест осталось\", \"длина\"), on=\"курсы\")\n",
        "\n",
        "remained_after_second = pl.concat([prom21, prom22]).with_columns(pl.when(pl.col(\"мест осталось\") <= pl.col(\"длина\")).then(0).otherwise(pl.col(\"мест осталось\") - pl.col(\"длина\")).alias(\"места\")).select(\"курсы\", \"места\") #скок мест осталось после второй волны \n",
        "\n",
        "second_done = pl.concat([prom21.drop(\"мест осталось\", \"длина\").explode(\"id\"), prom22.drop(\"мест осталось\", \"длина\").explode(\"id\")])\n",
        "second_done\n"
      ]
    },
    {
      "cell_type": "markdown",
      "metadata": {},
      "source": [
        "Дальше блок с распределением в итоговую табличку, он страшный \n"
      ]
    },
    {
      "cell_type": "code",
      "execution_count": 563,
      "metadata": {},
      "outputs": [
        {
          "data": {
            "text/html": [
              "<div><style>\n",
              ".dataframe > thead > tr,\n",
              ".dataframe > tbody > tr {\n",
              "  text-align: right;\n",
              "  white-space: pre-wrap;\n",
              "}\n",
              "</style>\n",
              "<small>shape: (347, 3)</small><table border=\"1\" class=\"dataframe\"><thead><tr><th>id</th><th>course1</th><th>course2</th></tr><tr><td>str</td><td>str</td><td>str</td></tr></thead><tbody><tr><td>&quot;b243a77fa09641c7f0a0b7dfb7a541…</td><td>&quot;Высокопроизводительные вычисле…</td><td>&quot;-&quot;</td></tr><tr><td>&quot;54b211907aac0ebbb8f853ab1fc4ee…</td><td>&quot;Сбор и обработка данных с помо…</td><td>&quot;-&quot;</td></tr><tr><td>&quot;32fea7beb180e7de64ad408013cc01…</td><td>&quot;-&quot;</td><td>&quot;-&quot;</td></tr><tr><td>&quot;b5548f676fbdd51ea08b8c3cc6c811…</td><td>&quot;-&quot;</td><td>&quot;-&quot;</td></tr><tr><td>&quot;fa4860bc719aadedbb00ba027067a8…</td><td>&quot;Высокопроизводительные вычисле…</td><td>&quot;-&quot;</td></tr><tr><td>&hellip;</td><td>&hellip;</td><td>&hellip;</td></tr><tr><td>&quot;5ee2ad618729a6dc3bdb7f2858826e…</td><td>&quot;-&quot;</td><td>&quot;-&quot;</td></tr><tr><td>&quot;ba4091ee80dd63a042464dbd2a7e33…</td><td>&quot;-&quot;</td><td>&quot;-&quot;</td></tr><tr><td>&quot;93c0280966ae263fe26c5d78f719f2…</td><td>&quot;Анализ неструктурированных дан…</td><td>&quot;Байесовские методы машинного о…</td></tr><tr><td>&quot;07b6ce7fd93bde95ce5fe14a5131a9…</td><td>&quot;-&quot;</td><td>&quot;-&quot;</td></tr><tr><td>&quot;1386d00c9c8229c2be3c0956949ee1…</td><td>&quot;Statistical Learning Theory&quot;</td><td>&quot;-&quot;</td></tr></tbody></table></div>"
            ],
            "text/plain": [
              "shape: (347, 3)\n",
              "┌──────────────────────────────────┬─────────────────────────────┬─────────────────────────────────┐\n",
              "│ id                               ┆ course1                     ┆ course2                         │\n",
              "│ ---                              ┆ ---                         ┆ ---                             │\n",
              "│ str                              ┆ str                         ┆ str                             │\n",
              "╞══════════════════════════════════╪═════════════════════════════╪═════════════════════════════════╡\n",
              "│ b243a77fa09641c7f0a0b7dfb7a541…  ┆ Высокопроизводительные      ┆ -                               │\n",
              "│                                  ┆ вычисле…                    ┆                                 │\n",
              "│ 54b211907aac0ebbb8f853ab1fc4ee…  ┆ Сбор и обработка данных с   ┆ -                               │\n",
              "│                                  ┆ помо…                       ┆                                 │\n",
              "│ 32fea7beb180e7de64ad408013cc01…  ┆ -                           ┆ -                               │\n",
              "│ b5548f676fbdd51ea08b8c3cc6c811…  ┆ -                           ┆ -                               │\n",
              "│ fa4860bc719aadedbb00ba027067a8…  ┆ Высокопроизводительные      ┆ -                               │\n",
              "│                                  ┆ вычисле…                    ┆                                 │\n",
              "│ …                                ┆ …                           ┆ …                               │\n",
              "│ 5ee2ad618729a6dc3bdb7f2858826e…  ┆ -                           ┆ -                               │\n",
              "│ ba4091ee80dd63a042464dbd2a7e33…  ┆ -                           ┆ -                               │\n",
              "│ 93c0280966ae263fe26c5d78f719f2…  ┆ Анализ неструктурированных  ┆ Байесовские методы машинного о… │\n",
              "│                                  ┆ дан…                        ┆                                 │\n",
              "│ 07b6ce7fd93bde95ce5fe14a5131a9…  ┆ -                           ┆ -                               │\n",
              "│ 1386d00c9c8229c2be3c0956949ee1…  ┆ Statistical Learning Theory ┆ -                               │\n",
              "└──────────────────────────────────┴─────────────────────────────┴─────────────────────────────────┘"
            ]
          },
          "execution_count": 563,
          "metadata": {},
          "output_type": "execute_result"
        }
      ],
      "source": [
        "df_wave_2 = df_wave_1.join(df.select(\"id\", \"how_many_fall\"), on=\"id\", how=\"left\").filter((pl.col(\"course1\") == '-').or_((pl.col(\"course2\") == '-').and_((pl.col(\"how_many_fall\") == 2))))\n",
        "df_wave_2 = df_wave_2.join(second_done, on=\"id\", how=\"left\").fill_null(\"-\").with_columns([\n",
        "    pl.when(\n",
        "        (pl.col(\"how_many_fall\") == 1).and_(pl.col(\"курсы\") != '-')\n",
        "    )\n",
        "    .then(pl.col(\"курсы\"))\n",
        "    .otherwise(pl.col(\"course1\"))\n",
        "    .alias(\"course1\"),\n",
        "    \n",
        "    pl.when(\n",
        "        (pl.col(\"how_many_fall\") == 2).and_(pl.col(\"курсы\") != '-').and_(pl.col(\"курсы\") != pl.col(\"course1\"))\n",
        "    )\n",
        "    .then(pl.col(\"курсы\"))\n",
        "    .otherwise(pl.col(\"course2\"))\n",
        "    .alias(\"course2\")\n",
        "]).select(\"id\", \"course1\", \"course2\") #формирую аналогичную табличку wave_1 для второй волны \n",
        "\n",
        "df_wave_2 = df_wave_1.join(df.select(\"id\", \"how_many_fall\"), on=\"id\", how=\"left\").join(df_wave_2, on=\"id\", how=\"left\").with_columns([\n",
        "    pl.when((pl.col(\"course1\") == '-').\n",
        "            and_(pl.col(\"course1_right\").is_not_null()).and_(pl.col(\"course1_right\") != '-'))\n",
        "    .then(\"course1_right\")\n",
        "    .otherwise(\"course1\").alias(\"course1\"),\n",
        "    \n",
        "    pl.when((pl.col(\"course2\") == '-').\n",
        "            and_(pl.col(\"course2_right\").is_not_null()).and_(pl.col(\"course2_right\") != '-'))\n",
        "    .then(\"course2_right\")\n",
        "    .otherwise(\"course2\").alias(\"course2\"),\n",
        "]).select(\"id\", \"course1\", \"course2\") #кидаю из wave_2 в wave_1 потихоньку создаваю общую табличку, заполняя course2 или course1 в зависимости от того сколько курсов должен был выбрать студент \n",
        "df_wave_2"
      ]
    },
    {
      "cell_type": "markdown",
      "metadata": {},
      "source": [
        "#### Третья волна "
      ]
    },
    {
      "cell_type": "code",
      "execution_count": 564,
      "metadata": {},
      "outputs": [],
      "source": [
        "new31 = df.filter((pl.col(\"how_many_fall\") == 1).\n",
        "                  and_((pl.col(\"id\").is_in(first_done.select(\"id\"))).not_()).\n",
        "                  and_((pl.col(\"id\").is_in(second_done.select(\"id\"))).not_())).group_by(\"fall_3\").agg(pl.col(\"id\")).rename({\"fall_3\": 'курсы'}) #чуваки выбрали 1 и не попали ни в первую ни во вторую \n",
        "\n",
        "joined31 = all_fall_courses.join(new31, on=\"курсы\", how=\"left\").fill_null([\"\"])\n",
        "joined31 = joined31.join(remained_after_second, on=\"курсы\").with_columns(pl.col(\"id\").list.len().alias(\"длина\")) #чтоб смотреть сколько осталось после второй волны \n",
        "\n",
        "prom31 = joined31.filter((pl.col(\"места\") < pl.col(\"длина\"))).explode(\"id\").filter(pl.col(\"id\") != \"\").join(df, on=\"id\", how=\"left\").sort(by=[\"курсы\", \"percentile\"]).group_by(pl.col(\"курсы\")).agg(\"id\")\n",
        "prom31 = prom31.join(joined31.select(\"курсы\", \"места\", \"длина\"), on=\"курсы\")\n",
        "prom31 = prom31.with_columns(pl.col(\"id\").list.slice(0, pl.col(\"места\"))) #опять обрезаем на тех где желающих больше чем оставшихся после двух волн мест \n",
        "\n",
        "prom32 = joined31.filter((pl.col(\"места\") >= pl.col(\"длина\"))).explode(\"id\").filter(pl.col(\"id\") != \"\").group_by(pl.col(\"курсы\")).agg(\"id\")\n",
        "prom32 = prom32.join(joined31.select(\"курсы\", \"места\", \"длина\"), on=\"курсы\") #тут всех берем \n",
        "\n",
        "third_done = pl.concat([prom31.drop(\"места\", \"длина\").explode(\"id\"), prom32.drop(\"места\", \"длина\").explode(\"id\")]).filter(pl.col(\"id\").is_not_null()) #соединяем верхние две таблицы вместе \n",
        "\n",
        "\n",
        "df_wave_3 = df_wave_2.join(df.select(\"id\", \"how_many_fall\"), on=\"id\", how=\"left\").filter((pl.col(\"course1\") == '-').and_((pl.col(\"how_many_fall\") == 1))) #ток те кто не попали соединияем со второй волной\n",
        "df_wave_3 = df_wave_3.join(third_done, on=\"id\", how=\"left\").fill_null(\"-\") #теперь ура, попали \n",
        "\n",
        "\n",
        "#создаю подобную табличку для третьей волны итоговую \n",
        "df_wave_3 = df_wave_2.join(df.select(\"id\", \"how_many_fall\"), on=\"id\", how=\"left\").join(df_wave_3, on=\"id\", how=\"left\").with_columns([\n",
        "    pl.when((pl.col(\"course1\") == '-').\n",
        "            and_(pl.col(\"курсы\").is_not_null()).and_(pl.col(\"курсы\") != '-'))\n",
        "    .then(\"курсы\")\n",
        "    .otherwise(\"course1\").alias(\"course1\"),\n",
        "]).select(\"id\", \"course1\", \"course2\")\n",
        "\n",
        "#раскидываю по курсам заполняя последние пропуски и ставлю ??? если бро не попал на сколько должен был \n",
        "final = df_wave_3.join(df.select(\"id\", \"how_many_fall\"), on=\"id\", how='left').with_columns([\n",
        "            pl.when((pl.col(\"course1\") == '-')\n",
        "            ).\n",
        "            then(pl.lit('???')).otherwise(\"course1\").alias(\"course1\"),\n",
        "            \n",
        "            pl.when((pl.col(\"course2\") == '-').\n",
        "                    and_(pl.col(\"how_many_fall\") == 2)\n",
        "            ).\n",
        "            then(pl.lit('???')).otherwise(\"course2\").alias(\"course2\")\n",
        "            \n",
        "            ]).drop(\"how_many_fall\").rename({\"id\" : \"ID\"})\n",
        "\n",
        "final.write_csv(\"res_fall.csv\")"
      ]
    },
    {
      "cell_type": "markdown",
      "metadata": {
        "id": "JgiMyLJz3JKw"
      },
      "source": [
        "**Отправьте свой файл res_fall.csv в контест (будет в ближайшее время, следите за новостями) и прикрепите/укажите ниже ваш никнейм и ссылку на успешную посылку.**"
      ]
    },
    {
      "cell_type": "markdown",
      "metadata": {},
      "source": [
        "nrbakhishev@edu.hse.ru\n",
        "\n",
        "https://contest.yandex.ru/contest/68637/run-report/119779505/\n",
        "\n",
        "Это последняя посылка правильная, где уже именно этот код прогонялся "
      ]
    },
    {
      "cell_type": "markdown",
      "metadata": {
        "id": "3za2-Axk3JKw"
      },
      "source": [
        "*Дисклеймер:*\n",
        "\n",
        "Контест выдаётся для самопроверки. Если ваша посылка получила ОК, то код, скорее всего, правильный. Но при этом оценка всё равно может быть снижена в случае обнаружения неэффективностей или ошибок в коде. Если вы сдадите в AnyTask очевидно неработающий код или ноутбук без кода, но при этом в контест будет сдан корректный файл, то это будет расцениваться как плагиат."
      ]
    },
    {
      "cell_type": "markdown",
      "metadata": {
        "id": "jzciJOzo3JKw"
      },
      "source": [
        "На всякий случай просим вас сдать вместе с ноутбуком файл res_fall.csv в anytask"
      ]
    },
    {
      "cell_type": "markdown",
      "metadata": {
        "id": "XRHWCteT3JKx"
      },
      "source": [
        "### 4. [1 балл] Распределите таким же образом студентов еще и на весенние курсы по выбору.\n",
        "\n",
        "Если ваш код был хорошо структурирован, то это не составит проблем.\n",
        "\n",
        "Если вы выполнили это задание, сдайте среди прочего файл res_spring.csv в таком же формате, как и res_fall.csv."
      ]
    },
    {
      "cell_type": "markdown",
      "metadata": {},
      "source": [
        "## P.S \n",
        "\n",
        "Тут я не объединял в блоки для сокращения кода для наглядности себе, но идейно все то же самое, просто в отборе на волны учитываем сдвиг приоритетов из-за МОПа который кринж и выбирает МО2 "
      ]
    },
    {
      "cell_type": "markdown",
      "metadata": {},
      "source": [
        "#### Подготовка"
      ]
    },
    {
      "cell_type": "code",
      "execution_count": 566,
      "metadata": {
        "id": "8hDYJoMO3JKx"
      },
      "outputs": [
        {
          "data": {
            "text/html": [
              "<div><style>\n",
              ".dataframe > thead > tr,\n",
              ".dataframe > tbody > tr {\n",
              "  text-align: right;\n",
              "  white-space: pre-wrap;\n",
              "}\n",
              "</style>\n",
              "<small>shape: (347, 17)</small><table border=\"1\" class=\"dataframe\"><thead><tr><th>timestamp</th><th>id</th><th>rating</th><th>18_group</th><th>is_mi</th><th>fall_1</th><th>fall_2</th><th>fall_3</th><th>spring_1</th><th>spring_2</th><th>spring_3</th><th>is_first_time</th><th>percentile</th><th>17_group</th><th>blended</th><th>is_ml_student</th><th>how_many_spring</th></tr><tr><td>str</td><td>str</td><td>i64</td><td>i64</td><td>i64</td><td>str</td><td>str</td><td>str</td><td>str</td><td>str</td><td>str</td><td>str</td><td>f64</td><td>i64</td><td>str</td><td>bool</td><td>i32</td></tr></thead><tbody><tr><td>&quot;2020-05-18 22:52:40&quot;</td><td>&quot;b243a77fa09641c7f0a0b7dfb7a541…</td><td>1294</td><td>0</td><td>0</td><td>&quot;Высокопроизводительные вычисле…</td><td>&quot;Безопасность компьютерных сист…</td><td>&quot;Моделирование временных рядов&quot;</td><td>&quot;Методы сжатия и передачи медиа…</td><td>&quot;Проектирование и разработка вы…</td><td>&quot;Численные методы&quot;</td><td>&quot;Нет&quot;</td><td>0.065217</td><td>175</td><td>&quot;DevOps&quot;</td><td>false</td><td>1</td></tr><tr><td>&quot;2020-05-18 22:17:10&quot;</td><td>&quot;54b211907aac0ebbb8f853ab1fc4ee…</td><td>676</td><td>185</td><td>0</td><td>&quot;Сбор и обработка данных с помо…</td><td>&quot;Безопасность компьютерных сист…</td><td>&quot;Statistical Learning Theory&quot;</td><td>&quot;Машинное обучение 2&quot;</td><td>&quot;Системы баз данных&quot;</td><td>&quot;Промышленное программирование …</td><td>&quot;Да&quot;</td><td>0.286996</td><td>0</td><td>&quot;&quot;</td><td>false</td><td>1</td></tr><tr><td>&quot;2020-05-18 18:55:40&quot;</td><td>&quot;32fea7beb180e7de64ad408013cc01…</td><td>539</td><td>185</td><td>0</td><td>&quot;Безопасность компьютерных сист…</td><td>&quot;Язык SQL&quot;</td><td>&quot;Матричные вычисления&quot;</td><td>&quot;Компьютерные сети&quot;</td><td>&quot;Промышленное программирование …</td><td>&quot;Системы баз данных&quot;</td><td>&quot;Да&quot;</td><td>0.910314</td><td>0</td><td>&quot;&quot;</td><td>true</td><td>1</td></tr><tr><td>&quot;2020-05-19 01:06:33&quot;</td><td>&quot;b5548f676fbdd51ea08b8c3cc6c811…</td><td>583</td><td>188</td><td>0</td><td>&quot;Безопасность компьютерных сист…</td><td>&quot;Сбор и обработка данных с помо…</td><td>&quot;Язык SQL&quot;</td><td>&quot;Компьютерные сети&quot;</td><td>&quot;Системы баз данных&quot;</td><td>&quot;Системы баз данных&quot;</td><td>&quot;Да&quot;</td><td>0.726457</td><td>0</td><td>&quot;&quot;</td><td>false</td><td>1</td></tr><tr><td>&quot;2020-05-18 14:44:19&quot;</td><td>&quot;fa4860bc719aadedbb00ba027067a8…</td><td>642</td><td>187</td><td>0</td><td>&quot;Безопасность компьютерных сист…</td><td>&quot;Высокопроизводительные вычисле…</td><td>&quot;Язык SQL&quot;</td><td>&quot;Компьютерные сети&quot;</td><td>&quot;Промышленное программирование …</td><td>&quot;Дискретная оптимизация&quot;</td><td>&quot;Да&quot;</td><td>0.44843</td><td>0</td><td>&quot;&quot;</td><td>false</td><td>1</td></tr><tr><td>&hellip;</td><td>&hellip;</td><td>&hellip;</td><td>&hellip;</td><td>&hellip;</td><td>&hellip;</td><td>&hellip;</td><td>&hellip;</td><td>&hellip;</td><td>&hellip;</td><td>&hellip;</td><td>&hellip;</td><td>&hellip;</td><td>&hellip;</td><td>&hellip;</td><td>&hellip;</td><td>&hellip;</td></tr><tr><td>&quot;2020-05-18 18:53:41&quot;</td><td>&quot;5ee2ad618729a6dc3bdb7f2858826e…</td><td>628</td><td>185</td><td>0</td><td>&quot;Безопасность компьютерных сист…</td><td>&quot;Язык SQL&quot;</td><td>&quot;Теория баз данных&quot;</td><td>&quot;Компьютерные сети&quot;</td><td>&quot;Промышленное программирование …</td><td>&quot;Дискретная оптимизация&quot;</td><td>&quot;Нет&quot;</td><td>0.513453</td><td>0</td><td>&quot;&quot;</td><td>false</td><td>1</td></tr><tr><td>&quot;2020-05-18 21:20:14&quot;</td><td>&quot;ba4091ee80dd63a042464dbd2a7e33…</td><td>1022</td><td>0</td><td>0</td><td>&quot;Безопасность компьютерных сист…</td><td>&quot;Сбор и обработка данных с помо…</td><td>&quot;Моделирование временных рядов&quot;</td><td>&quot;Проектирование и разработка вы…</td><td>&quot;Методы сжатия и передачи медиа…</td><td>&quot;Компьютерное зрение&quot;</td><td>&quot;Да&quot;</td><td>0.927536</td><td>176</td><td>&quot;DevOps&quot;</td><td>false</td><td>1</td></tr><tr><td>&quot;2020-05-16 22:20:51&quot;</td><td>&quot;93c0280966ae263fe26c5d78f719f2…</td><td>1265</td><td>0</td><td>0</td><td>&quot;Анализ неструктурированных дан…</td><td>&quot;Байесовские методы машинного о…</td><td>&quot;Моделирование временных рядов&quot;</td><td>&quot;Генеративные модели в машинном…</td><td>&quot;Компьютерное зрение&quot;</td><td>&quot;Обучение с подкреплением&quot;</td><td>&quot;Да&quot;</td><td>0.130435</td><td>171</td><td>&quot;Соревновательный анализ данных&quot;</td><td>false</td><td>2</td></tr><tr><td>&quot;2020-05-18 23:10:45&quot;</td><td>&quot;07b6ce7fd93bde95ce5fe14a5131a9…</td><td>1160</td><td>0</td><td>0</td><td>&quot;Безопасность компьютерных сист…</td><td>&quot;Сбор и обработка данных с помо…</td><td>&quot;Высокопроизводительные вычисле…</td><td>&quot;Проектирование и разработка вы…</td><td>&quot;Методы сжатия и передачи медиа…</td><td>&quot;Конфликты и кооперация&quot;</td><td>&quot;Да&quot;</td><td>0.485507</td><td>176</td><td>&quot;DevOps&quot;</td><td>false</td><td>1</td></tr><tr><td>&quot;2020-05-19 01:15:42&quot;</td><td>&quot;1386d00c9c8229c2be3c0956949ee1…</td><td>545</td><td>181</td><td>0</td><td>&quot;Statistical Learning Theory&quot;</td><td>&quot;Моделирование временных рядов&quot;</td><td>&quot;Сбор и обработка данных с помо…</td><td>&quot;Машинное обучение 2&quot;</td><td>&quot;Дискретная оптимизация&quot;</td><td>&quot;Численные методы&quot;</td><td>&quot;Да&quot;</td><td>0.887892</td><td>0</td><td>&quot;&quot;</td><td>false</td><td>1</td></tr></tbody></table></div>"
            ],
            "text/plain": [
              "shape: (347, 17)\n",
              "┌────────────┬────────────┬────────┬──────────┬───┬──────────┬────────────┬────────────┬───────────┐\n",
              "│ timestamp  ┆ id         ┆ rating ┆ 18_group ┆ … ┆ 17_group ┆ blended    ┆ is_ml_stud ┆ how_many_ │\n",
              "│ ---        ┆ ---        ┆ ---    ┆ ---      ┆   ┆ ---      ┆ ---        ┆ ent        ┆ spring    │\n",
              "│ str        ┆ str        ┆ i64    ┆ i64      ┆   ┆ i64      ┆ str        ┆ ---        ┆ ---       │\n",
              "│            ┆            ┆        ┆          ┆   ┆          ┆            ┆ bool       ┆ i32       │\n",
              "╞════════════╪════════════╪════════╪══════════╪═══╪══════════╪════════════╪════════════╪═══════════╡\n",
              "│ 2020-05-18 ┆ b243a77fa0 ┆ 1294   ┆ 0        ┆ … ┆ 175      ┆ DevOps     ┆ false      ┆ 1         │\n",
              "│ 22:52:40   ┆ 9641c7f0a0 ┆        ┆          ┆   ┆          ┆            ┆            ┆           │\n",
              "│            ┆ b7dfb7a541 ┆        ┆          ┆   ┆          ┆            ┆            ┆           │\n",
              "│            ┆ …          ┆        ┆          ┆   ┆          ┆            ┆            ┆           │\n",
              "│ 2020-05-18 ┆ 54b211907a ┆ 676    ┆ 185      ┆ … ┆ 0        ┆            ┆ false      ┆ 1         │\n",
              "│ 22:17:10   ┆ ac0ebbb8f8 ┆        ┆          ┆   ┆          ┆            ┆            ┆           │\n",
              "│            ┆ 53ab1fc4ee ┆        ┆          ┆   ┆          ┆            ┆            ┆           │\n",
              "│            ┆ …          ┆        ┆          ┆   ┆          ┆            ┆            ┆           │\n",
              "│ 2020-05-18 ┆ 32fea7beb1 ┆ 539    ┆ 185      ┆ … ┆ 0        ┆            ┆ true       ┆ 1         │\n",
              "│ 18:55:40   ┆ 80e7de64ad ┆        ┆          ┆   ┆          ┆            ┆            ┆           │\n",
              "│            ┆ 408013cc01 ┆        ┆          ┆   ┆          ┆            ┆            ┆           │\n",
              "│            ┆ …          ┆        ┆          ┆   ┆          ┆            ┆            ┆           │\n",
              "│ 2020-05-19 ┆ b5548f676f ┆ 583    ┆ 188      ┆ … ┆ 0        ┆            ┆ false      ┆ 1         │\n",
              "│ 01:06:33   ┆ bdd51ea08b ┆        ┆          ┆   ┆          ┆            ┆            ┆           │\n",
              "│            ┆ 8c3cc6c811 ┆        ┆          ┆   ┆          ┆            ┆            ┆           │\n",
              "│            ┆ …          ┆        ┆          ┆   ┆          ┆            ┆            ┆           │\n",
              "│ 2020-05-18 ┆ fa4860bc71 ┆ 642    ┆ 187      ┆ … ┆ 0        ┆            ┆ false      ┆ 1         │\n",
              "│ 14:44:19   ┆ 9aadedbb00 ┆        ┆          ┆   ┆          ┆            ┆            ┆           │\n",
              "│            ┆ ba027067a8 ┆        ┆          ┆   ┆          ┆            ┆            ┆           │\n",
              "│            ┆ …          ┆        ┆          ┆   ┆          ┆            ┆            ┆           │\n",
              "│ …          ┆ …          ┆ …      ┆ …        ┆ … ┆ …        ┆ …          ┆ …          ┆ …         │\n",
              "│ 2020-05-18 ┆ 5ee2ad6187 ┆ 628    ┆ 185      ┆ … ┆ 0        ┆            ┆ false      ┆ 1         │\n",
              "│ 18:53:41   ┆ 29a6dc3bdb ┆        ┆          ┆   ┆          ┆            ┆            ┆           │\n",
              "│            ┆ 7f2858826e ┆        ┆          ┆   ┆          ┆            ┆            ┆           │\n",
              "│            ┆ …          ┆        ┆          ┆   ┆          ┆            ┆            ┆           │\n",
              "│ 2020-05-18 ┆ ba4091ee80 ┆ 1022   ┆ 0        ┆ … ┆ 176      ┆ DevOps     ┆ false      ┆ 1         │\n",
              "│ 21:20:14   ┆ dd63a04246 ┆        ┆          ┆   ┆          ┆            ┆            ┆           │\n",
              "│            ┆ 4dbd2a7e33 ┆        ┆          ┆   ┆          ┆            ┆            ┆           │\n",
              "│            ┆ …          ┆        ┆          ┆   ┆          ┆            ┆            ┆           │\n",
              "│ 2020-05-16 ┆ 93c0280966 ┆ 1265   ┆ 0        ┆ … ┆ 171      ┆ Соревноват ┆ false      ┆ 2         │\n",
              "│ 22:20:51   ┆ ae263fe26c ┆        ┆          ┆   ┆          ┆ ельный     ┆            ┆           │\n",
              "│            ┆ 5d78f719f2 ┆        ┆          ┆   ┆          ┆ анализ     ┆            ┆           │\n",
              "│            ┆ …          ┆        ┆          ┆   ┆          ┆ данных     ┆            ┆           │\n",
              "│ 2020-05-18 ┆ 07b6ce7fd9 ┆ 1160   ┆ 0        ┆ … ┆ 176      ┆ DevOps     ┆ false      ┆ 1         │\n",
              "│ 23:10:45   ┆ 3bde95ce5f ┆        ┆          ┆   ┆          ┆            ┆            ┆           │\n",
              "│            ┆ e14a5131a9 ┆        ┆          ┆   ┆          ┆            ┆            ┆           │\n",
              "│            ┆ …          ┆        ┆          ┆   ┆          ┆            ┆            ┆           │\n",
              "│ 2020-05-19 ┆ 1386d00c9c ┆ 545    ┆ 181      ┆ … ┆ 0        ┆            ┆ false      ┆ 1         │\n",
              "│ 01:15:42   ┆ 8229c2be3c ┆        ┆          ┆   ┆          ┆            ┆            ┆           │\n",
              "│            ┆ 0956949ee1 ┆        ┆          ┆   ┆          ┆            ┆            ┆           │\n",
              "│            ┆ …          ┆        ┆          ┆   ┆          ┆            ┆            ┆           │\n",
              "└────────────┴────────────┴────────┴──────────┴───┴──────────┴────────────┴────────────┴───────────┘"
            ]
          },
          "execution_count": 566,
          "metadata": {},
          "output_type": "execute_result"
        }
      ],
      "source": [
        "ids = specializations.filter((pl.col(\"specialization\").is_in([\"ТИ\", \"МОП\"]).and_(pl.col('group') < 180))).select(\"id\")\n",
        "df = updf.with_columns(pl.when(pl.col(\"id\").is_in(ids)).then(2).otherwise(1).alias(\"how_many_spring\"))\n",
        "df"
      ]
    },
    {
      "cell_type": "code",
      "execution_count": 567,
      "metadata": {},
      "outputs": [
        {
          "data": {
            "text/html": [
              "<div><style>\n",
              ".dataframe > thead > tr,\n",
              ".dataframe > tbody > tr {\n",
              "  text-align: right;\n",
              "  white-space: pre-wrap;\n",
              "}\n",
              "</style>\n",
              "<small>shape: (9, 1)</small><table border=\"1\" class=\"dataframe\"><thead><tr><th>id</th></tr><tr><td>str</td></tr></thead><tbody><tr><td>&quot;b5548f676fbdd51ea08b8c3cc6c811…</td></tr><tr><td>&quot;0d85933f07516e8871e9415c1d95dd…</td></tr><tr><td>&quot;3a7326c9e355a67d3805824ca34c4b…</td></tr><tr><td>&quot;5d76b97bcf684f8a1ec03057dd94d4…</td></tr><tr><td>&quot;085da16dd3062b4790c3dabdc08a51…</td></tr><tr><td>&quot;7fe7df0d207babbf30249b3063ac1f…</td></tr><tr><td>&quot;7fcf56aae6836855a689000a50e803…</td></tr><tr><td>&quot;ab5248060fbaac411a79a62dfb0d26…</td></tr><tr><td>&quot;86d929f6fd741e56e93cee59002988…</td></tr></tbody></table></div>"
            ],
            "text/plain": [
              "shape: (9, 1)\n",
              "┌─────────────────────────────────┐\n",
              "│ id                              │\n",
              "│ ---                             │\n",
              "│ str                             │\n",
              "╞═════════════════════════════════╡\n",
              "│ b5548f676fbdd51ea08b8c3cc6c811… │\n",
              "│ 0d85933f07516e8871e9415c1d95dd… │\n",
              "│ 3a7326c9e355a67d3805824ca34c4b… │\n",
              "│ 5d76b97bcf684f8a1ec03057dd94d4… │\n",
              "│ 085da16dd3062b4790c3dabdc08a51… │\n",
              "│ 7fe7df0d207babbf30249b3063ac1f… │\n",
              "│ 7fcf56aae6836855a689000a50e803… │\n",
              "│ ab5248060fbaac411a79a62dfb0d26… │\n",
              "│ 86d929f6fd741e56e93cee59002988… │\n",
              "└─────────────────────────────────┘"
            ]
          },
          "execution_count": 567,
          "metadata": {},
          "output_type": "execute_result"
        }
      ],
      "source": [
        "cringe_student2 = df.filter((pl.col(\"spring_1\") == pl.col(\"spring_3\")).or_(pl.col(\"spring_2\") == pl.col(\"spring_3\"))).select(\"id\")\n",
        "cringe_student2 #пригодится позднее...... (P.S. не пригодилось потому что они ничего не испортили) "
      ]
    },
    {
      "cell_type": "code",
      "execution_count": 568,
      "metadata": {},
      "outputs": [
        {
          "data": {
            "text/html": [
              "<div><style>\n",
              ".dataframe > thead > tr,\n",
              ".dataframe > tbody > tr {\n",
              "  text-align: right;\n",
              "  white-space: pre-wrap;\n",
              "}\n",
              "</style>\n",
              "<small>shape: (15, 1)</small><table border=\"1\" class=\"dataframe\"><thead><tr><th>курсы</th></tr><tr><td>str</td></tr></thead><tbody><tr><td>&quot;Компьютерные сети&quot;</td></tr><tr><td>&quot;Численные методы&quot;</td></tr><tr><td>&quot;Обучение с подкреплением&quot;</td></tr><tr><td>&quot;Компьютерное зрение&quot;</td></tr><tr><td>&quot;Проектирование и разработка вы…</td></tr><tr><td>&hellip;</td></tr><tr><td>&quot;Конфликты и кооперация&quot;</td></tr><tr><td>&quot;Машинное обучение 2&quot;</td></tr><tr><td>&quot;Промышленное программирование …</td></tr><tr><td>&quot;Системы баз данных&quot;</td></tr><tr><td>&quot;Методы сжатия и передачи медиа…</td></tr></tbody></table></div>"
            ],
            "text/plain": [
              "shape: (15, 1)\n",
              "┌─────────────────────────────────┐\n",
              "│ курсы                           │\n",
              "│ ---                             │\n",
              "│ str                             │\n",
              "╞═════════════════════════════════╡\n",
              "│ Компьютерные сети               │\n",
              "│ Численные методы                │\n",
              "│ Обучение с подкреплением        │\n",
              "│ Компьютерное зрение             │\n",
              "│ Проектирование и разработка вы… │\n",
              "│ …                               │\n",
              "│ Конфликты и кооперация          │\n",
              "│ Машинное обучение 2             │\n",
              "│ Промышленное программирование … │\n",
              "│ Системы баз данных              │\n",
              "│ Методы сжатия и передачи медиа… │\n",
              "└─────────────────────────────────┘"
            ]
          },
          "execution_count": 568,
          "metadata": {},
          "output_type": "execute_result"
        }
      ],
      "source": [
        "modules = ['spring_1', 'spring_2', 'spring_3']\n",
        "all_spring_courses = df.unpivot(index=[], on= modules).select(pl.col(\"value\").alias(\"курсы\")).unique().filter(pl.col(\"курсы\") != '')\n",
        "all_spring_courses"
      ]
    },
    {
      "cell_type": "markdown",
      "metadata": {},
      "source": [
        "#### Первая волна"
      ]
    },
    {
      "cell_type": "markdown",
      "metadata": {},
      "source": [
        "Тут я в фильтре учитываю сдвиг приоритетов для МО2 \n"
      ]
    },
    {
      "cell_type": "code",
      "execution_count": 569,
      "metadata": {},
      "outputs": [
        {
          "data": {
            "text/html": [
              "<div><style>\n",
              ".dataframe > thead > tr,\n",
              ".dataframe > tbody > tr {\n",
              "  text-align: right;\n",
              "  white-space: pre-wrap;\n",
              "}\n",
              "</style>\n",
              "<small>shape: (15, 3)</small><table border=\"1\" class=\"dataframe\"><thead><tr><th>курсы</th><th>id</th><th>длина</th></tr><tr><td>str</td><td>list[str]</td><td>u32</td></tr></thead><tbody><tr><td>&quot;Компьютерные сети&quot;</td><td>[&quot;bc4974fa622838af7586a7b67d1f3a28&quot;, &quot;cef7df6fa798b759b2a5763b7d0c5d38&quot;, … &quot;04bcb5c9d23813ffa940e1febb27fadc&quot;]</td><td>43</td></tr><tr><td>&quot;Численные методы&quot;</td><td>[&quot;e4caca755ee0bdd711e18fb8084958b5&quot;, &quot;f0f6f3881894172a0f04e79b554b49e6&quot;, … &quot;ff549c331d45453052f28ad2614afda9&quot;]</td><td>9</td></tr><tr><td>&quot;Обучение с подкреплением&quot;</td><td>[&quot;eb1d7205d913319ef3d48e0719839849&quot;, &quot;2c0a8cb6662b9a0a0a5d2d1214442767&quot;, … &quot;b42de1b3235e9e84b43f38ff282cdfb9&quot;]</td><td>61</td></tr><tr><td>&quot;Компьютерное зрение&quot;</td><td>[&quot;7134f24c241836458335aa3abb8d8727&quot;, &quot;6a93fcbc79d0df6ddeba3b46739fc3d8&quot;, … &quot;840716fde17a536f5e067546ab49a8a7&quot;]</td><td>29</td></tr><tr><td>&quot;Проектирование и разработка вы…</td><td>[&quot;492c677be00bb8223ebbaffa3aff2549&quot;, &quot;e22f8203911170e6b68b1b88cf85fee2&quot;, … &quot;1bbbfae51794b83c769b634be8da7b8d&quot;]</td><td>47</td></tr><tr><td>&hellip;</td><td>&hellip;</td><td>&hellip;</td></tr><tr><td>&quot;Конфликты и кооперация&quot;</td><td>[&quot;f44aea1095f9f5b8e2f5f0ed2b17891b&quot;, &quot;fe631bea98b075dd781e11df3987533b&quot;, … &quot;8fe79f84f36e3a5d2d6745621321302c&quot;]</td><td>19</td></tr><tr><td>&quot;Машинное обучение 2&quot;</td><td>[&quot;227347077a7d1d0544ddf5643b97cf8c&quot;, &quot;2662600c2c37e11e62f6ee0b88452f22&quot;, … &quot;54b211907aac0ebbb8f853ab1fc4eecb&quot;]</td><td>31</td></tr><tr><td>&quot;Промышленное программирование …</td><td>[&quot;40b18d40197e3db66312a026e06b8ff1&quot;, &quot;5c49473012411a1eee72f8ea63767adf&quot;, … &quot;c7544f6c00a5164efdef675410d62e94&quot;]</td><td>63</td></tr><tr><td>&quot;Системы баз данных&quot;</td><td>[&quot;e83471de8976e4fcfccf4ef417f07192&quot;, &quot;6a93b58f867db41e822a03c26c1bd428&quot;, … &quot;fc2c60b8004aa91bc272df84628621ff&quot;]</td><td>8</td></tr><tr><td>&quot;Методы сжатия и передачи медиа…</td><td>[&quot;5bb63d6635c5f4c530b727fe1d6d84bf&quot;, &quot;b65194fec33b2358296f74f6d948efdf&quot;, … &quot;0a3bf60d68e9bcb118ba4b472eabebc8&quot;]</td><td>22</td></tr></tbody></table></div>"
            ],
            "text/plain": [
              "shape: (15, 3)\n",
              "┌─────────────────────────────────┬─────────────────────────────────┬───────┐\n",
              "│ курсы                           ┆ id                              ┆ длина │\n",
              "│ ---                             ┆ ---                             ┆ ---   │\n",
              "│ str                             ┆ list[str]                       ┆ u32   │\n",
              "╞═════════════════════════════════╪═════════════════════════════════╪═══════╡\n",
              "│ Компьютерные сети               ┆ [\"bc4974fa622838af7586a7b67d1f… ┆ 43    │\n",
              "│ Численные методы                ┆ [\"e4caca755ee0bdd711e18fb80849… ┆ 9     │\n",
              "│ Обучение с подкреплением        ┆ [\"eb1d7205d913319ef3d48e071983… ┆ 61    │\n",
              "│ Компьютерное зрение             ┆ [\"7134f24c241836458335aa3abb8d… ┆ 29    │\n",
              "│ Проектирование и разработка вы… ┆ [\"492c677be00bb8223ebbaffa3aff… ┆ 47    │\n",
              "│ …                               ┆ …                               ┆ …     │\n",
              "│ Конфликты и кооперация          ┆ [\"f44aea1095f9f5b8e2f5f0ed2b17… ┆ 19    │\n",
              "│ Машинное обучение 2             ┆ [\"227347077a7d1d0544ddf5643b97… ┆ 31    │\n",
              "│ Промышленное программирование … ┆ [\"40b18d40197e3db66312a026e06b… ┆ 63    │\n",
              "│ Системы баз данных              ┆ [\"e83471de8976e4fcfccf4ef417f0… ┆ 8     │\n",
              "│ Методы сжатия и передачи медиа… ┆ [\"5bb63d6635c5f4c530b727fe1d6d… ┆ 22    │\n",
              "└─────────────────────────────────┴─────────────────────────────────┴───────┘"
            ]
          },
          "execution_count": 569,
          "metadata": {},
          "output_type": "execute_result"
        }
      ],
      "source": [
        "new1 = df.filter((pl.col(\"spring_1\") != \"Машинное обучение 2\").or_(pl.col('is_ml_student') != 1)).group_by(\"spring_1\").agg(pl.col(\"id\")).rename({\"spring_1\": 'курсы'})\n",
        "joined1 = all_spring_courses.join(new1, on=\"курсы\", how=\"left\")\n",
        "new1_cringe = df.filter((pl.col('is_ml_student') == 1).and_(pl.col(\"spring_1\") == \"Машинное обучение 2\").and_(pl.col(\"spring_2\") != \"Машинное обучение 2\")).group_by(\"spring_2\").agg(pl.col(\"id\")).rename({\"spring_2\": 'курсы'})\n",
        "joined1_cringe = all_spring_courses.join(new1_cringe, on=\"курсы\", how=\"left\")\n",
        "new1_cringe = df.filter((pl.col('is_ml_student') == 1).and_(pl.col(\"spring_1\") == \"Машинное обучение 2\").and_(pl.col(\"spring_2\") == \"Машинное обучение 2\").and_(pl.col(\"spring_3\") != \"Машинное обучение 2\")).group_by(\"spring_3\").agg(pl.col(\"id\")).rename({\"spring_3\": 'курсы'})\n",
        "joined1_cringe_2 = all_spring_courses.join(new1_cringe, on=\"курсы\", how=\"left\")\n",
        "\n",
        "df2 = df.filter(pl.col(\"how_many_spring\") == 2)\n",
        "new2 = df2.filter((pl.col(\"spring_2\") != \"Машинное обучение 2\").or_(pl.col('is_ml_student') != 1)).group_by(\"spring_2\").agg(pl.col(\"id\")).rename({\"spring_2\": 'курсы'})\n",
        "\n",
        "joined2 = all_spring_courses.join(new2, on=\"курсы\", how=\"left\")\n",
        "\n",
        "new2_cringe = df2.filter((pl.col('is_ml_student') == 1).and_(pl.col(\"spring_2\") == \"Машинное обучение 2\").and_(pl.col(\"spring_3\") != \"Машинное обучение 2\")).group_by(\"spring_3\").agg(pl.col(\"id\")).rename({\"spring_3\": 'курсы'})\n",
        "new2_cringe # он пустой, спок.\n",
        "\n",
        "joined = joined1.join(joined1_cringe, on=\"курсы\", how=\"inner\").fill_null(pl.lit([]).cast(pl.List(pl.String))).with_columns(pl.concat_list(\"id\", \"id_right\").list.unique().alias(\"id\")).select(\"курсы\", \"id\")\n",
        "joined = joined.join(joined1_cringe_2, on='курсы', how='inner').fill_null(pl.lit([]).cast(pl.List(pl.String))).with_columns(pl.concat_list(\"id\", \"id_right\").list.unique().alias(\"id\")).select(\"курсы\", \"id\")\n",
        "joined = joined.join(joined2, on='курсы', how='inner').fill_null(pl.lit([]).cast(pl.List(pl.String))).with_columns(pl.concat_list(\"id\", \"id_right\").list.unique().alias(\"id\")).select(\"курсы\", \"id\").with_columns(pl.col(\"id\").list.len().alias(\"длина\"))\n",
        "joined"
      ]
    },
    {
      "cell_type": "code",
      "execution_count": 570,
      "metadata": {},
      "outputs": [],
      "source": [
        "strange_courses = ['Обучение с подкреплением', 'Анализ данных в бизнесе']\n",
        "prom1 = joined.filter((pl.col(\"длина\") <= 30).or_((pl.col(\"курсы\").is_in(strange_courses)).and_(pl.col(\"длина\") <= 60))).explode(\"id\").drop(\"длина\")\n",
        "prom2 = joined.filter(((pl.col(\"длина\") > 30).and_(pl.col(\"курсы\").is_in(strange_courses).not_()))).explode(\"id\").drop(\"длина\").join(df, on=\"id\", how=\"left\").sort(by=[\"курсы\", \"percentile\"]).group_by(\"курсы\").head(30).select(\"курсы\", \"id\")\n",
        "prom3 = joined.filter(((pl.col(\"курсы\").is_in(strange_courses)).and_(pl.col(\"длина\") > 60))).explode(\"id\").drop(\"длина\").join(df, on=\"id\", how=\"left\").sort(by=[\"курсы\", \"percentile\"]).group_by(\"курсы\").head(60).select(\"курсы\", \"id\")"
      ]
    },
    {
      "cell_type": "code",
      "execution_count": 571,
      "metadata": {},
      "outputs": [],
      "source": [
        "first_done = pl.concat([prom1, prom2, prom3]).group_by(\"id\").agg(\"курсы\").with_columns(pl.col(\"курсы\").list.get(0).alias(\"course1\"), pl.when(pl.col(\"курсы\").list.len() > 1).\n",
        "                                                                   then(pl.col(\"курсы\").list.last()).otherwise(pl.lit('-')).alias(\"course2\")) \\\n",
        "                                                                       .select(\"id\", \"course1\", \"course2\")\n",
        "full_seconds = first_done.filter((pl.col(\"course1\") != '-').and_(pl.col(\"course2\") != '-')) #для дальнейшего \n",
        "\n",
        "\n",
        "df_wave_1 = pl.DataFrame(\n",
        "    {\n",
        "        \"id\": df.select(\"id\"),\n",
        "    }\n",
        ")\n",
        "df_wave_1 = df_wave_1.join(first_done, on=\"id\", how=\"left\").fill_null(\"-\")"
      ]
    },
    {
      "cell_type": "code",
      "execution_count": 572,
      "metadata": {},
      "outputs": [
        {
          "data": {
            "text/html": [
              "<div><style>\n",
              ".dataframe > thead > tr,\n",
              ".dataframe > tbody > tr {\n",
              "  text-align: right;\n",
              "  white-space: pre-wrap;\n",
              "}\n",
              "</style>\n",
              "<small>shape: (15, 2)</small><table border=\"1\" class=\"dataframe\"><thead><tr><th>курсы</th><th>места</th></tr><tr><td>str</td><td>u32</td></tr></thead><tbody><tr><td>&quot;Компьютерные сети&quot;</td><td>0</td></tr><tr><td>&quot;Численные методы&quot;</td><td>21</td></tr><tr><td>&quot;Обучение с подкреплением&quot;</td><td>0</td></tr><tr><td>&quot;Компьютерное зрение&quot;</td><td>1</td></tr><tr><td>&quot;Проектирование и разработка вы…</td><td>0</td></tr><tr><td>&hellip;</td><td>&hellip;</td></tr><tr><td>&quot;Конфликты и кооперация&quot;</td><td>11</td></tr><tr><td>&quot;Машинное обучение 2&quot;</td><td>0</td></tr><tr><td>&quot;Промышленное программирование …</td><td>0</td></tr><tr><td>&quot;Системы баз данных&quot;</td><td>22</td></tr><tr><td>&quot;Методы сжатия и передачи медиа…</td><td>8</td></tr></tbody></table></div>"
            ],
            "text/plain": [
              "shape: (15, 2)\n",
              "┌─────────────────────────────────┬───────┐\n",
              "│ курсы                           ┆ места │\n",
              "│ ---                             ┆ ---   │\n",
              "│ str                             ┆ u32   │\n",
              "╞═════════════════════════════════╪═══════╡\n",
              "│ Компьютерные сети               ┆ 0     │\n",
              "│ Численные методы                ┆ 21    │\n",
              "│ Обучение с подкреплением        ┆ 0     │\n",
              "│ Компьютерное зрение             ┆ 1     │\n",
              "│ Проектирование и разработка вы… ┆ 0     │\n",
              "│ …                               ┆ …     │\n",
              "│ Конфликты и кооперация          ┆ 11    │\n",
              "│ Машинное обучение 2             ┆ 0     │\n",
              "│ Промышленное программирование … ┆ 0     │\n",
              "│ Системы баз данных              ┆ 22    │\n",
              "│ Методы сжатия и передачи медиа… ┆ 8     │\n",
              "└─────────────────────────────────┴───────┘"
            ]
          },
          "execution_count": 572,
          "metadata": {},
          "output_type": "execute_result"
        }
      ],
      "source": [
        "remained = joined.drop(\"id\").with_columns(pl.when((pl.col(\"курсы\") == 'Обучение с подкреплением').or_(pl.col(\"курсы\") == 'Анализ данных в бизнесе')).then(\n",
        "    (pl.when(60 < pl.col(\"длина\")).then(0).otherwise(60 - pl.col(\"длина\")))).when(pl.col(\"длина\") > 30).then(0)\n",
        "                            .otherwise(30 - pl.col(\"длина\")).alias(\"места\")).drop(\"длина\")\n",
        "remained"
      ]
    },
    {
      "cell_type": "markdown",
      "metadata": {},
      "source": [
        "#### Вторая волна"
      ]
    },
    {
      "cell_type": "code",
      "execution_count": 573,
      "metadata": {},
      "outputs": [
        {
          "data": {
            "text/html": [
              "<div><style>\n",
              ".dataframe > thead > tr,\n",
              ".dataframe > tbody > tr {\n",
              "  text-align: right;\n",
              "  white-space: pre-wrap;\n",
              "}\n",
              "</style>\n",
              "<small>shape: (15, 3)</small><table border=\"1\" class=\"dataframe\"><thead><tr><th>курсы</th><th>id</th><th>длина</th></tr><tr><td>str</td><td>list[str]</td><td>u32</td></tr></thead><tbody><tr><td>&quot;Компьютерные сети&quot;</td><td>[&quot;8047c18b3c531c6f47931e0744f3e028&quot;, &quot;d82c2df25b8b36cd655077b4a885e1f7&quot;, … &quot;1341f488fae5f1ccf164960fd6506cd0&quot;]</td><td>13</td></tr><tr><td>&quot;Численные методы&quot;</td><td>[&quot;d0d8ff53ed5b119f9056068e954256c6&quot;, &quot;253bbe1a2021d0404712a1e4acd22939&quot;, … &quot;e6f751a81ab2d5197e8237a96656144d&quot;]</td><td>5</td></tr><tr><td>&quot;Обучение с подкреплением&quot;</td><td>[&quot;3e88c8d53bcd73595d2bbcdd8c51c1bf&quot;]</td><td>1</td></tr><tr><td>&quot;Компьютерное зрение&quot;</td><td>[&quot;e11399490117e1913ae79d09a5a2b981&quot;, &quot;79d14db48e4737af731960ae212d5134&quot;, … &quot;d539461bf254cf8b3201cdf7990b119e&quot;]</td><td>5</td></tr><tr><td>&quot;Проектирование и разработка вы…</td><td>[]</td><td>0</td></tr><tr><td>&hellip;</td><td>&hellip;</td><td>&hellip;</td></tr><tr><td>&quot;Конфликты и кооперация&quot;</td><td>[&quot;180cf0e0dc7a6f88e76e3076cb761d26&quot;]</td><td>1</td></tr><tr><td>&quot;Машинное обучение 2&quot;</td><td>[&quot;e3d4f9a7b947ebc03d345dd9e14b5d2c&quot;, &quot;760529fb42ad1fd50071e2ceeadaaedc&quot;, … &quot;f8fab519d78047712c06798c8b7fe38f&quot;]</td><td>6</td></tr><tr><td>&quot;Промышленное программирование …</td><td>[&quot;1f53f6dabcd59889dd7486a7cac5c9f2&quot;, &quot;32fea7beb180e7de64ad408013cc01ec&quot;, … &quot;b6bf56b8b8ffd1666036b0a8ca01c452&quot;]</td><td>10</td></tr><tr><td>&quot;Системы баз данных&quot;</td><td>[&quot;d9f0e5ebc6718202b86eaee2de1c697b&quot;, &quot;f2ed8115db45ef795ced2701fa86515d&quot;, &quot;3de75278c0cdb78bbe54267f65c67d25&quot;]</td><td>3</td></tr><tr><td>&quot;Методы сжатия и передачи медиа…</td><td>[&quot;1bbbfae51794b83c769b634be8da7b8d&quot;, &quot;c976c868dd660e792ab82ba8d9e02506&quot;, … &quot;8c3aa7371731bef999519c3de2c47423&quot;]</td><td>6</td></tr></tbody></table></div>"
            ],
            "text/plain": [
              "shape: (15, 3)\n",
              "┌─────────────────────────────────┬─────────────────────────────────┬───────┐\n",
              "│ курсы                           ┆ id                              ┆ длина │\n",
              "│ ---                             ┆ ---                             ┆ ---   │\n",
              "│ str                             ┆ list[str]                       ┆ u32   │\n",
              "╞═════════════════════════════════╪═════════════════════════════════╪═══════╡\n",
              "│ Компьютерные сети               ┆ [\"8047c18b3c531c6f47931e0744f3… ┆ 13    │\n",
              "│ Численные методы                ┆ [\"d0d8ff53ed5b119f9056068e9542… ┆ 5     │\n",
              "│ Обучение с подкреплением        ┆ [\"3e88c8d53bcd73595d2bbcdd8c51… ┆ 1     │\n",
              "│ Компьютерное зрение             ┆ [\"e11399490117e1913ae79d09a5a2… ┆ 5     │\n",
              "│ Проектирование и разработка вы… ┆ []                              ┆ 0     │\n",
              "│ …                               ┆ …                               ┆ …     │\n",
              "│ Конфликты и кооперация          ┆ [\"180cf0e0dc7a6f88e76e3076cb76… ┆ 1     │\n",
              "│ Машинное обучение 2             ┆ [\"e3d4f9a7b947ebc03d345dd9e14b… ┆ 6     │\n",
              "│ Промышленное программирование … ┆ [\"1f53f6dabcd59889dd7486a7cac5… ┆ 10    │\n",
              "│ Системы баз данных              ┆ [\"d9f0e5ebc6718202b86eaee2de1c… ┆ 3     │\n",
              "│ Методы сжатия и передачи медиа… ┆ [\"1bbbfae51794b83c769b634be8da… ┆ 6     │\n",
              "└─────────────────────────────────┴─────────────────────────────────┴───────┘"
            ]
          },
          "execution_count": 573,
          "metadata": {},
          "output_type": "execute_result"
        }
      ],
      "source": [
        "df1 = df.filter((pl.col(\"how_many_spring\") == 1).and_((pl.col(\"id\").is_in(first_done.select(\"id\"))).not_()))\n",
        "new1 = df1.filter((pl.col(\"spring_2\") != \"Машинное обучение 2\").or_(pl.col(\"is_ml_student\") != 1)).group_by(\"spring_2\").agg(pl.col(\"id\")).rename({\"spring_2\": 'курсы'})\n",
        "joined1 = all_spring_courses.join(new1, on=\"курсы\", how=\"left\")\n",
        "new1_cringe = df1.filter((pl.col(\"is_ml_student\") == 1).and_(pl.col(\"spring_2\") == \"Машинное обучение 2\").and_(pl.col(\"spring_3\") != \"Машинное обучение 2\")).group_by(\"spring_3\").agg(pl.col(\"id\")).rename({\"spring_3\": 'курсы'})\n",
        "joined1_cringe = all_spring_courses.join(new1_cringe, on=\"курсы\", how=\"left\")\n",
        "\n",
        "df2 = df.filter((pl.col(\"how_many_spring\") == 2).and_(((pl.col(\"id\").is_in(full_seconds.select(\"id\"))).not_())))\n",
        "new2 = df2.filter((pl.col(\"spring_3\") != \"Машинное обучение 2\").or_(pl.col(\"is_ml_student\") != 1)).group_by(\"spring_3\").agg(pl.col(\"id\")).rename({\"spring_3\": 'курсы'})\n",
        "\n",
        "joined2 = all_spring_courses.join(new2, on=\"курсы\", how=\"left\")\n",
        "\n",
        "joined = joined1.join(joined1_cringe, on=\"курсы\", how=\"inner\").fill_null(pl.lit([]).cast(pl.List(pl.String))).with_columns(pl.concat_list(\"id\", \"id_right\").list.unique().alias(\"id\")).select(\"курсы\", \"id\")\n",
        "joined = joined.join(joined2, on='курсы', how='inner').fill_null(pl.lit([]).cast(pl.List(pl.String))).with_columns(pl.concat_list(\"id\", \"id_right\").list.unique().alias(\"id\")).select(\"курсы\", \"id\").with_columns(pl.col(\"id\").list.len().alias(\"длина\"))\n",
        "joined"
      ]
    },
    {
      "cell_type": "code",
      "execution_count": 574,
      "metadata": {},
      "outputs": [],
      "source": [
        "joined = joined.join(remained, on=\"курсы\").with_columns(pl.col(\"id\").list.len().alias(\"длина\"))"
      ]
    },
    {
      "cell_type": "code",
      "execution_count": 575,
      "metadata": {},
      "outputs": [
        {
          "data": {
            "text/html": [
              "<div><style>\n",
              ".dataframe > thead > tr,\n",
              ".dataframe > tbody > tr {\n",
              "  text-align: right;\n",
              "  white-space: pre-wrap;\n",
              "}\n",
              "</style>\n",
              "<small>shape: (8, 4)</small><table border=\"1\" class=\"dataframe\"><thead><tr><th>курсы</th><th>id</th><th>места</th><th>длина</th></tr><tr><td>str</td><td>list[str]</td><td>u32</td><td>u32</td></tr></thead><tbody><tr><td>&quot;Численные методы&quot;</td><td>[&quot;d0d8ff53ed5b119f9056068e954256c6&quot;, &quot;253bbe1a2021d0404712a1e4acd22939&quot;, … &quot;e6f751a81ab2d5197e8237a96656144d&quot;]</td><td>21</td><td>5</td></tr><tr><td>&quot;Символьные вычисления&quot;</td><td>[&quot;7fcf56aae6836855a689000a50e80360&quot;, &quot;e0fceae1e285f737630bb6123a1bd85d&quot;]</td><td>21</td><td>2</td></tr><tr><td>&quot;Дополнительные главы прикладно…</td><td>[&quot;5a6dfaade650ca8bb2d081342df303e8&quot;, &quot;ea9d7e5f21ee102565b1437b26eb1144&quot;, &quot;ab5248060fbaac411a79a62dfb0d263d&quot;]</td><td>19</td><td>3</td></tr><tr><td>&quot;Генеративные модели в машинном…</td><td>[&quot;881b1a6fda195b354ae2edb396a69f5d&quot;, &quot;2ca6917be428f8b84f6f15cdcbea2143&quot;]</td><td>14</td><td>2</td></tr><tr><td>&quot;Анализ данных в бизнесе&quot;</td><td>[&quot;f941beb89ecc5c59076bcfa79691116c&quot;, &quot;6cd7de3774f07c65e44668cdf7e987b6&quot;, … &quot;72e79e6a79cb4025077b371cc6e54247&quot;]</td><td>41</td><td>8</td></tr><tr><td>&quot;Конфликты и кооперация&quot;</td><td>[&quot;180cf0e0dc7a6f88e76e3076cb761d26&quot;]</td><td>11</td><td>1</td></tr><tr><td>&quot;Системы баз данных&quot;</td><td>[&quot;d9f0e5ebc6718202b86eaee2de1c697b&quot;, &quot;f2ed8115db45ef795ced2701fa86515d&quot;, &quot;3de75278c0cdb78bbe54267f65c67d25&quot;]</td><td>22</td><td>3</td></tr><tr><td>&quot;Методы сжатия и передачи медиа…</td><td>[&quot;1bbbfae51794b83c769b634be8da7b8d&quot;, &quot;c976c868dd660e792ab82ba8d9e02506&quot;, … &quot;8c3aa7371731bef999519c3de2c47423&quot;]</td><td>8</td><td>6</td></tr></tbody></table></div>"
            ],
            "text/plain": [
              "shape: (8, 4)\n",
              "┌─────────────────────────────────┬─────────────────────────────────┬───────┬───────┐\n",
              "│ курсы                           ┆ id                              ┆ места ┆ длина │\n",
              "│ ---                             ┆ ---                             ┆ ---   ┆ ---   │\n",
              "│ str                             ┆ list[str]                       ┆ u32   ┆ u32   │\n",
              "╞═════════════════════════════════╪═════════════════════════════════╪═══════╪═══════╡\n",
              "│ Численные методы                ┆ [\"d0d8ff53ed5b119f9056068e9542… ┆ 21    ┆ 5     │\n",
              "│ Символьные вычисления           ┆ [\"7fcf56aae6836855a689000a50e8… ┆ 21    ┆ 2     │\n",
              "│ Дополнительные главы прикладно… ┆ [\"5a6dfaade650ca8bb2d081342df3… ┆ 19    ┆ 3     │\n",
              "│ Генеративные модели в машинном… ┆ [\"881b1a6fda195b354ae2edb396a6… ┆ 14    ┆ 2     │\n",
              "│ Анализ данных в бизнесе         ┆ [\"f941beb89ecc5c59076bcfa79691… ┆ 41    ┆ 8     │\n",
              "│ Конфликты и кооперация          ┆ [\"180cf0e0dc7a6f88e76e3076cb76… ┆ 11    ┆ 1     │\n",
              "│ Системы баз данных              ┆ [\"d9f0e5ebc6718202b86eaee2de1c… ┆ 22    ┆ 3     │\n",
              "│ Методы сжатия и передачи медиа… ┆ [\"1bbbfae51794b83c769b634be8da… ┆ 8     ┆ 6     │\n",
              "└─────────────────────────────────┴─────────────────────────────────┴───────┴───────┘"
            ]
          },
          "execution_count": 575,
          "metadata": {},
          "output_type": "execute_result"
        }
      ],
      "source": [
        "prom1 = joined.filter((pl.col(\"места\") < pl.col(\"длина\"))).explode(\"id\").filter(pl.col(\"id\") != \"\").join(df, on=\"id\", how=\"left\").sort(by=[\"курсы\", \"percentile\"]).group_by(pl.col(\"курсы\")).agg(\"id\")\n",
        "prom1 = prom1.join(joined.select(\"курсы\", \"места\", \"длина\"), on=\"курсы\")\n",
        "prom1 = prom1.with_columns(pl.col(\"id\").list.slice(0, pl.col(\"места\")))\n",
        "prom2 = joined.filter((pl.col(\"места\") >= pl.col(\"длина\"))).explode(\"id\").filter(pl.col(\"id\") != \"\").group_by(pl.col(\"курсы\")).agg(\"id\")\n",
        "prom2 = prom2.join(joined.select(\"курсы\", \"места\", \"длина\"), on=\"курсы\")\n",
        "prom2"
      ]
    },
    {
      "cell_type": "code",
      "execution_count": 576,
      "metadata": {},
      "outputs": [
        {
          "data": {
            "text/html": [
              "<div><style>\n",
              ".dataframe > thead > tr,\n",
              ".dataframe > tbody > tr {\n",
              "  text-align: right;\n",
              "  white-space: pre-wrap;\n",
              "}\n",
              "</style>\n",
              "<small>shape: (14, 2)</small><table border=\"1\" class=\"dataframe\"><thead><tr><th>курсы</th><th>места</th></tr><tr><td>str</td><td>u32</td></tr></thead><tbody><tr><td>&quot;Компьютерные сети&quot;</td><td>0</td></tr><tr><td>&quot;Обучение с подкреплением&quot;</td><td>0</td></tr><tr><td>&quot;Компьютерное зрение&quot;</td><td>0</td></tr><tr><td>&quot;Дискретная оптимизация&quot;</td><td>0</td></tr><tr><td>&quot;Машинное обучение 2&quot;</td><td>0</td></tr><tr><td>&hellip;</td><td>&hellip;</td></tr><tr><td>&quot;Генеративные модели в машинном…</td><td>12</td></tr><tr><td>&quot;Анализ данных в бизнесе&quot;</td><td>33</td></tr><tr><td>&quot;Конфликты и кооперация&quot;</td><td>10</td></tr><tr><td>&quot;Системы баз данных&quot;</td><td>19</td></tr><tr><td>&quot;Методы сжатия и передачи медиа…</td><td>2</td></tr></tbody></table></div>"
            ],
            "text/plain": [
              "shape: (14, 2)\n",
              "┌─────────────────────────────────┬───────┐\n",
              "│ курсы                           ┆ места │\n",
              "│ ---                             ┆ ---   │\n",
              "│ str                             ┆ u32   │\n",
              "╞═════════════════════════════════╪═══════╡\n",
              "│ Компьютерные сети               ┆ 0     │\n",
              "│ Обучение с подкреплением        ┆ 0     │\n",
              "│ Компьютерное зрение             ┆ 0     │\n",
              "│ Дискретная оптимизация          ┆ 0     │\n",
              "│ Машинное обучение 2             ┆ 0     │\n",
              "│ …                               ┆ …     │\n",
              "│ Генеративные модели в машинном… ┆ 12    │\n",
              "│ Анализ данных в бизнесе         ┆ 33    │\n",
              "│ Конфликты и кооперация          ┆ 10    │\n",
              "│ Системы баз данных              ┆ 19    │\n",
              "│ Методы сжатия и передачи медиа… ┆ 2     │\n",
              "└─────────────────────────────────┴───────┘"
            ]
          },
          "execution_count": 576,
          "metadata": {},
          "output_type": "execute_result"
        }
      ],
      "source": [
        "remained_after_second = pl.concat([prom1, prom2]).with_columns(pl.when(pl.col(\"места\") <= pl.col(\"длина\")).then(0).otherwise(pl.col(\"места\") - pl.col(\"длина\")).alias(\"места\")).select(\"курсы\", \"места\")\n",
        "remained_after_second"
      ]
    },
    {
      "cell_type": "code",
      "execution_count": 577,
      "metadata": {},
      "outputs": [],
      "source": [
        "prom1 = prom1.drop(\"места\", \"длина\").explode(\"id\")\n",
        "prom2 = prom2.drop(\"места\", \"длина\").explode(\"id\")"
      ]
    },
    {
      "cell_type": "code",
      "execution_count": 578,
      "metadata": {},
      "outputs": [],
      "source": [
        "second_done = pl.concat([prom1, prom2])\n",
        "\n",
        "df_wave_2 = df_wave_1.join(df.select(\"id\", \"how_many_spring\"), on=\"id\", how=\"left\").filter((pl.col(\"course1\") == '-').or_((pl.col(\"course2\") == '-').and_((pl.col(\"how_many_spring\") == 2))))\n",
        "df_wave_2 = df_wave_2.join(second_done, on=\"id\", how=\"left\").fill_null(\"-\").with_columns([\n",
        "    pl.when(\n",
        "        (pl.col(\"how_many_spring\") == 1).and_(pl.col(\"курсы\") != '-')\n",
        "    )\n",
        "    .then(pl.col(\"курсы\"))\n",
        "    .otherwise(pl.col(\"course1\"))\n",
        "    .alias(\"course1\"),\n",
        "    \n",
        "    pl.when(\n",
        "        (pl.col(\"how_many_spring\") == 2).and_(pl.col(\"курсы\") != '-').and_(pl.col(\"курсы\") != pl.col(\"course1\"))\n",
        "    )\n",
        "    .then(pl.col(\"курсы\"))\n",
        "    .otherwise(pl.col(\"course2\"))\n",
        "    .alias(\"course2\")\n",
        "]).select(\"id\", \"course1\", \"course2\")\n",
        "df_wave_2 = df_wave_1.join(df.select(\"id\", \"how_many_spring\"), on=\"id\", how=\"left\").join(df_wave_2, on=\"id\", how=\"left\").with_columns([\n",
        "    pl.when((pl.col(\"course1\") == '-').\n",
        "            and_(pl.col(\"course1_right\").is_not_null()).and_(pl.col(\"course1_right\") != '-'))\n",
        "    .then(\"course1_right\")\n",
        "    .otherwise(\"course1\").alias(\"course1\"),\n",
        "    \n",
        "    pl.when((pl.col(\"course2\") == '-').\n",
        "            and_(pl.col(\"course2_right\").is_not_null()).and_(pl.col(\"course2_right\") != '-'))\n",
        "    .then(\"course2_right\")\n",
        "    .otherwise(\"course2\").alias(\"course2\"),\n",
        "]).select(\"id\", \"course1\", \"course2\")"
      ]
    },
    {
      "cell_type": "markdown",
      "metadata": {},
      "source": [
        "#### Третья волна"
      ]
    },
    {
      "cell_type": "code",
      "execution_count": 579,
      "metadata": {},
      "outputs": [],
      "source": [
        "df1 = df.filter((pl.col(\"how_many_spring\") == 1).and_((pl.col(\"id\").is_in(first_done.select(\"id\"))).not_()).\n",
        "                and_((pl.col(\"id\").is_in(second_done.select(\"id\"))).not_()))\n",
        "new1 = df1.filter((pl.col(\"spring_3\") != \"Машинное обучение 2\").or_(pl.col(\"is_ml_student\") != 1)).group_by(\"spring_3\").agg(pl.col(\"id\")).rename({\"spring_3\": 'курсы'})\n",
        "joined = all_spring_courses.join(new1, on=\"курсы\", how=\"left\").fill_null(pl.lit([]).cast(pl.List(pl.String)))\n",
        "joined_final = joined.join(remained_after_second, on=\"курсы\").with_columns(pl.col(\"id\").list.len().alias(\"длина\"))\n",
        "\n",
        "prom1 = joined_final.filter((pl.col(\"места\") < pl.col(\"длина\"))).explode(\"id\").filter(pl.col(\"id\") != \"\").join(df, on=\"id\", how=\"left\").sort(by=[\"курсы\", \"percentile\"]).group_by(pl.col(\"курсы\")).agg(\"id\")\n",
        "prom1 = prom1.join(joined_final.select(\"курсы\", \"места\", \"длина\"), on=\"курсы\").with_columns(pl.col(\"id\").list.slice(0, pl.col(\"места\")))\n",
        "\n",
        "prom2 = joined_final.filter((pl.col(\"места\") >= pl.col(\"длина\"))).explode(\"id\").filter(pl.col(\"id\") != \"\").group_by(pl.col(\"курсы\")).agg(\"id\")\n",
        "prom2 = prom2.join(joined_final.select(\"курсы\", \"места\", \"длина\"), on=\"курсы\")"
      ]
    },
    {
      "cell_type": "code",
      "execution_count": 580,
      "metadata": {},
      "outputs": [],
      "source": [
        "prom1 = prom1.drop(\"места\", \"длина\").explode(\"id\")\n",
        "prom2 = prom2.drop(\"места\", \"длина\").explode(\"id\")"
      ]
    },
    {
      "cell_type": "code",
      "execution_count": 581,
      "metadata": {},
      "outputs": [
        {
          "data": {
            "text/html": [
              "<div><style>\n",
              ".dataframe > thead > tr,\n",
              ".dataframe > tbody > tr {\n",
              "  text-align: right;\n",
              "  white-space: pre-wrap;\n",
              "}\n",
              "</style>\n",
              "<small>shape: (14, 2)</small><table border=\"1\" class=\"dataframe\"><thead><tr><th>курсы</th><th>id</th></tr><tr><td>str</td><td>str</td></tr></thead><tbody><tr><td>&quot;Численные методы&quot;</td><td>&quot;42df9e301b39e4295fe849aa2abdfc…</td></tr><tr><td>&quot;Численные методы&quot;</td><td>&quot;496ea4f0d4abe264b1bb1b80eb3830…</td></tr><tr><td>&quot;Дополнительные главы прикладно…</td><td>&quot;1f53f6dabcd59889dd7486a7cac5c9…</td></tr><tr><td>&quot;Анализ данных в бизнесе&quot;</td><td>&quot;40b18d40197e3db66312a026e06b8f…</td></tr><tr><td>&quot;Анализ данных в бизнесе&quot;</td><td>&quot;a19f36ae8465cac527e8ce7b6ebf12…</td></tr><tr><td>&hellip;</td><td>&hellip;</td></tr><tr><td>&quot;Системы баз данных&quot;</td><td>&quot;b6bf56b8b8ffd1666036b0a8ca01c4…</td></tr><tr><td>&quot;Системы баз данных&quot;</td><td>&quot;9f23846141606a1e26e8e4c28e9a72…</td></tr><tr><td>&quot;Системы баз данных&quot;</td><td>&quot;8aa0f1b7331b49464174b02cd693be…</td></tr><tr><td>&quot;Системы баз данных&quot;</td><td>&quot;1341f488fae5f1ccf164960fd6506c…</td></tr><tr><td>&quot;Системы баз данных&quot;</td><td>&quot;f7f123322f77fd451a30ed4979c323…</td></tr></tbody></table></div>"
            ],
            "text/plain": [
              "shape: (14, 2)\n",
              "┌─────────────────────────────────┬─────────────────────────────────┐\n",
              "│ курсы                           ┆ id                              │\n",
              "│ ---                             ┆ ---                             │\n",
              "│ str                             ┆ str                             │\n",
              "╞═════════════════════════════════╪═════════════════════════════════╡\n",
              "│ Численные методы                ┆ 42df9e301b39e4295fe849aa2abdfc… │\n",
              "│ Численные методы                ┆ 496ea4f0d4abe264b1bb1b80eb3830… │\n",
              "│ Дополнительные главы прикладно… ┆ 1f53f6dabcd59889dd7486a7cac5c9… │\n",
              "│ Анализ данных в бизнесе         ┆ 40b18d40197e3db66312a026e06b8f… │\n",
              "│ Анализ данных в бизнесе         ┆ a19f36ae8465cac527e8ce7b6ebf12… │\n",
              "│ …                               ┆ …                               │\n",
              "│ Системы баз данных              ┆ b6bf56b8b8ffd1666036b0a8ca01c4… │\n",
              "│ Системы баз данных              ┆ 9f23846141606a1e26e8e4c28e9a72… │\n",
              "│ Системы баз данных              ┆ 8aa0f1b7331b49464174b02cd693be… │\n",
              "│ Системы баз данных              ┆ 1341f488fae5f1ccf164960fd6506c… │\n",
              "│ Системы баз данных              ┆ f7f123322f77fd451a30ed4979c323… │\n",
              "└─────────────────────────────────┴─────────────────────────────────┘"
            ]
          },
          "execution_count": 581,
          "metadata": {},
          "output_type": "execute_result"
        }
      ],
      "source": [
        "\n",
        "third_done = pl.concat([prom1, prom2]).filter(pl.col(\"id\").is_not_null())\n",
        "third_done"
      ]
    },
    {
      "cell_type": "code",
      "execution_count": 582,
      "metadata": {},
      "outputs": [],
      "source": [
        "df_wave_3 = df_wave_2.join(df.select(\"id\", \"how_many_spring\"), on=\"id\", how=\"left\").filter((pl.col(\"course1\") == '-').and_((pl.col(\"how_many_spring\") == 1)))\n",
        "df_wave_3 = df_wave_3.join(third_done, on=\"id\", how=\"left\").fill_null(\"-\")\n",
        "df_wave_3 = df_wave_2.join(df.select(\"id\", \"how_many_spring\"), on=\"id\", how=\"left\").join(df_wave_3, on=\"id\", how=\"left\").with_columns([\n",
        "    pl.when((pl.col(\"course1\") == '-').\n",
        "            and_(pl.col(\"курсы\").is_not_null()).and_(pl.col(\"курсы\") != '-'))\n",
        "    .then(\"курсы\")\n",
        "    .otherwise(\"course1\").alias(\"course1\"),\n",
        "]).select(\"id\", \"course1\", \"course2\")\n",
        "final = df_wave_3.join(df.select(\"id\", \"how_many_spring\"), on=\"id\", how='left').with_columns([\n",
        "            pl.when((pl.col(\"course1\") == '-')\n",
        "            ).\n",
        "            then(pl.lit('???')).otherwise(\"course1\").alias(\"course1\"),\n",
        "            \n",
        "            pl.when((pl.col(\"course2\") == '-').\n",
        "                    and_(pl.col(\"how_many_spring\") == 2)\n",
        "            ).\n",
        "            then(pl.lit('???')).otherwise(\"course2\").alias(\"course2\")\n",
        "            \n",
        "            ]).drop(\"how_many_spring\").rename({\"id\" : \"ID\"})\n",
        "final.write_csv(\"res_spring.csv\")"
      ]
    },
    {
      "cell_type": "markdown",
      "metadata": {
        "id": "xw9tt9dH3JKx"
      },
      "source": [
        "**Отправьте свой файл res_spring.csv в контест (будет в ближайшее время, следите за новостями) и прикрепите/укажите ниже ваш никнейм и ссылку на успешную посылку.**"
      ]
    },
    {
      "cell_type": "markdown",
      "metadata": {},
      "source": [
        "nrbakhishev@edu.hse.ru\n",
        "\n",
        "https://contest.yandex.ru/contest/68637/run-report/119779802/\n",
        "\n",
        "Это последняя правильная посылка "
      ]
    },
    {
      "cell_type": "markdown",
      "metadata": {
        "id": "7aB4Q1fs3JKx"
      },
      "source": [
        "На всякий случай просим вас сдать вместе с ноутбуком файл res_spring.csv в anytask"
      ]
    },
    {
      "cell_type": "markdown",
      "metadata": {
        "id": "M1LivaOx3JKx"
      },
      "source": [
        "Вставьте картинку, описывающую ваш опыт выполнения этого задания:"
      ]
    },
    {
      "cell_type": "markdown",
      "metadata": {},
      "source": [
        "#### Не знаю зачем я решил отменить существование циклов, но да. Картинки не будет, я дэдинсайд"
      ]
    }
  ],
  "metadata": {
    "colab": {
      "provenance": []
    },
    "kernelspec": {
      "display_name": "Python 3",
      "language": "python",
      "name": "python3"
    },
    "language_info": {
      "codemirror_mode": {
        "name": "ipython",
        "version": 3
      },
      "file_extension": ".py",
      "mimetype": "text/x-python",
      "name": "python",
      "nbconvert_exporter": "python",
      "pygments_lexer": "ipython3",
      "version": "3.12.6"
    }
  },
  "nbformat": 4,
  "nbformat_minor": 0
}
