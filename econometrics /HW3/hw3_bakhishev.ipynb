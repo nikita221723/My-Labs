{
 "cells": [
  {
   "cell_type": "markdown",
   "metadata": {},
   "source": [
    "$ \\textbf{1. (3 балла)}$ Еще раз из предыдущего домашнего задания: оцените линейную модель, которая объясняет заработную плату ($wage$) возрастом ($age$), наличием высшего образования ($high$), полом ($female$), наличием детей ($is\\_children$), курением ($smoke$) и константой. Проинтерпретируйте полученные результаты. Все ли коэффициенты оказались значимы? Выпишите уравнение оцененной модели."
   ]
  },
  {
   "cell_type": "code",
   "execution_count": 831,
   "metadata": {},
   "outputs": [],
   "source": [
    "import pandas as pd #сделаем все шаги подготовки данных для регрессии как в прошлом дз \n",
    "import polars as pl\n",
    "import seaborn as sns\n",
    "import matplotlib.pyplot as plt\n",
    "import scipy.stats as sisi\n",
    "import numpy as np\n",
    "df_hw = pd.read_csv('Homework_2_data.csv', sep=';')\n",
    "year = 2023\n",
    "industry = 'СЕЛЬСКОЕ ХОЗЯЙСТВО'\n",
    "region = 'все'\n",
    "if industry == 'все':\n",
    "    my_data = (df_hw[(df_hw.year == year) & (df_hw.region == region)])\n",
    "elif region == 'все':\n",
    "    my_data = (df_hw[(df_hw.year == year) &\n",
    "    (df_hw. industry == industry )])\n",
    "my_data\n",
    "data = pl.from_pandas(my_data) #эт только чтоб заменить потому что мне лень прошлый код переписывать \n",
    "true_data = data.with_columns(pl.col('age').str.replace(',', '.'), \n",
    "                                                     pl.col('wage').str.replace(',', '.'), \n",
    "                                                     pl.col('weight').str.replace(',', '.'), \n",
    "                                                     pl.col('height').str.replace(',', '.')\n",
    "                                                     ).with_columns(\n",
    "                                                         pl.col('age').cast(pl.Float64),\n",
    "                                                        pl.col('wage').cast(pl.Float64), \n",
    "                                                        pl.col('weight').cast(pl.Float64),\n",
    "                                                        pl.col('height').cast(pl.Float64))\n",
    "true_data.insert_column(0, true_data['is_children'].alias('constant')).drop('is_children') #Превратим столбец is_children в константу потому что все чуваки с детьми\n",
    "regression1_data = true_data.select('constant', 'wage', 'educ', 'age', 'female', 'smoke')\n",
    "regression1_data = regression1_data.with_columns(pl.when(pl.col('educ') == 2).then(1).otherwise(0).alias('high')).drop('educ')\n",
    "y = regression1_data['wage'].to_pandas()\n",
    "X = regression1_data.drop('wage').to_pandas()"
   ]
  },
  {
   "cell_type": "code",
   "execution_count": 832,
   "metadata": {},
   "outputs": [
    {
     "name": "stdout",
     "output_type": "stream",
     "text": [
      "                            OLS Regression Results                            \n",
      "==============================================================================\n",
      "Dep. Variable:                   wage   R-squared:                       0.085\n",
      "Model:                            OLS   Adj. R-squared:                  0.057\n",
      "Method:                 Least Squares   F-statistic:                     3.052\n",
      "Date:                Sun, 15 Dec 2024   Prob (F-statistic):             0.0192\n",
      "Time:                        19:09:54   Log-Likelihood:                -1562.6\n",
      "No. Observations:                 136   AIC:                             3135.\n",
      "Df Residuals:                     131   BIC:                             3150.\n",
      "Df Model:                           4                                         \n",
      "Covariance Type:            nonrobust                                         \n",
      "==============================================================================\n",
      "                 coef    std err          t      P>|t|      [0.025      0.975]\n",
      "------------------------------------------------------------------------------\n",
      "constant    6.859e+04   1.15e+04      5.982      0.000    4.59e+04    9.13e+04\n",
      "age         -598.6034    220.290     -2.717      0.007   -1034.389    -162.818\n",
      "female      -1.11e+04   4535.250     -2.449      0.016   -2.01e+04   -2132.877\n",
      "smoke      -4157.0488   4737.329     -0.878      0.382   -1.35e+04    5214.519\n",
      "high        1521.8085   5583.586      0.273      0.786   -9523.857    1.26e+04\n",
      "==============================================================================\n",
      "Omnibus:                      189.338   Durbin-Watson:                   2.125\n",
      "Prob(Omnibus):                  0.000   Jarque-Bera (JB):            11020.939\n",
      "Skew:                           5.374   Prob(JB):                         0.00\n",
      "Kurtosis:                      45.771   Cond. No.                         272.\n",
      "==============================================================================\n",
      "\n",
      "Notes:\n",
      "[1] Standard Errors assume that the covariance matrix of the errors is correctly specified.\n",
      "Уравнение модели: wage = 68591.025 - 598.603 * age - 11104.683 * female - 4157.049 * smoke + 1521.809 * high\n"
     ]
    }
   ],
   "source": [
    "import statsmodels.api as sm # type: ignore\n",
    "model1 = sm.OLS(y, X).fit()\n",
    "print(model1.summary())\n",
    "print(f'Уравнение модели: wage = {model1.params['constant']:0.3f} - {abs(model1.params['age']):0.3f} * age - {abs(model1.params['female']):0.3f} * female - {abs(model1.params['smoke']):0.3f} * smoke + {abs(model1.params['high']):0.3f} * high')"
   ]
  },
  {
   "cell_type": "markdown",
   "metadata": {},
   "source": [
    "Выводы те же, что и в прошлом дз"
   ]
  },
  {
   "cell_type": "markdown",
   "metadata": {},
   "source": [
    "$\\textbf{2. (3 балла)}$ Оцените полулогарифмическую модель, которая объясняет логарифм заработной платы ($\\ln(wage)$) возрастом ($age$), наличием высшего образования ($high$), полом ($female$), наличием детей ($is\\_children$), курением ($smoke$) и константой. Проинтерпретируйте полученные результаты. Все ли коэффициенты оказались значимы? Выпишите уравнение оцененной модели."
   ]
  },
  {
   "cell_type": "code",
   "execution_count": 833,
   "metadata": {},
   "outputs": [
    {
     "name": "stdout",
     "output_type": "stream",
     "text": [
      "                            OLS Regression Results                            \n",
      "==============================================================================\n",
      "Dep. Variable:                   wage   R-squared:                       0.163\n",
      "Model:                            OLS   Adj. R-squared:                  0.137\n",
      "Method:                 Least Squares   F-statistic:                     6.361\n",
      "Date:                Sun, 15 Dec 2024   Prob (F-statistic):           0.000104\n",
      "Time:                        19:09:54   Log-Likelihood:                -86.136\n",
      "No. Observations:                 136   AIC:                             182.3\n",
      "Df Residuals:                     131   BIC:                             196.8\n",
      "Df Model:                           4                                         \n",
      "Covariance Type:            nonrobust                                         \n",
      "==============================================================================\n",
      "                 coef    std err          t      P>|t|      [0.025      0.975]\n",
      "------------------------------------------------------------------------------\n",
      "constant      11.1960      0.221     50.643      0.000      10.759      11.633\n",
      "age           -0.0172      0.004     -4.056      0.000      -0.026      -0.009\n",
      "female        -0.2330      0.087     -2.665      0.009      -0.406      -0.060\n",
      "smoke          0.0062      0.091      0.068      0.946      -0.175       0.187\n",
      "high           0.1415      0.108      1.315      0.191      -0.071       0.355\n",
      "==============================================================================\n",
      "Omnibus:                       19.135   Durbin-Watson:                   2.222\n",
      "Prob(Omnibus):                  0.000   Jarque-Bera (JB):               39.370\n",
      "Skew:                           0.586   Prob(JB):                     2.82e-09\n",
      "Kurtosis:                       5.361   Cond. No.                         272.\n",
      "==============================================================================\n",
      "\n",
      "Notes:\n",
      "[1] Standard Errors assume that the covariance matrix of the errors is correctly specified.\n",
      "Уравнение модели: ln(wage) = 11.196 - 0.017 * age - 0.233 * female + 0.006 * smoke + 0.142 * high\n"
     ]
    }
   ],
   "source": [
    "model2 = sm.OLS(np.log(y), X).fit()\n",
    "print(model2.summary())\n",
    "print(f'Уравнение модели: ln(wage) = {model2.params['constant']:0.3f} - {abs(model2.params['age']):0.3f} * age - {abs(model2.params['female']):0.3f} * female + {abs(model2.params['smoke']):0.3f} * smoke + {abs(model2.params['high']):0.3f} * high')"
   ]
  },
  {
   "cell_type": "markdown",
   "metadata": {},
   "source": [
    "\n",
    "Снова не все коэффициенты получились значимыми, у high и smoke высокие p-value (0.191 и 0.946 соответственно) $\\Rightarrow$ мы не отвергаем для них гипотезу о незначимости $H_0$. Для остальных же говорим, что коэффициенты значимы (точнее не отвергаем гипотезу $H_1$). Стоит отметить, что теперь коэффициент при smoke намного более незначим по сравнению с high, что было наоборот в обычной модели регресиси. "
   ]
  },
  {
   "cell_type": "markdown",
   "metadata": {},
   "source": [
    "$\\textbf{3. (3 балла)}$ Оцените линейную в логарифмах модель, которая объясняет логарифм заработной платы ($\\ln(wage)$) логарифмом возраста ($ln(age)$), наличием высшего образования ($high$), полом ($female$), наличием детей ($is\\_children$), курением ($smoke$) и константой. Проинтерпретируйте полученные результаты. Все ли коэффициенты оказались значимы? Выпишите уравнение оцененной модели."
   ]
  },
  {
   "cell_type": "code",
   "execution_count": 834,
   "metadata": {},
   "outputs": [
    {
     "name": "stdout",
     "output_type": "stream",
     "text": [
      "                            OLS Regression Results                            \n",
      "==============================================================================\n",
      "Dep. Variable:                   wage   R-squared:                       0.146\n",
      "Model:                            OLS   Adj. R-squared:                  0.120\n",
      "Method:                 Least Squares   F-statistic:                     5.583\n",
      "Date:                Sun, 15 Dec 2024   Prob (F-statistic):           0.000351\n",
      "Time:                        19:09:54   Log-Likelihood:                -87.502\n",
      "No. Observations:                 136   AIC:                             185.0\n",
      "Df Residuals:                     131   BIC:                             199.6\n",
      "Df Model:                           4                                         \n",
      "Covariance Type:            nonrobust                                         \n",
      "==============================================================================\n",
      "                 coef    std err          t      P>|t|      [0.025      0.975]\n",
      "------------------------------------------------------------------------------\n",
      "constant      13.1083      0.755     17.373      0.000      11.616      14.601\n",
      "female        -0.2241      0.088     -2.542      0.012      -0.399      -0.050\n",
      "smoke          0.0088      0.092      0.096      0.924      -0.174       0.192\n",
      "high           0.1433      0.109      1.317      0.190      -0.072       0.359\n",
      "log_age       -0.7121      0.194     -3.677      0.000      -1.095      -0.329\n",
      "==============================================================================\n",
      "Omnibus:                       19.209   Durbin-Watson:                   2.232\n",
      "Prob(Omnibus):                  0.000   Jarque-Bera (JB):               39.709\n",
      "Skew:                           0.586   Prob(JB):                     2.38e-09\n",
      "Kurtosis:                       5.373   Cond. No.                         77.4\n",
      "==============================================================================\n",
      "\n",
      "Notes:\n",
      "[1] Standard Errors assume that the covariance matrix of the errors is correctly specified.\n",
      "Уравнение модели: ln(wage) = 13.108 - 0.712 * log_age - 0.224 * female + 0.009 * smoke + 0.143 * high\n"
     ]
    }
   ],
   "source": [
    "X['log_age'] = np.log(X['age'])\n",
    "model3 = sm.OLS(np.log(y), X.drop(['age'], axis=1)).fit()\n",
    "print(model3.summary())\n",
    "print(f'Уравнение модели: ln(wage) = {model3.params['constant']:0.3f} - {abs(model3.params['log_age']):0.3f} * log_age - {abs(model3.params['female']):0.3f} * female + {abs(model3.params['smoke']):0.3f} * smoke + {abs(model3.params['high']):0.3f} * high')\n"
   ]
  },
  {
   "cell_type": "markdown",
   "metadata": {},
   "source": [
    "Снова те же коэффициенты  получились незначимыми. \n"
   ]
  },
  {
   "cell_type": "markdown",
   "metadata": {},
   "source": [
    "$\\textbf{4. (4 балла)}$ Сделайте выбор между моделями из пунктов (1)--(3). Обоснуйте свой выбор."
   ]
  },
  {
   "cell_type": "markdown",
   "metadata": {},
   "source": [
    "По $R^2$ сразу откидываем третью модель"
   ]
  },
  {
   "cell_type": "markdown",
   "metadata": {},
   "source": [
    "Воспользуемся тестом Бокса-Кокса с преобразованием Зарембеки."
   ]
  },
  {
   "cell_type": "code",
   "execution_count": 835,
   "metadata": {},
   "outputs": [
    {
     "name": "stdout",
     "output_type": "stream",
     "text": [
      "hi2 statistics: 71.66255729576477\n",
      "linear rss: 81.07286411157091\n",
      "log_rss: 28.261124580687003\n"
     ]
    }
   ],
   "source": [
    "from scipy.stats.mstats import gmean\n",
    "\n",
    "X = X.drop(['log_age'], axis=1)\n",
    "\n",
    "y_mean_g = gmean(y)\n",
    "y_norm = y / y_mean_g\n",
    "y_norm\n",
    "\n",
    "#оценим две вспомогательные регрессии \n",
    "\n",
    "model_help_1 = sm.OLS(y_norm, X).fit()\n",
    "model_help_2 = sm.OLS(np.log(y_norm), X).fit()\n",
    "rss1 = model_help_1.ssr\n",
    "rss2 = model_help_2.ssr\n",
    "hi2 = X.shape[0] / 2 * np.abs(np.log(rss1 / rss2))\n",
    "print(f'hi2 statistics: {hi2}')\n",
    "print(f'linear rss: {rss1}')\n",
    "print(f'log_rss: {rss2}')"
   ]
  },
  {
   "cell_type": "markdown",
   "metadata": {},
   "source": [
    "Таким образом выбираем вторую модель "
   ]
  },
  {
   "cell_type": "markdown",
   "metadata": {},
   "source": [
    "$\\textbf{5. (6 баллов)} $ Для выбранной модели из пункта (4) протестируйте есть ли различия в моделях заработных плат для мужчин и женщин? Протестируйте двумя способами (с помощью дамми переменных и теста Чоу).$"
   ]
  },
  {
   "cell_type": "code",
   "execution_count": 836,
   "metadata": {},
   "outputs": [
    {
     "name": "stdout",
     "output_type": "stream",
     "text": [
      "f-statistics: 0.6014507431110386\n",
      "p_value: 0.699\n"
     ]
    }
   ],
   "source": [
    "from scipy.stats import f\n",
    "\n",
    "model = model2\n",
    "RSSp = model.ssr\n",
    "Xfemale = X[X['female'] == 1]\n",
    "yfemale = np.log(y[Xfemale.index])\n",
    "Xmale = X[np.logical_not(X['female'] == 1)]\n",
    "ymale = np.log(y[Xmale.index])\n",
    "RSS1 = sm.OLS(yfemale, Xfemale).fit().ssr\n",
    "RSS2 = sm.OLS(ymale, Xmale).fit().ssr\n",
    "\n",
    "n, k = X.shape\n",
    "F = ((RSSp - (RSS1 + RSS2)) / k) / ((RSS1 + RSS2) / (n - 2 * k)) #значение тестовой статистики \n",
    "p_value = 1 - f.cdf(F, k, n - 2 * k)\n",
    "print(f'f-statistics: {F}')\n",
    "print(f'p_value: {p_value:0.03f}')"
   ]
  },
  {
   "cell_type": "markdown",
   "metadata": {},
   "source": [
    "Тест Чоу говорит, что нет различий на любом разумном уровне значимости "
   ]
  },
  {
   "cell_type": "code",
   "execution_count": 837,
   "metadata": {},
   "outputs": [
    {
     "name": "stdout",
     "output_type": "stream",
     "text": [
      "f-statistics: 0.601\n",
      "p_value: 0.699\n"
     ]
    }
   ],
   "source": [
    "DummyX = X.copy()\n",
    "for column in ['constant', 'age', 'high', 'smoke']:\n",
    "    DummyX[f'{column}_fem'] = X[column] * X['female']\n",
    "DummyX['male'] = (X['female'] + 1) % 2\n",
    "for column in ['constant', 'age', 'high', 'smoke']:\n",
    "    DummyX[column] = DummyX[column] * DummyX['male']\n",
    "DummyRSS = sm.OLS(np.log(y), DummyX).fit().ssr\n",
    "F = ((RSSp - DummyRSS) / k) / (DummyRSS / (n - 2 * k))\n",
    "p_value = 1 - f.cdf(F, k, n - 2 * k)\n",
    "print(f'f-statistics: {F:.03}')\n",
    "print(f'p_value: {p_value:0.03f}')"
   ]
  },
  {
   "cell_type": "markdown",
   "metadata": {},
   "source": [
    "Дамми тест тоже сказал что различий нет "
   ]
  },
  {
   "cell_type": "markdown",
   "metadata": {},
   "source": [
    "$\\textbf{6. (6 баллов)}$ Для выбранной модели из пункта (4) протестируйте наличие выбросов в вашей модели. Используйте несколько критериев."
   ]
  },
  {
   "cell_type": "code",
   "execution_count": 838,
   "metadata": {},
   "outputs": [
    {
     "data": {
      "text/html": [
       "<div>\n",
       "<style scoped>\n",
       "    .dataframe tbody tr th:only-of-type {\n",
       "        vertical-align: middle;\n",
       "    }\n",
       "\n",
       "    .dataframe tbody tr th {\n",
       "        vertical-align: top;\n",
       "    }\n",
       "\n",
       "    .dataframe thead th {\n",
       "        text-align: right;\n",
       "    }\n",
       "</style>\n",
       "<table border=\"1\" class=\"dataframe\">\n",
       "  <thead>\n",
       "    <tr style=\"text-align: right;\">\n",
       "      <th></th>\n",
       "      <th>log_wage</th>\n",
       "      <th>constant</th>\n",
       "      <th>age</th>\n",
       "      <th>female</th>\n",
       "      <th>smoke</th>\n",
       "      <th>high</th>\n",
       "      <th>standardized_residuals</th>\n",
       "      <th>DFFITS</th>\n",
       "    </tr>\n",
       "  </thead>\n",
       "  <tbody>\n",
       "    <tr>\n",
       "      <th>12</th>\n",
       "      <td>9.341369</td>\n",
       "      <td>1</td>\n",
       "      <td>60.5</td>\n",
       "      <td>1</td>\n",
       "      <td>0</td>\n",
       "      <td>1</td>\n",
       "      <td>-1.611857</td>\n",
       "      <td>-0.455513</td>\n",
       "    </tr>\n",
       "    <tr>\n",
       "      <th>56</th>\n",
       "      <td>11.608236</td>\n",
       "      <td>1</td>\n",
       "      <td>53.5</td>\n",
       "      <td>0</td>\n",
       "      <td>0</td>\n",
       "      <td>0</td>\n",
       "      <td>2.908079</td>\n",
       "      <td>0.475400</td>\n",
       "    </tr>\n",
       "    <tr>\n",
       "      <th>64</th>\n",
       "      <td>11.289782</td>\n",
       "      <td>1</td>\n",
       "      <td>50.0</td>\n",
       "      <td>0</td>\n",
       "      <td>0</td>\n",
       "      <td>0</td>\n",
       "      <td>2.080900</td>\n",
       "      <td>0.324538</td>\n",
       "    </tr>\n",
       "    <tr>\n",
       "      <th>71</th>\n",
       "      <td>9.210340</td>\n",
       "      <td>1</td>\n",
       "      <td>56.0</td>\n",
       "      <td>0</td>\n",
       "      <td>0</td>\n",
       "      <td>0</td>\n",
       "      <td>-2.227871</td>\n",
       "      <td>-0.375772</td>\n",
       "    </tr>\n",
       "    <tr>\n",
       "      <th>85</th>\n",
       "      <td>12.429216</td>\n",
       "      <td>1</td>\n",
       "      <td>45.5</td>\n",
       "      <td>0</td>\n",
       "      <td>0</td>\n",
       "      <td>0</td>\n",
       "      <td>4.396759</td>\n",
       "      <td>0.749224</td>\n",
       "    </tr>\n",
       "    <tr>\n",
       "      <th>118</th>\n",
       "      <td>9.058470</td>\n",
       "      <td>1</td>\n",
       "      <td>28.5</td>\n",
       "      <td>1</td>\n",
       "      <td>0</td>\n",
       "      <td>0</td>\n",
       "      <td>-3.123766</td>\n",
       "      <td>-0.749249</td>\n",
       "    </tr>\n",
       "  </tbody>\n",
       "</table>\n",
       "</div>"
      ],
      "text/plain": [
       "      log_wage  constant   age  female  smoke  high  standardized_residuals  \\\n",
       "12    9.341369         1  60.5       1      0     1               -1.611857   \n",
       "56   11.608236         1  53.5       0      0     0                2.908079   \n",
       "64   11.289782         1  50.0       0      0     0                2.080900   \n",
       "71    9.210340         1  56.0       0      0     0               -2.227871   \n",
       "85   12.429216         1  45.5       0      0     0                4.396759   \n",
       "118   9.058470         1  28.5       1      0     0               -3.123766   \n",
       "\n",
       "       DFFITS  \n",
       "12  -0.455513  \n",
       "56   0.475400  \n",
       "64   0.324538  \n",
       "71  -0.375772  \n",
       "85   0.749224  \n",
       "118 -0.749249  "
      ]
     },
     "execution_count": 838,
     "metadata": {},
     "output_type": "execute_result"
    }
   ],
   "source": [
    "influence = model.get_influence()\n",
    "standardized_residuals = influence.resid_studentized_internal\n",
    "dffits = influence.dffits[0] \n",
    "\n",
    "n = len(X)    \n",
    "p = X.shape[1]     \n",
    "\n",
    "critical_value = 2 * np.sqrt(p / n)\n",
    "\n",
    "X['standardized_residuals'] = standardized_residuals\n",
    "X['DFFITS'] = dffits\n",
    "outliers = X[(abs(standardized_residuals) > 2) | (abs(dffits) > critical_value)]\n",
    "pd.concat([np.log(y[outliers.index]), outliers], axis=1).rename(columns={'wage': 'log_wage'})"
   ]
  },
  {
   "cell_type": "code",
   "execution_count": 839,
   "metadata": {},
   "outputs": [],
   "source": [
    "critical_value\n",
    "X = X.drop(['standardized_residuals', 'DFFITS'], axis=1)"
   ]
  },
  {
   "cell_type": "markdown",
   "metadata": {},
   "source": [
    "$\\textbf{7. (6 баллов)}$ Для выбранной модели из пункта (4) протестируйте наличие мультиколлинеарности несколькими способами. Сделайте вывод. Примите меры, если мультиколлинеарность обнаружена. "
   ]
  },
  {
   "cell_type": "code",
   "execution_count": 840,
   "metadata": {},
   "outputs": [
    {
     "data": {
      "text/html": [
       "<div>\n",
       "<style scoped>\n",
       "    .dataframe tbody tr th:only-of-type {\n",
       "        vertical-align: middle;\n",
       "    }\n",
       "\n",
       "    .dataframe tbody tr th {\n",
       "        vertical-align: top;\n",
       "    }\n",
       "\n",
       "    .dataframe thead th {\n",
       "        text-align: right;\n",
       "    }\n",
       "</style>\n",
       "<table border=\"1\" class=\"dataframe\">\n",
       "  <thead>\n",
       "    <tr style=\"text-align: right;\">\n",
       "      <th></th>\n",
       "      <th>Feature</th>\n",
       "      <th>VIF</th>\n",
       "    </tr>\n",
       "  </thead>\n",
       "  <tbody>\n",
       "    <tr>\n",
       "      <th>0</th>\n",
       "      <td>constant</td>\n",
       "      <td>30.810506</td>\n",
       "    </tr>\n",
       "    <tr>\n",
       "      <th>1</th>\n",
       "      <td>age</td>\n",
       "      <td>1.037137</td>\n",
       "    </tr>\n",
       "    <tr>\n",
       "      <th>2</th>\n",
       "      <td>female</td>\n",
       "      <td>1.138361</td>\n",
       "    </tr>\n",
       "    <tr>\n",
       "      <th>3</th>\n",
       "      <td>smoke</td>\n",
       "      <td>1.201119</td>\n",
       "    </tr>\n",
       "    <tr>\n",
       "      <th>4</th>\n",
       "      <td>high</td>\n",
       "      <td>1.061819</td>\n",
       "    </tr>\n",
       "  </tbody>\n",
       "</table>\n",
       "</div>"
      ],
      "text/plain": [
       "    Feature        VIF\n",
       "0  constant  30.810506\n",
       "1       age   1.037137\n",
       "2    female   1.138361\n",
       "3     smoke   1.201119\n",
       "4      high   1.061819"
      ]
     },
     "execution_count": 840,
     "metadata": {},
     "output_type": "execute_result"
    }
   ],
   "source": [
    "from statsmodels.stats.outliers_influence import variance_inflation_factor\n",
    "\n",
    "vif_data = pd.DataFrame()\n",
    "vif_data['Feature'] = X.columns\n",
    "vif_data['VIF'] = [\n",
    "    variance_inflation_factor(X.values, i) \n",
    "    for i in range(X.shape[1])\n",
    "]\n",
    "vif_data"
   ]
  },
  {
   "cell_type": "markdown",
   "metadata": {},
   "source": [
    "Как видим, VIF для признаков не превышает даже пяти, поэтому нет оснований говорить про наличие мультиколлинеарности "
   ]
  },
  {
   "cell_type": "code",
   "execution_count": 841,
   "metadata": {},
   "outputs": [
    {
     "data": {
      "text/html": [
       "<div>\n",
       "<style scoped>\n",
       "    .dataframe tbody tr th:only-of-type {\n",
       "        vertical-align: middle;\n",
       "    }\n",
       "\n",
       "    .dataframe tbody tr th {\n",
       "        vertical-align: top;\n",
       "    }\n",
       "\n",
       "    .dataframe thead th {\n",
       "        text-align: right;\n",
       "    }\n",
       "</style>\n",
       "<table border=\"1\" class=\"dataframe\">\n",
       "  <thead>\n",
       "    <tr style=\"text-align: right;\">\n",
       "      <th></th>\n",
       "      <th>age</th>\n",
       "      <th>female</th>\n",
       "      <th>smoke</th>\n",
       "      <th>high</th>\n",
       "    </tr>\n",
       "  </thead>\n",
       "  <tbody>\n",
       "    <tr>\n",
       "      <th>age</th>\n",
       "      <td>1.000000</td>\n",
       "      <td>-0.083695</td>\n",
       "      <td>-0.103164</td>\n",
       "      <td>-0.073246</td>\n",
       "    </tr>\n",
       "    <tr>\n",
       "      <th>female</th>\n",
       "      <td>-0.083695</td>\n",
       "      <td>1.000000</td>\n",
       "      <td>-0.327793</td>\n",
       "      <td>0.072376</td>\n",
       "    </tr>\n",
       "    <tr>\n",
       "      <th>smoke</th>\n",
       "      <td>-0.103164</td>\n",
       "      <td>-0.327793</td>\n",
       "      <td>1.000000</td>\n",
       "      <td>-0.220799</td>\n",
       "    </tr>\n",
       "    <tr>\n",
       "      <th>high</th>\n",
       "      <td>-0.073246</td>\n",
       "      <td>0.072376</td>\n",
       "      <td>-0.220799</td>\n",
       "      <td>1.000000</td>\n",
       "    </tr>\n",
       "  </tbody>\n",
       "</table>\n",
       "</div>"
      ],
      "text/plain": [
       "             age    female     smoke      high\n",
       "age     1.000000 -0.083695 -0.103164 -0.073246\n",
       "female -0.083695  1.000000 -0.327793  0.072376\n",
       "smoke  -0.103164 -0.327793  1.000000 -0.220799\n",
       "high   -0.073246  0.072376 -0.220799  1.000000"
      ]
     },
     "execution_count": 841,
     "metadata": {},
     "output_type": "execute_result"
    }
   ],
   "source": [
    "corr_matrix = X.drop(['constant'], axis=1).corr()\n",
    "corr_matrix"
   ]
  },
  {
   "cell_type": "markdown",
   "metadata": {},
   "source": [
    "Корреляционная матрица тоже не показала наличия мультиколлинеарности, так как максимальная корреляция по модулю около 0,3"
   ]
  },
  {
   "cell_type": "markdown",
   "metadata": {},
   "source": [
    "$\\textbf{8. (6 баллов)}$ Уместно ли применять в рассматриваемой модели метод главных компонент (МГК)? Для каких задач используется данный метод? Обсудите возможные проблемы, которые могут здесь возникнуть. Если это возможно, продемонстрируйте применение МГК для ваших данных. Проинтерпретируйте результаты."
   ]
  },
  {
   "cell_type": "markdown",
   "metadata": {},
   "source": [
    "МГК применяется обычно например для задачи снижения размерности, или например для исправления проблемы мультиколлинеарности. Кажется, что в нашем случае, когда есть всего 4 фактора, три из которых бинарные, а также в отсутствии мультиколлинеарности МГК применять нет особого смысла. К проблемам можно отнести потерю интерпретируемости, неправильное представление МГК о распределении неправильных переменных, так как МГК лучше справляется с непрерывными переменными."
   ]
  },
  {
   "cell_type": "code",
   "execution_count": 842,
   "metadata": {},
   "outputs": [
    {
     "name": "stdout",
     "output_type": "stream",
     "text": [
      "Доля объясненной дисперсии 1 главная компонента: 0.36\n",
      "Доля объясненной дисперсии 2 главная компонента: 0.26\n",
      "Доля объясненной дисперсии 3 главная компонента: 0.23\n",
      "Доля объясненной дисперсии 4 главная компонента: 0.15\n"
     ]
    }
   ],
   "source": [
    "from sklearn.preprocessing import StandardScaler\n",
    "from sklearn.decomposition import PCA \n",
    "#для начала отнормируем\n",
    "X_noconst = X.drop(['constant'], axis=1)\n",
    "scaler = StandardScaler()\n",
    "X_scaled = scaler.fit_transform(X_noconst)\n",
    "pca = PCA()\n",
    "principal_components = pca.fit_transform(X_scaled)\n",
    "loadings = pca.components_\n",
    "loadings_df = pd.DataFrame(loadings, columns=['age', 'female', 'smoke', 'high'], index=['PC1', 'PC2', 'PC3', 'PC4'])\n",
    "explained_variance = pca.explained_variance_ratio_\n",
    "print(f'Доля объясненной дисперсии 1 главная компонента: {explained_variance[0]:.2f}')\n",
    "print(f'Доля объясненной дисперсии 2 главная компонента: {explained_variance[1]:.2f}')\n",
    "print(f'Доля объясненной дисперсии 3 главная компонента: {explained_variance[2]:.2f}')\n",
    "print(f'Доля объясненной дисперсии 4 главная компонента: {explained_variance[3]:.2f}')"
   ]
  },
  {
   "cell_type": "code",
   "execution_count": 843,
   "metadata": {},
   "outputs": [
    {
     "data": {
      "text/html": [
       "<div>\n",
       "<style scoped>\n",
       "    .dataframe tbody tr th:only-of-type {\n",
       "        vertical-align: middle;\n",
       "    }\n",
       "\n",
       "    .dataframe tbody tr th {\n",
       "        vertical-align: top;\n",
       "    }\n",
       "\n",
       "    .dataframe thead th {\n",
       "        text-align: right;\n",
       "    }\n",
       "</style>\n",
       "<table border=\"1\" class=\"dataframe\">\n",
       "  <thead>\n",
       "    <tr style=\"text-align: right;\">\n",
       "      <th></th>\n",
       "      <th>age</th>\n",
       "      <th>female</th>\n",
       "      <th>smoke</th>\n",
       "      <th>high</th>\n",
       "    </tr>\n",
       "  </thead>\n",
       "  <tbody>\n",
       "    <tr>\n",
       "      <th>PC1</th>\n",
       "      <td>0.030188</td>\n",
       "      <td>-0.590663</td>\n",
       "      <td>0.670738</td>\n",
       "      <td>-0.447568</td>\n",
       "    </tr>\n",
       "    <tr>\n",
       "      <th>PC2</th>\n",
       "      <td>0.928027</td>\n",
       "      <td>-0.084764</td>\n",
       "      <td>-0.274581</td>\n",
       "      <td>-0.237035</td>\n",
       "    </tr>\n",
       "    <tr>\n",
       "      <th>PC3</th>\n",
       "      <td>0.153918</td>\n",
       "      <td>-0.583156</td>\n",
       "      <td>0.011730</td>\n",
       "      <td>0.797560</td>\n",
       "    </tr>\n",
       "    <tr>\n",
       "      <th>PC4</th>\n",
       "      <td>0.337881</td>\n",
       "      <td>0.551237</td>\n",
       "      <td>0.688897</td>\n",
       "      <td>0.327713</td>\n",
       "    </tr>\n",
       "  </tbody>\n",
       "</table>\n",
       "</div>"
      ],
      "text/plain": [
       "          age    female     smoke      high\n",
       "PC1  0.030188 -0.590663  0.670738 -0.447568\n",
       "PC2  0.928027 -0.084764 -0.274581 -0.237035\n",
       "PC3  0.153918 -0.583156  0.011730  0.797560\n",
       "PC4  0.337881  0.551237  0.688897  0.327713"
      ]
     },
     "execution_count": 843,
     "metadata": {},
     "output_type": "execute_result"
    }
   ],
   "source": [
    "loadings_df"
   ]
  },
  {
   "cell_type": "markdown",
   "metadata": {},
   "source": [
    "Получается, что первая компонента отвечаает за курящих мужчин со средним образованием. Вторая берет на себя возраст. Третья сильнее всего коррелирует с мужчинами с высоким образованием, а четвертая главным образом отвечает за женщин и курение, но также объясняет возраст и высокое образование"
   ]
  },
  {
   "cell_type": "markdown",
   "metadata": {},
   "source": [
    "$\\textbf{9. (4 балла)}$ Для выбранной модели из пункта (4) постройте график «остатки---прогнозы». Сделайте вывод."
   ]
  },
  {
   "cell_type": "code",
   "execution_count": 844,
   "metadata": {},
   "outputs": [
    {
     "data": {
      "text/plain": [
       "<Axes: title={'center': 'residuals-fitted values plot'}, xlabel='residuals', ylabel='fitted_values'>"
      ]
     },
     "execution_count": 844,
     "metadata": {},
     "output_type": "execute_result"
    },
    {
     "data": {
      "image/png": "[encoded data removed]",
      "text/plain": [
       "<Figure size 1000x600 with 1 Axes>"
      ]
     },
     "metadata": {},
     "output_type": "display_data"
    }
   ],
   "source": [
    "fig, ax = plt.subplots(1, 1, figsize=(10, 6))\n",
    "y_pred = model.predict()\n",
    "residuals = model.resid\n",
    "sns.scatterplot(x=y_pred, y=residuals, ax=ax).set(xlabel='residuals', ylabel='fitted_values', title='residuals-fitted values plot')\n",
    "sns.lineplot(x=[min(y_pred), max(y_pred)], y=[0, 0], c='red')"
   ]
  },
  {
   "cell_type": "markdown",
   "metadata": {},
   "source": [
    "$\\textbf{10. (6 баллов)}$ Для выбранной модели из пункта (4) протестируйте наличие гетероскедастичности разными способами. Сделайте вывод. Примите меры, если гетероскедастичность обнаружена. "
   ]
  },
  {
   "cell_type": "markdown",
   "metadata": {},
   "source": [
    "Сделаем тест Бройша-Пагана"
   ]
  },
  {
   "cell_type": "code",
   "execution_count": 845,
   "metadata": {},
   "outputs": [
    {
     "data": {
      "text/plain": [
       "0.2353068156063124"
      ]
     },
     "execution_count": 845,
     "metadata": {},
     "output_type": "execute_result"
    }
   ],
   "source": [
    "from statsmodels.stats.diagnostic import het_breuschpagan\n",
    "residuals = model.resid\n",
    "breuschpagan_test = het_breuschpagan(residuals, X)\n",
    "hi2 = breuschpagan_test[0]\n",
    "p_val = breuschpagan_test[1]\n",
    "p_val"
   ]
  },
  {
   "cell_type": "markdown",
   "metadata": {},
   "source": [
    "Тест Уайта"
   ]
  },
  {
   "cell_type": "code",
   "execution_count": 846,
   "metadata": {},
   "outputs": [
    {
     "name": "stdout",
     "output_type": "stream",
     "text": [
      "0.5367958469164162\n"
     ]
    }
   ],
   "source": [
    "from statsmodels.stats.diagnostic import het_white\n",
    "white_test = het_white(residuals, X)\n",
    "hi2 = white_test[0]\n",
    "p_val = white_test[1]\n",
    "print(p_val)"
   ]
  },
  {
   "cell_type": "markdown",
   "metadata": {},
   "source": [
    "По тестам на любом адекватном уровне значимости  гетероскедастичность не обнаружена"
   ]
  },
  {
   "cell_type": "markdown",
   "metadata": {},
   "source": [
    "$\\textbf{11. (4 балла)}$ Для выбранной модели из пункта (4) проведите тест Рамсея с одним вспомогательным регрессором (только с квадратом). Сделайте вывод."
   ]
  },
  {
   "cell_type": "code",
   "execution_count": 847,
   "metadata": {},
   "outputs": [
    {
     "name": "stdout",
     "output_type": "stream",
     "text": [
      "p-value(0.333)\n",
      "f-value(0.944)\n",
      "<F test: F=0.9437631152410967, p=0.3331160183328987, df_denom=130, df_num=1>\n"
     ]
    }
   ],
   "source": [
    "from statsmodels.stats.diagnostic import linear_reset\n",
    "reset = linear_reset(res=model, power=2, test_type=\"fitted\", use_f=True)\n",
    "p_value = reset.pvalue\n",
    "f = reset.fvalue\n",
    "print(f'p-value({p_value:.3f})')\n",
    "print(f'f-value({f:.3f})')\n",
    "print(reset)"
   ]
  },
  {
   "cell_type": "markdown",
   "metadata": {},
   "source": [
    "Получается что по результатам теста модель правильно специфицирована"
   ]
  },
  {
   "cell_type": "markdown",
   "metadata": {},
   "source": [
    "$\\textbf{12. (5 баллов)}$ Оцените модель из пункта (4), оставив в ней только значимые коэффициенты.  Выпишите уравнение оцененной модели. Сравните результаты с моделью из пункта (1). Какие критерии для сравнения моделей здесь стоит использовать?"
   ]
  },
  {
   "cell_type": "code",
   "execution_count": 848,
   "metadata": {},
   "outputs": [
    {
     "name": "stdout",
     "output_type": "stream",
     "text": [
      "                            OLS Regression Results                            \n",
      "==============================================================================\n",
      "Dep. Variable:                   wage   R-squared:                       0.163\n",
      "Model:                            OLS   Adj. R-squared:                  0.137\n",
      "Method:                 Least Squares   F-statistic:                     6.361\n",
      "Date:                Sun, 15 Dec 2024   Prob (F-statistic):           0.000104\n",
      "Time:                        19:09:55   Log-Likelihood:                -86.136\n",
      "No. Observations:                 136   AIC:                             182.3\n",
      "Df Residuals:                     131   BIC:                             196.8\n",
      "Df Model:                           4                                         \n",
      "Covariance Type:            nonrobust                                         \n",
      "==============================================================================\n",
      "                 coef    std err          t      P>|t|      [0.025      0.975]\n",
      "------------------------------------------------------------------------------\n",
      "constant      11.1960      0.221     50.643      0.000      10.759      11.633\n",
      "age           -0.0172      0.004     -4.056      0.000      -0.026      -0.009\n",
      "female        -0.2330      0.087     -2.665      0.009      -0.406      -0.060\n",
      "smoke          0.0062      0.091      0.068      0.946      -0.175       0.187\n",
      "high           0.1415      0.108      1.315      0.191      -0.071       0.355\n",
      "==============================================================================\n",
      "Omnibus:                       19.135   Durbin-Watson:                   2.222\n",
      "Prob(Omnibus):                  0.000   Jarque-Bera (JB):               39.370\n",
      "Skew:                           0.586   Prob(JB):                     2.82e-09\n",
      "Kurtosis:                       5.361   Cond. No.                         272.\n",
      "==============================================================================\n",
      "\n",
      "Notes:\n",
      "[1] Standard Errors assume that the covariance matrix of the errors is correctly specified.\n"
     ]
    }
   ],
   "source": [
    "print(model.summary())"
   ]
  },
  {
   "cell_type": "markdown",
   "metadata": {},
   "source": [
    "Оставляем только age и female"
   ]
  },
  {
   "cell_type": "code",
   "execution_count": 849,
   "metadata": {},
   "outputs": [
    {
     "name": "stdout",
     "output_type": "stream",
     "text": [
      "                            OLS Regression Results                            \n",
      "==============================================================================\n",
      "Dep. Variable:                   wage   R-squared:                       0.151\n",
      "Model:                            OLS   Adj. R-squared:                  0.138\n",
      "Method:                 Least Squares   F-statistic:                     11.85\n",
      "Date:                Sun, 15 Dec 2024   Prob (F-statistic):           1.84e-05\n",
      "Time:                        19:09:55   Log-Likelihood:                -87.054\n",
      "No. Observations:                 136   AIC:                             180.1\n",
      "Df Residuals:                     133   BIC:                             188.8\n",
      "Df Model:                           2                                         \n",
      "Covariance Type:            nonrobust                                         \n",
      "==============================================================================\n",
      "                 coef    std err          t      P>|t|      [0.025      0.975]\n",
      "------------------------------------------------------------------------------\n",
      "constant      11.2408      0.204     55.024      0.000      10.837      11.645\n",
      "age           -0.0177      0.004     -4.221      0.000      -0.026      -0.009\n",
      "female        -0.2277      0.082     -2.770      0.006      -0.390      -0.065\n",
      "==============================================================================\n",
      "Omnibus:                       16.755   Durbin-Watson:                   2.224\n",
      "Prob(Omnibus):                  0.000   Jarque-Bera (JB):               32.532\n",
      "Skew:                           0.526   Prob(JB):                     8.63e-08\n",
      "Kurtosis:                       5.152   Cond. No.                         246.\n",
      "==============================================================================\n",
      "\n",
      "Notes:\n",
      "[1] Standard Errors assume that the covariance matrix of the errors is correctly specified.\n"
     ]
    }
   ],
   "source": [
    "X_filtered = X.drop(['smoke', 'high'], axis=1)\n",
    "model_filtered = sm.OLS(np.log(y), X_filtered).fit()\n",
    "print(model_filtered.summary())"
   ]
  },
  {
   "cell_type": "markdown",
   "metadata": {},
   "source": [
    "Так как количество регрессоров разное и зависимая переменная в разных масштабах, то стандартные методы типа $R^2$ и информационных критериев не работают, можно попробовать убрать из первой модели незначимые факторы и сравнить их снова по тесту Бокса-Кокса например"
   ]
  },
  {
   "cell_type": "code",
   "execution_count": 850,
   "metadata": {},
   "outputs": [
    {
     "name": "stdout",
     "output_type": "stream",
     "text": [
      "hi2 statistics: 71.26100974612925\n",
      "linear rss: 81.6910966820317\n",
      "log_rss: 28.645288933507228\n"
     ]
    }
   ],
   "source": [
    "model_help_1 = sm.OLS(y_norm, X_filtered).fit()\n",
    "model_help_2 = sm.OLS(np.log(y_norm), X_filtered).fit()\n",
    "rss1 = model_help_1.ssr\n",
    "rss2 = model_help_2.ssr\n",
    "hi2 = X.shape[0] / 2 * np.abs(np.log(rss1 / rss2))\n",
    "print(f'hi2 statistics: {hi2}')\n",
    "print(f'linear rss: {rss1}')\n",
    "print(f'log_rss: {rss2}')"
   ]
  },
  {
   "cell_type": "markdown",
   "metadata": {},
   "source": [
    "Получается, что снова короткая полулогарифмическая модель лучше"
   ]
  },
  {
   "cell_type": "markdown",
   "metadata": {},
   "source": [
    "Также можем посмотреть на F-статистику для значимости модели и увидеть, что во второй она намного более значима, чем в первой: $p_{\\text{val, 1}} = 0.02$, $p_{\\text{val, 2}} = 1.84 \\cdot 10^{-5}$"
   ]
  },
  {
   "cell_type": "markdown",
   "metadata": {},
   "source": [
    "$\\textbf{13. (7 баллов)}$ Предложите иные функциональные формы для уравнения заработной платы. Какие гипотезы вы проверяете таким образом? Проверьте их."
   ]
  },
  {
   "cell_type": "code",
   "execution_count": 851,
   "metadata": {},
   "outputs": [
    {
     "data": {
      "text/plain": [
       "[Text(0.5, 1.0, 'распределение логарифма зп от возраста')]"
      ]
     },
     "execution_count": 851,
     "metadata": {},
     "output_type": "execute_result"
    },
    {
     "data": {
      "image/png": "[encoded data removed]",
      "text/plain": [
       "<Figure size 1000x500 with 1 Axes>"
      ]
     },
     "metadata": {},
     "output_type": "display_data"
    }
   ],
   "source": [
    "fig, ax = plt.subplots(1, 1, figsize=(10, 5))\n",
    "sns.scatterplot(y = np.log(y), x = X['age'], ax=ax).set(title='распределение логарифма зп от возраста')"
   ]
  },
  {
   "cell_type": "markdown",
   "metadata": {},
   "source": [
    "Попробуем предположить что зп зависит от молодого, среднего и пенисонного возрастов и сделаем дамми переменные."
   ]
  },
  {
   "cell_type": "code",
   "execution_count": 852,
   "metadata": {},
   "outputs": [
    {
     "data": {
      "text/html": [
       "<div>\n",
       "<style scoped>\n",
       "    .dataframe tbody tr th:only-of-type {\n",
       "        vertical-align: middle;\n",
       "    }\n",
       "\n",
       "    .dataframe tbody tr th {\n",
       "        vertical-align: top;\n",
       "    }\n",
       "\n",
       "    .dataframe thead th {\n",
       "        text-align: right;\n",
       "    }\n",
       "</style>\n",
       "<table border=\"1\" class=\"dataframe\">\n",
       "  <thead>\n",
       "    <tr style=\"text-align: right;\">\n",
       "      <th></th>\n",
       "      <th>constant</th>\n",
       "      <th>age</th>\n",
       "      <th>female</th>\n",
       "      <th>smoke</th>\n",
       "      <th>high</th>\n",
       "      <th>young</th>\n",
       "      <th>middle</th>\n",
       "      <th>elderly</th>\n",
       "    </tr>\n",
       "  </thead>\n",
       "  <tbody>\n",
       "    <tr>\n",
       "      <th>0</th>\n",
       "      <td>1</td>\n",
       "      <td>40.5</td>\n",
       "      <td>1</td>\n",
       "      <td>0</td>\n",
       "      <td>1</td>\n",
       "      <td>0</td>\n",
       "      <td>1</td>\n",
       "      <td>0</td>\n",
       "    </tr>\n",
       "    <tr>\n",
       "      <th>1</th>\n",
       "      <td>1</td>\n",
       "      <td>42.5</td>\n",
       "      <td>1</td>\n",
       "      <td>0</td>\n",
       "      <td>0</td>\n",
       "      <td>0</td>\n",
       "      <td>1</td>\n",
       "      <td>0</td>\n",
       "    </tr>\n",
       "    <tr>\n",
       "      <th>2</th>\n",
       "      <td>1</td>\n",
       "      <td>62.0</td>\n",
       "      <td>0</td>\n",
       "      <td>1</td>\n",
       "      <td>0</td>\n",
       "      <td>0</td>\n",
       "      <td>0</td>\n",
       "      <td>1</td>\n",
       "    </tr>\n",
       "    <tr>\n",
       "      <th>3</th>\n",
       "      <td>1</td>\n",
       "      <td>35.0</td>\n",
       "      <td>1</td>\n",
       "      <td>0</td>\n",
       "      <td>0</td>\n",
       "      <td>1</td>\n",
       "      <td>0</td>\n",
       "      <td>0</td>\n",
       "    </tr>\n",
       "    <tr>\n",
       "      <th>4</th>\n",
       "      <td>1</td>\n",
       "      <td>64.0</td>\n",
       "      <td>0</td>\n",
       "      <td>0</td>\n",
       "      <td>0</td>\n",
       "      <td>0</td>\n",
       "      <td>0</td>\n",
       "      <td>1</td>\n",
       "    </tr>\n",
       "    <tr>\n",
       "      <th>...</th>\n",
       "      <td>...</td>\n",
       "      <td>...</td>\n",
       "      <td>...</td>\n",
       "      <td>...</td>\n",
       "      <td>...</td>\n",
       "      <td>...</td>\n",
       "      <td>...</td>\n",
       "      <td>...</td>\n",
       "    </tr>\n",
       "    <tr>\n",
       "      <th>131</th>\n",
       "      <td>1</td>\n",
       "      <td>37.5</td>\n",
       "      <td>1</td>\n",
       "      <td>1</td>\n",
       "      <td>0</td>\n",
       "      <td>1</td>\n",
       "      <td>0</td>\n",
       "      <td>0</td>\n",
       "    </tr>\n",
       "    <tr>\n",
       "      <th>132</th>\n",
       "      <td>1</td>\n",
       "      <td>49.0</td>\n",
       "      <td>0</td>\n",
       "      <td>1</td>\n",
       "      <td>0</td>\n",
       "      <td>0</td>\n",
       "      <td>1</td>\n",
       "      <td>0</td>\n",
       "    </tr>\n",
       "    <tr>\n",
       "      <th>133</th>\n",
       "      <td>1</td>\n",
       "      <td>42.5</td>\n",
       "      <td>1</td>\n",
       "      <td>0</td>\n",
       "      <td>0</td>\n",
       "      <td>0</td>\n",
       "      <td>1</td>\n",
       "      <td>0</td>\n",
       "    </tr>\n",
       "    <tr>\n",
       "      <th>134</th>\n",
       "      <td>1</td>\n",
       "      <td>55.5</td>\n",
       "      <td>1</td>\n",
       "      <td>0</td>\n",
       "      <td>0</td>\n",
       "      <td>0</td>\n",
       "      <td>0</td>\n",
       "      <td>1</td>\n",
       "    </tr>\n",
       "    <tr>\n",
       "      <th>135</th>\n",
       "      <td>1</td>\n",
       "      <td>41.0</td>\n",
       "      <td>0</td>\n",
       "      <td>1</td>\n",
       "      <td>0</td>\n",
       "      <td>0</td>\n",
       "      <td>1</td>\n",
       "      <td>0</td>\n",
       "    </tr>\n",
       "  </tbody>\n",
       "</table>\n",
       "<p>136 rows × 8 columns</p>\n",
       "</div>"
      ],
      "text/plain": [
       "     constant   age  female  smoke  high  young  middle  elderly\n",
       "0           1  40.5       1      0     1      0       1        0\n",
       "1           1  42.5       1      0     0      0       1        0\n",
       "2           1  62.0       0      1     0      0       0        1\n",
       "3           1  35.0       1      0     0      1       0        0\n",
       "4           1  64.0       0      0     0      0       0        1\n",
       "..        ...   ...     ...    ...   ...    ...     ...      ...\n",
       "131         1  37.5       1      1     0      1       0        0\n",
       "132         1  49.0       0      1     0      0       1        0\n",
       "133         1  42.5       1      0     0      0       1        0\n",
       "134         1  55.5       1      0     0      0       0        1\n",
       "135         1  41.0       0      1     0      0       1        0\n",
       "\n",
       "[136 rows x 8 columns]"
      ]
     },
     "execution_count": 852,
     "metadata": {},
     "output_type": "execute_result"
    }
   ],
   "source": [
    "X['young'] = (X['age'] < 38).astype(int)\n",
    "\n",
    "X['middle'] = ((X['age'] >= 38) & (X['age'] < 55)).astype(int)\n",
    "\n",
    "X['elderly'] = (X['age'] >= 55).astype(int)\n",
    "X"
   ]
  },
  {
   "cell_type": "markdown",
   "metadata": {},
   "source": [
    "Проверяем гипотезу о значимости т-тестом"
   ]
  },
  {
   "cell_type": "code",
   "execution_count": 853,
   "metadata": {},
   "outputs": [
    {
     "name": "stdout",
     "output_type": "stream",
     "text": [
      "                            OLS Regression Results                            \n",
      "==============================================================================\n",
      "Dep. Variable:                   wage   R-squared:                       0.184\n",
      "Model:                            OLS   Adj. R-squared:                  0.146\n",
      "Method:                 Least Squares   F-statistic:                     4.839\n",
      "Date:                Sun, 15 Dec 2024   Prob (F-statistic):           0.000173\n",
      "Time:                        19:09:55   Log-Likelihood:                -84.402\n",
      "No. Observations:                 136   AIC:                             182.8\n",
      "Df Residuals:                     129   BIC:                             203.2\n",
      "Df Model:                           6                                         \n",
      "Covariance Type:            nonrobust                                         \n",
      "==============================================================================\n",
      "                 coef    std err          t      P>|t|      [0.025      0.975]\n",
      "------------------------------------------------------------------------------\n",
      "constant       8.4540      0.352     24.013      0.000       7.757       9.151\n",
      "age           -0.0197      0.010     -2.037      0.044      -0.039      -0.001\n",
      "female        -0.2389      0.087     -2.732      0.007      -0.412      -0.066\n",
      "smoke          0.0161      0.092      0.175      0.862      -0.166       0.199\n",
      "high           0.1628      0.108      1.504      0.135      -0.051       0.377\n",
      "young          2.7227      0.074     36.689      0.000       2.576       2.870\n",
      "middle         2.9143      0.124     23.454      0.000       2.668       3.160\n",
      "elderly        2.8170      0.251     11.220      0.000       2.320       3.314\n",
      "==============================================================================\n",
      "Omnibus:                       15.817   Durbin-Watson:                   2.197\n",
      "Prob(Omnibus):                  0.000   Jarque-Bera (JB):               29.934\n",
      "Skew:                           0.503   Prob(JB):                     3.16e-07\n",
      "Kurtosis:                       5.067   Cond. No.                     2.28e+17\n",
      "==============================================================================\n",
      "\n",
      "Notes:\n",
      "[1] Standard Errors assume that the covariance matrix of the errors is correctly specified.\n",
      "[2] The smallest eigenvalue is 5.96e-30. This might indicate that there are\n",
      "strong multicollinearity problems or that the design matrix is singular.\n"
     ]
    }
   ],
   "source": [
    "mymodel = sm.OLS(np.log(y), X).fit()\n",
    "print(mymodel.summary())"
   ]
  },
  {
   "cell_type": "markdown",
   "metadata": {},
   "source": [
    "Получили $R^2_{adj}$ даже выше, чем в исходной модели из пункта 2"
   ]
  },
  {
   "cell_type": "markdown",
   "metadata": {},
   "source": [
    "$\\textbf{14. (7 баллов)}$ Выпишите итоговую оценку модели на основании результатов тестирования в предыдущих пунктах. Обсудите, какие еще потенциальные эконометрические проблемы могут быть в этой модели. Как бы вы их стали решать? "
   ]
  },
  {
   "cell_type": "code",
   "execution_count": 865,
   "metadata": {},
   "outputs": [
    {
     "name": "stdout",
     "output_type": "stream",
     "text": [
      "                            OLS Regression Results                            \n",
      "==============================================================================\n",
      "Dep. Variable:                   wage   R-squared:                       0.169\n",
      "Model:                            OLS   Adj. R-squared:                  0.144\n",
      "Method:                 Least Squares   F-statistic:                     6.669\n",
      "Date:                Sun, 15 Dec 2024   Prob (F-statistic):           6.45e-05\n",
      "Time:                        19:25:55   Log-Likelihood:                -85.603\n",
      "No. Observations:                 136   AIC:                             181.2\n",
      "Df Residuals:                     131   BIC:                             195.8\n",
      "Df Model:                           4                                         \n",
      "Covariance Type:            nonrobust                                         \n",
      "==============================================================================\n",
      "                 coef    std err          t      P>|t|      [0.025      0.975]\n",
      "------------------------------------------------------------------------------\n",
      "constant       8.5290      0.334     25.512      0.000       7.868       9.190\n",
      "age           -0.0211      0.009     -2.226      0.028      -0.040      -0.002\n",
      "female        -0.2356      0.082     -2.868      0.005      -0.398      -0.073\n",
      "young          2.7398      0.072     38.265      0.000       2.598       2.881\n",
      "middle         2.9297      0.121     24.311      0.000       2.691       3.168\n",
      "elderly        2.8595      0.244     11.732      0.000       2.377       3.342\n",
      "==============================================================================\n",
      "Omnibus:                       13.292   Durbin-Watson:                   2.203\n",
      "Prob(Omnibus):                  0.001   Jarque-Bera (JB):               23.726\n",
      "Skew:                           0.431   Prob(JB):                     7.05e-06\n",
      "Kurtosis:                       4.856   Cond. No.                     2.20e+17\n",
      "==============================================================================\n",
      "\n",
      "Notes:\n",
      "[1] Standard Errors assume that the covariance matrix of the errors is correctly specified.\n",
      "[2] The smallest eigenvalue is 6.39e-30. This might indicate that there are\n",
      "strong multicollinearity problems or that the design matrix is singular.\n"
     ]
    }
   ],
   "source": [
    "finalmodel = sm.OLS(np.log(y), X.drop(['smoke', 'high'], axis=1)).fit()\n",
    "print(finalmodel.summary())"
   ]
  },
  {
   "cell_type": "markdown",
   "metadata": {},
   "source": []
  }
 ],
 "metadata": {
  "kernelspec": {
   "display_name": "Python 3",
   "language": "python",
   "name": "python3"
  },
  "language_info": {
   "codemirror_mode": {
    "name": "ipython",
    "version": 3
   },
   "file_extension": ".py",
   "mimetype": "text/x-python",
   "name": "python",
   "nbconvert_exporter": "python",
   "pygments_lexer": "ipython3",
   "version": "3.12.6"
  }
 },
 "nbformat": 4,
 "nbformat_minor": 2
}
