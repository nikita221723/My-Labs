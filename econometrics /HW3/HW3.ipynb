{
 "cells": [
  {
   "cell_type": "code",
   "execution_count": 1,
   "id": "9ea2d8f5",
   "metadata": {},
   "outputs": [
    {
     "ename": "FileNotFoundError",
     "evalue": "[Errno 2] No such file or directory: 'Homework_2_data.csv'",
     "output_type": "error",
     "traceback": [
      "\u001b[0;31m---------------------------------------------------------------------------\u001b[0m",
      "\u001b[0;31mFileNotFoundError\u001b[0m                         Traceback (most recent call last)",
      "Cell \u001b[0;32mIn[1], line 26\u001b[0m\n\u001b[1;32m     22\u001b[0m \u001b[38;5;28;01mfrom\u001b[39;00m \u001b[38;5;21;01mcollections\u001b[39;00m \u001b[38;5;28;01mimport\u001b[39;00m Counter\n\u001b[1;32m     23\u001b[0m \u001b[38;5;28;01mimport\u001b[39;00m \u001b[38;5;21;01mmatplotlib\u001b[39;00m\u001b[38;5;21;01m.\u001b[39;00m\u001b[38;5;21;01mpyplot\u001b[39;00m \u001b[38;5;28;01mas\u001b[39;00m \u001b[38;5;21;01mplt\u001b[39;00m\n\u001b[0;32m---> 26\u001b[0m df \u001b[38;5;241m=\u001b[39m \u001b[43mpd\u001b[49m\u001b[38;5;241;43m.\u001b[39;49m\u001b[43mread_csv\u001b[49m\u001b[43m(\u001b[49m\u001b[38;5;124;43m'\u001b[39;49m\u001b[38;5;124;43mHomework_2_data.csv\u001b[39;49m\u001b[38;5;124;43m'\u001b[39;49m\u001b[43m,\u001b[49m\u001b[43m \u001b[49m\u001b[43msep\u001b[49m\u001b[38;5;241;43m=\u001b[39;49m\u001b[38;5;124;43m'\u001b[39;49m\u001b[38;5;124;43m;\u001b[39;49m\u001b[38;5;124;43m'\u001b[39;49m\u001b[43m)\u001b[49m\u001b[38;5;241m.\u001b[39mquery(\u001b[38;5;124m'\u001b[39m\u001b[38;5;124myear == 2023 & region == \u001b[39m\u001b[38;5;124m\"\u001b[39m\u001b[38;5;124mТомск\u001b[39m\u001b[38;5;124m\"\u001b[39m\u001b[38;5;124m'\u001b[39m)\u001b[38;5;241m.\u001b[39mrename(\n\u001b[1;32m     27\u001b[0m columns\u001b[38;5;241m=\u001b[39m{\u001b[38;5;124m\"\u001b[39m\u001b[38;5;124mis_children\u001b[39m\u001b[38;5;124m\"\u001b[39m: \u001b[38;5;124m'\u001b[39m\u001b[38;5;124mhas_children\u001b[39m\u001b[38;5;124m'\u001b[39m, \u001b[38;5;124m'\u001b[39m\u001b[38;5;124mfemale\u001b[39m\u001b[38;5;124m'\u001b[39m: \u001b[38;5;124m'\u001b[39m\u001b[38;5;124mis_female\u001b[39m\u001b[38;5;124m'\u001b[39m, \u001b[38;5;124m'\u001b[39m\u001b[38;5;124minternet\u001b[39m\u001b[38;5;124m'\u001b[39m: \u001b[38;5;124m'\u001b[39m\u001b[38;5;124mused_internet\u001b[39m\u001b[38;5;124m'\u001b[39m, \n\u001b[1;32m     28\u001b[0m         \u001b[38;5;124m'\u001b[39m\u001b[38;5;124malcohol\u001b[39m\u001b[38;5;124m'\u001b[39m: \u001b[38;5;124m'\u001b[39m\u001b[38;5;124muse_alcohol\u001b[39m\u001b[38;5;124m'\u001b[39m, \u001b[38;5;124m'\u001b[39m\u001b[38;5;124mhealth\u001b[39m\u001b[38;5;124m'\u001b[39m: \u001b[38;5;124m'\u001b[39m\u001b[38;5;124mhealth_issues\u001b[39m\u001b[38;5;124m'\u001b[39m, \u001b[38;5;124m'\u001b[39m\u001b[38;5;124msmoke\u001b[39m\u001b[38;5;124m'\u001b[39m: \u001b[38;5;124m'\u001b[39m\u001b[38;5;124msmoking\u001b[39m\u001b[38;5;124m'\u001b[39m, \u001b[38;5;124m'\u001b[39m\u001b[38;5;124mregions\u001b[39m\u001b[38;5;124m'\u001b[39m: \u001b[38;5;124m'\u001b[39m\u001b[38;5;124mregion\u001b[39m\u001b[38;5;124m'\u001b[39m})\u001b[38;5;241m.\u001b[39mdrop(columns\u001b[38;5;241m=\u001b[39m\u001b[38;5;124m'\u001b[39m\u001b[38;5;124myear\u001b[39m\u001b[38;5;124m'\u001b[39m)\n\u001b[1;32m     30\u001b[0m \u001b[38;5;28;01mfor\u001b[39;00m columns \u001b[38;5;129;01min\u001b[39;00m \u001b[38;5;124m'\u001b[39m\u001b[38;5;124mweight\u001b[39m\u001b[38;5;124m'\u001b[39m, \u001b[38;5;124m'\u001b[39m\u001b[38;5;124mheight\u001b[39m\u001b[38;5;124m'\u001b[39m, \u001b[38;5;124m'\u001b[39m\u001b[38;5;124mage\u001b[39m\u001b[38;5;124m'\u001b[39m, \u001b[38;5;124m'\u001b[39m\u001b[38;5;124mwage\u001b[39m\u001b[38;5;124m'\u001b[39m:\n\u001b[1;32m     31\u001b[0m     df[columns] \u001b[38;5;241m=\u001b[39m df[columns]\u001b[38;5;241m.\u001b[39mstr\u001b[38;5;241m.\u001b[39mreplace(\u001b[38;5;124m'\u001b[39m\u001b[38;5;124m,\u001b[39m\u001b[38;5;124m'\u001b[39m, \u001b[38;5;124m'\u001b[39m\u001b[38;5;124m.\u001b[39m\u001b[38;5;124m'\u001b[39m)\u001b[38;5;241m.\u001b[39mastype(\u001b[38;5;28mfloat\u001b[39m)\n",
      "File \u001b[0;32m/Library/Frameworks/Python.framework/Versions/3.12/lib/python3.12/site-packages/pandas/io/parsers/readers.py:1026\u001b[0m, in \u001b[0;36mread_csv\u001b[0;34m(filepath_or_buffer, sep, delimiter, header, names, index_col, usecols, dtype, engine, converters, true_values, false_values, skipinitialspace, skiprows, skipfooter, nrows, na_values, keep_default_na, na_filter, verbose, skip_blank_lines, parse_dates, infer_datetime_format, keep_date_col, date_parser, date_format, dayfirst, cache_dates, iterator, chunksize, compression, thousands, decimal, lineterminator, quotechar, quoting, doublequote, escapechar, comment, encoding, encoding_errors, dialect, on_bad_lines, delim_whitespace, low_memory, memory_map, float_precision, storage_options, dtype_backend)\u001b[0m\n\u001b[1;32m   1013\u001b[0m kwds_defaults \u001b[38;5;241m=\u001b[39m _refine_defaults_read(\n\u001b[1;32m   1014\u001b[0m     dialect,\n\u001b[1;32m   1015\u001b[0m     delimiter,\n\u001b[0;32m   (...)\u001b[0m\n\u001b[1;32m   1022\u001b[0m     dtype_backend\u001b[38;5;241m=\u001b[39mdtype_backend,\n\u001b[1;32m   1023\u001b[0m )\n\u001b[1;32m   1024\u001b[0m kwds\u001b[38;5;241m.\u001b[39mupdate(kwds_defaults)\n\u001b[0;32m-> 1026\u001b[0m \u001b[38;5;28;01mreturn\u001b[39;00m \u001b[43m_read\u001b[49m\u001b[43m(\u001b[49m\u001b[43mfilepath_or_buffer\u001b[49m\u001b[43m,\u001b[49m\u001b[43m \u001b[49m\u001b[43mkwds\u001b[49m\u001b[43m)\u001b[49m\n",
      "File \u001b[0;32m/Library/Frameworks/Python.framework/Versions/3.12/lib/python3.12/site-packages/pandas/io/parsers/readers.py:620\u001b[0m, in \u001b[0;36m_read\u001b[0;34m(filepath_or_buffer, kwds)\u001b[0m\n\u001b[1;32m    617\u001b[0m _validate_names(kwds\u001b[38;5;241m.\u001b[39mget(\u001b[38;5;124m\"\u001b[39m\u001b[38;5;124mnames\u001b[39m\u001b[38;5;124m\"\u001b[39m, \u001b[38;5;28;01mNone\u001b[39;00m))\n\u001b[1;32m    619\u001b[0m \u001b[38;5;66;03m# Create the parser.\u001b[39;00m\n\u001b[0;32m--> 620\u001b[0m parser \u001b[38;5;241m=\u001b[39m \u001b[43mTextFileReader\u001b[49m\u001b[43m(\u001b[49m\u001b[43mfilepath_or_buffer\u001b[49m\u001b[43m,\u001b[49m\u001b[43m \u001b[49m\u001b[38;5;241;43m*\u001b[39;49m\u001b[38;5;241;43m*\u001b[39;49m\u001b[43mkwds\u001b[49m\u001b[43m)\u001b[49m\n\u001b[1;32m    622\u001b[0m \u001b[38;5;28;01mif\u001b[39;00m chunksize \u001b[38;5;129;01mor\u001b[39;00m iterator:\n\u001b[1;32m    623\u001b[0m     \u001b[38;5;28;01mreturn\u001b[39;00m parser\n",
      "File \u001b[0;32m/Library/Frameworks/Python.framework/Versions/3.12/lib/python3.12/site-packages/pandas/io/parsers/readers.py:1620\u001b[0m, in \u001b[0;36mTextFileReader.__init__\u001b[0;34m(self, f, engine, **kwds)\u001b[0m\n\u001b[1;32m   1617\u001b[0m     \u001b[38;5;28mself\u001b[39m\u001b[38;5;241m.\u001b[39moptions[\u001b[38;5;124m\"\u001b[39m\u001b[38;5;124mhas_index_names\u001b[39m\u001b[38;5;124m\"\u001b[39m] \u001b[38;5;241m=\u001b[39m kwds[\u001b[38;5;124m\"\u001b[39m\u001b[38;5;124mhas_index_names\u001b[39m\u001b[38;5;124m\"\u001b[39m]\n\u001b[1;32m   1619\u001b[0m \u001b[38;5;28mself\u001b[39m\u001b[38;5;241m.\u001b[39mhandles: IOHandles \u001b[38;5;241m|\u001b[39m \u001b[38;5;28;01mNone\u001b[39;00m \u001b[38;5;241m=\u001b[39m \u001b[38;5;28;01mNone\u001b[39;00m\n\u001b[0;32m-> 1620\u001b[0m \u001b[38;5;28mself\u001b[39m\u001b[38;5;241m.\u001b[39m_engine \u001b[38;5;241m=\u001b[39m \u001b[38;5;28;43mself\u001b[39;49m\u001b[38;5;241;43m.\u001b[39;49m\u001b[43m_make_engine\u001b[49m\u001b[43m(\u001b[49m\u001b[43mf\u001b[49m\u001b[43m,\u001b[49m\u001b[43m \u001b[49m\u001b[38;5;28;43mself\u001b[39;49m\u001b[38;5;241;43m.\u001b[39;49m\u001b[43mengine\u001b[49m\u001b[43m)\u001b[49m\n",
      "File \u001b[0;32m/Library/Frameworks/Python.framework/Versions/3.12/lib/python3.12/site-packages/pandas/io/parsers/readers.py:1880\u001b[0m, in \u001b[0;36mTextFileReader._make_engine\u001b[0;34m(self, f, engine)\u001b[0m\n\u001b[1;32m   1878\u001b[0m     \u001b[38;5;28;01mif\u001b[39;00m \u001b[38;5;124m\"\u001b[39m\u001b[38;5;124mb\u001b[39m\u001b[38;5;124m\"\u001b[39m \u001b[38;5;129;01mnot\u001b[39;00m \u001b[38;5;129;01min\u001b[39;00m mode:\n\u001b[1;32m   1879\u001b[0m         mode \u001b[38;5;241m+\u001b[39m\u001b[38;5;241m=\u001b[39m \u001b[38;5;124m\"\u001b[39m\u001b[38;5;124mb\u001b[39m\u001b[38;5;124m\"\u001b[39m\n\u001b[0;32m-> 1880\u001b[0m \u001b[38;5;28mself\u001b[39m\u001b[38;5;241m.\u001b[39mhandles \u001b[38;5;241m=\u001b[39m \u001b[43mget_handle\u001b[49m\u001b[43m(\u001b[49m\n\u001b[1;32m   1881\u001b[0m \u001b[43m    \u001b[49m\u001b[43mf\u001b[49m\u001b[43m,\u001b[49m\n\u001b[1;32m   1882\u001b[0m \u001b[43m    \u001b[49m\u001b[43mmode\u001b[49m\u001b[43m,\u001b[49m\n\u001b[1;32m   1883\u001b[0m \u001b[43m    \u001b[49m\u001b[43mencoding\u001b[49m\u001b[38;5;241;43m=\u001b[39;49m\u001b[38;5;28;43mself\u001b[39;49m\u001b[38;5;241;43m.\u001b[39;49m\u001b[43moptions\u001b[49m\u001b[38;5;241;43m.\u001b[39;49m\u001b[43mget\u001b[49m\u001b[43m(\u001b[49m\u001b[38;5;124;43m\"\u001b[39;49m\u001b[38;5;124;43mencoding\u001b[39;49m\u001b[38;5;124;43m\"\u001b[39;49m\u001b[43m,\u001b[49m\u001b[43m \u001b[49m\u001b[38;5;28;43;01mNone\u001b[39;49;00m\u001b[43m)\u001b[49m\u001b[43m,\u001b[49m\n\u001b[1;32m   1884\u001b[0m \u001b[43m    \u001b[49m\u001b[43mcompression\u001b[49m\u001b[38;5;241;43m=\u001b[39;49m\u001b[38;5;28;43mself\u001b[39;49m\u001b[38;5;241;43m.\u001b[39;49m\u001b[43moptions\u001b[49m\u001b[38;5;241;43m.\u001b[39;49m\u001b[43mget\u001b[49m\u001b[43m(\u001b[49m\u001b[38;5;124;43m\"\u001b[39;49m\u001b[38;5;124;43mcompression\u001b[39;49m\u001b[38;5;124;43m\"\u001b[39;49m\u001b[43m,\u001b[49m\u001b[43m \u001b[49m\u001b[38;5;28;43;01mNone\u001b[39;49;00m\u001b[43m)\u001b[49m\u001b[43m,\u001b[49m\n\u001b[1;32m   1885\u001b[0m \u001b[43m    \u001b[49m\u001b[43mmemory_map\u001b[49m\u001b[38;5;241;43m=\u001b[39;49m\u001b[38;5;28;43mself\u001b[39;49m\u001b[38;5;241;43m.\u001b[39;49m\u001b[43moptions\u001b[49m\u001b[38;5;241;43m.\u001b[39;49m\u001b[43mget\u001b[49m\u001b[43m(\u001b[49m\u001b[38;5;124;43m\"\u001b[39;49m\u001b[38;5;124;43mmemory_map\u001b[39;49m\u001b[38;5;124;43m\"\u001b[39;49m\u001b[43m,\u001b[49m\u001b[43m \u001b[49m\u001b[38;5;28;43;01mFalse\u001b[39;49;00m\u001b[43m)\u001b[49m\u001b[43m,\u001b[49m\n\u001b[1;32m   1886\u001b[0m \u001b[43m    \u001b[49m\u001b[43mis_text\u001b[49m\u001b[38;5;241;43m=\u001b[39;49m\u001b[43mis_text\u001b[49m\u001b[43m,\u001b[49m\n\u001b[1;32m   1887\u001b[0m \u001b[43m    \u001b[49m\u001b[43merrors\u001b[49m\u001b[38;5;241;43m=\u001b[39;49m\u001b[38;5;28;43mself\u001b[39;49m\u001b[38;5;241;43m.\u001b[39;49m\u001b[43moptions\u001b[49m\u001b[38;5;241;43m.\u001b[39;49m\u001b[43mget\u001b[49m\u001b[43m(\u001b[49m\u001b[38;5;124;43m\"\u001b[39;49m\u001b[38;5;124;43mencoding_errors\u001b[39;49m\u001b[38;5;124;43m\"\u001b[39;49m\u001b[43m,\u001b[49m\u001b[43m \u001b[49m\u001b[38;5;124;43m\"\u001b[39;49m\u001b[38;5;124;43mstrict\u001b[39;49m\u001b[38;5;124;43m\"\u001b[39;49m\u001b[43m)\u001b[49m\u001b[43m,\u001b[49m\n\u001b[1;32m   1888\u001b[0m \u001b[43m    \u001b[49m\u001b[43mstorage_options\u001b[49m\u001b[38;5;241;43m=\u001b[39;49m\u001b[38;5;28;43mself\u001b[39;49m\u001b[38;5;241;43m.\u001b[39;49m\u001b[43moptions\u001b[49m\u001b[38;5;241;43m.\u001b[39;49m\u001b[43mget\u001b[49m\u001b[43m(\u001b[49m\u001b[38;5;124;43m\"\u001b[39;49m\u001b[38;5;124;43mstorage_options\u001b[39;49m\u001b[38;5;124;43m\"\u001b[39;49m\u001b[43m,\u001b[49m\u001b[43m \u001b[49m\u001b[38;5;28;43;01mNone\u001b[39;49;00m\u001b[43m)\u001b[49m\u001b[43m,\u001b[49m\n\u001b[1;32m   1889\u001b[0m \u001b[43m\u001b[49m\u001b[43m)\u001b[49m\n\u001b[1;32m   1890\u001b[0m \u001b[38;5;28;01massert\u001b[39;00m \u001b[38;5;28mself\u001b[39m\u001b[38;5;241m.\u001b[39mhandles \u001b[38;5;129;01mis\u001b[39;00m \u001b[38;5;129;01mnot\u001b[39;00m \u001b[38;5;28;01mNone\u001b[39;00m\n\u001b[1;32m   1891\u001b[0m f \u001b[38;5;241m=\u001b[39m \u001b[38;5;28mself\u001b[39m\u001b[38;5;241m.\u001b[39mhandles\u001b[38;5;241m.\u001b[39mhandle\n",
      "File \u001b[0;32m/Library/Frameworks/Python.framework/Versions/3.12/lib/python3.12/site-packages/pandas/io/common.py:873\u001b[0m, in \u001b[0;36mget_handle\u001b[0;34m(path_or_buf, mode, encoding, compression, memory_map, is_text, errors, storage_options)\u001b[0m\n\u001b[1;32m    868\u001b[0m \u001b[38;5;28;01melif\u001b[39;00m \u001b[38;5;28misinstance\u001b[39m(handle, \u001b[38;5;28mstr\u001b[39m):\n\u001b[1;32m    869\u001b[0m     \u001b[38;5;66;03m# Check whether the filename is to be opened in binary mode.\u001b[39;00m\n\u001b[1;32m    870\u001b[0m     \u001b[38;5;66;03m# Binary mode does not support 'encoding' and 'newline'.\u001b[39;00m\n\u001b[1;32m    871\u001b[0m     \u001b[38;5;28;01mif\u001b[39;00m ioargs\u001b[38;5;241m.\u001b[39mencoding \u001b[38;5;129;01mand\u001b[39;00m \u001b[38;5;124m\"\u001b[39m\u001b[38;5;124mb\u001b[39m\u001b[38;5;124m\"\u001b[39m \u001b[38;5;129;01mnot\u001b[39;00m \u001b[38;5;129;01min\u001b[39;00m ioargs\u001b[38;5;241m.\u001b[39mmode:\n\u001b[1;32m    872\u001b[0m         \u001b[38;5;66;03m# Encoding\u001b[39;00m\n\u001b[0;32m--> 873\u001b[0m         handle \u001b[38;5;241m=\u001b[39m \u001b[38;5;28;43mopen\u001b[39;49m\u001b[43m(\u001b[49m\n\u001b[1;32m    874\u001b[0m \u001b[43m            \u001b[49m\u001b[43mhandle\u001b[49m\u001b[43m,\u001b[49m\n\u001b[1;32m    875\u001b[0m \u001b[43m            \u001b[49m\u001b[43mioargs\u001b[49m\u001b[38;5;241;43m.\u001b[39;49m\u001b[43mmode\u001b[49m\u001b[43m,\u001b[49m\n\u001b[1;32m    876\u001b[0m \u001b[43m            \u001b[49m\u001b[43mencoding\u001b[49m\u001b[38;5;241;43m=\u001b[39;49m\u001b[43mioargs\u001b[49m\u001b[38;5;241;43m.\u001b[39;49m\u001b[43mencoding\u001b[49m\u001b[43m,\u001b[49m\n\u001b[1;32m    877\u001b[0m \u001b[43m            \u001b[49m\u001b[43merrors\u001b[49m\u001b[38;5;241;43m=\u001b[39;49m\u001b[43merrors\u001b[49m\u001b[43m,\u001b[49m\n\u001b[1;32m    878\u001b[0m \u001b[43m            \u001b[49m\u001b[43mnewline\u001b[49m\u001b[38;5;241;43m=\u001b[39;49m\u001b[38;5;124;43m\"\u001b[39;49m\u001b[38;5;124;43m\"\u001b[39;49m\u001b[43m,\u001b[49m\n\u001b[1;32m    879\u001b[0m \u001b[43m        \u001b[49m\u001b[43m)\u001b[49m\n\u001b[1;32m    880\u001b[0m     \u001b[38;5;28;01melse\u001b[39;00m:\n\u001b[1;32m    881\u001b[0m         \u001b[38;5;66;03m# Binary mode\u001b[39;00m\n\u001b[1;32m    882\u001b[0m         handle \u001b[38;5;241m=\u001b[39m \u001b[38;5;28mopen\u001b[39m(handle, ioargs\u001b[38;5;241m.\u001b[39mmode)\n",
      "\u001b[0;31mFileNotFoundError\u001b[0m: [Errno 2] No such file or directory: 'Homework_2_data.csv'"
     ]
    }
   ],
   "source": [
    "import pandas as pd\n",
    "import numpy as np\n",
    "import plotly.express as px\n",
    "import plotly.graph_objects as go\n",
    "\n",
    "import json\n",
    "\n",
    "import os\n",
    "import re\n",
    "\n",
    "from colorama import Fore as fore, Back, Style\n",
    "\n",
    "pd.set_option('display.max_colwidth', None)\n",
    "pd.set_option('display.max_columns', None)\n",
    "pd.set_option('display.max_rows', 100)\n",
    "pd.options.plotting.backend = \"plotly\"\n",
    "np.set_printoptions(precision=4)\n",
    "\n",
    "import warnings\n",
    "warnings.simplefilter(action='ignore', category=FutureWarning)\n",
    "\n",
    "from collections import Counter\n",
    "import matplotlib.pyplot as plt\n",
    "\n",
    "\n",
    "df = pd.read_csv('Homework_2_data.csv', sep=';').query('year == 2023 & region == \"Томск\"').rename(\n",
    "columns={\"is_children\": 'has_children', 'female': 'is_female', 'internet': 'used_internet', \n",
    "        'alcohol': 'use_alcohol', 'health': 'health_issues', 'smoke': 'smoking', 'regions': 'region'}).drop(columns='year')\n",
    "\n",
    "for columns in 'weight', 'height', 'age', 'wage':\n",
    "    df[columns] = df[columns].str.replace(',', '.').astype(float)\n",
    "\n",
    "df.sort_values(by='wage', ascending=False, inplace=True)\n",
    "df['high_educ'] = (df['educ'] == 2).astype(int)"
   ]
  },
  {
   "cell_type": "markdown",
   "id": "f3912079",
   "metadata": {},
   "source": [
    "# Ex 1"
   ]
  },
  {
   "cell_type": "code",
   "execution_count": 164,
   "id": "7c7d908c",
   "metadata": {},
   "outputs": [
    {
     "data": {
      "text/plain": [
       "'wage ~ age + high_educ + is_female + smoking'"
      ]
     },
     "execution_count": 164,
     "metadata": {},
     "output_type": "execute_result"
    }
   ],
   "source": [
    "formula"
   ]
  },
  {
   "cell_type": "code",
   "execution_count": 163,
   "id": "9bffac28",
   "metadata": {},
   "outputs": [
    {
     "name": "stdout",
     "output_type": "stream",
     "text": [
      "                            OLS Regression Results                            \n",
      "==============================================================================\n",
      "Dep. Variable:                   wage   R-squared:                       0.219\n",
      "Model:                            OLS   Adj. R-squared:                  0.198\n",
      "Method:                 Least Squares   F-statistic:                     10.43\n",
      "Date:                Thu, 12 Dec 2024   Prob (F-statistic):           1.77e-07\n",
      "Time:                        11:13:51   Log-Likelihood:                -1811.7\n",
      "No. Observations:                 154   AIC:                             3633.\n",
      "Df Residuals:                     149   BIC:                             3649.\n",
      "Df Model:                           4                                         \n",
      "Covariance Type:            nonrobust                                         \n",
      "==============================================================================\n",
      "                 coef    std err          t      P>|t|      [0.025      0.975]\n",
      "------------------------------------------------------------------------------\n",
      "Intercept   7.073e+04   1.18e+04      5.974      0.000    4.73e+04    9.41e+04\n",
      "age         -569.0838    218.269     -2.607      0.010   -1000.386    -137.781\n",
      "high_educ   2.546e+04   5457.533      4.665      0.000    1.47e+04    3.62e+04\n",
      "is_female  -2.023e+04   5380.001     -3.759      0.000   -3.09e+04   -9595.142\n",
      "smoking     8598.0009   5533.965      1.554      0.122   -2337.186    1.95e+04\n",
      "==============================================================================\n",
      "Omnibus:                      125.807   Durbin-Watson:                   0.437\n",
      "Prob(Omnibus):                  0.000   Jarque-Bera (JB):             1632.469\n",
      "Skew:                           2.854   Prob(JB):                         0.00\n",
      "Kurtosis:                      17.894   Cond. No.                         234.\n",
      "==============================================================================\n",
      "\n",
      "Notes:\n",
      "[1] Standard Errors assume that the covariance matrix of the errors is correctly specified.\n"
     ]
    }
   ],
   "source": [
    "from statsmodels.formula.api import ols\n",
    "\n",
    "needed_columns = ['age', 'high_educ', 'is_female', 'smoking']\n",
    "\n",
    "formula = 'wage ~ ' + ' + '.join(needed_columns)\n",
    "\n",
    "simple = ols(formula, df).fit()\n",
    "print(simple.summary())"
   ]
  },
  {
   "cell_type": "markdown",
   "id": "905849f1",
   "metadata": {},
   "source": [
    "    Все коэффициенты оказались значимы на уровне значимости в 5% за исключением `smoking`. Его p-value составило 0.122, что незначимо на любом разумном уровне.\n",
    "\n",
    "    p-value F-статистики, отвечающей за значимость модели в целом составило 1.77e-7, что значимо на любом разумном уровне значимости.\n",
    "    \n",
    "    R^2 составил 0.219 - следовательно - модель объяснила 21.9% процентов дисперсии целевой переменной\n",
    "    \n",
    "    Итоговая модель: Y ~ 70733.4 - 569.08 * age + 25461.57 * high_educ - 20226.09 * is_female + 8598.00 * smoking "
   ]
  },
  {
   "cell_type": "markdown",
   "id": "416352c6",
   "metadata": {},
   "source": [
    "# Ex 2"
   ]
  },
  {
   "cell_type": "code",
   "execution_count": 162,
   "id": "d24dac0f",
   "metadata": {},
   "outputs": [
    {
     "data": {
      "text/plain": [
       "'wage_log ~ age + high_educ + is_female + smoking'"
      ]
     },
     "execution_count": 162,
     "metadata": {},
     "output_type": "execute_result"
    }
   ],
   "source": [
    "formula"
   ]
  },
  {
   "cell_type": "code",
   "execution_count": 161,
   "id": "5c188c10",
   "metadata": {},
   "outputs": [
    {
     "name": "stdout",
     "output_type": "stream",
     "text": [
      "                            OLS Regression Results                            \n",
      "==============================================================================\n",
      "Dep. Variable:               wage_log   R-squared:                       0.256\n",
      "Model:                            OLS   Adj. R-squared:                  0.236\n",
      "Method:                 Least Squares   F-statistic:                     12.85\n",
      "Date:                Thu, 12 Dec 2024   Prob (F-statistic):           5.21e-09\n",
      "Time:                        11:12:52   Log-Likelihood:                -127.90\n",
      "No. Observations:                 154   AIC:                             265.8\n",
      "Df Residuals:                     149   BIC:                             281.0\n",
      "Df Model:                           4                                         \n",
      "Covariance Type:            nonrobust                                         \n",
      "==============================================================================\n",
      "                 coef    std err          t      P>|t|      [0.025      0.975]\n",
      "------------------------------------------------------------------------------\n",
      "Intercept     11.0144      0.211     52.123      0.000      10.597      11.432\n",
      "age           -0.0090      0.004     -2.323      0.022      -0.017      -0.001\n",
      "high_educ      0.5002      0.097      5.135      0.000       0.308       0.693\n",
      "is_female     -0.4760      0.096     -4.958      0.000      -0.666      -0.286\n",
      "smoking        0.0485      0.099      0.491      0.624      -0.147       0.244\n",
      "==============================================================================\n",
      "Omnibus:                        8.827   Durbin-Watson:                   0.474\n",
      "Prob(Omnibus):                  0.012   Jarque-Bera (JB):               12.059\n",
      "Skew:                          -0.333   Prob(JB):                      0.00241\n",
      "Kurtosis:                       4.198   Cond. No.                         234.\n",
      "==============================================================================\n",
      "\n",
      "Notes:\n",
      "[1] Standard Errors assume that the covariance matrix of the errors is correctly specified.\n"
     ]
    }
   ],
   "source": [
    "from statsmodels.formula.api import ols\n",
    "\n",
    "\n",
    "df['wage_log'] = np.log(df['wage'])\n",
    "\n",
    "needed_columns = ['age', 'high_educ', 'is_female', 'smoking']\n",
    "\n",
    "formula = 'wage_log ~ ' + ' + '.join(needed_columns)\n",
    "\n",
    "log_w = ols(formula, df).fit()\n",
    "print(log_w.summary())"
   ]
  },
  {
   "cell_type": "markdown",
   "id": "c457de34",
   "metadata": {},
   "source": [
    "1. **Значимость коэффициентов**:  \n",
    "   - Коэффициент для age: Значим на уровне значимости 5% c p-value = 0.022. Это говорит о том, что возраст статистически значимо влияет на логарифм заработной платы (wageLog).\n",
    "   - Коэффициент для highEduc: Значим на уровне 5% с p-value -> 0.000. Высшее образование имеет сильное статистически значимое положительное влияние на wageLog.\n",
    "   - Коэффициент для isFemale: Тоже значим с с p-value -> 0.000. Пол (isFemale) оказывает отрицательное влияние на wageLog, что может указывать на гендерный разрыв в заработной плате.\n",
    "   - Коэффициент для smoking: **Не значим** на любом разумном уровне c p-value = 0.624. Таким образом, курение (smoking) не оказывает статистически значимого влияния на целевую переменную.\n",
    "\n",
    "\n",
    "2. **Значимости модели в целом**:  \n",
    "   - p-value F-статистики имеет значение 5.21e-09, что значительно ниже стандартных уровней значимости. Это говорит о том, что модель в целом статистически значима, то есть выбранный набор предикторов объясняет логарифм заработной платы лучше, чем константа\n",
    "\n",
    "\n",
    "3. **Качество модели**:  \n",
    "   - Коэффициент детерминации R^2 = 0.256: Это значит, что модель объясняет 25.6% дисперсии зависимой переменной wageLog. Это умеренный уровень объясняющей способности, указывающий на то, что часть вариации заработной платы связана с другими, не включенными в модель, факторами.\n",
    "   - Adj. R^2 = 0.236: Учитывает число предикторов в модели. Больше нуля, поэтому объясняющая способность у модели действительно присутствует\n",
    "\n",
    "\n",
    "4. **Итоговая модель**:  \n",
    "   - Уравнение регрессии выглядит следующим образом:\n",
    "   \n",
    "   $$\n",
    "   \\text{wage log} = 11.0144 - 0.0090 \\cdot \\text{age} + 0.5002 \\cdot \\text{highEduc} - 0.4760 \\cdot \\text{isFemale} + 0.0485 \\cdot \\text{smoking}.\n",
    "   $$\n",
    "\n",
    "   **Интерпретация коэффициентов**:\n",
    "   - Константа (Intercept = 11.0144): Средний уровень логарифма заработной платы, если все независимые переменные равны нулю.\n",
    "   - age: С увеличением возраста на один год (при прочих равных) логарифм заработной платы уменьшается в среднем на 0.009.\n",
    "   - higheduc: Получение высшего образования (в сравнении с отсутствием такового) в среднем увеличивает логарифм заработной платы на 0.5002.\n",
    "   - isfemale: Пол \"женщина\" (в сравнении с \"мужчина\") снижает логарифм заработной платы в среднем на 0.4760.\n",
    "   - smoking: Курение в среднем увеличивает логарифм заработной платы на 0.0485, но этот эффект незначим.\n",
    "   \n",
    "   **Интерпретация логарифма** \n",
    "   \n",
    "   - Так как логарифм привращает мультипликативные соотношения в аддитивные, коэф при highEduc = 0.5002 в действительности можно интерпретировать, как то, что получение высшего образование увеличивает доход в e^0.5002 раз"
   ]
  },
  {
   "cell_type": "markdown",
   "id": "266bb42e",
   "metadata": {
    "heading_collapsed": true
   },
   "source": [
    "# Ex 3"
   ]
  },
  {
   "cell_type": "code",
   "execution_count": 15,
   "id": "5b0eacbf",
   "metadata": {
    "hidden": true
   },
   "outputs": [
    {
     "name": "stdout",
     "output_type": "stream",
     "text": [
      "                            OLS Regression Results                            \n",
      "==============================================================================\n",
      "Dep. Variable:               wage_log   R-squared:                       0.251\n",
      "Model:                            OLS   Adj. R-squared:                  0.231\n",
      "Method:                 Least Squares   F-statistic:                     12.51\n",
      "Date:                Wed, 11 Dec 2024   Prob (F-statistic):           8.46e-09\n",
      "Time:                        19:34:18   Log-Likelihood:                -128.42\n",
      "No. Observations:                 154   AIC:                             266.8\n",
      "Df Residuals:                     149   BIC:                             282.0\n",
      "Df Model:                           4                                         \n",
      "Covariance Type:            nonrobust                                         \n",
      "==============================================================================\n",
      "                 coef    std err          t      P>|t|      [0.025      0.975]\n",
      "------------------------------------------------------------------------------\n",
      "Intercept     12.0246      0.700     17.180      0.000      10.642      13.408\n",
      "log_age       -0.3772      0.181     -2.087      0.039      -0.734      -0.020\n",
      "high_educ      0.5070      0.098      5.195      0.000       0.314       0.700\n",
      "is_female     -0.4785      0.096     -4.968      0.000      -0.669      -0.288\n",
      "smoking        0.0540      0.099      0.546      0.586      -0.141       0.250\n",
      "==============================================================================\n",
      "Omnibus:                        8.709   Durbin-Watson:                   0.465\n",
      "Prob(Omnibus):                  0.013   Jarque-Bera (JB):               11.861\n",
      "Skew:                          -0.329   Prob(JB):                      0.00266\n",
      "Kurtosis:                       4.189   Cond. No.                         64.2\n",
      "==============================================================================\n",
      "\n",
      "Notes:\n",
      "[1] Standard Errors assume that the covariance matrix of the errors is correctly specified.\n"
     ]
    }
   ],
   "source": [
    "df['log_age'] = np.log(df['age'])\n",
    "\n",
    "from statsmodels.formula.api import ols\n",
    "\n",
    "needed_columns = ['log_age', 'high_educ', 'is_female', 'smoking']\n",
    "\n",
    "formula = 'wage_log ~ ' + ' + '.join(needed_columns)\n",
    "\n",
    "log_age_wage = ols(formula, df).fit()\n",
    "print(log_age_wage.summary())"
   ]
  },
  {
   "cell_type": "markdown",
   "id": "96cce3e2",
   "metadata": {
    "hidden": true
   },
   "source": [
    "1. **Значимость коэффициентов**: \n",
    "\n",
    "   - Коэффициент для LogAge: Значим на уровне значимости 5% с p-value = 0.039. Это говорит о том, что логарифм возраста (LogAge) статистически значимо влияет на логарифм заработной платы (WageLog).  \n",
    "   - Коэффициент для HighEduc: Значим на уровне 1% с p-value = 0.000. Высшее образование (HighEduc) оказывает сильное положительное влияние на WageLog.  \n",
    "   - Коэффициент для IsFemale: Тоже значим на уровне 1% с p-value = 0.000. Пол (IsFemale) оказывает отрицательное влияние на WageLog, что может указывать на гендерный разрыв в заработной плате.  \n",
    "   - Коэффициент для Smoking: Не значим на любом разумном уровне (p-value = 0.586). Таким образом, курение (Smoking) не оказывает статистически значимого влияния на целевую переменную.  \n",
    "\n",
    "\n",
    "2. **Значимость модели в целом**: \n",
    "\n",
    "   p-value F-статистики имеет значение 8.46e-09, что значительно ниже стандартных уровней значимости (например, 0.05). Это говорит о том, что модель в целом статистически значима, то есть выбранный набор предикторов объясняет логарифм заработной платы лучше, чем модель без предикторов.  \n",
    "\n",
    "\n",
    "3. **Качество модели**:  \n",
    "\n",
    "   - Коэффициент детерминации R-squared = 0.251: Это значит, что модель объясняет 25.1% дисперсии зависимой переменной (WageLog). Это умеренно низкий уровень объясняющей способности, указывающий на то, что часть вариации заработной платы связана с другими, не включенными в модель, факторами.  \n",
    "   - Adj. R-squared = 0.231: Учитывает количество предикторов в модели и показывает сходный уровень объясняющей способности.  \n",
    "\n",
    "\n",
    "4. **Итоговая модель**:  \n",
    "\n",
    "   Уравнение регрессии выглядит следующим образом:  \n",
    "   WageLog = 12.0246 - 0.3772 * LogAge + 0.5070 * HighEduc - 0.4785 * IsFemale + 0.0540 * Smoking  \n",
    "\n",
    "\n",
    "   **Интерпретация коэффициентов**: \n",
    "   \n",
    "   - Константа (Intercept = 12.0246): Средний уровень логарифма заработной платы, если все независимые переменные равны нулю. \n",
    "   - LogAge: С увеличением LogAge на одну единицу (при прочих равных) логарифм заработной платы уменьшается в среднем на 0.3772. Это указывает на обратную связь между возрастом (в логарифмической шкале) и заработной платой. Изменение логарифма по логарифму называется эластичностью и показывает соотношения процентных изменений регрессора и целевой переменной. Т.е. увеличение возраста на 1%, уменьшает зп на 0.3772%\n",
    "   - HighEduc: Получение высшего образования (в сравнении с отсутствием такового) в среднем увеличивает логарифм заработной платы на 0.5070. Это сильный положительный эффект.  \n",
    "   - IsFemale: Пол \"женщина\" (в сравнении с \"мужчина\") снижает логарифм заработной платы в среднем на 0.4785. Это указывает на наличие значительного гендерного разрыва в заработной плате.  \n",
    "   - Smoking: Курение в среднем увеличивает логарифм заработной платы на 0.0540, но этот эффект статистически незначим.  \n"
   ]
  },
  {
   "cell_type": "markdown",
   "id": "b5360a0f",
   "metadata": {},
   "source": [
    "# Ex 4 (Надо доделать)"
   ]
  },
  {
   "cell_type": "markdown",
   "id": "f359f40c",
   "metadata": {},
   "source": [
    "### Log(age)?"
   ]
  },
  {
   "cell_type": "markdown",
   "id": "9527d177",
   "metadata": {},
   "source": [
    "Поскольку в каждой регресси участвовало одинаковое число регрессоров, то наивно мы можем сравнить модели, сравнивая обычный R^2\n",
    "\n",
    "Это было бы проще реализовать руками и проще объяснить \"бизнесу\"\n",
    "\n",
    "$R^2_{linear}$ = 0.219\n",
    "\n",
    "$R^2_{wageLog}$ = 0.256\n",
    "\n",
    "$R^2_{wageAndAgeLog}$ = 0.251\n",
    "\n",
    "Поэтому выбирая модель, мы точно предпочтём не логарифмировать возраст человека. \n",
    "\n",
    "Осталось выбрать какая модель лучше описывает взаимосвязь: с логарифмом зарплаты или просто с зарплатой. "
   ]
  },
  {
   "cell_type": "markdown",
   "id": "b6be3a97",
   "metadata": {},
   "source": [
    "### Log or not to log (Wage)?"
   ]
  },
  {
   "cell_type": "markdown",
   "id": "035c9894",
   "metadata": {},
   "source": [
    "Сравним качество оценки взаимосвязи с помощью теста замбреки. Поскольку он является тайным знанием, доступным только избранным (студентам ВШЭ), то нам придётся писать его руками"
   ]
  },
  {
   "cell_type": "code",
   "execution_count": 319,
   "id": "46d4def9",
   "metadata": {},
   "outputs": [],
   "source": [
    "from scipy.stats.mstats import gmean\n",
    "\n",
    "g_mean = gmean(df['wage'])\n",
    "\n",
    "df['wage_norm'] = df['wage'] / g_mean\n",
    "\n",
    "from statsmodels.formula.api import ols\n",
    "\n",
    "df['wage_norm_log'] = np.log(df['wage_norm'])\n",
    "\n",
    "needed_columns = ['age', 'high_educ', 'is_female', 'smoking']\n",
    "\n",
    "formula = 'wage_norm_log ~ ' + ' + '.join(needed_columns)\n",
    "log_w_norm = ols(formula, df).fit()\n",
    "\n",
    "formula = 'wage_norm ~ ' + ' + '.join(needed_columns)\n",
    "simple_norm = ols(formula, df).fit()\n",
    "\n",
    "rss_log = log_w_norm.centered_tss - log_w_norm.ess\n",
    "rss_lin = simple_norm.centered_tss - simple_norm.ess\n",
    "\n",
    "from scipy.stats import chi2\n",
    "\n",
    "test_stat = len(df) / 2 * np.log(max(rss_log, rss_lin) / min(rss_log, rss_lin))\n",
    "\n",
    "p_value = 1 - chi2.cdf(test_stat, df=1)\n",
    "\n",
    "print(f'p-value({p_value:.6f})')\n",
    "\n",
    "if p_value > 0.05:\n",
    "    print('hypothesis that models are equal is not rejected')\n",
    "elif rss_log < rss_lin:\n",
    "    print('model with log_wage is better')\n",
    "else:\n",
    "    print('model with linear wage is better')"
   ]
  },
  {
   "cell_type": "markdown",
   "id": "92613d3d",
   "metadata": {},
   "source": [
    "# Ex 5"
   ]
  },
  {
   "cell_type": "markdown",
   "id": "60302b52",
   "metadata": {},
   "source": [
    "### Test Chow"
   ]
  },
  {
   "cell_type": "code",
   "execution_count": 341,
   "id": "c16a818d",
   "metadata": {
    "scrolled": true
   },
   "outputs": [
    {
     "name": "stdout",
     "output_type": "stream",
     "text": [
      "p-value is (0.000)\n"
     ]
    }
   ],
   "source": [
    "from statsmodels.formula.api import ols\n",
    "\n",
    "\n",
    "# age - usual, log_wage\n",
    "needed_columns = ['age', 'high_educ', 'smoking']\n",
    "formula = 'wage_log ~ ' + ' + '.join(needed_columns)\n",
    "\n",
    "\n",
    "log_wage = ols(formula, df).fit()\n",
    "log_wage_fem = ols(formula, df.query('is_female == 1')).fit()\n",
    "log_wage_male = ols(formula, df.query('is_female == 0')).fit()\n",
    "\n",
    "\n",
    "rss = log_wage.centered_tss - log_wage.ess\n",
    "rss_fem = log_wage_fem.centered_tss - log_wage_fem.ess\n",
    "rss_male = log_wage_male.centered_tss - log_wage_male.ess\n",
    "\n",
    "k, n = len(needed_columns) + 1, len(df)\n",
    "\n",
    "numerator = (rss - rss_fem - rss_male) / k \n",
    "denomenator = (rss_fem + rss_male) / (n - 2 * k)\n",
    "\n",
    "F = numerator / denomenator\n",
    "\n",
    "from scipy.stats import f\n",
    "\n",
    "p_value = 1 - f.cdf(F, k, n - 2 * k)\n",
    "\n",
    "print(f'p-value is ({p_value:.3f})')"
   ]
  },
  {
   "cell_type": "markdown",
   "id": "21a20f02",
   "metadata": {},
   "source": [
    "### Dummy variables test"
   ]
  },
  {
   "cell_type": "code",
   "execution_count": null,
   "id": "f1097f4a",
   "metadata": {},
   "outputs": [],
   "source": []
  },
  {
   "cell_type": "code",
   "execution_count": 342,
   "id": "4a62e6f0",
   "metadata": {},
   "outputs": [
    {
     "name": "stdout",
     "output_type": "stream",
     "text": [
      "p-value is (0.000)\n"
     ]
    }
   ],
   "source": [
    "for column in ['age', 'high_educ', 'smoking']:\n",
    "    df[f'{column}_fem'] = df[column] * df['is_female']\n",
    "\n",
    "\n",
    "needed_columns = ['age', 'high_educ', 'is_female', 'smoking']\n",
    "formula = 'wage_log ~ ' + ' + '.join(needed_columns + [f'{column}_fem' for column in needed_columns if column != \"is_female\"])\n",
    "\n",
    "dummy_reg = ols(formula, df).fit()\n",
    "\n",
    "rss_dummy = dummy_reg.centered_tss - dummy_reg.ess\n",
    "\n",
    "numerator = (rss - rss_dummy) / k \n",
    "denomenator = (rss_dummy) / (n - 2 * k)\n",
    "\n",
    "\n",
    "F = numerator / denomenator\n",
    "\n",
    "from scipy.stats import f\n",
    "\n",
    "p_value = 1 - f.cdf(F, k, n - 2 * k)\n",
    "\n",
    "print(f'p-value is ({p_value:.3f})')"
   ]
  },
  {
   "cell_type": "markdown",
   "id": "427b6e9a",
   "metadata": {},
   "source": [
    "p-value нулевой по обоим тестам (imagine my shock), поэтому действительно присутствует структурный сдвиг в уравнениях регрессий зарплаты мужчин и женщин "
   ]
  },
  {
   "cell_type": "markdown",
   "id": "d0675443",
   "metadata": {},
   "source": [
    "# Ex 6"
   ]
  },
  {
   "cell_type": "markdown",
   "id": "f042af20",
   "metadata": {},
   "source": [
    "### Стьюдентизированные остатки"
   ]
  },
  {
   "cell_type": "code",
   "execution_count": 98,
   "id": "04357e41",
   "metadata": {},
   "outputs": [
    {
     "name": "stdout",
     "output_type": "stream",
     "text": [
      "Есть выбросы согласно методу стьюдентизированных остатков\n"
     ]
    }
   ],
   "source": [
    "from statsmodels.stats.outliers_influence import OLSInfluence\n",
    "\n",
    "df['outliers_student'] = (np.abs(OLSInfluence(simple).resid_studentized_internal) > 2).astype(int)\n",
    "\n",
    "if df['outliers_student'].sum() > 0:\n",
    "    print('Есть выбросы согласно методу стьюдентизированных остатков')\n",
    "else:\n",
    "    print('Выбросов не обнаружено')"
   ]
  },
  {
   "cell_type": "markdown",
   "id": "624bd13c",
   "metadata": {},
   "source": [
    "### DFBETA estimation"
   ]
  },
  {
   "cell_type": "code",
   "execution_count": 118,
   "id": "ce31585d",
   "metadata": {},
   "outputs": [
    {
     "data": {
      "application/vnd.plotly.v1+json": {
       "config": {
        "plotlyServerURL": "https://plot.ly"
       },
       "data": [
        {
         "alignmentgroup": "True",
         "bingroup": "x",
         "hovertemplate": "variable=0<br>value=%{x}<br>count=%{y}<extra></extra>",
         "legendgroup": "0",
         "marker": {
          "color": "#636efa",
          "pattern": {
           "shape": ""
          }
         },
         "name": "0",
         "offsetgroup": "0",
         "orientation": "v",
         "showlegend": true,
         "type": "histogram",
         "x": [
          0.09517637892654292,
          0.16353895183903155,
          0.011516946608183127,
          -0.020414165518605955,
          0.25809128151573096,
          0.17432306968843678,
          -0.004026899314266263,
          0.060566065540666555,
          0.08086879076963252,
          0.1843497781609753,
          0.0517514489763951,
          0.028086897635638163,
          -0.03383519393954419,
          0.1799443624703022,
          0.007852584746986944,
          -0.047981714111533284,
          -0.0019833959891312,
          0.009683694387722498,
          -0.01082448962484302,
          0.008591355341590634,
          -0.00043997058630505483,
          -0.02622209595971514,
          -0.0011515748115939965,
          -0.016775891403668433,
          -0.0025429084553432292,
          0.02466201981634816,
          0.12732929635396267,
          -0.09426353633452554,
          0.07371053560995008,
          -0.06559422354675289,
          -0.010103762811478456,
          0.03611924601028224,
          -0.03463705044338501,
          0.043750886093864454,
          0.03301977646108429,
          0.08924730371619845,
          0.042455057681675006,
          0.04646498464650339,
          -0.04677661392163261,
          -0.009744070352017907,
          0.005776272597307912,
          -0.033421014074985794,
          0.0378034974863147,
          -0.0059930873387427416,
          0.022650907415921764,
          -0.05371908821187336,
          0.07516910315424385,
          -0.008270690082748404,
          0.0263664203642965,
          0.06374308551431246,
          0.060019915264435564,
          0.02308406538322973,
          -0.042324637730088197,
          0.015782462869961576,
          -0.06789708885197329,
          0.035126324710862404,
          0.0016774475601113296,
          0.13396651470623228,
          -0.003371321789726004,
          -0.003917228703499211,
          0.012765524401410351,
          -0.18740659201966633,
          -0.008937324283442445,
          0.03721466313004004,
          0.005769252458667391,
          -0.18903581176144185,
          -0.014893379386069936,
          -0.0502082623965218,
          0.004151390374358312,
          0.0006753134905693307,
          -0.017292436424512617,
          -0.005172998036793118,
          -0.03786824718512174,
          -0.012830445801359796,
          0.027814134181265316,
          -0.005338624144855846,
          -0.00750217911005872,
          -0.016196504157932085,
          -0.025227640476646527,
          -0.0524152851535054,
          0.002050652031984265,
          -0.0010912057194989839,
          -0.012830445801317899,
          -0.005332887624356466,
          -0.014582700416078849,
          -0.008949107402238431,
          -0.056383354835977034,
          -0.022260830782708182,
          -0.0174030298738857,
          0.003876650407678769,
          -0.03547396703944593,
          0.020010779379387247,
          -0.033413815275216065,
          -0.01759220207543559,
          -0.046968635971504386,
          0.005474497598676759,
          0.05001997091374031,
          -0.02647698964779864,
          0.028046546548000394,
          0.0035224020716564633,
          0.01592380898603653,
          0.0020960696200020812,
          0.012282592997220856,
          0.019429669578446763,
          -0.00852539665114956,
          -0.08956959549850776,
          -0.008529883936032491,
          -0.11403203133180541,
          -0.022126426618897174,
          -0.024400088158319292,
          -0.1821479339489235,
          -0.07108566795081153,
          0.024178832820664083,
          0.048899448729352604,
          -0.008463999075588813,
          -0.023823945858430454,
          -0.009195724884940259,
          -0.04208036021628564,
          -0.08246133713263112,
          0.03235957793407825,
          0.23601391238044966,
          -0.0607535785499128,
          -0.00039475296973280236,
          -0.007954490144607406,
          -0.025075176301329435,
          0.039051052726322213,
          0.006812383352435686,
          -0.021403927880139822,
          0.08068528610048761,
          -0.007586380029441909,
          -0.09560892180106385,
          -0.002711454609695526,
          -0.013085839100121503,
          0.02014227068905769,
          0.02233477464097094,
          -0.036454727418655006,
          0.004417326536944845,
          -0.08146707654611604,
          -0.07640281186459018,
          -0.14896341254217085,
          0.04743963807408721,
          -0.01027343099664078,
          0.014381069039753796,
          -0.03426852301451237,
          0.18274381760013,
          0.19710713467269633,
          -0.04996305163482251,
          -0.06641255940532674,
          -0.37294196101533245,
          0.08220541807422552,
          0.15768898490959765,
          -0.052423481681433216,
          0.07187495481815857,
          -0.43203343704317937
         ],
         "xaxis": "x",
         "yaxis": "y"
        }
       ],
       "layout": {
        "barmode": "relative",
        "legend": {
         "title": {
          "text": "variable"
         },
         "tracegroupgap": 0
        },
        "template": {
         "data": {
          "bar": [
           {
            "error_x": {
             "color": "#2a3f5f"
            },
            "error_y": {
             "color": "#2a3f5f"
            },
            "marker": {
             "line": {
              "color": "#E5ECF6",
              "width": 0.5
             },
             "pattern": {
              "fillmode": "overlay",
              "size": 10,
              "solidity": 0.2
             }
            },
            "type": "bar"
           }
          ],
          "barpolar": [
           {
            "marker": {
             "line": {
              "color": "#E5ECF6",
              "width": 0.5
             },
             "pattern": {
              "fillmode": "overlay",
              "size": 10,
              "solidity": 0.2
             }
            },
            "type": "barpolar"
           }
          ],
          "carpet": [
           {
            "aaxis": {
             "endlinecolor": "#2a3f5f",
             "gridcolor": "white",
             "linecolor": "white",
             "minorgridcolor": "white",
             "startlinecolor": "#2a3f5f"
            },
            "baxis": {
             "endlinecolor": "#2a3f5f",
             "gridcolor": "white",
             "linecolor": "white",
             "minorgridcolor": "white",
             "startlinecolor": "#2a3f5f"
            },
            "type": "carpet"
           }
          ],
          "choropleth": [
           {
            "colorbar": {
             "outlinewidth": 0,
             "ticks": ""
            },
            "type": "choropleth"
           }
          ],
          "contour": [
           {
            "colorbar": {
             "outlinewidth": 0,
             "ticks": ""
            },
            "colorscale": [
             [
              0,
              "#0d0887"
             ],
             [
              0.1111111111111111,
              "#46039f"
             ],
             [
              0.2222222222222222,
              "#7201a8"
             ],
             [
              0.3333333333333333,
              "#9c179e"
             ],
             [
              0.4444444444444444,
              "#bd3786"
             ],
             [
              0.5555555555555556,
              "#d8576b"
             ],
             [
              0.6666666666666666,
              "#ed7953"
             ],
             [
              0.7777777777777778,
              "#fb9f3a"
             ],
             [
              0.8888888888888888,
              "#fdca26"
             ],
             [
              1,
              "#f0f921"
             ]
            ],
            "type": "contour"
           }
          ],
          "contourcarpet": [
           {
            "colorbar": {
             "outlinewidth": 0,
             "ticks": ""
            },
            "type": "contourcarpet"
           }
          ],
          "heatmap": [
           {
            "colorbar": {
             "outlinewidth": 0,
             "ticks": ""
            },
            "colorscale": [
             [
              0,
              "#0d0887"
             ],
             [
              0.1111111111111111,
              "#46039f"
             ],
             [
              0.2222222222222222,
              "#7201a8"
             ],
             [
              0.3333333333333333,
              "#9c179e"
             ],
             [
              0.4444444444444444,
              "#bd3786"
             ],
             [
              0.5555555555555556,
              "#d8576b"
             ],
             [
              0.6666666666666666,
              "#ed7953"
             ],
             [
              0.7777777777777778,
              "#fb9f3a"
             ],
             [
              0.8888888888888888,
              "#fdca26"
             ],
             [
              1,
              "#f0f921"
             ]
            ],
            "type": "heatmap"
           }
          ],
          "heatmapgl": [
           {
            "colorbar": {
             "outlinewidth": 0,
             "ticks": ""
            },
            "colorscale": [
             [
              0,
              "#0d0887"
             ],
             [
              0.1111111111111111,
              "#46039f"
             ],
             [
              0.2222222222222222,
              "#7201a8"
             ],
             [
              0.3333333333333333,
              "#9c179e"
             ],
             [
              0.4444444444444444,
              "#bd3786"
             ],
             [
              0.5555555555555556,
              "#d8576b"
             ],
             [
              0.6666666666666666,
              "#ed7953"
             ],
             [
              0.7777777777777778,
              "#fb9f3a"
             ],
             [
              0.8888888888888888,
              "#fdca26"
             ],
             [
              1,
              "#f0f921"
             ]
            ],
            "type": "heatmapgl"
           }
          ],
          "histogram": [
           {
            "marker": {
             "pattern": {
              "fillmode": "overlay",
              "size": 10,
              "solidity": 0.2
             }
            },
            "type": "histogram"
           }
          ],
          "histogram2d": [
           {
            "colorbar": {
             "outlinewidth": 0,
             "ticks": ""
            },
            "colorscale": [
             [
              0,
              "#0d0887"
             ],
             [
              0.1111111111111111,
              "#46039f"
             ],
             [
              0.2222222222222222,
              "#7201a8"
             ],
             [
              0.3333333333333333,
              "#9c179e"
             ],
             [
              0.4444444444444444,
              "#bd3786"
             ],
             [
              0.5555555555555556,
              "#d8576b"
             ],
             [
              0.6666666666666666,
              "#ed7953"
             ],
             [
              0.7777777777777778,
              "#fb9f3a"
             ],
             [
              0.8888888888888888,
              "#fdca26"
             ],
             [
              1,
              "#f0f921"
             ]
            ],
            "type": "histogram2d"
           }
          ],
          "histogram2dcontour": [
           {
            "colorbar": {
             "outlinewidth": 0,
             "ticks": ""
            },
            "colorscale": [
             [
              0,
              "#0d0887"
             ],
             [
              0.1111111111111111,
              "#46039f"
             ],
             [
              0.2222222222222222,
              "#7201a8"
             ],
             [
              0.3333333333333333,
              "#9c179e"
             ],
             [
              0.4444444444444444,
              "#bd3786"
             ],
             [
              0.5555555555555556,
              "#d8576b"
             ],
             [
              0.6666666666666666,
              "#ed7953"
             ],
             [
              0.7777777777777778,
              "#fb9f3a"
             ],
             [
              0.8888888888888888,
              "#fdca26"
             ],
             [
              1,
              "#f0f921"
             ]
            ],
            "type": "histogram2dcontour"
           }
          ],
          "mesh3d": [
           {
            "colorbar": {
             "outlinewidth": 0,
             "ticks": ""
            },
            "type": "mesh3d"
           }
          ],
          "parcoords": [
           {
            "line": {
             "colorbar": {
              "outlinewidth": 0,
              "ticks": ""
             }
            },
            "type": "parcoords"
           }
          ],
          "pie": [
           {
            "automargin": true,
            "type": "pie"
           }
          ],
          "scatter": [
           {
            "fillpattern": {
             "fillmode": "overlay",
             "size": 10,
             "solidity": 0.2
            },
            "type": "scatter"
           }
          ],
          "scatter3d": [
           {
            "line": {
             "colorbar": {
              "outlinewidth": 0,
              "ticks": ""
             }
            },
            "marker": {
             "colorbar": {
              "outlinewidth": 0,
              "ticks": ""
             }
            },
            "type": "scatter3d"
           }
          ],
          "scattercarpet": [
           {
            "marker": {
             "colorbar": {
              "outlinewidth": 0,
              "ticks": ""
             }
            },
            "type": "scattercarpet"
           }
          ],
          "scattergeo": [
           {
            "marker": {
             "colorbar": {
              "outlinewidth": 0,
              "ticks": ""
             }
            },
            "type": "scattergeo"
           }
          ],
          "scattergl": [
           {
            "marker": {
             "colorbar": {
              "outlinewidth": 0,
              "ticks": ""
             }
            },
            "type": "scattergl"
           }
          ],
          "scattermapbox": [
           {
            "marker": {
             "colorbar": {
              "outlinewidth": 0,
              "ticks": ""
             }
            },
            "type": "scattermapbox"
           }
          ],
          "scatterpolar": [
           {
            "marker": {
             "colorbar": {
              "outlinewidth": 0,
              "ticks": ""
             }
            },
            "type": "scatterpolar"
           }
          ],
          "scatterpolargl": [
           {
            "marker": {
             "colorbar": {
              "outlinewidth": 0,
              "ticks": ""
             }
            },
            "type": "scatterpolargl"
           }
          ],
          "scatterternary": [
           {
            "marker": {
             "colorbar": {
              "outlinewidth": 0,
              "ticks": ""
             }
            },
            "type": "scatterternary"
           }
          ],
          "surface": [
           {
            "colorbar": {
             "outlinewidth": 0,
             "ticks": ""
            },
            "colorscale": [
             [
              0,
              "#0d0887"
             ],
             [
              0.1111111111111111,
              "#46039f"
             ],
             [
              0.2222222222222222,
              "#7201a8"
             ],
             [
              0.3333333333333333,
              "#9c179e"
             ],
             [
              0.4444444444444444,
              "#bd3786"
             ],
             [
              0.5555555555555556,
              "#d8576b"
             ],
             [
              0.6666666666666666,
              "#ed7953"
             ],
             [
              0.7777777777777778,
              "#fb9f3a"
             ],
             [
              0.8888888888888888,
              "#fdca26"
             ],
             [
              1,
              "#f0f921"
             ]
            ],
            "type": "surface"
           }
          ],
          "table": [
           {
            "cells": {
             "fill": {
              "color": "#EBF0F8"
             },
             "line": {
              "color": "white"
             }
            },
            "header": {
             "fill": {
              "color": "#C8D4E3"
             },
             "line": {
              "color": "white"
             }
            },
            "type": "table"
           }
          ]
         },
         "layout": {
          "annotationdefaults": {
           "arrowcolor": "#2a3f5f",
           "arrowhead": 0,
           "arrowwidth": 1
          },
          "autotypenumbers": "strict",
          "coloraxis": {
           "colorbar": {
            "outlinewidth": 0,
            "ticks": ""
           }
          },
          "colorscale": {
           "diverging": [
            [
             0,
             "#8e0152"
            ],
            [
             0.1,
             "#c51b7d"
            ],
            [
             0.2,
             "#de77ae"
            ],
            [
             0.3,
             "#f1b6da"
            ],
            [
             0.4,
             "#fde0ef"
            ],
            [
             0.5,
             "#f7f7f7"
            ],
            [
             0.6,
             "#e6f5d0"
            ],
            [
             0.7,
             "#b8e186"
            ],
            [
             0.8,
             "#7fbc41"
            ],
            [
             0.9,
             "#4d9221"
            ],
            [
             1,
             "#276419"
            ]
           ],
           "sequential": [
            [
             0,
             "#0d0887"
            ],
            [
             0.1111111111111111,
             "#46039f"
            ],
            [
             0.2222222222222222,
             "#7201a8"
            ],
            [
             0.3333333333333333,
             "#9c179e"
            ],
            [
             0.4444444444444444,
             "#bd3786"
            ],
            [
             0.5555555555555556,
             "#d8576b"
            ],
            [
             0.6666666666666666,
             "#ed7953"
            ],
            [
             0.7777777777777778,
             "#fb9f3a"
            ],
            [
             0.8888888888888888,
             "#fdca26"
            ],
            [
             1,
             "#f0f921"
            ]
           ],
           "sequentialminus": [
            [
             0,
             "#0d0887"
            ],
            [
             0.1111111111111111,
             "#46039f"
            ],
            [
             0.2222222222222222,
             "#7201a8"
            ],
            [
             0.3333333333333333,
             "#9c179e"
            ],
            [
             0.4444444444444444,
             "#bd3786"
            ],
            [
             0.5555555555555556,
             "#d8576b"
            ],
            [
             0.6666666666666666,
             "#ed7953"
            ],
            [
             0.7777777777777778,
             "#fb9f3a"
            ],
            [
             0.8888888888888888,
             "#fdca26"
            ],
            [
             1,
             "#f0f921"
            ]
           ]
          },
          "colorway": [
           "#636efa",
           "#EF553B",
           "#00cc96",
           "#ab63fa",
           "#FFA15A",
           "#19d3f3",
           "#FF6692",
           "#B6E880",
           "#FF97FF",
           "#FECB52"
          ],
          "font": {
           "color": "#2a3f5f"
          },
          "geo": {
           "bgcolor": "white",
           "lakecolor": "white",
           "landcolor": "#E5ECF6",
           "showlakes": true,
           "showland": true,
           "subunitcolor": "white"
          },
          "hoverlabel": {
           "align": "left"
          },
          "hovermode": "closest",
          "mapbox": {
           "style": "light"
          },
          "paper_bgcolor": "white",
          "plot_bgcolor": "#E5ECF6",
          "polar": {
           "angularaxis": {
            "gridcolor": "white",
            "linecolor": "white",
            "ticks": ""
           },
           "bgcolor": "#E5ECF6",
           "radialaxis": {
            "gridcolor": "white",
            "linecolor": "white",
            "ticks": ""
           }
          },
          "scene": {
           "xaxis": {
            "backgroundcolor": "#E5ECF6",
            "gridcolor": "white",
            "gridwidth": 2,
            "linecolor": "white",
            "showbackground": true,
            "ticks": "",
            "zerolinecolor": "white"
           },
           "yaxis": {
            "backgroundcolor": "#E5ECF6",
            "gridcolor": "white",
            "gridwidth": 2,
            "linecolor": "white",
            "showbackground": true,
            "ticks": "",
            "zerolinecolor": "white"
           },
           "zaxis": {
            "backgroundcolor": "#E5ECF6",
            "gridcolor": "white",
            "gridwidth": 2,
            "linecolor": "white",
            "showbackground": true,
            "ticks": "",
            "zerolinecolor": "white"
           }
          },
          "shapedefaults": {
           "line": {
            "color": "#2a3f5f"
           }
          },
          "ternary": {
           "aaxis": {
            "gridcolor": "white",
            "linecolor": "white",
            "ticks": ""
           },
           "baxis": {
            "gridcolor": "white",
            "linecolor": "white",
            "ticks": ""
           },
           "bgcolor": "#E5ECF6",
           "caxis": {
            "gridcolor": "white",
            "linecolor": "white",
            "ticks": ""
           }
          },
          "title": {
           "x": 0.05
          },
          "xaxis": {
           "automargin": true,
           "gridcolor": "white",
           "linecolor": "white",
           "ticks": "",
           "title": {
            "standoff": 15
           },
           "zerolinecolor": "white",
           "zerolinewidth": 2
          },
          "yaxis": {
           "automargin": true,
           "gridcolor": "white",
           "linecolor": "white",
           "ticks": "",
           "title": {
            "standoff": 15
           },
           "zerolinecolor": "white",
           "zerolinewidth": 2
          }
         }
        },
        "title": {
         "text": "histogram of DFBETAS with feature(Intercept)"
        },
        "xaxis": {
         "anchor": "y",
         "domain": [
          0,
          1
         ],
         "title": {
          "text": "value"
         }
        },
        "yaxis": {
         "anchor": "x",
         "domain": [
          0,
          1
         ],
         "title": {
          "text": "count"
         }
        }
       }
      },
      "text/html": [
       "<div>                            <div id=\"8b19862e-1810-483a-bc04-a1f7deb6e279\" class=\"plotly-graph-div\" style=\"height:525px; width:100%;\"></div>            <script type=\"text/javascript\">                require([\"plotly\"], function(Plotly) {                    window.PLOTLYENV=window.PLOTLYENV || {};                                    if (document.getElementById(\"8b19862e-1810-483a-bc04-a1f7deb6e279\")) {                    Plotly.newPlot(                        \"8b19862e-1810-483a-bc04-a1f7deb6e279\",                        [{\"alignmentgroup\":\"True\",\"bingroup\":\"x\",\"hovertemplate\":\"variable=0\\u003cbr\\u003evalue=%{x}\\u003cbr\\u003ecount=%{y}\\u003cextra\\u003e\\u003c\\u002fextra\\u003e\",\"legendgroup\":\"0\",\"marker\":{\"color\":\"#636efa\",\"pattern\":{\"shape\":\"\"}},\"name\":\"0\",\"offsetgroup\":\"0\",\"orientation\":\"v\",\"showlegend\":true,\"x\":[0.09517637892654292,0.16353895183903155,0.011516946608183127,-0.020414165518605955,0.25809128151573096,0.17432306968843678,-0.004026899314266263,0.060566065540666555,0.08086879076963252,0.1843497781609753,0.0517514489763951,0.028086897635638163,-0.03383519393954419,0.1799443624703022,0.007852584746986944,-0.047981714111533284,-0.0019833959891312,0.009683694387722498,-0.01082448962484302,0.008591355341590634,-0.00043997058630505483,-0.02622209595971514,-0.0011515748115939965,-0.016775891403668433,-0.0025429084553432292,0.02466201981634816,0.12732929635396267,-0.09426353633452554,0.07371053560995008,-0.06559422354675289,-0.010103762811478456,0.03611924601028224,-0.03463705044338501,0.043750886093864454,0.03301977646108429,0.08924730371619845,0.042455057681675006,0.04646498464650339,-0.04677661392163261,-0.009744070352017907,0.005776272597307912,-0.033421014074985794,0.0378034974863147,-0.0059930873387427416,0.022650907415921764,-0.05371908821187336,0.07516910315424385,-0.008270690082748404,0.0263664203642965,0.06374308551431246,0.060019915264435564,0.02308406538322973,-0.042324637730088197,0.015782462869961576,-0.06789708885197329,0.035126324710862404,0.0016774475601113296,0.13396651470623228,-0.003371321789726004,-0.003917228703499211,0.012765524401410351,-0.18740659201966633,-0.008937324283442445,0.03721466313004004,0.005769252458667391,-0.18903581176144185,-0.014893379386069936,-0.0502082623965218,0.004151390374358312,0.0006753134905693307,-0.017292436424512617,-0.005172998036793118,-0.03786824718512174,-0.012830445801359796,0.027814134181265316,-0.005338624144855846,-0.00750217911005872,-0.016196504157932085,-0.025227640476646527,-0.0524152851535054,0.002050652031984265,-0.0010912057194989839,-0.012830445801317899,-0.005332887624356466,-0.014582700416078849,-0.008949107402238431,-0.056383354835977034,-0.022260830782708182,-0.0174030298738857,0.003876650407678769,-0.03547396703944593,0.020010779379387247,-0.033413815275216065,-0.01759220207543559,-0.046968635971504386,0.005474497598676759,0.05001997091374031,-0.02647698964779864,0.028046546548000394,0.0035224020716564633,0.01592380898603653,0.0020960696200020812,0.012282592997220856,0.019429669578446763,-0.00852539665114956,-0.08956959549850776,-0.008529883936032491,-0.11403203133180541,-0.022126426618897174,-0.024400088158319292,-0.1821479339489235,-0.07108566795081153,0.024178832820664083,0.048899448729352604,-0.008463999075588813,-0.023823945858430454,-0.009195724884940259,-0.04208036021628564,-0.08246133713263112,0.03235957793407825,0.23601391238044966,-0.0607535785499128,-0.00039475296973280236,-0.007954490144607406,-0.025075176301329435,0.039051052726322213,0.006812383352435686,-0.021403927880139822,0.08068528610048761,-0.007586380029441909,-0.09560892180106385,-0.002711454609695526,-0.013085839100121503,0.02014227068905769,0.02233477464097094,-0.036454727418655006,0.004417326536944845,-0.08146707654611604,-0.07640281186459018,-0.14896341254217085,0.04743963807408721,-0.01027343099664078,0.014381069039753796,-0.03426852301451237,0.18274381760013,0.19710713467269633,-0.04996305163482251,-0.06641255940532674,-0.37294196101533245,0.08220541807422552,0.15768898490959765,-0.052423481681433216,0.07187495481815857,-0.43203343704317937],\"xaxis\":\"x\",\"yaxis\":\"y\",\"type\":\"histogram\"}],                        {\"template\":{\"data\":{\"histogram2dcontour\":[{\"type\":\"histogram2dcontour\",\"colorbar\":{\"outlinewidth\":0,\"ticks\":\"\"},\"colorscale\":[[0.0,\"#0d0887\"],[0.1111111111111111,\"#46039f\"],[0.2222222222222222,\"#7201a8\"],[0.3333333333333333,\"#9c179e\"],[0.4444444444444444,\"#bd3786\"],[0.5555555555555556,\"#d8576b\"],[0.6666666666666666,\"#ed7953\"],[0.7777777777777778,\"#fb9f3a\"],[0.8888888888888888,\"#fdca26\"],[1.0,\"#f0f921\"]]}],\"choropleth\":[{\"type\":\"choropleth\",\"colorbar\":{\"outlinewidth\":0,\"ticks\":\"\"}}],\"histogram2d\":[{\"type\":\"histogram2d\",\"colorbar\":{\"outlinewidth\":0,\"ticks\":\"\"},\"colorscale\":[[0.0,\"#0d0887\"],[0.1111111111111111,\"#46039f\"],[0.2222222222222222,\"#7201a8\"],[0.3333333333333333,\"#9c179e\"],[0.4444444444444444,\"#bd3786\"],[0.5555555555555556,\"#d8576b\"],[0.6666666666666666,\"#ed7953\"],[0.7777777777777778,\"#fb9f3a\"],[0.8888888888888888,\"#fdca26\"],[1.0,\"#f0f921\"]]}],\"heatmap\":[{\"type\":\"heatmap\",\"colorbar\":{\"outlinewidth\":0,\"ticks\":\"\"},\"colorscale\":[[0.0,\"#0d0887\"],[0.1111111111111111,\"#46039f\"],[0.2222222222222222,\"#7201a8\"],[0.3333333333333333,\"#9c179e\"],[0.4444444444444444,\"#bd3786\"],[0.5555555555555556,\"#d8576b\"],[0.6666666666666666,\"#ed7953\"],[0.7777777777777778,\"#fb9f3a\"],[0.8888888888888888,\"#fdca26\"],[1.0,\"#f0f921\"]]}],\"heatmapgl\":[{\"type\":\"heatmapgl\",\"colorbar\":{\"outlinewidth\":0,\"ticks\":\"\"},\"colorscale\":[[0.0,\"#0d0887\"],[0.1111111111111111,\"#46039f\"],[0.2222222222222222,\"#7201a8\"],[0.3333333333333333,\"#9c179e\"],[0.4444444444444444,\"#bd3786\"],[0.5555555555555556,\"#d8576b\"],[0.6666666666666666,\"#ed7953\"],[0.7777777777777778,\"#fb9f3a\"],[0.8888888888888888,\"#fdca26\"],[1.0,\"#f0f921\"]]}],\"contourcarpet\":[{\"type\":\"contourcarpet\",\"colorbar\":{\"outlinewidth\":0,\"ticks\":\"\"}}],\"contour\":[{\"type\":\"contour\",\"colorbar\":{\"outlinewidth\":0,\"ticks\":\"\"},\"colorscale\":[[0.0,\"#0d0887\"],[0.1111111111111111,\"#46039f\"],[0.2222222222222222,\"#7201a8\"],[0.3333333333333333,\"#9c179e\"],[0.4444444444444444,\"#bd3786\"],[0.5555555555555556,\"#d8576b\"],[0.6666666666666666,\"#ed7953\"],[0.7777777777777778,\"#fb9f3a\"],[0.8888888888888888,\"#fdca26\"],[1.0,\"#f0f921\"]]}],\"surface\":[{\"type\":\"surface\",\"colorbar\":{\"outlinewidth\":0,\"ticks\":\"\"},\"colorscale\":[[0.0,\"#0d0887\"],[0.1111111111111111,\"#46039f\"],[0.2222222222222222,\"#7201a8\"],[0.3333333333333333,\"#9c179e\"],[0.4444444444444444,\"#bd3786\"],[0.5555555555555556,\"#d8576b\"],[0.6666666666666666,\"#ed7953\"],[0.7777777777777778,\"#fb9f3a\"],[0.8888888888888888,\"#fdca26\"],[1.0,\"#f0f921\"]]}],\"mesh3d\":[{\"type\":\"mesh3d\",\"colorbar\":{\"outlinewidth\":0,\"ticks\":\"\"}}],\"scatter\":[{\"fillpattern\":{\"fillmode\":\"overlay\",\"size\":10,\"solidity\":0.2},\"type\":\"scatter\"}],\"parcoords\":[{\"type\":\"parcoords\",\"line\":{\"colorbar\":{\"outlinewidth\":0,\"ticks\":\"\"}}}],\"scatterpolargl\":[{\"type\":\"scatterpolargl\",\"marker\":{\"colorbar\":{\"outlinewidth\":0,\"ticks\":\"\"}}}],\"bar\":[{\"error_x\":{\"color\":\"#2a3f5f\"},\"error_y\":{\"color\":\"#2a3f5f\"},\"marker\":{\"line\":{\"color\":\"#E5ECF6\",\"width\":0.5},\"pattern\":{\"fillmode\":\"overlay\",\"size\":10,\"solidity\":0.2}},\"type\":\"bar\"}],\"scattergeo\":[{\"type\":\"scattergeo\",\"marker\":{\"colorbar\":{\"outlinewidth\":0,\"ticks\":\"\"}}}],\"scatterpolar\":[{\"type\":\"scatterpolar\",\"marker\":{\"colorbar\":{\"outlinewidth\":0,\"ticks\":\"\"}}}],\"histogram\":[{\"marker\":{\"pattern\":{\"fillmode\":\"overlay\",\"size\":10,\"solidity\":0.2}},\"type\":\"histogram\"}],\"scattergl\":[{\"type\":\"scattergl\",\"marker\":{\"colorbar\":{\"outlinewidth\":0,\"ticks\":\"\"}}}],\"scatter3d\":[{\"type\":\"scatter3d\",\"line\":{\"colorbar\":{\"outlinewidth\":0,\"ticks\":\"\"}},\"marker\":{\"colorbar\":{\"outlinewidth\":0,\"ticks\":\"\"}}}],\"scattermapbox\":[{\"type\":\"scattermapbox\",\"marker\":{\"colorbar\":{\"outlinewidth\":0,\"ticks\":\"\"}}}],\"scatterternary\":[{\"type\":\"scatterternary\",\"marker\":{\"colorbar\":{\"outlinewidth\":0,\"ticks\":\"\"}}}],\"scattercarpet\":[{\"type\":\"scattercarpet\",\"marker\":{\"colorbar\":{\"outlinewidth\":0,\"ticks\":\"\"}}}],\"carpet\":[{\"aaxis\":{\"endlinecolor\":\"#2a3f5f\",\"gridcolor\":\"white\",\"linecolor\":\"white\",\"minorgridcolor\":\"white\",\"startlinecolor\":\"#2a3f5f\"},\"baxis\":{\"endlinecolor\":\"#2a3f5f\",\"gridcolor\":\"white\",\"linecolor\":\"white\",\"minorgridcolor\":\"white\",\"startlinecolor\":\"#2a3f5f\"},\"type\":\"carpet\"}],\"table\":[{\"cells\":{\"fill\":{\"color\":\"#EBF0F8\"},\"line\":{\"color\":\"white\"}},\"header\":{\"fill\":{\"color\":\"#C8D4E3\"},\"line\":{\"color\":\"white\"}},\"type\":\"table\"}],\"barpolar\":[{\"marker\":{\"line\":{\"color\":\"#E5ECF6\",\"width\":0.5},\"pattern\":{\"fillmode\":\"overlay\",\"size\":10,\"solidity\":0.2}},\"type\":\"barpolar\"}],\"pie\":[{\"automargin\":true,\"type\":\"pie\"}]},\"layout\":{\"autotypenumbers\":\"strict\",\"colorway\":[\"#636efa\",\"#EF553B\",\"#00cc96\",\"#ab63fa\",\"#FFA15A\",\"#19d3f3\",\"#FF6692\",\"#B6E880\",\"#FF97FF\",\"#FECB52\"],\"font\":{\"color\":\"#2a3f5f\"},\"hovermode\":\"closest\",\"hoverlabel\":{\"align\":\"left\"},\"paper_bgcolor\":\"white\",\"plot_bgcolor\":\"#E5ECF6\",\"polar\":{\"bgcolor\":\"#E5ECF6\",\"angularaxis\":{\"gridcolor\":\"white\",\"linecolor\":\"white\",\"ticks\":\"\"},\"radialaxis\":{\"gridcolor\":\"white\",\"linecolor\":\"white\",\"ticks\":\"\"}},\"ternary\":{\"bgcolor\":\"#E5ECF6\",\"aaxis\":{\"gridcolor\":\"white\",\"linecolor\":\"white\",\"ticks\":\"\"},\"baxis\":{\"gridcolor\":\"white\",\"linecolor\":\"white\",\"ticks\":\"\"},\"caxis\":{\"gridcolor\":\"white\",\"linecolor\":\"white\",\"ticks\":\"\"}},\"coloraxis\":{\"colorbar\":{\"outlinewidth\":0,\"ticks\":\"\"}},\"colorscale\":{\"sequential\":[[0.0,\"#0d0887\"],[0.1111111111111111,\"#46039f\"],[0.2222222222222222,\"#7201a8\"],[0.3333333333333333,\"#9c179e\"],[0.4444444444444444,\"#bd3786\"],[0.5555555555555556,\"#d8576b\"],[0.6666666666666666,\"#ed7953\"],[0.7777777777777778,\"#fb9f3a\"],[0.8888888888888888,\"#fdca26\"],[1.0,\"#f0f921\"]],\"sequentialminus\":[[0.0,\"#0d0887\"],[0.1111111111111111,\"#46039f\"],[0.2222222222222222,\"#7201a8\"],[0.3333333333333333,\"#9c179e\"],[0.4444444444444444,\"#bd3786\"],[0.5555555555555556,\"#d8576b\"],[0.6666666666666666,\"#ed7953\"],[0.7777777777777778,\"#fb9f3a\"],[0.8888888888888888,\"#fdca26\"],[1.0,\"#f0f921\"]],\"diverging\":[[0,\"#8e0152\"],[0.1,\"#c51b7d\"],[0.2,\"#de77ae\"],[0.3,\"#f1b6da\"],[0.4,\"#fde0ef\"],[0.5,\"#f7f7f7\"],[0.6,\"#e6f5d0\"],[0.7,\"#b8e186\"],[0.8,\"#7fbc41\"],[0.9,\"#4d9221\"],[1,\"#276419\"]]},\"xaxis\":{\"gridcolor\":\"white\",\"linecolor\":\"white\",\"ticks\":\"\",\"title\":{\"standoff\":15},\"zerolinecolor\":\"white\",\"automargin\":true,\"zerolinewidth\":2},\"yaxis\":{\"gridcolor\":\"white\",\"linecolor\":\"white\",\"ticks\":\"\",\"title\":{\"standoff\":15},\"zerolinecolor\":\"white\",\"automargin\":true,\"zerolinewidth\":2},\"scene\":{\"xaxis\":{\"backgroundcolor\":\"#E5ECF6\",\"gridcolor\":\"white\",\"linecolor\":\"white\",\"showbackground\":true,\"ticks\":\"\",\"zerolinecolor\":\"white\",\"gridwidth\":2},\"yaxis\":{\"backgroundcolor\":\"#E5ECF6\",\"gridcolor\":\"white\",\"linecolor\":\"white\",\"showbackground\":true,\"ticks\":\"\",\"zerolinecolor\":\"white\",\"gridwidth\":2},\"zaxis\":{\"backgroundcolor\":\"#E5ECF6\",\"gridcolor\":\"white\",\"linecolor\":\"white\",\"showbackground\":true,\"ticks\":\"\",\"zerolinecolor\":\"white\",\"gridwidth\":2}},\"shapedefaults\":{\"line\":{\"color\":\"#2a3f5f\"}},\"annotationdefaults\":{\"arrowcolor\":\"#2a3f5f\",\"arrowhead\":0,\"arrowwidth\":1},\"geo\":{\"bgcolor\":\"white\",\"landcolor\":\"#E5ECF6\",\"subunitcolor\":\"white\",\"showland\":true,\"showlakes\":true,\"lakecolor\":\"white\"},\"title\":{\"x\":0.05},\"mapbox\":{\"style\":\"light\"}}},\"xaxis\":{\"anchor\":\"y\",\"domain\":[0.0,1.0],\"title\":{\"text\":\"value\"}},\"yaxis\":{\"anchor\":\"x\",\"domain\":[0.0,1.0],\"title\":{\"text\":\"count\"}},\"legend\":{\"title\":{\"text\":\"variable\"},\"tracegroupgap\":0},\"title\":{\"text\":\"histogram of DFBETAS with feature(Intercept)\"},\"barmode\":\"relative\"},                        {\"responsive\": true}                    ).then(function(){\n",
       "                            \n",
       "var gd = document.getElementById('8b19862e-1810-483a-bc04-a1f7deb6e279');\n",
       "var x = new MutationObserver(function (mutations, observer) {{\n",
       "        var display = window.getComputedStyle(gd).display;\n",
       "        if (!display || display === 'none') {{\n",
       "            console.log([gd, 'removed!']);\n",
       "            Plotly.purge(gd);\n",
       "            observer.disconnect();\n",
       "        }}\n",
       "}});\n",
       "\n",
       "// Listen for the removal of the full notebook cells\n",
       "var notebookContainer = gd.closest('#notebook-container');\n",
       "if (notebookContainer) {{\n",
       "    x.observe(notebookContainer, {childList: true});\n",
       "}}\n",
       "\n",
       "// Listen for the clearing of the current output cell\n",
       "var outputEl = gd.closest('.output');\n",
       "if (outputEl) {{\n",
       "    x.observe(outputEl, {childList: true});\n",
       "}}\n",
       "\n",
       "                        })                };                });            </script>        </div>"
      ]
     },
     "metadata": {},
     "output_type": "display_data"
    },
    {
     "data": {
      "application/vnd.plotly.v1+json": {
       "config": {
        "plotlyServerURL": "https://plot.ly"
       },
       "data": [
        {
         "alignmentgroup": "True",
         "bingroup": "x",
         "hovertemplate": "variable=0<br>value=%{x}<br>count=%{y}<extra></extra>",
         "legendgroup": "0",
         "marker": {
          "color": "#636efa",
          "pattern": {
           "shape": ""
          }
         },
         "name": "0",
         "offsetgroup": "0",
         "orientation": "v",
         "showlegend": true,
         "type": "histogram",
         "x": [
          -0.2857399845068556,
          -0.0983215983190627,
          -0.027584704884039336,
          -0.07244752800980638,
          -0.12172296416442877,
          -0.19590969879138312,
          -0.002697122809303665,
          -0.09282199936807489,
          -0.06414328826130124,
          -0.06418191420887845,
          -0.02899982398231032,
          0.023822885096865965,
          0.08112599878837302,
          -0.15788515023697028,
          0.04241833737485448,
          0.04898516421725938,
          0.023248305445596244,
          -0.010777268133824826,
          0.009816634976573221,
          -0.005605684002594131,
          0.0006214251583651235,
          0.05133908171313457,
          0.0003585623363375758,
          0.020837998926311194,
          0.013792130189055042,
          -0.027650977259991355,
          -0.06535715522259657,
          0.1482187732236558,
          -0.09861777067991655,
          0.07387332731698594,
          0.005661819115810228,
          -0.040568604531686404,
          0.03903560210445195,
          -0.0336136681068393,
          -0.03708457187358778,
          -0.0510544281268349,
          -0.03160019240015054,
          -0.038332430183859435,
          0.05269255415253251,
          0.0367890464940751,
          -0.0039154962850923,
          0.004759441791042165,
          -0.042477320827107264,
          -0.015341705852494687,
          -0.009192006480648465,
          0.028952706630449316,
          -0.017109058324734167,
          0.009358862809709203,
          -0.01759740410422854,
          -0.035774170995239725,
          -0.04012424980446205,
          -0.023723171054606338,
          0.0476667250185584,
          -0.017718240167236693,
          0.07643376607028306,
          -0.02046032944931563,
          -0.005416679068586268,
          -0.10014932763328699,
          -0.014720184155035667,
          -0.005735637342721276,
          -0.02637737719106044,
          0.28959700003253247,
          0.010094211777188326,
          -0.03770307170130582,
          -0.006468467292146857,
          0.1989775637026988,
          0.06446963433094409,
          0.05651644362841133,
          -0.004658333945429937,
          -0.0007564318391696618,
          0.00930741249134269,
          0.005829107418566939,
          0.04256194841252044,
          0.014413609011879288,
          -0.03764658296967147,
          0.005993426092139993,
          0.026395735892474268,
          0.018236055508079416,
          0.028350165706553725,
          0.04539689690598315,
          0.017180621453987677,
          0.0012222808531688716,
          0.014413609011857096,
          0.00970617414745507,
          0.016416178235742703,
          0.010076027378792946,
          0.034986679462531325,
          0.010838678233008645,
          0.013745353245423746,
          -0.00596830603783361,
          0.03985672925642189,
          0.009473524209133824,
          0.031186656668304998,
          0.01975230141862159,
          0.03495974365653313,
          -0.006168847221135012,
          -0.04368662700483144,
          0.02973389606934511,
          -0.010365223575322768,
          -0.0059054866663253896,
          -0.017948859353235713,
          -0.001873189470196632,
          0.005814838088285265,
          -0.021889037446823273,
          -0.010784833125606444,
          0.10066564989001799,
          -0.020965708648502748,
          0.06523267264546283,
          0.02130868439297689,
          -0.019248711556293645,
          0.12176873577649845,
          0.00967965157129694,
          -0.04948902027037926,
          -0.055049213588768076,
          -0.0653867112331395,
          -0.03533356193593276,
          0.01230301585019082,
          -0.01979457452806132,
          0.055036119899968705,
          -0.03646385605632116,
          -0.3202029432555377,
          0.06823752360108784,
          0.005868170321117439,
          0.018403656635946647,
          0.04253835655030598,
          -0.04400403393272429,
          -0.07352126865149271,
          0.02262957742322065,
          -0.11738207144606731,
          0.012090886697564023,
          0.061968737987917945,
          -0.03878786912936033,
          -0.07874562589906167,
          -0.019558020428301934,
          -0.02296125875595567,
          -0.006213431629081524,
          -0.009817330566644161,
          0.09149582399728894,
          0.0939844492713986,
          0.1673861885079322,
          -0.048122807137282314,
          -0.013130657765646253,
          -0.034820723320547975,
          0.005744488435037412,
          -0.20567513021426514,
          -0.12562481010997315,
          0.19485151953146698,
          0.07446154790146835,
          0.3159012033755921,
          -0.15118061100636063,
          -0.1630002013330836,
          0.05872056640358094,
          -0.0567686575635459,
          0.519973615985248
         ],
         "xaxis": "x",
         "yaxis": "y"
        }
       ],
       "layout": {
        "barmode": "relative",
        "legend": {
         "title": {
          "text": "variable"
         },
         "tracegroupgap": 0
        },
        "template": {
         "data": {
          "bar": [
           {
            "error_x": {
             "color": "#2a3f5f"
            },
            "error_y": {
             "color": "#2a3f5f"
            },
            "marker": {
             "line": {
              "color": "#E5ECF6",
              "width": 0.5
             },
             "pattern": {
              "fillmode": "overlay",
              "size": 10,
              "solidity": 0.2
             }
            },
            "type": "bar"
           }
          ],
          "barpolar": [
           {
            "marker": {
             "line": {
              "color": "#E5ECF6",
              "width": 0.5
             },
             "pattern": {
              "fillmode": "overlay",
              "size": 10,
              "solidity": 0.2
             }
            },
            "type": "barpolar"
           }
          ],
          "carpet": [
           {
            "aaxis": {
             "endlinecolor": "#2a3f5f",
             "gridcolor": "white",
             "linecolor": "white",
             "minorgridcolor": "white",
             "startlinecolor": "#2a3f5f"
            },
            "baxis": {
             "endlinecolor": "#2a3f5f",
             "gridcolor": "white",
             "linecolor": "white",
             "minorgridcolor": "white",
             "startlinecolor": "#2a3f5f"
            },
            "type": "carpet"
           }
          ],
          "choropleth": [
           {
            "colorbar": {
             "outlinewidth": 0,
             "ticks": ""
            },
            "type": "choropleth"
           }
          ],
          "contour": [
           {
            "colorbar": {
             "outlinewidth": 0,
             "ticks": ""
            },
            "colorscale": [
             [
              0,
              "#0d0887"
             ],
             [
              0.1111111111111111,
              "#46039f"
             ],
             [
              0.2222222222222222,
              "#7201a8"
             ],
             [
              0.3333333333333333,
              "#9c179e"
             ],
             [
              0.4444444444444444,
              "#bd3786"
             ],
             [
              0.5555555555555556,
              "#d8576b"
             ],
             [
              0.6666666666666666,
              "#ed7953"
             ],
             [
              0.7777777777777778,
              "#fb9f3a"
             ],
             [
              0.8888888888888888,
              "#fdca26"
             ],
             [
              1,
              "#f0f921"
             ]
            ],
            "type": "contour"
           }
          ],
          "contourcarpet": [
           {
            "colorbar": {
             "outlinewidth": 0,
             "ticks": ""
            },
            "type": "contourcarpet"
           }
          ],
          "heatmap": [
           {
            "colorbar": {
             "outlinewidth": 0,
             "ticks": ""
            },
            "colorscale": [
             [
              0,
              "#0d0887"
             ],
             [
              0.1111111111111111,
              "#46039f"
             ],
             [
              0.2222222222222222,
              "#7201a8"
             ],
             [
              0.3333333333333333,
              "#9c179e"
             ],
             [
              0.4444444444444444,
              "#bd3786"
             ],
             [
              0.5555555555555556,
              "#d8576b"
             ],
             [
              0.6666666666666666,
              "#ed7953"
             ],
             [
              0.7777777777777778,
              "#fb9f3a"
             ],
             [
              0.8888888888888888,
              "#fdca26"
             ],
             [
              1,
              "#f0f921"
             ]
            ],
            "type": "heatmap"
           }
          ],
          "heatmapgl": [
           {
            "colorbar": {
             "outlinewidth": 0,
             "ticks": ""
            },
            "colorscale": [
             [
              0,
              "#0d0887"
             ],
             [
              0.1111111111111111,
              "#46039f"
             ],
             [
              0.2222222222222222,
              "#7201a8"
             ],
             [
              0.3333333333333333,
              "#9c179e"
             ],
             [
              0.4444444444444444,
              "#bd3786"
             ],
             [
              0.5555555555555556,
              "#d8576b"
             ],
             [
              0.6666666666666666,
              "#ed7953"
             ],
             [
              0.7777777777777778,
              "#fb9f3a"
             ],
             [
              0.8888888888888888,
              "#fdca26"
             ],
             [
              1,
              "#f0f921"
             ]
            ],
            "type": "heatmapgl"
           }
          ],
          "histogram": [
           {
            "marker": {
             "pattern": {
              "fillmode": "overlay",
              "size": 10,
              "solidity": 0.2
             }
            },
            "type": "histogram"
           }
          ],
          "histogram2d": [
           {
            "colorbar": {
             "outlinewidth": 0,
             "ticks": ""
            },
            "colorscale": [
             [
              0,
              "#0d0887"
             ],
             [
              0.1111111111111111,
              "#46039f"
             ],
             [
              0.2222222222222222,
              "#7201a8"
             ],
             [
              0.3333333333333333,
              "#9c179e"
             ],
             [
              0.4444444444444444,
              "#bd3786"
             ],
             [
              0.5555555555555556,
              "#d8576b"
             ],
             [
              0.6666666666666666,
              "#ed7953"
             ],
             [
              0.7777777777777778,
              "#fb9f3a"
             ],
             [
              0.8888888888888888,
              "#fdca26"
             ],
             [
              1,
              "#f0f921"
             ]
            ],
            "type": "histogram2d"
           }
          ],
          "histogram2dcontour": [
           {
            "colorbar": {
             "outlinewidth": 0,
             "ticks": ""
            },
            "colorscale": [
             [
              0,
              "#0d0887"
             ],
             [
              0.1111111111111111,
              "#46039f"
             ],
             [
              0.2222222222222222,
              "#7201a8"
             ],
             [
              0.3333333333333333,
              "#9c179e"
             ],
             [
              0.4444444444444444,
              "#bd3786"
             ],
             [
              0.5555555555555556,
              "#d8576b"
             ],
             [
              0.6666666666666666,
              "#ed7953"
             ],
             [
              0.7777777777777778,
              "#fb9f3a"
             ],
             [
              0.8888888888888888,
              "#fdca26"
             ],
             [
              1,
              "#f0f921"
             ]
            ],
            "type": "histogram2dcontour"
           }
          ],
          "mesh3d": [
           {
            "colorbar": {
             "outlinewidth": 0,
             "ticks": ""
            },
            "type": "mesh3d"
           }
          ],
          "parcoords": [
           {
            "line": {
             "colorbar": {
              "outlinewidth": 0,
              "ticks": ""
             }
            },
            "type": "parcoords"
           }
          ],
          "pie": [
           {
            "automargin": true,
            "type": "pie"
           }
          ],
          "scatter": [
           {
            "fillpattern": {
             "fillmode": "overlay",
             "size": 10,
             "solidity": 0.2
            },
            "type": "scatter"
           }
          ],
          "scatter3d": [
           {
            "line": {
             "colorbar": {
              "outlinewidth": 0,
              "ticks": ""
             }
            },
            "marker": {
             "colorbar": {
              "outlinewidth": 0,
              "ticks": ""
             }
            },
            "type": "scatter3d"
           }
          ],
          "scattercarpet": [
           {
            "marker": {
             "colorbar": {
              "outlinewidth": 0,
              "ticks": ""
             }
            },
            "type": "scattercarpet"
           }
          ],
          "scattergeo": [
           {
            "marker": {
             "colorbar": {
              "outlinewidth": 0,
              "ticks": ""
             }
            },
            "type": "scattergeo"
           }
          ],
          "scattergl": [
           {
            "marker": {
             "colorbar": {
              "outlinewidth": 0,
              "ticks": ""
             }
            },
            "type": "scattergl"
           }
          ],
          "scattermapbox": [
           {
            "marker": {
             "colorbar": {
              "outlinewidth": 0,
              "ticks": ""
             }
            },
            "type": "scattermapbox"
           }
          ],
          "scatterpolar": [
           {
            "marker": {
             "colorbar": {
              "outlinewidth": 0,
              "ticks": ""
             }
            },
            "type": "scatterpolar"
           }
          ],
          "scatterpolargl": [
           {
            "marker": {
             "colorbar": {
              "outlinewidth": 0,
              "ticks": ""
             }
            },
            "type": "scatterpolargl"
           }
          ],
          "scatterternary": [
           {
            "marker": {
             "colorbar": {
              "outlinewidth": 0,
              "ticks": ""
             }
            },
            "type": "scatterternary"
           }
          ],
          "surface": [
           {
            "colorbar": {
             "outlinewidth": 0,
             "ticks": ""
            },
            "colorscale": [
             [
              0,
              "#0d0887"
             ],
             [
              0.1111111111111111,
              "#46039f"
             ],
             [
              0.2222222222222222,
              "#7201a8"
             ],
             [
              0.3333333333333333,
              "#9c179e"
             ],
             [
              0.4444444444444444,
              "#bd3786"
             ],
             [
              0.5555555555555556,
              "#d8576b"
             ],
             [
              0.6666666666666666,
              "#ed7953"
             ],
             [
              0.7777777777777778,
              "#fb9f3a"
             ],
             [
              0.8888888888888888,
              "#fdca26"
             ],
             [
              1,
              "#f0f921"
             ]
            ],
            "type": "surface"
           }
          ],
          "table": [
           {
            "cells": {
             "fill": {
              "color": "#EBF0F8"
             },
             "line": {
              "color": "white"
             }
            },
            "header": {
             "fill": {
              "color": "#C8D4E3"
             },
             "line": {
              "color": "white"
             }
            },
            "type": "table"
           }
          ]
         },
         "layout": {
          "annotationdefaults": {
           "arrowcolor": "#2a3f5f",
           "arrowhead": 0,
           "arrowwidth": 1
          },
          "autotypenumbers": "strict",
          "coloraxis": {
           "colorbar": {
            "outlinewidth": 0,
            "ticks": ""
           }
          },
          "colorscale": {
           "diverging": [
            [
             0,
             "#8e0152"
            ],
            [
             0.1,
             "#c51b7d"
            ],
            [
             0.2,
             "#de77ae"
            ],
            [
             0.3,
             "#f1b6da"
            ],
            [
             0.4,
             "#fde0ef"
            ],
            [
             0.5,
             "#f7f7f7"
            ],
            [
             0.6,
             "#e6f5d0"
            ],
            [
             0.7,
             "#b8e186"
            ],
            [
             0.8,
             "#7fbc41"
            ],
            [
             0.9,
             "#4d9221"
            ],
            [
             1,
             "#276419"
            ]
           ],
           "sequential": [
            [
             0,
             "#0d0887"
            ],
            [
             0.1111111111111111,
             "#46039f"
            ],
            [
             0.2222222222222222,
             "#7201a8"
            ],
            [
             0.3333333333333333,
             "#9c179e"
            ],
            [
             0.4444444444444444,
             "#bd3786"
            ],
            [
             0.5555555555555556,
             "#d8576b"
            ],
            [
             0.6666666666666666,
             "#ed7953"
            ],
            [
             0.7777777777777778,
             "#fb9f3a"
            ],
            [
             0.8888888888888888,
             "#fdca26"
            ],
            [
             1,
             "#f0f921"
            ]
           ],
           "sequentialminus": [
            [
             0,
             "#0d0887"
            ],
            [
             0.1111111111111111,
             "#46039f"
            ],
            [
             0.2222222222222222,
             "#7201a8"
            ],
            [
             0.3333333333333333,
             "#9c179e"
            ],
            [
             0.4444444444444444,
             "#bd3786"
            ],
            [
             0.5555555555555556,
             "#d8576b"
            ],
            [
             0.6666666666666666,
             "#ed7953"
            ],
            [
             0.7777777777777778,
             "#fb9f3a"
            ],
            [
             0.8888888888888888,
             "#fdca26"
            ],
            [
             1,
             "#f0f921"
            ]
           ]
          },
          "colorway": [
           "#636efa",
           "#EF553B",
           "#00cc96",
           "#ab63fa",
           "#FFA15A",
           "#19d3f3",
           "#FF6692",
           "#B6E880",
           "#FF97FF",
           "#FECB52"
          ],
          "font": {
           "color": "#2a3f5f"
          },
          "geo": {
           "bgcolor": "white",
           "lakecolor": "white",
           "landcolor": "#E5ECF6",
           "showlakes": true,
           "showland": true,
           "subunitcolor": "white"
          },
          "hoverlabel": {
           "align": "left"
          },
          "hovermode": "closest",
          "mapbox": {
           "style": "light"
          },
          "paper_bgcolor": "white",
          "plot_bgcolor": "#E5ECF6",
          "polar": {
           "angularaxis": {
            "gridcolor": "white",
            "linecolor": "white",
            "ticks": ""
           },
           "bgcolor": "#E5ECF6",
           "radialaxis": {
            "gridcolor": "white",
            "linecolor": "white",
            "ticks": ""
           }
          },
          "scene": {
           "xaxis": {
            "backgroundcolor": "#E5ECF6",
            "gridcolor": "white",
            "gridwidth": 2,
            "linecolor": "white",
            "showbackground": true,
            "ticks": "",
            "zerolinecolor": "white"
           },
           "yaxis": {
            "backgroundcolor": "#E5ECF6",
            "gridcolor": "white",
            "gridwidth": 2,
            "linecolor": "white",
            "showbackground": true,
            "ticks": "",
            "zerolinecolor": "white"
           },
           "zaxis": {
            "backgroundcolor": "#E5ECF6",
            "gridcolor": "white",
            "gridwidth": 2,
            "linecolor": "white",
            "showbackground": true,
            "ticks": "",
            "zerolinecolor": "white"
           }
          },
          "shapedefaults": {
           "line": {
            "color": "#2a3f5f"
           }
          },
          "ternary": {
           "aaxis": {
            "gridcolor": "white",
            "linecolor": "white",
            "ticks": ""
           },
           "baxis": {
            "gridcolor": "white",
            "linecolor": "white",
            "ticks": ""
           },
           "bgcolor": "#E5ECF6",
           "caxis": {
            "gridcolor": "white",
            "linecolor": "white",
            "ticks": ""
           }
          },
          "title": {
           "x": 0.05
          },
          "xaxis": {
           "automargin": true,
           "gridcolor": "white",
           "linecolor": "white",
           "ticks": "",
           "title": {
            "standoff": 15
           },
           "zerolinecolor": "white",
           "zerolinewidth": 2
          },
          "yaxis": {
           "automargin": true,
           "gridcolor": "white",
           "linecolor": "white",
           "ticks": "",
           "title": {
            "standoff": 15
           },
           "zerolinecolor": "white",
           "zerolinewidth": 2
          }
         }
        },
        "title": {
         "text": "histogram of DFBETAS with feature(age)"
        },
        "xaxis": {
         "anchor": "y",
         "domain": [
          0,
          1
         ],
         "title": {
          "text": "value"
         }
        },
        "yaxis": {
         "anchor": "x",
         "domain": [
          0,
          1
         ],
         "title": {
          "text": "count"
         }
        }
       }
      },
      "text/html": [
       "<div>                            <div id=\"139cd8b8-1883-45fb-aa4d-fca23575434b\" class=\"plotly-graph-div\" style=\"height:525px; width:100%;\"></div>            <script type=\"text/javascript\">                require([\"plotly\"], function(Plotly) {                    window.PLOTLYENV=window.PLOTLYENV || {};                                    if (document.getElementById(\"139cd8b8-1883-45fb-aa4d-fca23575434b\")) {                    Plotly.newPlot(                        \"139cd8b8-1883-45fb-aa4d-fca23575434b\",                        [{\"alignmentgroup\":\"True\",\"bingroup\":\"x\",\"hovertemplate\":\"variable=0\\u003cbr\\u003evalue=%{x}\\u003cbr\\u003ecount=%{y}\\u003cextra\\u003e\\u003c\\u002fextra\\u003e\",\"legendgroup\":\"0\",\"marker\":{\"color\":\"#636efa\",\"pattern\":{\"shape\":\"\"}},\"name\":\"0\",\"offsetgroup\":\"0\",\"orientation\":\"v\",\"showlegend\":true,\"x\":[-0.2857399845068556,-0.0983215983190627,-0.027584704884039336,-0.07244752800980638,-0.12172296416442877,-0.19590969879138312,-0.002697122809303665,-0.09282199936807489,-0.06414328826130124,-0.06418191420887845,-0.02899982398231032,0.023822885096865965,0.08112599878837302,-0.15788515023697028,0.04241833737485448,0.04898516421725938,0.023248305445596244,-0.010777268133824826,0.009816634976573221,-0.005605684002594131,0.0006214251583651235,0.05133908171313457,0.0003585623363375758,0.020837998926311194,0.013792130189055042,-0.027650977259991355,-0.06535715522259657,0.1482187732236558,-0.09861777067991655,0.07387332731698594,0.005661819115810228,-0.040568604531686404,0.03903560210445195,-0.0336136681068393,-0.03708457187358778,-0.0510544281268349,-0.03160019240015054,-0.038332430183859435,0.05269255415253251,0.0367890464940751,-0.0039154962850923,0.004759441791042165,-0.042477320827107264,-0.015341705852494687,-0.009192006480648465,0.028952706630449316,-0.017109058324734167,0.009358862809709203,-0.01759740410422854,-0.035774170995239725,-0.04012424980446205,-0.023723171054606338,0.0476667250185584,-0.017718240167236693,0.07643376607028306,-0.02046032944931563,-0.005416679068586268,-0.10014932763328699,-0.014720184155035667,-0.005735637342721276,-0.02637737719106044,0.28959700003253247,0.010094211777188326,-0.03770307170130582,-0.006468467292146857,0.1989775637026988,0.06446963433094409,0.05651644362841133,-0.004658333945429937,-0.0007564318391696618,0.00930741249134269,0.005829107418566939,0.04256194841252044,0.014413609011879288,-0.03764658296967147,0.005993426092139993,0.026395735892474268,0.018236055508079416,0.028350165706553725,0.04539689690598315,0.017180621453987677,0.0012222808531688716,0.014413609011857096,0.00970617414745507,0.016416178235742703,0.010076027378792946,0.034986679462531325,0.010838678233008645,0.013745353245423746,-0.00596830603783361,0.03985672925642189,0.009473524209133824,0.031186656668304998,0.01975230141862159,0.03495974365653313,-0.006168847221135012,-0.04368662700483144,0.02973389606934511,-0.010365223575322768,-0.0059054866663253896,-0.017948859353235713,-0.001873189470196632,0.005814838088285265,-0.021889037446823273,-0.010784833125606444,0.10066564989001799,-0.020965708648502748,0.06523267264546283,0.02130868439297689,-0.019248711556293645,0.12176873577649845,0.00967965157129694,-0.04948902027037926,-0.055049213588768076,-0.0653867112331395,-0.03533356193593276,0.01230301585019082,-0.01979457452806132,0.055036119899968705,-0.03646385605632116,-0.3202029432555377,0.06823752360108784,0.005868170321117439,0.018403656635946647,0.04253835655030598,-0.04400403393272429,-0.07352126865149271,0.02262957742322065,-0.11738207144606731,0.012090886697564023,0.061968737987917945,-0.03878786912936033,-0.07874562589906167,-0.019558020428301934,-0.02296125875595567,-0.006213431629081524,-0.009817330566644161,0.09149582399728894,0.0939844492713986,0.1673861885079322,-0.048122807137282314,-0.013130657765646253,-0.034820723320547975,0.005744488435037412,-0.20567513021426514,-0.12562481010997315,0.19485151953146698,0.07446154790146835,0.3159012033755921,-0.15118061100636063,-0.1630002013330836,0.05872056640358094,-0.0567686575635459,0.519973615985248],\"xaxis\":\"x\",\"yaxis\":\"y\",\"type\":\"histogram\"}],                        {\"template\":{\"data\":{\"histogram2dcontour\":[{\"type\":\"histogram2dcontour\",\"colorbar\":{\"outlinewidth\":0,\"ticks\":\"\"},\"colorscale\":[[0.0,\"#0d0887\"],[0.1111111111111111,\"#46039f\"],[0.2222222222222222,\"#7201a8\"],[0.3333333333333333,\"#9c179e\"],[0.4444444444444444,\"#bd3786\"],[0.5555555555555556,\"#d8576b\"],[0.6666666666666666,\"#ed7953\"],[0.7777777777777778,\"#fb9f3a\"],[0.8888888888888888,\"#fdca26\"],[1.0,\"#f0f921\"]]}],\"choropleth\":[{\"type\":\"choropleth\",\"colorbar\":{\"outlinewidth\":0,\"ticks\":\"\"}}],\"histogram2d\":[{\"type\":\"histogram2d\",\"colorbar\":{\"outlinewidth\":0,\"ticks\":\"\"},\"colorscale\":[[0.0,\"#0d0887\"],[0.1111111111111111,\"#46039f\"],[0.2222222222222222,\"#7201a8\"],[0.3333333333333333,\"#9c179e\"],[0.4444444444444444,\"#bd3786\"],[0.5555555555555556,\"#d8576b\"],[0.6666666666666666,\"#ed7953\"],[0.7777777777777778,\"#fb9f3a\"],[0.8888888888888888,\"#fdca26\"],[1.0,\"#f0f921\"]]}],\"heatmap\":[{\"type\":\"heatmap\",\"colorbar\":{\"outlinewidth\":0,\"ticks\":\"\"},\"colorscale\":[[0.0,\"#0d0887\"],[0.1111111111111111,\"#46039f\"],[0.2222222222222222,\"#7201a8\"],[0.3333333333333333,\"#9c179e\"],[0.4444444444444444,\"#bd3786\"],[0.5555555555555556,\"#d8576b\"],[0.6666666666666666,\"#ed7953\"],[0.7777777777777778,\"#fb9f3a\"],[0.8888888888888888,\"#fdca26\"],[1.0,\"#f0f921\"]]}],\"heatmapgl\":[{\"type\":\"heatmapgl\",\"colorbar\":{\"outlinewidth\":0,\"ticks\":\"\"},\"colorscale\":[[0.0,\"#0d0887\"],[0.1111111111111111,\"#46039f\"],[0.2222222222222222,\"#7201a8\"],[0.3333333333333333,\"#9c179e\"],[0.4444444444444444,\"#bd3786\"],[0.5555555555555556,\"#d8576b\"],[0.6666666666666666,\"#ed7953\"],[0.7777777777777778,\"#fb9f3a\"],[0.8888888888888888,\"#fdca26\"],[1.0,\"#f0f921\"]]}],\"contourcarpet\":[{\"type\":\"contourcarpet\",\"colorbar\":{\"outlinewidth\":0,\"ticks\":\"\"}}],\"contour\":[{\"type\":\"contour\",\"colorbar\":{\"outlinewidth\":0,\"ticks\":\"\"},\"colorscale\":[[0.0,\"#0d0887\"],[0.1111111111111111,\"#46039f\"],[0.2222222222222222,\"#7201a8\"],[0.3333333333333333,\"#9c179e\"],[0.4444444444444444,\"#bd3786\"],[0.5555555555555556,\"#d8576b\"],[0.6666666666666666,\"#ed7953\"],[0.7777777777777778,\"#fb9f3a\"],[0.8888888888888888,\"#fdca26\"],[1.0,\"#f0f921\"]]}],\"surface\":[{\"type\":\"surface\",\"colorbar\":{\"outlinewidth\":0,\"ticks\":\"\"},\"colorscale\":[[0.0,\"#0d0887\"],[0.1111111111111111,\"#46039f\"],[0.2222222222222222,\"#7201a8\"],[0.3333333333333333,\"#9c179e\"],[0.4444444444444444,\"#bd3786\"],[0.5555555555555556,\"#d8576b\"],[0.6666666666666666,\"#ed7953\"],[0.7777777777777778,\"#fb9f3a\"],[0.8888888888888888,\"#fdca26\"],[1.0,\"#f0f921\"]]}],\"mesh3d\":[{\"type\":\"mesh3d\",\"colorbar\":{\"outlinewidth\":0,\"ticks\":\"\"}}],\"scatter\":[{\"fillpattern\":{\"fillmode\":\"overlay\",\"size\":10,\"solidity\":0.2},\"type\":\"scatter\"}],\"parcoords\":[{\"type\":\"parcoords\",\"line\":{\"colorbar\":{\"outlinewidth\":0,\"ticks\":\"\"}}}],\"scatterpolargl\":[{\"type\":\"scatterpolargl\",\"marker\":{\"colorbar\":{\"outlinewidth\":0,\"ticks\":\"\"}}}],\"bar\":[{\"error_x\":{\"color\":\"#2a3f5f\"},\"error_y\":{\"color\":\"#2a3f5f\"},\"marker\":{\"line\":{\"color\":\"#E5ECF6\",\"width\":0.5},\"pattern\":{\"fillmode\":\"overlay\",\"size\":10,\"solidity\":0.2}},\"type\":\"bar\"}],\"scattergeo\":[{\"type\":\"scattergeo\",\"marker\":{\"colorbar\":{\"outlinewidth\":0,\"ticks\":\"\"}}}],\"scatterpolar\":[{\"type\":\"scatterpolar\",\"marker\":{\"colorbar\":{\"outlinewidth\":0,\"ticks\":\"\"}}}],\"histogram\":[{\"marker\":{\"pattern\":{\"fillmode\":\"overlay\",\"size\":10,\"solidity\":0.2}},\"type\":\"histogram\"}],\"scattergl\":[{\"type\":\"scattergl\",\"marker\":{\"colorbar\":{\"outlinewidth\":0,\"ticks\":\"\"}}}],\"scatter3d\":[{\"type\":\"scatter3d\",\"line\":{\"colorbar\":{\"outlinewidth\":0,\"ticks\":\"\"}},\"marker\":{\"colorbar\":{\"outlinewidth\":0,\"ticks\":\"\"}}}],\"scattermapbox\":[{\"type\":\"scattermapbox\",\"marker\":{\"colorbar\":{\"outlinewidth\":0,\"ticks\":\"\"}}}],\"scatterternary\":[{\"type\":\"scatterternary\",\"marker\":{\"colorbar\":{\"outlinewidth\":0,\"ticks\":\"\"}}}],\"scattercarpet\":[{\"type\":\"scattercarpet\",\"marker\":{\"colorbar\":{\"outlinewidth\":0,\"ticks\":\"\"}}}],\"carpet\":[{\"aaxis\":{\"endlinecolor\":\"#2a3f5f\",\"gridcolor\":\"white\",\"linecolor\":\"white\",\"minorgridcolor\":\"white\",\"startlinecolor\":\"#2a3f5f\"},\"baxis\":{\"endlinecolor\":\"#2a3f5f\",\"gridcolor\":\"white\",\"linecolor\":\"white\",\"minorgridcolor\":\"white\",\"startlinecolor\":\"#2a3f5f\"},\"type\":\"carpet\"}],\"table\":[{\"cells\":{\"fill\":{\"color\":\"#EBF0F8\"},\"line\":{\"color\":\"white\"}},\"header\":{\"fill\":{\"color\":\"#C8D4E3\"},\"line\":{\"color\":\"white\"}},\"type\":\"table\"}],\"barpolar\":[{\"marker\":{\"line\":{\"color\":\"#E5ECF6\",\"width\":0.5},\"pattern\":{\"fillmode\":\"overlay\",\"size\":10,\"solidity\":0.2}},\"type\":\"barpolar\"}],\"pie\":[{\"automargin\":true,\"type\":\"pie\"}]},\"layout\":{\"autotypenumbers\":\"strict\",\"colorway\":[\"#636efa\",\"#EF553B\",\"#00cc96\",\"#ab63fa\",\"#FFA15A\",\"#19d3f3\",\"#FF6692\",\"#B6E880\",\"#FF97FF\",\"#FECB52\"],\"font\":{\"color\":\"#2a3f5f\"},\"hovermode\":\"closest\",\"hoverlabel\":{\"align\":\"left\"},\"paper_bgcolor\":\"white\",\"plot_bgcolor\":\"#E5ECF6\",\"polar\":{\"bgcolor\":\"#E5ECF6\",\"angularaxis\":{\"gridcolor\":\"white\",\"linecolor\":\"white\",\"ticks\":\"\"},\"radialaxis\":{\"gridcolor\":\"white\",\"linecolor\":\"white\",\"ticks\":\"\"}},\"ternary\":{\"bgcolor\":\"#E5ECF6\",\"aaxis\":{\"gridcolor\":\"white\",\"linecolor\":\"white\",\"ticks\":\"\"},\"baxis\":{\"gridcolor\":\"white\",\"linecolor\":\"white\",\"ticks\":\"\"},\"caxis\":{\"gridcolor\":\"white\",\"linecolor\":\"white\",\"ticks\":\"\"}},\"coloraxis\":{\"colorbar\":{\"outlinewidth\":0,\"ticks\":\"\"}},\"colorscale\":{\"sequential\":[[0.0,\"#0d0887\"],[0.1111111111111111,\"#46039f\"],[0.2222222222222222,\"#7201a8\"],[0.3333333333333333,\"#9c179e\"],[0.4444444444444444,\"#bd3786\"],[0.5555555555555556,\"#d8576b\"],[0.6666666666666666,\"#ed7953\"],[0.7777777777777778,\"#fb9f3a\"],[0.8888888888888888,\"#fdca26\"],[1.0,\"#f0f921\"]],\"sequentialminus\":[[0.0,\"#0d0887\"],[0.1111111111111111,\"#46039f\"],[0.2222222222222222,\"#7201a8\"],[0.3333333333333333,\"#9c179e\"],[0.4444444444444444,\"#bd3786\"],[0.5555555555555556,\"#d8576b\"],[0.6666666666666666,\"#ed7953\"],[0.7777777777777778,\"#fb9f3a\"],[0.8888888888888888,\"#fdca26\"],[1.0,\"#f0f921\"]],\"diverging\":[[0,\"#8e0152\"],[0.1,\"#c51b7d\"],[0.2,\"#de77ae\"],[0.3,\"#f1b6da\"],[0.4,\"#fde0ef\"],[0.5,\"#f7f7f7\"],[0.6,\"#e6f5d0\"],[0.7,\"#b8e186\"],[0.8,\"#7fbc41\"],[0.9,\"#4d9221\"],[1,\"#276419\"]]},\"xaxis\":{\"gridcolor\":\"white\",\"linecolor\":\"white\",\"ticks\":\"\",\"title\":{\"standoff\":15},\"zerolinecolor\":\"white\",\"automargin\":true,\"zerolinewidth\":2},\"yaxis\":{\"gridcolor\":\"white\",\"linecolor\":\"white\",\"ticks\":\"\",\"title\":{\"standoff\":15},\"zerolinecolor\":\"white\",\"automargin\":true,\"zerolinewidth\":2},\"scene\":{\"xaxis\":{\"backgroundcolor\":\"#E5ECF6\",\"gridcolor\":\"white\",\"linecolor\":\"white\",\"showbackground\":true,\"ticks\":\"\",\"zerolinecolor\":\"white\",\"gridwidth\":2},\"yaxis\":{\"backgroundcolor\":\"#E5ECF6\",\"gridcolor\":\"white\",\"linecolor\":\"white\",\"showbackground\":true,\"ticks\":\"\",\"zerolinecolor\":\"white\",\"gridwidth\":2},\"zaxis\":{\"backgroundcolor\":\"#E5ECF6\",\"gridcolor\":\"white\",\"linecolor\":\"white\",\"showbackground\":true,\"ticks\":\"\",\"zerolinecolor\":\"white\",\"gridwidth\":2}},\"shapedefaults\":{\"line\":{\"color\":\"#2a3f5f\"}},\"annotationdefaults\":{\"arrowcolor\":\"#2a3f5f\",\"arrowhead\":0,\"arrowwidth\":1},\"geo\":{\"bgcolor\":\"white\",\"landcolor\":\"#E5ECF6\",\"subunitcolor\":\"white\",\"showland\":true,\"showlakes\":true,\"lakecolor\":\"white\"},\"title\":{\"x\":0.05},\"mapbox\":{\"style\":\"light\"}}},\"xaxis\":{\"anchor\":\"y\",\"domain\":[0.0,1.0],\"title\":{\"text\":\"value\"}},\"yaxis\":{\"anchor\":\"x\",\"domain\":[0.0,1.0],\"title\":{\"text\":\"count\"}},\"legend\":{\"title\":{\"text\":\"variable\"},\"tracegroupgap\":0},\"title\":{\"text\":\"histogram of DFBETAS with feature(age)\"},\"barmode\":\"relative\"},                        {\"responsive\": true}                    ).then(function(){\n",
       "                            \n",
       "var gd = document.getElementById('139cd8b8-1883-45fb-aa4d-fca23575434b');\n",
       "var x = new MutationObserver(function (mutations, observer) {{\n",
       "        var display = window.getComputedStyle(gd).display;\n",
       "        if (!display || display === 'none') {{\n",
       "            console.log([gd, 'removed!']);\n",
       "            Plotly.purge(gd);\n",
       "            observer.disconnect();\n",
       "        }}\n",
       "}});\n",
       "\n",
       "// Listen for the removal of the full notebook cells\n",
       "var notebookContainer = gd.closest('#notebook-container');\n",
       "if (notebookContainer) {{\n",
       "    x.observe(notebookContainer, {childList: true});\n",
       "}}\n",
       "\n",
       "// Listen for the clearing of the current output cell\n",
       "var outputEl = gd.closest('.output');\n",
       "if (outputEl) {{\n",
       "    x.observe(outputEl, {childList: true});\n",
       "}}\n",
       "\n",
       "                        })                };                });            </script>        </div>"
      ]
     },
     "metadata": {},
     "output_type": "display_data"
    },
    {
     "data": {
      "application/vnd.plotly.v1+json": {
       "config": {
        "plotlyServerURL": "https://plot.ly"
       },
       "data": [
        {
         "alignmentgroup": "True",
         "bingroup": "x",
         "hovertemplate": "variable=0<br>value=%{x}<br>count=%{y}<extra></extra>",
         "legendgroup": "0",
         "marker": {
          "color": "#636efa",
          "pattern": {
           "shape": ""
          }
         },
         "name": "0",
         "offsetgroup": "0",
         "orientation": "v",
         "showlegend": true,
         "type": "histogram",
         "x": [
          0.30169346218199,
          0.16070673556346238,
          0.20850108335097373,
          0.16699213963873283,
          -0.1705269501016263,
          0.07394167056717699,
          0.10378425619268832,
          -0.20032325727289357,
          0.047868321443624594,
          -0.1419402588263777,
          0.055157907657832295,
          -0.0625473809759542,
          0.0904797643124566,
          -0.06329351513944277,
          -0.05634478224497021,
          0.07529524036617638,
          0.04294690542853538,
          0.0634131360710513,
          0.03465523596521966,
          0.0075459924082963425,
          -0.0017755138527688517,
          0.046644987409694576,
          0.01350444610397626,
          -0.02680408707670167,
          0.022463773699725176,
          0.04695847681668105,
          -0.07943643784733725,
          -0.03803373284164394,
          -0.13034937138420558,
          0.060091070590630846,
          -0.010768827292342003,
          0.02842649780487852,
          0.04676871742072997,
          -0.020576580836207226,
          0.027534363319363698,
          -0.05103904150375257,
          -0.02107327088443625,
          -0.018991230698079075,
          0.04955861402710548,
          -0.027260145752437234,
          -0.037432169601354585,
          0.059652979732299945,
          0.02020764665714618,
          0.038755815660104435,
          -0.0195753773116255,
          0.05897521341959554,
          -0.18458120244418474,
          0.032447076812866196,
          -0.015290861837473595,
          -0.03706436396692317,
          -0.029202900289144528,
          -0.0339864490138567,
          0.038773731222682975,
          0.01713399631200057,
          0.043613350639812136,
          -0.019764287250681183,
          0.0059766726863919725,
          -0.14474236554465086,
          -0.037402527100490295,
          0.017895554134399756,
          -0.025525726245688198,
          -0.19288494758889302,
          0.024392054841491175,
          -0.06254874309013997,
          0.010985122461434915,
          -0.09213711146267681,
          -0.04097669089747756,
          0.02973091070966547,
          0.005765131439743615,
          0.0016945235633840162,
          0.01040659904146414,
          0.0065306350367817815,
          -0.013572609210746002,
          -0.00861389237495484,
          -0.052616843968127235,
          -0.0057957979792923045,
          -0.030490071502626295,
          0.012184860201109083,
          -0.011511261415310236,
          0.019080758812686383,
          -0.01740868007231184,
          -0.0027380969432477405,
          -0.008613892374925299,
          -0.003587038023373625,
          0.00936712364663514,
          0.00673254064936159,
          0.0298277027557711,
          0.01727682638143024,
          -0.04463767907726954,
          0.0014258387689849202,
          -0.02067601384625372,
          -0.08623664378412126,
          -0.047788677515405976,
          -0.017778074480045817,
          0.02331366020800389,
          -0.006911262206577769,
          -0.0374002065163584,
          -0.023460371811124772,
          -0.058339675367190244,
          -0.01566007053645979,
          -0.023124235845428533,
          -0.0014548023727675187,
          -0.05293195117361378,
          -0.021739805686048743,
          0.022847193351077662,
          -0.03543795222516791,
          0.027741190590635914,
          0.0652130130274333,
          -0.026450340733071974,
          0.04332930766966027,
          0.08862471613865318,
          -0.13714582788553437,
          0.022220639929354066,
          -0.03233963926071025,
          -0.15177400021384718,
          0.05693714842840739,
          0.016261677496339055,
          0.0628703118463158,
          0.047822377691373985,
          -0.04085224698089465,
          -0.13103047967499826,
          -0.04781416164656634,
          -0.014312204595393549,
          -0.02435018253987295,
          -0.03583136650085678,
          -0.04929987820266864,
          0.05769465477777043,
          -0.009641943280305378,
          0.022246343867042054,
          0.028762178199231023,
          0.05744916090453787,
          0.04568933458116309,
          0.0837651192936362,
          0.022812142170258204,
          0.015219927198160626,
          0.05433318473223083,
          0.012457326383933688,
          -0.0679333516032822,
          0.06999872976172823,
          -0.07640748022914068,
          0.03744689212762468,
          0.0661366259097245,
          0.04811812932016374,
          0.08958342067221371,
          -0.09210291859129052,
          -0.18279737944870947,
          -0.23608198842819492,
          -0.12645487492076166,
          0.14348201115765516,
          0.1484753992348417,
          0.10043488354666712,
          -0.13154309254358523,
          0.18435474685216977,
          0.3050682405134371
         ],
         "xaxis": "x",
         "yaxis": "y"
        }
       ],
       "layout": {
        "barmode": "relative",
        "legend": {
         "title": {
          "text": "variable"
         },
         "tracegroupgap": 0
        },
        "template": {
         "data": {
          "bar": [
           {
            "error_x": {
             "color": "#2a3f5f"
            },
            "error_y": {
             "color": "#2a3f5f"
            },
            "marker": {
             "line": {
              "color": "#E5ECF6",
              "width": 0.5
             },
             "pattern": {
              "fillmode": "overlay",
              "size": 10,
              "solidity": 0.2
             }
            },
            "type": "bar"
           }
          ],
          "barpolar": [
           {
            "marker": {
             "line": {
              "color": "#E5ECF6",
              "width": 0.5
             },
             "pattern": {
              "fillmode": "overlay",
              "size": 10,
              "solidity": 0.2
             }
            },
            "type": "barpolar"
           }
          ],
          "carpet": [
           {
            "aaxis": {
             "endlinecolor": "#2a3f5f",
             "gridcolor": "white",
             "linecolor": "white",
             "minorgridcolor": "white",
             "startlinecolor": "#2a3f5f"
            },
            "baxis": {
             "endlinecolor": "#2a3f5f",
             "gridcolor": "white",
             "linecolor": "white",
             "minorgridcolor": "white",
             "startlinecolor": "#2a3f5f"
            },
            "type": "carpet"
           }
          ],
          "choropleth": [
           {
            "colorbar": {
             "outlinewidth": 0,
             "ticks": ""
            },
            "type": "choropleth"
           }
          ],
          "contour": [
           {
            "colorbar": {
             "outlinewidth": 0,
             "ticks": ""
            },
            "colorscale": [
             [
              0,
              "#0d0887"
             ],
             [
              0.1111111111111111,
              "#46039f"
             ],
             [
              0.2222222222222222,
              "#7201a8"
             ],
             [
              0.3333333333333333,
              "#9c179e"
             ],
             [
              0.4444444444444444,
              "#bd3786"
             ],
             [
              0.5555555555555556,
              "#d8576b"
             ],
             [
              0.6666666666666666,
              "#ed7953"
             ],
             [
              0.7777777777777778,
              "#fb9f3a"
             ],
             [
              0.8888888888888888,
              "#fdca26"
             ],
             [
              1,
              "#f0f921"
             ]
            ],
            "type": "contour"
           }
          ],
          "contourcarpet": [
           {
            "colorbar": {
             "outlinewidth": 0,
             "ticks": ""
            },
            "type": "contourcarpet"
           }
          ],
          "heatmap": [
           {
            "colorbar": {
             "outlinewidth": 0,
             "ticks": ""
            },
            "colorscale": [
             [
              0,
              "#0d0887"
             ],
             [
              0.1111111111111111,
              "#46039f"
             ],
             [
              0.2222222222222222,
              "#7201a8"
             ],
             [
              0.3333333333333333,
              "#9c179e"
             ],
             [
              0.4444444444444444,
              "#bd3786"
             ],
             [
              0.5555555555555556,
              "#d8576b"
             ],
             [
              0.6666666666666666,
              "#ed7953"
             ],
             [
              0.7777777777777778,
              "#fb9f3a"
             ],
             [
              0.8888888888888888,
              "#fdca26"
             ],
             [
              1,
              "#f0f921"
             ]
            ],
            "type": "heatmap"
           }
          ],
          "heatmapgl": [
           {
            "colorbar": {
             "outlinewidth": 0,
             "ticks": ""
            },
            "colorscale": [
             [
              0,
              "#0d0887"
             ],
             [
              0.1111111111111111,
              "#46039f"
             ],
             [
              0.2222222222222222,
              "#7201a8"
             ],
             [
              0.3333333333333333,
              "#9c179e"
             ],
             [
              0.4444444444444444,
              "#bd3786"
             ],
             [
              0.5555555555555556,
              "#d8576b"
             ],
             [
              0.6666666666666666,
              "#ed7953"
             ],
             [
              0.7777777777777778,
              "#fb9f3a"
             ],
             [
              0.8888888888888888,
              "#fdca26"
             ],
             [
              1,
              "#f0f921"
             ]
            ],
            "type": "heatmapgl"
           }
          ],
          "histogram": [
           {
            "marker": {
             "pattern": {
              "fillmode": "overlay",
              "size": 10,
              "solidity": 0.2
             }
            },
            "type": "histogram"
           }
          ],
          "histogram2d": [
           {
            "colorbar": {
             "outlinewidth": 0,
             "ticks": ""
            },
            "colorscale": [
             [
              0,
              "#0d0887"
             ],
             [
              0.1111111111111111,
              "#46039f"
             ],
             [
              0.2222222222222222,
              "#7201a8"
             ],
             [
              0.3333333333333333,
              "#9c179e"
             ],
             [
              0.4444444444444444,
              "#bd3786"
             ],
             [
              0.5555555555555556,
              "#d8576b"
             ],
             [
              0.6666666666666666,
              "#ed7953"
             ],
             [
              0.7777777777777778,
              "#fb9f3a"
             ],
             [
              0.8888888888888888,
              "#fdca26"
             ],
             [
              1,
              "#f0f921"
             ]
            ],
            "type": "histogram2d"
           }
          ],
          "histogram2dcontour": [
           {
            "colorbar": {
             "outlinewidth": 0,
             "ticks": ""
            },
            "colorscale": [
             [
              0,
              "#0d0887"
             ],
             [
              0.1111111111111111,
              "#46039f"
             ],
             [
              0.2222222222222222,
              "#7201a8"
             ],
             [
              0.3333333333333333,
              "#9c179e"
             ],
             [
              0.4444444444444444,
              "#bd3786"
             ],
             [
              0.5555555555555556,
              "#d8576b"
             ],
             [
              0.6666666666666666,
              "#ed7953"
             ],
             [
              0.7777777777777778,
              "#fb9f3a"
             ],
             [
              0.8888888888888888,
              "#fdca26"
             ],
             [
              1,
              "#f0f921"
             ]
            ],
            "type": "histogram2dcontour"
           }
          ],
          "mesh3d": [
           {
            "colorbar": {
             "outlinewidth": 0,
             "ticks": ""
            },
            "type": "mesh3d"
           }
          ],
          "parcoords": [
           {
            "line": {
             "colorbar": {
              "outlinewidth": 0,
              "ticks": ""
             }
            },
            "type": "parcoords"
           }
          ],
          "pie": [
           {
            "automargin": true,
            "type": "pie"
           }
          ],
          "scatter": [
           {
            "fillpattern": {
             "fillmode": "overlay",
             "size": 10,
             "solidity": 0.2
            },
            "type": "scatter"
           }
          ],
          "scatter3d": [
           {
            "line": {
             "colorbar": {
              "outlinewidth": 0,
              "ticks": ""
             }
            },
            "marker": {
             "colorbar": {
              "outlinewidth": 0,
              "ticks": ""
             }
            },
            "type": "scatter3d"
           }
          ],
          "scattercarpet": [
           {
            "marker": {
             "colorbar": {
              "outlinewidth": 0,
              "ticks": ""
             }
            },
            "type": "scattercarpet"
           }
          ],
          "scattergeo": [
           {
            "marker": {
             "colorbar": {
              "outlinewidth": 0,
              "ticks": ""
             }
            },
            "type": "scattergeo"
           }
          ],
          "scattergl": [
           {
            "marker": {
             "colorbar": {
              "outlinewidth": 0,
              "ticks": ""
             }
            },
            "type": "scattergl"
           }
          ],
          "scattermapbox": [
           {
            "marker": {
             "colorbar": {
              "outlinewidth": 0,
              "ticks": ""
             }
            },
            "type": "scattermapbox"
           }
          ],
          "scatterpolar": [
           {
            "marker": {
             "colorbar": {
              "outlinewidth": 0,
              "ticks": ""
             }
            },
            "type": "scatterpolar"
           }
          ],
          "scatterpolargl": [
           {
            "marker": {
             "colorbar": {
              "outlinewidth": 0,
              "ticks": ""
             }
            },
            "type": "scatterpolargl"
           }
          ],
          "scatterternary": [
           {
            "marker": {
             "colorbar": {
              "outlinewidth": 0,
              "ticks": ""
             }
            },
            "type": "scatterternary"
           }
          ],
          "surface": [
           {
            "colorbar": {
             "outlinewidth": 0,
             "ticks": ""
            },
            "colorscale": [
             [
              0,
              "#0d0887"
             ],
             [
              0.1111111111111111,
              "#46039f"
             ],
             [
              0.2222222222222222,
              "#7201a8"
             ],
             [
              0.3333333333333333,
              "#9c179e"
             ],
             [
              0.4444444444444444,
              "#bd3786"
             ],
             [
              0.5555555555555556,
              "#d8576b"
             ],
             [
              0.6666666666666666,
              "#ed7953"
             ],
             [
              0.7777777777777778,
              "#fb9f3a"
             ],
             [
              0.8888888888888888,
              "#fdca26"
             ],
             [
              1,
              "#f0f921"
             ]
            ],
            "type": "surface"
           }
          ],
          "table": [
           {
            "cells": {
             "fill": {
              "color": "#EBF0F8"
             },
             "line": {
              "color": "white"
             }
            },
            "header": {
             "fill": {
              "color": "#C8D4E3"
             },
             "line": {
              "color": "white"
             }
            },
            "type": "table"
           }
          ]
         },
         "layout": {
          "annotationdefaults": {
           "arrowcolor": "#2a3f5f",
           "arrowhead": 0,
           "arrowwidth": 1
          },
          "autotypenumbers": "strict",
          "coloraxis": {
           "colorbar": {
            "outlinewidth": 0,
            "ticks": ""
           }
          },
          "colorscale": {
           "diverging": [
            [
             0,
             "#8e0152"
            ],
            [
             0.1,
             "#c51b7d"
            ],
            [
             0.2,
             "#de77ae"
            ],
            [
             0.3,
             "#f1b6da"
            ],
            [
             0.4,
             "#fde0ef"
            ],
            [
             0.5,
             "#f7f7f7"
            ],
            [
             0.6,
             "#e6f5d0"
            ],
            [
             0.7,
             "#b8e186"
            ],
            [
             0.8,
             "#7fbc41"
            ],
            [
             0.9,
             "#4d9221"
            ],
            [
             1,
             "#276419"
            ]
           ],
           "sequential": [
            [
             0,
             "#0d0887"
            ],
            [
             0.1111111111111111,
             "#46039f"
            ],
            [
             0.2222222222222222,
             "#7201a8"
            ],
            [
             0.3333333333333333,
             "#9c179e"
            ],
            [
             0.4444444444444444,
             "#bd3786"
            ],
            [
             0.5555555555555556,
             "#d8576b"
            ],
            [
             0.6666666666666666,
             "#ed7953"
            ],
            [
             0.7777777777777778,
             "#fb9f3a"
            ],
            [
             0.8888888888888888,
             "#fdca26"
            ],
            [
             1,
             "#f0f921"
            ]
           ],
           "sequentialminus": [
            [
             0,
             "#0d0887"
            ],
            [
             0.1111111111111111,
             "#46039f"
            ],
            [
             0.2222222222222222,
             "#7201a8"
            ],
            [
             0.3333333333333333,
             "#9c179e"
            ],
            [
             0.4444444444444444,
             "#bd3786"
            ],
            [
             0.5555555555555556,
             "#d8576b"
            ],
            [
             0.6666666666666666,
             "#ed7953"
            ],
            [
             0.7777777777777778,
             "#fb9f3a"
            ],
            [
             0.8888888888888888,
             "#fdca26"
            ],
            [
             1,
             "#f0f921"
            ]
           ]
          },
          "colorway": [
           "#636efa",
           "#EF553B",
           "#00cc96",
           "#ab63fa",
           "#FFA15A",
           "#19d3f3",
           "#FF6692",
           "#B6E880",
           "#FF97FF",
           "#FECB52"
          ],
          "font": {
           "color": "#2a3f5f"
          },
          "geo": {
           "bgcolor": "white",
           "lakecolor": "white",
           "landcolor": "#E5ECF6",
           "showlakes": true,
           "showland": true,
           "subunitcolor": "white"
          },
          "hoverlabel": {
           "align": "left"
          },
          "hovermode": "closest",
          "mapbox": {
           "style": "light"
          },
          "paper_bgcolor": "white",
          "plot_bgcolor": "#E5ECF6",
          "polar": {
           "angularaxis": {
            "gridcolor": "white",
            "linecolor": "white",
            "ticks": ""
           },
           "bgcolor": "#E5ECF6",
           "radialaxis": {
            "gridcolor": "white",
            "linecolor": "white",
            "ticks": ""
           }
          },
          "scene": {
           "xaxis": {
            "backgroundcolor": "#E5ECF6",
            "gridcolor": "white",
            "gridwidth": 2,
            "linecolor": "white",
            "showbackground": true,
            "ticks": "",
            "zerolinecolor": "white"
           },
           "yaxis": {
            "backgroundcolor": "#E5ECF6",
            "gridcolor": "white",
            "gridwidth": 2,
            "linecolor": "white",
            "showbackground": true,
            "ticks": "",
            "zerolinecolor": "white"
           },
           "zaxis": {
            "backgroundcolor": "#E5ECF6",
            "gridcolor": "white",
            "gridwidth": 2,
            "linecolor": "white",
            "showbackground": true,
            "ticks": "",
            "zerolinecolor": "white"
           }
          },
          "shapedefaults": {
           "line": {
            "color": "#2a3f5f"
           }
          },
          "ternary": {
           "aaxis": {
            "gridcolor": "white",
            "linecolor": "white",
            "ticks": ""
           },
           "baxis": {
            "gridcolor": "white",
            "linecolor": "white",
            "ticks": ""
           },
           "bgcolor": "#E5ECF6",
           "caxis": {
            "gridcolor": "white",
            "linecolor": "white",
            "ticks": ""
           }
          },
          "title": {
           "x": 0.05
          },
          "xaxis": {
           "automargin": true,
           "gridcolor": "white",
           "linecolor": "white",
           "ticks": "",
           "title": {
            "standoff": 15
           },
           "zerolinecolor": "white",
           "zerolinewidth": 2
          },
          "yaxis": {
           "automargin": true,
           "gridcolor": "white",
           "linecolor": "white",
           "ticks": "",
           "title": {
            "standoff": 15
           },
           "zerolinecolor": "white",
           "zerolinewidth": 2
          }
         }
        },
        "title": {
         "text": "histogram of DFBETAS with feature(high_educ)"
        },
        "xaxis": {
         "anchor": "y",
         "domain": [
          0,
          1
         ],
         "title": {
          "text": "value"
         }
        },
        "yaxis": {
         "anchor": "x",
         "domain": [
          0,
          1
         ],
         "title": {
          "text": "count"
         }
        }
       }
      },
      "text/html": [
       "<div>                            <div id=\"9bedabdf-99be-489c-8661-e2f29de14d95\" class=\"plotly-graph-div\" style=\"height:525px; width:100%;\"></div>            <script type=\"text/javascript\">                require([\"plotly\"], function(Plotly) {                    window.PLOTLYENV=window.PLOTLYENV || {};                                    if (document.getElementById(\"9bedabdf-99be-489c-8661-e2f29de14d95\")) {                    Plotly.newPlot(                        \"9bedabdf-99be-489c-8661-e2f29de14d95\",                        [{\"alignmentgroup\":\"True\",\"bingroup\":\"x\",\"hovertemplate\":\"variable=0\\u003cbr\\u003evalue=%{x}\\u003cbr\\u003ecount=%{y}\\u003cextra\\u003e\\u003c\\u002fextra\\u003e\",\"legendgroup\":\"0\",\"marker\":{\"color\":\"#636efa\",\"pattern\":{\"shape\":\"\"}},\"name\":\"0\",\"offsetgroup\":\"0\",\"orientation\":\"v\",\"showlegend\":true,\"x\":[0.30169346218199,0.16070673556346238,0.20850108335097373,0.16699213963873283,-0.1705269501016263,0.07394167056717699,0.10378425619268832,-0.20032325727289357,0.047868321443624594,-0.1419402588263777,0.055157907657832295,-0.0625473809759542,0.0904797643124566,-0.06329351513944277,-0.05634478224497021,0.07529524036617638,0.04294690542853538,0.0634131360710513,0.03465523596521966,0.0075459924082963425,-0.0017755138527688517,0.046644987409694576,0.01350444610397626,-0.02680408707670167,0.022463773699725176,0.04695847681668105,-0.07943643784733725,-0.03803373284164394,-0.13034937138420558,0.060091070590630846,-0.010768827292342003,0.02842649780487852,0.04676871742072997,-0.020576580836207226,0.027534363319363698,-0.05103904150375257,-0.02107327088443625,-0.018991230698079075,0.04955861402710548,-0.027260145752437234,-0.037432169601354585,0.059652979732299945,0.02020764665714618,0.038755815660104435,-0.0195753773116255,0.05897521341959554,-0.18458120244418474,0.032447076812866196,-0.015290861837473595,-0.03706436396692317,-0.029202900289144528,-0.0339864490138567,0.038773731222682975,0.01713399631200057,0.043613350639812136,-0.019764287250681183,0.0059766726863919725,-0.14474236554465086,-0.037402527100490295,0.017895554134399756,-0.025525726245688198,-0.19288494758889302,0.024392054841491175,-0.06254874309013997,0.010985122461434915,-0.09213711146267681,-0.04097669089747756,0.02973091070966547,0.005765131439743615,0.0016945235633840162,0.01040659904146414,0.0065306350367817815,-0.013572609210746002,-0.00861389237495484,-0.052616843968127235,-0.0057957979792923045,-0.030490071502626295,0.012184860201109083,-0.011511261415310236,0.019080758812686383,-0.01740868007231184,-0.0027380969432477405,-0.008613892374925299,-0.003587038023373625,0.00936712364663514,0.00673254064936159,0.0298277027557711,0.01727682638143024,-0.04463767907726954,0.0014258387689849202,-0.02067601384625372,-0.08623664378412126,-0.047788677515405976,-0.017778074480045817,0.02331366020800389,-0.006911262206577769,-0.0374002065163584,-0.023460371811124772,-0.058339675367190244,-0.01566007053645979,-0.023124235845428533,-0.0014548023727675187,-0.05293195117361378,-0.021739805686048743,0.022847193351077662,-0.03543795222516791,0.027741190590635914,0.0652130130274333,-0.026450340733071974,0.04332930766966027,0.08862471613865318,-0.13714582788553437,0.022220639929354066,-0.03233963926071025,-0.15177400021384718,0.05693714842840739,0.016261677496339055,0.0628703118463158,0.047822377691373985,-0.04085224698089465,-0.13103047967499826,-0.04781416164656634,-0.014312204595393549,-0.02435018253987295,-0.03583136650085678,-0.04929987820266864,0.05769465477777043,-0.009641943280305378,0.022246343867042054,0.028762178199231023,0.05744916090453787,0.04568933458116309,0.0837651192936362,0.022812142170258204,0.015219927198160626,0.05433318473223083,0.012457326383933688,-0.0679333516032822,0.06999872976172823,-0.07640748022914068,0.03744689212762468,0.0661366259097245,0.04811812932016374,0.08958342067221371,-0.09210291859129052,-0.18279737944870947,-0.23608198842819492,-0.12645487492076166,0.14348201115765516,0.1484753992348417,0.10043488354666712,-0.13154309254358523,0.18435474685216977,0.3050682405134371],\"xaxis\":\"x\",\"yaxis\":\"y\",\"type\":\"histogram\"}],                        {\"template\":{\"data\":{\"histogram2dcontour\":[{\"type\":\"histogram2dcontour\",\"colorbar\":{\"outlinewidth\":0,\"ticks\":\"\"},\"colorscale\":[[0.0,\"#0d0887\"],[0.1111111111111111,\"#46039f\"],[0.2222222222222222,\"#7201a8\"],[0.3333333333333333,\"#9c179e\"],[0.4444444444444444,\"#bd3786\"],[0.5555555555555556,\"#d8576b\"],[0.6666666666666666,\"#ed7953\"],[0.7777777777777778,\"#fb9f3a\"],[0.8888888888888888,\"#fdca26\"],[1.0,\"#f0f921\"]]}],\"choropleth\":[{\"type\":\"choropleth\",\"colorbar\":{\"outlinewidth\":0,\"ticks\":\"\"}}],\"histogram2d\":[{\"type\":\"histogram2d\",\"colorbar\":{\"outlinewidth\":0,\"ticks\":\"\"},\"colorscale\":[[0.0,\"#0d0887\"],[0.1111111111111111,\"#46039f\"],[0.2222222222222222,\"#7201a8\"],[0.3333333333333333,\"#9c179e\"],[0.4444444444444444,\"#bd3786\"],[0.5555555555555556,\"#d8576b\"],[0.6666666666666666,\"#ed7953\"],[0.7777777777777778,\"#fb9f3a\"],[0.8888888888888888,\"#fdca26\"],[1.0,\"#f0f921\"]]}],\"heatmap\":[{\"type\":\"heatmap\",\"colorbar\":{\"outlinewidth\":0,\"ticks\":\"\"},\"colorscale\":[[0.0,\"#0d0887\"],[0.1111111111111111,\"#46039f\"],[0.2222222222222222,\"#7201a8\"],[0.3333333333333333,\"#9c179e\"],[0.4444444444444444,\"#bd3786\"],[0.5555555555555556,\"#d8576b\"],[0.6666666666666666,\"#ed7953\"],[0.7777777777777778,\"#fb9f3a\"],[0.8888888888888888,\"#fdca26\"],[1.0,\"#f0f921\"]]}],\"heatmapgl\":[{\"type\":\"heatmapgl\",\"colorbar\":{\"outlinewidth\":0,\"ticks\":\"\"},\"colorscale\":[[0.0,\"#0d0887\"],[0.1111111111111111,\"#46039f\"],[0.2222222222222222,\"#7201a8\"],[0.3333333333333333,\"#9c179e\"],[0.4444444444444444,\"#bd3786\"],[0.5555555555555556,\"#d8576b\"],[0.6666666666666666,\"#ed7953\"],[0.7777777777777778,\"#fb9f3a\"],[0.8888888888888888,\"#fdca26\"],[1.0,\"#f0f921\"]]}],\"contourcarpet\":[{\"type\":\"contourcarpet\",\"colorbar\":{\"outlinewidth\":0,\"ticks\":\"\"}}],\"contour\":[{\"type\":\"contour\",\"colorbar\":{\"outlinewidth\":0,\"ticks\":\"\"},\"colorscale\":[[0.0,\"#0d0887\"],[0.1111111111111111,\"#46039f\"],[0.2222222222222222,\"#7201a8\"],[0.3333333333333333,\"#9c179e\"],[0.4444444444444444,\"#bd3786\"],[0.5555555555555556,\"#d8576b\"],[0.6666666666666666,\"#ed7953\"],[0.7777777777777778,\"#fb9f3a\"],[0.8888888888888888,\"#fdca26\"],[1.0,\"#f0f921\"]]}],\"surface\":[{\"type\":\"surface\",\"colorbar\":{\"outlinewidth\":0,\"ticks\":\"\"},\"colorscale\":[[0.0,\"#0d0887\"],[0.1111111111111111,\"#46039f\"],[0.2222222222222222,\"#7201a8\"],[0.3333333333333333,\"#9c179e\"],[0.4444444444444444,\"#bd3786\"],[0.5555555555555556,\"#d8576b\"],[0.6666666666666666,\"#ed7953\"],[0.7777777777777778,\"#fb9f3a\"],[0.8888888888888888,\"#fdca26\"],[1.0,\"#f0f921\"]]}],\"mesh3d\":[{\"type\":\"mesh3d\",\"colorbar\":{\"outlinewidth\":0,\"ticks\":\"\"}}],\"scatter\":[{\"fillpattern\":{\"fillmode\":\"overlay\",\"size\":10,\"solidity\":0.2},\"type\":\"scatter\"}],\"parcoords\":[{\"type\":\"parcoords\",\"line\":{\"colorbar\":{\"outlinewidth\":0,\"ticks\":\"\"}}}],\"scatterpolargl\":[{\"type\":\"scatterpolargl\",\"marker\":{\"colorbar\":{\"outlinewidth\":0,\"ticks\":\"\"}}}],\"bar\":[{\"error_x\":{\"color\":\"#2a3f5f\"},\"error_y\":{\"color\":\"#2a3f5f\"},\"marker\":{\"line\":{\"color\":\"#E5ECF6\",\"width\":0.5},\"pattern\":{\"fillmode\":\"overlay\",\"size\":10,\"solidity\":0.2}},\"type\":\"bar\"}],\"scattergeo\":[{\"type\":\"scattergeo\",\"marker\":{\"colorbar\":{\"outlinewidth\":0,\"ticks\":\"\"}}}],\"scatterpolar\":[{\"type\":\"scatterpolar\",\"marker\":{\"colorbar\":{\"outlinewidth\":0,\"ticks\":\"\"}}}],\"histogram\":[{\"marker\":{\"pattern\":{\"fillmode\":\"overlay\",\"size\":10,\"solidity\":0.2}},\"type\":\"histogram\"}],\"scattergl\":[{\"type\":\"scattergl\",\"marker\":{\"colorbar\":{\"outlinewidth\":0,\"ticks\":\"\"}}}],\"scatter3d\":[{\"type\":\"scatter3d\",\"line\":{\"colorbar\":{\"outlinewidth\":0,\"ticks\":\"\"}},\"marker\":{\"colorbar\":{\"outlinewidth\":0,\"ticks\":\"\"}}}],\"scattermapbox\":[{\"type\":\"scattermapbox\",\"marker\":{\"colorbar\":{\"outlinewidth\":0,\"ticks\":\"\"}}}],\"scatterternary\":[{\"type\":\"scatterternary\",\"marker\":{\"colorbar\":{\"outlinewidth\":0,\"ticks\":\"\"}}}],\"scattercarpet\":[{\"type\":\"scattercarpet\",\"marker\":{\"colorbar\":{\"outlinewidth\":0,\"ticks\":\"\"}}}],\"carpet\":[{\"aaxis\":{\"endlinecolor\":\"#2a3f5f\",\"gridcolor\":\"white\",\"linecolor\":\"white\",\"minorgridcolor\":\"white\",\"startlinecolor\":\"#2a3f5f\"},\"baxis\":{\"endlinecolor\":\"#2a3f5f\",\"gridcolor\":\"white\",\"linecolor\":\"white\",\"minorgridcolor\":\"white\",\"startlinecolor\":\"#2a3f5f\"},\"type\":\"carpet\"}],\"table\":[{\"cells\":{\"fill\":{\"color\":\"#EBF0F8\"},\"line\":{\"color\":\"white\"}},\"header\":{\"fill\":{\"color\":\"#C8D4E3\"},\"line\":{\"color\":\"white\"}},\"type\":\"table\"}],\"barpolar\":[{\"marker\":{\"line\":{\"color\":\"#E5ECF6\",\"width\":0.5},\"pattern\":{\"fillmode\":\"overlay\",\"size\":10,\"solidity\":0.2}},\"type\":\"barpolar\"}],\"pie\":[{\"automargin\":true,\"type\":\"pie\"}]},\"layout\":{\"autotypenumbers\":\"strict\",\"colorway\":[\"#636efa\",\"#EF553B\",\"#00cc96\",\"#ab63fa\",\"#FFA15A\",\"#19d3f3\",\"#FF6692\",\"#B6E880\",\"#FF97FF\",\"#FECB52\"],\"font\":{\"color\":\"#2a3f5f\"},\"hovermode\":\"closest\",\"hoverlabel\":{\"align\":\"left\"},\"paper_bgcolor\":\"white\",\"plot_bgcolor\":\"#E5ECF6\",\"polar\":{\"bgcolor\":\"#E5ECF6\",\"angularaxis\":{\"gridcolor\":\"white\",\"linecolor\":\"white\",\"ticks\":\"\"},\"radialaxis\":{\"gridcolor\":\"white\",\"linecolor\":\"white\",\"ticks\":\"\"}},\"ternary\":{\"bgcolor\":\"#E5ECF6\",\"aaxis\":{\"gridcolor\":\"white\",\"linecolor\":\"white\",\"ticks\":\"\"},\"baxis\":{\"gridcolor\":\"white\",\"linecolor\":\"white\",\"ticks\":\"\"},\"caxis\":{\"gridcolor\":\"white\",\"linecolor\":\"white\",\"ticks\":\"\"}},\"coloraxis\":{\"colorbar\":{\"outlinewidth\":0,\"ticks\":\"\"}},\"colorscale\":{\"sequential\":[[0.0,\"#0d0887\"],[0.1111111111111111,\"#46039f\"],[0.2222222222222222,\"#7201a8\"],[0.3333333333333333,\"#9c179e\"],[0.4444444444444444,\"#bd3786\"],[0.5555555555555556,\"#d8576b\"],[0.6666666666666666,\"#ed7953\"],[0.7777777777777778,\"#fb9f3a\"],[0.8888888888888888,\"#fdca26\"],[1.0,\"#f0f921\"]],\"sequentialminus\":[[0.0,\"#0d0887\"],[0.1111111111111111,\"#46039f\"],[0.2222222222222222,\"#7201a8\"],[0.3333333333333333,\"#9c179e\"],[0.4444444444444444,\"#bd3786\"],[0.5555555555555556,\"#d8576b\"],[0.6666666666666666,\"#ed7953\"],[0.7777777777777778,\"#fb9f3a\"],[0.8888888888888888,\"#fdca26\"],[1.0,\"#f0f921\"]],\"diverging\":[[0,\"#8e0152\"],[0.1,\"#c51b7d\"],[0.2,\"#de77ae\"],[0.3,\"#f1b6da\"],[0.4,\"#fde0ef\"],[0.5,\"#f7f7f7\"],[0.6,\"#e6f5d0\"],[0.7,\"#b8e186\"],[0.8,\"#7fbc41\"],[0.9,\"#4d9221\"],[1,\"#276419\"]]},\"xaxis\":{\"gridcolor\":\"white\",\"linecolor\":\"white\",\"ticks\":\"\",\"title\":{\"standoff\":15},\"zerolinecolor\":\"white\",\"automargin\":true,\"zerolinewidth\":2},\"yaxis\":{\"gridcolor\":\"white\",\"linecolor\":\"white\",\"ticks\":\"\",\"title\":{\"standoff\":15},\"zerolinecolor\":\"white\",\"automargin\":true,\"zerolinewidth\":2},\"scene\":{\"xaxis\":{\"backgroundcolor\":\"#E5ECF6\",\"gridcolor\":\"white\",\"linecolor\":\"white\",\"showbackground\":true,\"ticks\":\"\",\"zerolinecolor\":\"white\",\"gridwidth\":2},\"yaxis\":{\"backgroundcolor\":\"#E5ECF6\",\"gridcolor\":\"white\",\"linecolor\":\"white\",\"showbackground\":true,\"ticks\":\"\",\"zerolinecolor\":\"white\",\"gridwidth\":2},\"zaxis\":{\"backgroundcolor\":\"#E5ECF6\",\"gridcolor\":\"white\",\"linecolor\":\"white\",\"showbackground\":true,\"ticks\":\"\",\"zerolinecolor\":\"white\",\"gridwidth\":2}},\"shapedefaults\":{\"line\":{\"color\":\"#2a3f5f\"}},\"annotationdefaults\":{\"arrowcolor\":\"#2a3f5f\",\"arrowhead\":0,\"arrowwidth\":1},\"geo\":{\"bgcolor\":\"white\",\"landcolor\":\"#E5ECF6\",\"subunitcolor\":\"white\",\"showland\":true,\"showlakes\":true,\"lakecolor\":\"white\"},\"title\":{\"x\":0.05},\"mapbox\":{\"style\":\"light\"}}},\"xaxis\":{\"anchor\":\"y\",\"domain\":[0.0,1.0],\"title\":{\"text\":\"value\"}},\"yaxis\":{\"anchor\":\"x\",\"domain\":[0.0,1.0],\"title\":{\"text\":\"count\"}},\"legend\":{\"title\":{\"text\":\"variable\"},\"tracegroupgap\":0},\"title\":{\"text\":\"histogram of DFBETAS with feature(high_educ)\"},\"barmode\":\"relative\"},                        {\"responsive\": true}                    ).then(function(){\n",
       "                            \n",
       "var gd = document.getElementById('9bedabdf-99be-489c-8661-e2f29de14d95');\n",
       "var x = new MutationObserver(function (mutations, observer) {{\n",
       "        var display = window.getComputedStyle(gd).display;\n",
       "        if (!display || display === 'none') {{\n",
       "            console.log([gd, 'removed!']);\n",
       "            Plotly.purge(gd);\n",
       "            observer.disconnect();\n",
       "        }}\n",
       "}});\n",
       "\n",
       "// Listen for the removal of the full notebook cells\n",
       "var notebookContainer = gd.closest('#notebook-container');\n",
       "if (notebookContainer) {{\n",
       "    x.observe(notebookContainer, {childList: true});\n",
       "}}\n",
       "\n",
       "// Listen for the clearing of the current output cell\n",
       "var outputEl = gd.closest('.output');\n",
       "if (outputEl) {{\n",
       "    x.observe(outputEl, {childList: true});\n",
       "}}\n",
       "\n",
       "                        })                };                });            </script>        </div>"
      ]
     },
     "metadata": {},
     "output_type": "display_data"
    },
    {
     "data": {
      "application/vnd.plotly.v1+json": {
       "config": {
        "plotlyServerURL": "https://plot.ly"
       },
       "data": [
        {
         "alignmentgroup": "True",
         "bingroup": "x",
         "hovertemplate": "variable=0<br>value=%{x}<br>count=%{y}<extra></extra>",
         "legendgroup": "0",
         "marker": {
          "color": "#636efa",
          "pattern": {
           "shape": ""
          }
         },
         "name": "0",
         "offsetgroup": "0",
         "orientation": "v",
         "showlegend": true,
         "type": "histogram",
         "x": [
          0.2530889607660816,
          -0.22586804671752927,
          -0.15940748706937397,
          0.1273811253642454,
          -0.15383274982149373,
          0.0976438783163283,
          -0.07978785553545498,
          0.2736173116941179,
          -0.06750951120078273,
          -0.13444514873075653,
          -0.07749101974465128,
          -0.10731180795741037,
          -0.12625734279751957,
          -0.06906375231778028,
          -0.10122207403739134,
          -0.05992018741864887,
          -0.06003063046307287,
          0.05820438195577956,
          -0.027070426457197858,
          -0.010612231733884776,
          0.0013420167312908195,
          -0.0650260044204077,
          -0.010410358724432387,
          0.019802285657742065,
          -0.031388704415259164,
          0.04629584616793792,
          -0.07016805437649953,
          -0.09430036349097683,
          0.17788157887001518,
          0.04149922983402052,
          0.015129062065136152,
          0.031895471902447306,
          0.03529669766957413,
          -0.026299998318314536,
          0.030535418059355484,
          -0.043522176563019155,
          -0.027548395841533922,
          -0.022686278927918087,
          0.03556247458064229,
          -0.052505279124517724,
          0.028972523110878102,
          0.040960675158069525,
          0.024888551750907505,
          0.029344586330150812,
          -0.029969385195909776,
          0.03690046874634066,
          0.12731753688608421,
          0.027366372720906036,
          -0.021147302572807034,
          -0.03182994100847473,
          -0.023021162925739035,
          0.02711091291006303,
          0.02677735589859432,
          0.01813121653245923,
          0.02641396721588506,
          -0.01673452774286978,
          0.0049776304490599665,
          0.1038413099179728,
          0.052317579553559715,
          0.013349994057563395,
          0.03559588131724614,
          0.11885354144315766,
          0.020075894326656487,
          0.04965710252614119,
          0.01083011149608804,
          0.12685909584530566,
          -0.05311807638483338,
          0.017289669430793055,
          0.005888994351346416,
          0.0016314126116382106,
          0.009063939496160923,
          0.004867280965336089,
          -0.018995395130438252,
          -0.010009431333159381,
          0.07181274286722548,
          -0.006133120740011582,
          -0.025209974685378653,
          0.00788605811877747,
          -0.014852201872765428,
          0.02129809306422349,
          -0.02080731957597722,
          -0.0026361190728552784,
          -0.010009431333152465,
          -0.007965652837704026,
          0.005673099940283825,
          0.004357309478442834,
          0.024547151067596567,
          0.02585828467444038,
          0.061113687011570314,
          0.003624640630892696,
          -0.024879923394475936,
          0.05867677477058217,
          0.06549663772856856,
          -0.019034953890863338,
          0.03047718332135461,
          -0.005150962317552669,
          0.027653692440695505,
          -0.025714726973844942,
          0.04046945095525769,
          0.021395410632296864,
          -0.01767157565940179,
          0.0010837044728391598,
          0.036015735781192965,
          -0.01579917109589996,
          0.03965105139259208,
          -0.04789752323660641,
          0.0320518627041918,
          0.055608651408160625,
          0.036268371006268285,
          0.047735775139650126,
          0.06986443158989372,
          0.19225959557081831,
          0.0470343515913768,
          -0.0198503980504778,
          0.21225944875902136,
          0.0644578793670209,
          -0.022191536770809667,
          0.06786192493904307,
          0.06613847548557285,
          -0.030447171370082408,
          0.18149250865316635,
          -0.05364907277016055,
          0.009539971563205636,
          0.01584228810974206,
          0.022598537714534715,
          -0.03674318920235022,
          0.07181625291312621,
          0.013283080675897825,
          0.06182250147198919,
          -0.03929082459431697,
          0.08035290942939938,
          0.08303359722113714,
          0.0994423082927186,
          -0.031284656865862924,
          -0.020914130769256037,
          0.09007360830062093,
          -0.008086203659152535,
          -0.07533761602962534,
          -0.09535231264428368,
          -0.0952067351270395,
          -0.05142181287235673,
          -0.04472969429591071,
          -0.031377153227757026,
          -0.06167333542064342,
          -0.04859282803699513,
          -0.10905528439887036,
          -0.19378601337062007,
          -0.12467047130519493,
          0.1656879479548219,
          -0.09480005415625528,
          -0.13805843058187714,
          -0.1266438925827,
          -0.2524010775452399,
          -0.41510243937229074
         ],
         "xaxis": "x",
         "yaxis": "y"
        }
       ],
       "layout": {
        "barmode": "relative",
        "legend": {
         "title": {
          "text": "variable"
         },
         "tracegroupgap": 0
        },
        "template": {
         "data": {
          "bar": [
           {
            "error_x": {
             "color": "#2a3f5f"
            },
            "error_y": {
             "color": "#2a3f5f"
            },
            "marker": {
             "line": {
              "color": "#E5ECF6",
              "width": 0.5
             },
             "pattern": {
              "fillmode": "overlay",
              "size": 10,
              "solidity": 0.2
             }
            },
            "type": "bar"
           }
          ],
          "barpolar": [
           {
            "marker": {
             "line": {
              "color": "#E5ECF6",
              "width": 0.5
             },
             "pattern": {
              "fillmode": "overlay",
              "size": 10,
              "solidity": 0.2
             }
            },
            "type": "barpolar"
           }
          ],
          "carpet": [
           {
            "aaxis": {
             "endlinecolor": "#2a3f5f",
             "gridcolor": "white",
             "linecolor": "white",
             "minorgridcolor": "white",
             "startlinecolor": "#2a3f5f"
            },
            "baxis": {
             "endlinecolor": "#2a3f5f",
             "gridcolor": "white",
             "linecolor": "white",
             "minorgridcolor": "white",
             "startlinecolor": "#2a3f5f"
            },
            "type": "carpet"
           }
          ],
          "choropleth": [
           {
            "colorbar": {
             "outlinewidth": 0,
             "ticks": ""
            },
            "type": "choropleth"
           }
          ],
          "contour": [
           {
            "colorbar": {
             "outlinewidth": 0,
             "ticks": ""
            },
            "colorscale": [
             [
              0,
              "#0d0887"
             ],
             [
              0.1111111111111111,
              "#46039f"
             ],
             [
              0.2222222222222222,
              "#7201a8"
             ],
             [
              0.3333333333333333,
              "#9c179e"
             ],
             [
              0.4444444444444444,
              "#bd3786"
             ],
             [
              0.5555555555555556,
              "#d8576b"
             ],
             [
              0.6666666666666666,
              "#ed7953"
             ],
             [
              0.7777777777777778,
              "#fb9f3a"
             ],
             [
              0.8888888888888888,
              "#fdca26"
             ],
             [
              1,
              "#f0f921"
             ]
            ],
            "type": "contour"
           }
          ],
          "contourcarpet": [
           {
            "colorbar": {
             "outlinewidth": 0,
             "ticks": ""
            },
            "type": "contourcarpet"
           }
          ],
          "heatmap": [
           {
            "colorbar": {
             "outlinewidth": 0,
             "ticks": ""
            },
            "colorscale": [
             [
              0,
              "#0d0887"
             ],
             [
              0.1111111111111111,
              "#46039f"
             ],
             [
              0.2222222222222222,
              "#7201a8"
             ],
             [
              0.3333333333333333,
              "#9c179e"
             ],
             [
              0.4444444444444444,
              "#bd3786"
             ],
             [
              0.5555555555555556,
              "#d8576b"
             ],
             [
              0.6666666666666666,
              "#ed7953"
             ],
             [
              0.7777777777777778,
              "#fb9f3a"
             ],
             [
              0.8888888888888888,
              "#fdca26"
             ],
             [
              1,
              "#f0f921"
             ]
            ],
            "type": "heatmap"
           }
          ],
          "heatmapgl": [
           {
            "colorbar": {
             "outlinewidth": 0,
             "ticks": ""
            },
            "colorscale": [
             [
              0,
              "#0d0887"
             ],
             [
              0.1111111111111111,
              "#46039f"
             ],
             [
              0.2222222222222222,
              "#7201a8"
             ],
             [
              0.3333333333333333,
              "#9c179e"
             ],
             [
              0.4444444444444444,
              "#bd3786"
             ],
             [
              0.5555555555555556,
              "#d8576b"
             ],
             [
              0.6666666666666666,
              "#ed7953"
             ],
             [
              0.7777777777777778,
              "#fb9f3a"
             ],
             [
              0.8888888888888888,
              "#fdca26"
             ],
             [
              1,
              "#f0f921"
             ]
            ],
            "type": "heatmapgl"
           }
          ],
          "histogram": [
           {
            "marker": {
             "pattern": {
              "fillmode": "overlay",
              "size": 10,
              "solidity": 0.2
             }
            },
            "type": "histogram"
           }
          ],
          "histogram2d": [
           {
            "colorbar": {
             "outlinewidth": 0,
             "ticks": ""
            },
            "colorscale": [
             [
              0,
              "#0d0887"
             ],
             [
              0.1111111111111111,
              "#46039f"
             ],
             [
              0.2222222222222222,
              "#7201a8"
             ],
             [
              0.3333333333333333,
              "#9c179e"
             ],
             [
              0.4444444444444444,
              "#bd3786"
             ],
             [
              0.5555555555555556,
              "#d8576b"
             ],
             [
              0.6666666666666666,
              "#ed7953"
             ],
             [
              0.7777777777777778,
              "#fb9f3a"
             ],
             [
              0.8888888888888888,
              "#fdca26"
             ],
             [
              1,
              "#f0f921"
             ]
            ],
            "type": "histogram2d"
           }
          ],
          "histogram2dcontour": [
           {
            "colorbar": {
             "outlinewidth": 0,
             "ticks": ""
            },
            "colorscale": [
             [
              0,
              "#0d0887"
             ],
             [
              0.1111111111111111,
              "#46039f"
             ],
             [
              0.2222222222222222,
              "#7201a8"
             ],
             [
              0.3333333333333333,
              "#9c179e"
             ],
             [
              0.4444444444444444,
              "#bd3786"
             ],
             [
              0.5555555555555556,
              "#d8576b"
             ],
             [
              0.6666666666666666,
              "#ed7953"
             ],
             [
              0.7777777777777778,
              "#fb9f3a"
             ],
             [
              0.8888888888888888,
              "#fdca26"
             ],
             [
              1,
              "#f0f921"
             ]
            ],
            "type": "histogram2dcontour"
           }
          ],
          "mesh3d": [
           {
            "colorbar": {
             "outlinewidth": 0,
             "ticks": ""
            },
            "type": "mesh3d"
           }
          ],
          "parcoords": [
           {
            "line": {
             "colorbar": {
              "outlinewidth": 0,
              "ticks": ""
             }
            },
            "type": "parcoords"
           }
          ],
          "pie": [
           {
            "automargin": true,
            "type": "pie"
           }
          ],
          "scatter": [
           {
            "fillpattern": {
             "fillmode": "overlay",
             "size": 10,
             "solidity": 0.2
            },
            "type": "scatter"
           }
          ],
          "scatter3d": [
           {
            "line": {
             "colorbar": {
              "outlinewidth": 0,
              "ticks": ""
             }
            },
            "marker": {
             "colorbar": {
              "outlinewidth": 0,
              "ticks": ""
             }
            },
            "type": "scatter3d"
           }
          ],
          "scattercarpet": [
           {
            "marker": {
             "colorbar": {
              "outlinewidth": 0,
              "ticks": ""
             }
            },
            "type": "scattercarpet"
           }
          ],
          "scattergeo": [
           {
            "marker": {
             "colorbar": {
              "outlinewidth": 0,
              "ticks": ""
             }
            },
            "type": "scattergeo"
           }
          ],
          "scattergl": [
           {
            "marker": {
             "colorbar": {
              "outlinewidth": 0,
              "ticks": ""
             }
            },
            "type": "scattergl"
           }
          ],
          "scattermapbox": [
           {
            "marker": {
             "colorbar": {
              "outlinewidth": 0,
              "ticks": ""
             }
            },
            "type": "scattermapbox"
           }
          ],
          "scatterpolar": [
           {
            "marker": {
             "colorbar": {
              "outlinewidth": 0,
              "ticks": ""
             }
            },
            "type": "scatterpolar"
           }
          ],
          "scatterpolargl": [
           {
            "marker": {
             "colorbar": {
              "outlinewidth": 0,
              "ticks": ""
             }
            },
            "type": "scatterpolargl"
           }
          ],
          "scatterternary": [
           {
            "marker": {
             "colorbar": {
              "outlinewidth": 0,
              "ticks": ""
             }
            },
            "type": "scatterternary"
           }
          ],
          "surface": [
           {
            "colorbar": {
             "outlinewidth": 0,
             "ticks": ""
            },
            "colorscale": [
             [
              0,
              "#0d0887"
             ],
             [
              0.1111111111111111,
              "#46039f"
             ],
             [
              0.2222222222222222,
              "#7201a8"
             ],
             [
              0.3333333333333333,
              "#9c179e"
             ],
             [
              0.4444444444444444,
              "#bd3786"
             ],
             [
              0.5555555555555556,
              "#d8576b"
             ],
             [
              0.6666666666666666,
              "#ed7953"
             ],
             [
              0.7777777777777778,
              "#fb9f3a"
             ],
             [
              0.8888888888888888,
              "#fdca26"
             ],
             [
              1,
              "#f0f921"
             ]
            ],
            "type": "surface"
           }
          ],
          "table": [
           {
            "cells": {
             "fill": {
              "color": "#EBF0F8"
             },
             "line": {
              "color": "white"
             }
            },
            "header": {
             "fill": {
              "color": "#C8D4E3"
             },
             "line": {
              "color": "white"
             }
            },
            "type": "table"
           }
          ]
         },
         "layout": {
          "annotationdefaults": {
           "arrowcolor": "#2a3f5f",
           "arrowhead": 0,
           "arrowwidth": 1
          },
          "autotypenumbers": "strict",
          "coloraxis": {
           "colorbar": {
            "outlinewidth": 0,
            "ticks": ""
           }
          },
          "colorscale": {
           "diverging": [
            [
             0,
             "#8e0152"
            ],
            [
             0.1,
             "#c51b7d"
            ],
            [
             0.2,
             "#de77ae"
            ],
            [
             0.3,
             "#f1b6da"
            ],
            [
             0.4,
             "#fde0ef"
            ],
            [
             0.5,
             "#f7f7f7"
            ],
            [
             0.6,
             "#e6f5d0"
            ],
            [
             0.7,
             "#b8e186"
            ],
            [
             0.8,
             "#7fbc41"
            ],
            [
             0.9,
             "#4d9221"
            ],
            [
             1,
             "#276419"
            ]
           ],
           "sequential": [
            [
             0,
             "#0d0887"
            ],
            [
             0.1111111111111111,
             "#46039f"
            ],
            [
             0.2222222222222222,
             "#7201a8"
            ],
            [
             0.3333333333333333,
             "#9c179e"
            ],
            [
             0.4444444444444444,
             "#bd3786"
            ],
            [
             0.5555555555555556,
             "#d8576b"
            ],
            [
             0.6666666666666666,
             "#ed7953"
            ],
            [
             0.7777777777777778,
             "#fb9f3a"
            ],
            [
             0.8888888888888888,
             "#fdca26"
            ],
            [
             1,
             "#f0f921"
            ]
           ],
           "sequentialminus": [
            [
             0,
             "#0d0887"
            ],
            [
             0.1111111111111111,
             "#46039f"
            ],
            [
             0.2222222222222222,
             "#7201a8"
            ],
            [
             0.3333333333333333,
             "#9c179e"
            ],
            [
             0.4444444444444444,
             "#bd3786"
            ],
            [
             0.5555555555555556,
             "#d8576b"
            ],
            [
             0.6666666666666666,
             "#ed7953"
            ],
            [
             0.7777777777777778,
             "#fb9f3a"
            ],
            [
             0.8888888888888888,
             "#fdca26"
            ],
            [
             1,
             "#f0f921"
            ]
           ]
          },
          "colorway": [
           "#636efa",
           "#EF553B",
           "#00cc96",
           "#ab63fa",
           "#FFA15A",
           "#19d3f3",
           "#FF6692",
           "#B6E880",
           "#FF97FF",
           "#FECB52"
          ],
          "font": {
           "color": "#2a3f5f"
          },
          "geo": {
           "bgcolor": "white",
           "lakecolor": "white",
           "landcolor": "#E5ECF6",
           "showlakes": true,
           "showland": true,
           "subunitcolor": "white"
          },
          "hoverlabel": {
           "align": "left"
          },
          "hovermode": "closest",
          "mapbox": {
           "style": "light"
          },
          "paper_bgcolor": "white",
          "plot_bgcolor": "#E5ECF6",
          "polar": {
           "angularaxis": {
            "gridcolor": "white",
            "linecolor": "white",
            "ticks": ""
           },
           "bgcolor": "#E5ECF6",
           "radialaxis": {
            "gridcolor": "white",
            "linecolor": "white",
            "ticks": ""
           }
          },
          "scene": {
           "xaxis": {
            "backgroundcolor": "#E5ECF6",
            "gridcolor": "white",
            "gridwidth": 2,
            "linecolor": "white",
            "showbackground": true,
            "ticks": "",
            "zerolinecolor": "white"
           },
           "yaxis": {
            "backgroundcolor": "#E5ECF6",
            "gridcolor": "white",
            "gridwidth": 2,
            "linecolor": "white",
            "showbackground": true,
            "ticks": "",
            "zerolinecolor": "white"
           },
           "zaxis": {
            "backgroundcolor": "#E5ECF6",
            "gridcolor": "white",
            "gridwidth": 2,
            "linecolor": "white",
            "showbackground": true,
            "ticks": "",
            "zerolinecolor": "white"
           }
          },
          "shapedefaults": {
           "line": {
            "color": "#2a3f5f"
           }
          },
          "ternary": {
           "aaxis": {
            "gridcolor": "white",
            "linecolor": "white",
            "ticks": ""
           },
           "baxis": {
            "gridcolor": "white",
            "linecolor": "white",
            "ticks": ""
           },
           "bgcolor": "#E5ECF6",
           "caxis": {
            "gridcolor": "white",
            "linecolor": "white",
            "ticks": ""
           }
          },
          "title": {
           "x": 0.05
          },
          "xaxis": {
           "automargin": true,
           "gridcolor": "white",
           "linecolor": "white",
           "ticks": "",
           "title": {
            "standoff": 15
           },
           "zerolinecolor": "white",
           "zerolinewidth": 2
          },
          "yaxis": {
           "automargin": true,
           "gridcolor": "white",
           "linecolor": "white",
           "ticks": "",
           "title": {
            "standoff": 15
           },
           "zerolinecolor": "white",
           "zerolinewidth": 2
          }
         }
        },
        "title": {
         "text": "histogram of DFBETAS with feature(is_female)"
        },
        "xaxis": {
         "anchor": "y",
         "domain": [
          0,
          1
         ],
         "title": {
          "text": "value"
         }
        },
        "yaxis": {
         "anchor": "x",
         "domain": [
          0,
          1
         ],
         "title": {
          "text": "count"
         }
        }
       }
      },
      "text/html": [
       "<div>                            <div id=\"df7afdd3-9d9b-47e8-8420-35d2b23959ea\" class=\"plotly-graph-div\" style=\"height:525px; width:100%;\"></div>            <script type=\"text/javascript\">                require([\"plotly\"], function(Plotly) {                    window.PLOTLYENV=window.PLOTLYENV || {};                                    if (document.getElementById(\"df7afdd3-9d9b-47e8-8420-35d2b23959ea\")) {                    Plotly.newPlot(                        \"df7afdd3-9d9b-47e8-8420-35d2b23959ea\",                        [{\"alignmentgroup\":\"True\",\"bingroup\":\"x\",\"hovertemplate\":\"variable=0\\u003cbr\\u003evalue=%{x}\\u003cbr\\u003ecount=%{y}\\u003cextra\\u003e\\u003c\\u002fextra\\u003e\",\"legendgroup\":\"0\",\"marker\":{\"color\":\"#636efa\",\"pattern\":{\"shape\":\"\"}},\"name\":\"0\",\"offsetgroup\":\"0\",\"orientation\":\"v\",\"showlegend\":true,\"x\":[0.2530889607660816,-0.22586804671752927,-0.15940748706937397,0.1273811253642454,-0.15383274982149373,0.0976438783163283,-0.07978785553545498,0.2736173116941179,-0.06750951120078273,-0.13444514873075653,-0.07749101974465128,-0.10731180795741037,-0.12625734279751957,-0.06906375231778028,-0.10122207403739134,-0.05992018741864887,-0.06003063046307287,0.05820438195577956,-0.027070426457197858,-0.010612231733884776,0.0013420167312908195,-0.0650260044204077,-0.010410358724432387,0.019802285657742065,-0.031388704415259164,0.04629584616793792,-0.07016805437649953,-0.09430036349097683,0.17788157887001518,0.04149922983402052,0.015129062065136152,0.031895471902447306,0.03529669766957413,-0.026299998318314536,0.030535418059355484,-0.043522176563019155,-0.027548395841533922,-0.022686278927918087,0.03556247458064229,-0.052505279124517724,0.028972523110878102,0.040960675158069525,0.024888551750907505,0.029344586330150812,-0.029969385195909776,0.03690046874634066,0.12731753688608421,0.027366372720906036,-0.021147302572807034,-0.03182994100847473,-0.023021162925739035,0.02711091291006303,0.02677735589859432,0.01813121653245923,0.02641396721588506,-0.01673452774286978,0.0049776304490599665,0.1038413099179728,0.052317579553559715,0.013349994057563395,0.03559588131724614,0.11885354144315766,0.020075894326656487,0.04965710252614119,0.01083011149608804,0.12685909584530566,-0.05311807638483338,0.017289669430793055,0.005888994351346416,0.0016314126116382106,0.009063939496160923,0.004867280965336089,-0.018995395130438252,-0.010009431333159381,0.07181274286722548,-0.006133120740011582,-0.025209974685378653,0.00788605811877747,-0.014852201872765428,0.02129809306422349,-0.02080731957597722,-0.0026361190728552784,-0.010009431333152465,-0.007965652837704026,0.005673099940283825,0.004357309478442834,0.024547151067596567,0.02585828467444038,0.061113687011570314,0.003624640630892696,-0.024879923394475936,0.05867677477058217,0.06549663772856856,-0.019034953890863338,0.03047718332135461,-0.005150962317552669,0.027653692440695505,-0.025714726973844942,0.04046945095525769,0.021395410632296864,-0.01767157565940179,0.0010837044728391598,0.036015735781192965,-0.01579917109589996,0.03965105139259208,-0.04789752323660641,0.0320518627041918,0.055608651408160625,0.036268371006268285,0.047735775139650126,0.06986443158989372,0.19225959557081831,0.0470343515913768,-0.0198503980504778,0.21225944875902136,0.0644578793670209,-0.022191536770809667,0.06786192493904307,0.06613847548557285,-0.030447171370082408,0.18149250865316635,-0.05364907277016055,0.009539971563205636,0.01584228810974206,0.022598537714534715,-0.03674318920235022,0.07181625291312621,0.013283080675897825,0.06182250147198919,-0.03929082459431697,0.08035290942939938,0.08303359722113714,0.0994423082927186,-0.031284656865862924,-0.020914130769256037,0.09007360830062093,-0.008086203659152535,-0.07533761602962534,-0.09535231264428368,-0.0952067351270395,-0.05142181287235673,-0.04472969429591071,-0.031377153227757026,-0.06167333542064342,-0.04859282803699513,-0.10905528439887036,-0.19378601337062007,-0.12467047130519493,0.1656879479548219,-0.09480005415625528,-0.13805843058187714,-0.1266438925827,-0.2524010775452399,-0.41510243937229074],\"xaxis\":\"x\",\"yaxis\":\"y\",\"type\":\"histogram\"}],                        {\"template\":{\"data\":{\"histogram2dcontour\":[{\"type\":\"histogram2dcontour\",\"colorbar\":{\"outlinewidth\":0,\"ticks\":\"\"},\"colorscale\":[[0.0,\"#0d0887\"],[0.1111111111111111,\"#46039f\"],[0.2222222222222222,\"#7201a8\"],[0.3333333333333333,\"#9c179e\"],[0.4444444444444444,\"#bd3786\"],[0.5555555555555556,\"#d8576b\"],[0.6666666666666666,\"#ed7953\"],[0.7777777777777778,\"#fb9f3a\"],[0.8888888888888888,\"#fdca26\"],[1.0,\"#f0f921\"]]}],\"choropleth\":[{\"type\":\"choropleth\",\"colorbar\":{\"outlinewidth\":0,\"ticks\":\"\"}}],\"histogram2d\":[{\"type\":\"histogram2d\",\"colorbar\":{\"outlinewidth\":0,\"ticks\":\"\"},\"colorscale\":[[0.0,\"#0d0887\"],[0.1111111111111111,\"#46039f\"],[0.2222222222222222,\"#7201a8\"],[0.3333333333333333,\"#9c179e\"],[0.4444444444444444,\"#bd3786\"],[0.5555555555555556,\"#d8576b\"],[0.6666666666666666,\"#ed7953\"],[0.7777777777777778,\"#fb9f3a\"],[0.8888888888888888,\"#fdca26\"],[1.0,\"#f0f921\"]]}],\"heatmap\":[{\"type\":\"heatmap\",\"colorbar\":{\"outlinewidth\":0,\"ticks\":\"\"},\"colorscale\":[[0.0,\"#0d0887\"],[0.1111111111111111,\"#46039f\"],[0.2222222222222222,\"#7201a8\"],[0.3333333333333333,\"#9c179e\"],[0.4444444444444444,\"#bd3786\"],[0.5555555555555556,\"#d8576b\"],[0.6666666666666666,\"#ed7953\"],[0.7777777777777778,\"#fb9f3a\"],[0.8888888888888888,\"#fdca26\"],[1.0,\"#f0f921\"]]}],\"heatmapgl\":[{\"type\":\"heatmapgl\",\"colorbar\":{\"outlinewidth\":0,\"ticks\":\"\"},\"colorscale\":[[0.0,\"#0d0887\"],[0.1111111111111111,\"#46039f\"],[0.2222222222222222,\"#7201a8\"],[0.3333333333333333,\"#9c179e\"],[0.4444444444444444,\"#bd3786\"],[0.5555555555555556,\"#d8576b\"],[0.6666666666666666,\"#ed7953\"],[0.7777777777777778,\"#fb9f3a\"],[0.8888888888888888,\"#fdca26\"],[1.0,\"#f0f921\"]]}],\"contourcarpet\":[{\"type\":\"contourcarpet\",\"colorbar\":{\"outlinewidth\":0,\"ticks\":\"\"}}],\"contour\":[{\"type\":\"contour\",\"colorbar\":{\"outlinewidth\":0,\"ticks\":\"\"},\"colorscale\":[[0.0,\"#0d0887\"],[0.1111111111111111,\"#46039f\"],[0.2222222222222222,\"#7201a8\"],[0.3333333333333333,\"#9c179e\"],[0.4444444444444444,\"#bd3786\"],[0.5555555555555556,\"#d8576b\"],[0.6666666666666666,\"#ed7953\"],[0.7777777777777778,\"#fb9f3a\"],[0.8888888888888888,\"#fdca26\"],[1.0,\"#f0f921\"]]}],\"surface\":[{\"type\":\"surface\",\"colorbar\":{\"outlinewidth\":0,\"ticks\":\"\"},\"colorscale\":[[0.0,\"#0d0887\"],[0.1111111111111111,\"#46039f\"],[0.2222222222222222,\"#7201a8\"],[0.3333333333333333,\"#9c179e\"],[0.4444444444444444,\"#bd3786\"],[0.5555555555555556,\"#d8576b\"],[0.6666666666666666,\"#ed7953\"],[0.7777777777777778,\"#fb9f3a\"],[0.8888888888888888,\"#fdca26\"],[1.0,\"#f0f921\"]]}],\"mesh3d\":[{\"type\":\"mesh3d\",\"colorbar\":{\"outlinewidth\":0,\"ticks\":\"\"}}],\"scatter\":[{\"fillpattern\":{\"fillmode\":\"overlay\",\"size\":10,\"solidity\":0.2},\"type\":\"scatter\"}],\"parcoords\":[{\"type\":\"parcoords\",\"line\":{\"colorbar\":{\"outlinewidth\":0,\"ticks\":\"\"}}}],\"scatterpolargl\":[{\"type\":\"scatterpolargl\",\"marker\":{\"colorbar\":{\"outlinewidth\":0,\"ticks\":\"\"}}}],\"bar\":[{\"error_x\":{\"color\":\"#2a3f5f\"},\"error_y\":{\"color\":\"#2a3f5f\"},\"marker\":{\"line\":{\"color\":\"#E5ECF6\",\"width\":0.5},\"pattern\":{\"fillmode\":\"overlay\",\"size\":10,\"solidity\":0.2}},\"type\":\"bar\"}],\"scattergeo\":[{\"type\":\"scattergeo\",\"marker\":{\"colorbar\":{\"outlinewidth\":0,\"ticks\":\"\"}}}],\"scatterpolar\":[{\"type\":\"scatterpolar\",\"marker\":{\"colorbar\":{\"outlinewidth\":0,\"ticks\":\"\"}}}],\"histogram\":[{\"marker\":{\"pattern\":{\"fillmode\":\"overlay\",\"size\":10,\"solidity\":0.2}},\"type\":\"histogram\"}],\"scattergl\":[{\"type\":\"scattergl\",\"marker\":{\"colorbar\":{\"outlinewidth\":0,\"ticks\":\"\"}}}],\"scatter3d\":[{\"type\":\"scatter3d\",\"line\":{\"colorbar\":{\"outlinewidth\":0,\"ticks\":\"\"}},\"marker\":{\"colorbar\":{\"outlinewidth\":0,\"ticks\":\"\"}}}],\"scattermapbox\":[{\"type\":\"scattermapbox\",\"marker\":{\"colorbar\":{\"outlinewidth\":0,\"ticks\":\"\"}}}],\"scatterternary\":[{\"type\":\"scatterternary\",\"marker\":{\"colorbar\":{\"outlinewidth\":0,\"ticks\":\"\"}}}],\"scattercarpet\":[{\"type\":\"scattercarpet\",\"marker\":{\"colorbar\":{\"outlinewidth\":0,\"ticks\":\"\"}}}],\"carpet\":[{\"aaxis\":{\"endlinecolor\":\"#2a3f5f\",\"gridcolor\":\"white\",\"linecolor\":\"white\",\"minorgridcolor\":\"white\",\"startlinecolor\":\"#2a3f5f\"},\"baxis\":{\"endlinecolor\":\"#2a3f5f\",\"gridcolor\":\"white\",\"linecolor\":\"white\",\"minorgridcolor\":\"white\",\"startlinecolor\":\"#2a3f5f\"},\"type\":\"carpet\"}],\"table\":[{\"cells\":{\"fill\":{\"color\":\"#EBF0F8\"},\"line\":{\"color\":\"white\"}},\"header\":{\"fill\":{\"color\":\"#C8D4E3\"},\"line\":{\"color\":\"white\"}},\"type\":\"table\"}],\"barpolar\":[{\"marker\":{\"line\":{\"color\":\"#E5ECF6\",\"width\":0.5},\"pattern\":{\"fillmode\":\"overlay\",\"size\":10,\"solidity\":0.2}},\"type\":\"barpolar\"}],\"pie\":[{\"automargin\":true,\"type\":\"pie\"}]},\"layout\":{\"autotypenumbers\":\"strict\",\"colorway\":[\"#636efa\",\"#EF553B\",\"#00cc96\",\"#ab63fa\",\"#FFA15A\",\"#19d3f3\",\"#FF6692\",\"#B6E880\",\"#FF97FF\",\"#FECB52\"],\"font\":{\"color\":\"#2a3f5f\"},\"hovermode\":\"closest\",\"hoverlabel\":{\"align\":\"left\"},\"paper_bgcolor\":\"white\",\"plot_bgcolor\":\"#E5ECF6\",\"polar\":{\"bgcolor\":\"#E5ECF6\",\"angularaxis\":{\"gridcolor\":\"white\",\"linecolor\":\"white\",\"ticks\":\"\"},\"radialaxis\":{\"gridcolor\":\"white\",\"linecolor\":\"white\",\"ticks\":\"\"}},\"ternary\":{\"bgcolor\":\"#E5ECF6\",\"aaxis\":{\"gridcolor\":\"white\",\"linecolor\":\"white\",\"ticks\":\"\"},\"baxis\":{\"gridcolor\":\"white\",\"linecolor\":\"white\",\"ticks\":\"\"},\"caxis\":{\"gridcolor\":\"white\",\"linecolor\":\"white\",\"ticks\":\"\"}},\"coloraxis\":{\"colorbar\":{\"outlinewidth\":0,\"ticks\":\"\"}},\"colorscale\":{\"sequential\":[[0.0,\"#0d0887\"],[0.1111111111111111,\"#46039f\"],[0.2222222222222222,\"#7201a8\"],[0.3333333333333333,\"#9c179e\"],[0.4444444444444444,\"#bd3786\"],[0.5555555555555556,\"#d8576b\"],[0.6666666666666666,\"#ed7953\"],[0.7777777777777778,\"#fb9f3a\"],[0.8888888888888888,\"#fdca26\"],[1.0,\"#f0f921\"]],\"sequentialminus\":[[0.0,\"#0d0887\"],[0.1111111111111111,\"#46039f\"],[0.2222222222222222,\"#7201a8\"],[0.3333333333333333,\"#9c179e\"],[0.4444444444444444,\"#bd3786\"],[0.5555555555555556,\"#d8576b\"],[0.6666666666666666,\"#ed7953\"],[0.7777777777777778,\"#fb9f3a\"],[0.8888888888888888,\"#fdca26\"],[1.0,\"#f0f921\"]],\"diverging\":[[0,\"#8e0152\"],[0.1,\"#c51b7d\"],[0.2,\"#de77ae\"],[0.3,\"#f1b6da\"],[0.4,\"#fde0ef\"],[0.5,\"#f7f7f7\"],[0.6,\"#e6f5d0\"],[0.7,\"#b8e186\"],[0.8,\"#7fbc41\"],[0.9,\"#4d9221\"],[1,\"#276419\"]]},\"xaxis\":{\"gridcolor\":\"white\",\"linecolor\":\"white\",\"ticks\":\"\",\"title\":{\"standoff\":15},\"zerolinecolor\":\"white\",\"automargin\":true,\"zerolinewidth\":2},\"yaxis\":{\"gridcolor\":\"white\",\"linecolor\":\"white\",\"ticks\":\"\",\"title\":{\"standoff\":15},\"zerolinecolor\":\"white\",\"automargin\":true,\"zerolinewidth\":2},\"scene\":{\"xaxis\":{\"backgroundcolor\":\"#E5ECF6\",\"gridcolor\":\"white\",\"linecolor\":\"white\",\"showbackground\":true,\"ticks\":\"\",\"zerolinecolor\":\"white\",\"gridwidth\":2},\"yaxis\":{\"backgroundcolor\":\"#E5ECF6\",\"gridcolor\":\"white\",\"linecolor\":\"white\",\"showbackground\":true,\"ticks\":\"\",\"zerolinecolor\":\"white\",\"gridwidth\":2},\"zaxis\":{\"backgroundcolor\":\"#E5ECF6\",\"gridcolor\":\"white\",\"linecolor\":\"white\",\"showbackground\":true,\"ticks\":\"\",\"zerolinecolor\":\"white\",\"gridwidth\":2}},\"shapedefaults\":{\"line\":{\"color\":\"#2a3f5f\"}},\"annotationdefaults\":{\"arrowcolor\":\"#2a3f5f\",\"arrowhead\":0,\"arrowwidth\":1},\"geo\":{\"bgcolor\":\"white\",\"landcolor\":\"#E5ECF6\",\"subunitcolor\":\"white\",\"showland\":true,\"showlakes\":true,\"lakecolor\":\"white\"},\"title\":{\"x\":0.05},\"mapbox\":{\"style\":\"light\"}}},\"xaxis\":{\"anchor\":\"y\",\"domain\":[0.0,1.0],\"title\":{\"text\":\"value\"}},\"yaxis\":{\"anchor\":\"x\",\"domain\":[0.0,1.0],\"title\":{\"text\":\"count\"}},\"legend\":{\"title\":{\"text\":\"variable\"},\"tracegroupgap\":0},\"title\":{\"text\":\"histogram of DFBETAS with feature(is_female)\"},\"barmode\":\"relative\"},                        {\"responsive\": true}                    ).then(function(){\n",
       "                            \n",
       "var gd = document.getElementById('df7afdd3-9d9b-47e8-8420-35d2b23959ea');\n",
       "var x = new MutationObserver(function (mutations, observer) {{\n",
       "        var display = window.getComputedStyle(gd).display;\n",
       "        if (!display || display === 'none') {{\n",
       "            console.log([gd, 'removed!']);\n",
       "            Plotly.purge(gd);\n",
       "            observer.disconnect();\n",
       "        }}\n",
       "}});\n",
       "\n",
       "// Listen for the removal of the full notebook cells\n",
       "var notebookContainer = gd.closest('#notebook-container');\n",
       "if (notebookContainer) {{\n",
       "    x.observe(notebookContainer, {childList: true});\n",
       "}}\n",
       "\n",
       "// Listen for the clearing of the current output cell\n",
       "var outputEl = gd.closest('.output');\n",
       "if (outputEl) {{\n",
       "    x.observe(outputEl, {childList: true});\n",
       "}}\n",
       "\n",
       "                        })                };                });            </script>        </div>"
      ]
     },
     "metadata": {},
     "output_type": "display_data"
    },
    {
     "data": {
      "application/vnd.plotly.v1+json": {
       "config": {
        "plotlyServerURL": "https://plot.ly"
       },
       "data": [
        {
         "alignmentgroup": "True",
         "bingroup": "x",
         "hovertemplate": "variable=0<br>value=%{x}<br>count=%{y}<extra></extra>",
         "legendgroup": "0",
         "marker": {
          "color": "#636efa",
          "pattern": {
           "shape": ""
          }
         },
         "name": "0",
         "offsetgroup": "0",
         "orientation": "v",
         "showlegend": true,
         "type": "histogram",
         "x": [
          0.4101162125978871,
          -0.12529402060030703,
          0.17856678129328757,
          0.22969039395248958,
          -0.21080286453550057,
          -0.09020974523061999,
          0.08965562721183509,
          0.2203251029721205,
          -0.043700863016179176,
          -0.1737946335817935,
          -0.04213472802282632,
          0.11503748222358906,
          -0.045558807793410476,
          0.0687066715930725,
          0.10912302886916048,
          0.06860733210401845,
          -0.024417963185959148,
          -0.0479287964619711,
          0.030686918515650488,
          -0.006064221926471663,
          -0.0014935752702922669,
          -0.021744953988845624,
          0.011715640031885006,
          -0.02174662925875947,
          -0.01247332119069084,
          -0.03917449202026197,
          -0.09858730592539809,
          0.10500532068015954,
          0.13485910699896725,
          -0.029676346516677384,
          0.008226229535407912,
          -0.028175594748176328,
          -0.026552844085312968,
          0.02697962788039022,
          -0.026877449221502096,
          -0.06375119401655997,
          0.028371320838541114,
          0.02298525150474837,
          -0.026016042586799758,
          0.05705851898756463,
          -0.03267819406152098,
          0.08300967536377366,
          -0.022582461181933026,
          0.05335303528710202,
          0.03163947571791664,
          0.08282595220789489,
          -0.12737457245301864,
          -0.021739678145725725,
          0.02198392184625116,
          -0.04623736695633679,
          -0.03696706321611337,
          -0.03108044833691022,
          -0.019148646748981698,
          -0.01572203549491103,
          -0.017267117936445274,
          -0.024717952762624725,
          0.008132212746254433,
          -0.10712127128412774,
          0.02227732810179901,
          0.02467807342210677,
          0.012213899466228162,
          -0.10744395790417546,
          -0.01577016695128554,
          -0.05678395040658681,
          -0.00916419401526246,
          0.15511889971957216,
          -0.04644074123544561,
          -0.010944892933262002,
          -0.0050460412311238885,
          -0.0013684476987293119,
          0.012948976325422013,
          -0.0036369339497953007,
          0.01779452709039074,
          0.008934814053635767,
          0.05491826697432062,
          0.005318183796232121,
          -0.04152534515271575,
          -0.0054079213734032645,
          0.013641548632043914,
          -0.02128926314979754,
          -0.02018908390171247,
          0.0022112070565571866,
          0.00893481405361336,
          0.008783336183746623,
          -0.0037085714892611844,
          -0.0029880564794630845,
          0.03748837261797073,
          -0.027209822922182457,
          0.05675653339831608,
          -0.00404445256173434,
          0.02243096399440245,
          -0.05805188703873078,
          0.06442852078365174,
          0.016569141613768296,
          -0.031387596985367534,
          0.003848906578489938,
          -0.02916549789883042,
          0.022551767871870826,
          -0.040672403634217646,
          0.017524301902115284,
          0.013381811152611145,
          -0.0011489960859209706,
          -0.03563218042162845,
          0.011641848740946478,
          -0.042566631365553054,
          0.04450254655135838,
          0.03246015288311306,
          0.08145543731669025,
          0.03656095704285965,
          0.05130683928984938,
          0.11218733247627517,
          0.0933375494179773,
          -0.05162181577716759,
          0.0131082935298062,
          0.08936311473972774,
          0.06696864470172496,
          -0.016824287544927884,
          0.07481140565791033,
          -0.06875501360517122,
          0.022750762082451036,
          0.02886933102187837,
          0.047392135711622076,
          -0.0092760205592113,
          -0.015079145187920669,
          -0.020898995477540518,
          0.027455278046418716,
          0.06616365739907497,
          0.01663498687417641,
          -0.06946239127115386,
          -0.031909169318294524,
          -0.08368241261330134,
          -0.08963764467521516,
          0.09731990970915956,
          -0.031794730438410565,
          -0.023418923769950323,
          -0.09613422254117984,
          0.007680784671123101,
          0.06631259953176545,
          -0.06329046816296853,
          0.08665516550890126,
          -0.055756733343551745,
          0.04403167605329895,
          0.02992680254529024,
          0.06160555909825914,
          0.02817861914004936,
          -0.2578481188102494,
          -0.3218255839184024,
          0.10549331716704015,
          -0.16676567610380816,
          0.08869337769050872,
          -0.15709431612141825,
          0.10623035652130197,
          -0.23440592260080897,
          -0.2512700203084952
         ],
         "xaxis": "x",
         "yaxis": "y"
        }
       ],
       "layout": {
        "barmode": "relative",
        "legend": {
         "title": {
          "text": "variable"
         },
         "tracegroupgap": 0
        },
        "template": {
         "data": {
          "bar": [
           {
            "error_x": {
             "color": "#2a3f5f"
            },
            "error_y": {
             "color": "#2a3f5f"
            },
            "marker": {
             "line": {
              "color": "#E5ECF6",
              "width": 0.5
             },
             "pattern": {
              "fillmode": "overlay",
              "size": 10,
              "solidity": 0.2
             }
            },
            "type": "bar"
           }
          ],
          "barpolar": [
           {
            "marker": {
             "line": {
              "color": "#E5ECF6",
              "width": 0.5
             },
             "pattern": {
              "fillmode": "overlay",
              "size": 10,
              "solidity": 0.2
             }
            },
            "type": "barpolar"
           }
          ],
          "carpet": [
           {
            "aaxis": {
             "endlinecolor": "#2a3f5f",
             "gridcolor": "white",
             "linecolor": "white",
             "minorgridcolor": "white",
             "startlinecolor": "#2a3f5f"
            },
            "baxis": {
             "endlinecolor": "#2a3f5f",
             "gridcolor": "white",
             "linecolor": "white",
             "minorgridcolor": "white",
             "startlinecolor": "#2a3f5f"
            },
            "type": "carpet"
           }
          ],
          "choropleth": [
           {
            "colorbar": {
             "outlinewidth": 0,
             "ticks": ""
            },
            "type": "choropleth"
           }
          ],
          "contour": [
           {
            "colorbar": {
             "outlinewidth": 0,
             "ticks": ""
            },
            "colorscale": [
             [
              0,
              "#0d0887"
             ],
             [
              0.1111111111111111,
              "#46039f"
             ],
             [
              0.2222222222222222,
              "#7201a8"
             ],
             [
              0.3333333333333333,
              "#9c179e"
             ],
             [
              0.4444444444444444,
              "#bd3786"
             ],
             [
              0.5555555555555556,
              "#d8576b"
             ],
             [
              0.6666666666666666,
              "#ed7953"
             ],
             [
              0.7777777777777778,
              "#fb9f3a"
             ],
             [
              0.8888888888888888,
              "#fdca26"
             ],
             [
              1,
              "#f0f921"
             ]
            ],
            "type": "contour"
           }
          ],
          "contourcarpet": [
           {
            "colorbar": {
             "outlinewidth": 0,
             "ticks": ""
            },
            "type": "contourcarpet"
           }
          ],
          "heatmap": [
           {
            "colorbar": {
             "outlinewidth": 0,
             "ticks": ""
            },
            "colorscale": [
             [
              0,
              "#0d0887"
             ],
             [
              0.1111111111111111,
              "#46039f"
             ],
             [
              0.2222222222222222,
              "#7201a8"
             ],
             [
              0.3333333333333333,
              "#9c179e"
             ],
             [
              0.4444444444444444,
              "#bd3786"
             ],
             [
              0.5555555555555556,
              "#d8576b"
             ],
             [
              0.6666666666666666,
              "#ed7953"
             ],
             [
              0.7777777777777778,
              "#fb9f3a"
             ],
             [
              0.8888888888888888,
              "#fdca26"
             ],
             [
              1,
              "#f0f921"
             ]
            ],
            "type": "heatmap"
           }
          ],
          "heatmapgl": [
           {
            "colorbar": {
             "outlinewidth": 0,
             "ticks": ""
            },
            "colorscale": [
             [
              0,
              "#0d0887"
             ],
             [
              0.1111111111111111,
              "#46039f"
             ],
             [
              0.2222222222222222,
              "#7201a8"
             ],
             [
              0.3333333333333333,
              "#9c179e"
             ],
             [
              0.4444444444444444,
              "#bd3786"
             ],
             [
              0.5555555555555556,
              "#d8576b"
             ],
             [
              0.6666666666666666,
              "#ed7953"
             ],
             [
              0.7777777777777778,
              "#fb9f3a"
             ],
             [
              0.8888888888888888,
              "#fdca26"
             ],
             [
              1,
              "#f0f921"
             ]
            ],
            "type": "heatmapgl"
           }
          ],
          "histogram": [
           {
            "marker": {
             "pattern": {
              "fillmode": "overlay",
              "size": 10,
              "solidity": 0.2
             }
            },
            "type": "histogram"
           }
          ],
          "histogram2d": [
           {
            "colorbar": {
             "outlinewidth": 0,
             "ticks": ""
            },
            "colorscale": [
             [
              0,
              "#0d0887"
             ],
             [
              0.1111111111111111,
              "#46039f"
             ],
             [
              0.2222222222222222,
              "#7201a8"
             ],
             [
              0.3333333333333333,
              "#9c179e"
             ],
             [
              0.4444444444444444,
              "#bd3786"
             ],
             [
              0.5555555555555556,
              "#d8576b"
             ],
             [
              0.6666666666666666,
              "#ed7953"
             ],
             [
              0.7777777777777778,
              "#fb9f3a"
             ],
             [
              0.8888888888888888,
              "#fdca26"
             ],
             [
              1,
              "#f0f921"
             ]
            ],
            "type": "histogram2d"
           }
          ],
          "histogram2dcontour": [
           {
            "colorbar": {
             "outlinewidth": 0,
             "ticks": ""
            },
            "colorscale": [
             [
              0,
              "#0d0887"
             ],
             [
              0.1111111111111111,
              "#46039f"
             ],
             [
              0.2222222222222222,
              "#7201a8"
             ],
             [
              0.3333333333333333,
              "#9c179e"
             ],
             [
              0.4444444444444444,
              "#bd3786"
             ],
             [
              0.5555555555555556,
              "#d8576b"
             ],
             [
              0.6666666666666666,
              "#ed7953"
             ],
             [
              0.7777777777777778,
              "#fb9f3a"
             ],
             [
              0.8888888888888888,
              "#fdca26"
             ],
             [
              1,
              "#f0f921"
             ]
            ],
            "type": "histogram2dcontour"
           }
          ],
          "mesh3d": [
           {
            "colorbar": {
             "outlinewidth": 0,
             "ticks": ""
            },
            "type": "mesh3d"
           }
          ],
          "parcoords": [
           {
            "line": {
             "colorbar": {
              "outlinewidth": 0,
              "ticks": ""
             }
            },
            "type": "parcoords"
           }
          ],
          "pie": [
           {
            "automargin": true,
            "type": "pie"
           }
          ],
          "scatter": [
           {
            "fillpattern": {
             "fillmode": "overlay",
             "size": 10,
             "solidity": 0.2
            },
            "type": "scatter"
           }
          ],
          "scatter3d": [
           {
            "line": {
             "colorbar": {
              "outlinewidth": 0,
              "ticks": ""
             }
            },
            "marker": {
             "colorbar": {
              "outlinewidth": 0,
              "ticks": ""
             }
            },
            "type": "scatter3d"
           }
          ],
          "scattercarpet": [
           {
            "marker": {
             "colorbar": {
              "outlinewidth": 0,
              "ticks": ""
             }
            },
            "type": "scattercarpet"
           }
          ],
          "scattergeo": [
           {
            "marker": {
             "colorbar": {
              "outlinewidth": 0,
              "ticks": ""
             }
            },
            "type": "scattergeo"
           }
          ],
          "scattergl": [
           {
            "marker": {
             "colorbar": {
              "outlinewidth": 0,
              "ticks": ""
             }
            },
            "type": "scattergl"
           }
          ],
          "scattermapbox": [
           {
            "marker": {
             "colorbar": {
              "outlinewidth": 0,
              "ticks": ""
             }
            },
            "type": "scattermapbox"
           }
          ],
          "scatterpolar": [
           {
            "marker": {
             "colorbar": {
              "outlinewidth": 0,
              "ticks": ""
             }
            },
            "type": "scatterpolar"
           }
          ],
          "scatterpolargl": [
           {
            "marker": {
             "colorbar": {
              "outlinewidth": 0,
              "ticks": ""
             }
            },
            "type": "scatterpolargl"
           }
          ],
          "scatterternary": [
           {
            "marker": {
             "colorbar": {
              "outlinewidth": 0,
              "ticks": ""
             }
            },
            "type": "scatterternary"
           }
          ],
          "surface": [
           {
            "colorbar": {
             "outlinewidth": 0,
             "ticks": ""
            },
            "colorscale": [
             [
              0,
              "#0d0887"
             ],
             [
              0.1111111111111111,
              "#46039f"
             ],
             [
              0.2222222222222222,
              "#7201a8"
             ],
             [
              0.3333333333333333,
              "#9c179e"
             ],
             [
              0.4444444444444444,
              "#bd3786"
             ],
             [
              0.5555555555555556,
              "#d8576b"
             ],
             [
              0.6666666666666666,
              "#ed7953"
             ],
             [
              0.7777777777777778,
              "#fb9f3a"
             ],
             [
              0.8888888888888888,
              "#fdca26"
             ],
             [
              1,
              "#f0f921"
             ]
            ],
            "type": "surface"
           }
          ],
          "table": [
           {
            "cells": {
             "fill": {
              "color": "#EBF0F8"
             },
             "line": {
              "color": "white"
             }
            },
            "header": {
             "fill": {
              "color": "#C8D4E3"
             },
             "line": {
              "color": "white"
             }
            },
            "type": "table"
           }
          ]
         },
         "layout": {
          "annotationdefaults": {
           "arrowcolor": "#2a3f5f",
           "arrowhead": 0,
           "arrowwidth": 1
          },
          "autotypenumbers": "strict",
          "coloraxis": {
           "colorbar": {
            "outlinewidth": 0,
            "ticks": ""
           }
          },
          "colorscale": {
           "diverging": [
            [
             0,
             "#8e0152"
            ],
            [
             0.1,
             "#c51b7d"
            ],
            [
             0.2,
             "#de77ae"
            ],
            [
             0.3,
             "#f1b6da"
            ],
            [
             0.4,
             "#fde0ef"
            ],
            [
             0.5,
             "#f7f7f7"
            ],
            [
             0.6,
             "#e6f5d0"
            ],
            [
             0.7,
             "#b8e186"
            ],
            [
             0.8,
             "#7fbc41"
            ],
            [
             0.9,
             "#4d9221"
            ],
            [
             1,
             "#276419"
            ]
           ],
           "sequential": [
            [
             0,
             "#0d0887"
            ],
            [
             0.1111111111111111,
             "#46039f"
            ],
            [
             0.2222222222222222,
             "#7201a8"
            ],
            [
             0.3333333333333333,
             "#9c179e"
            ],
            [
             0.4444444444444444,
             "#bd3786"
            ],
            [
             0.5555555555555556,
             "#d8576b"
            ],
            [
             0.6666666666666666,
             "#ed7953"
            ],
            [
             0.7777777777777778,
             "#fb9f3a"
            ],
            [
             0.8888888888888888,
             "#fdca26"
            ],
            [
             1,
             "#f0f921"
            ]
           ],
           "sequentialminus": [
            [
             0,
             "#0d0887"
            ],
            [
             0.1111111111111111,
             "#46039f"
            ],
            [
             0.2222222222222222,
             "#7201a8"
            ],
            [
             0.3333333333333333,
             "#9c179e"
            ],
            [
             0.4444444444444444,
             "#bd3786"
            ],
            [
             0.5555555555555556,
             "#d8576b"
            ],
            [
             0.6666666666666666,
             "#ed7953"
            ],
            [
             0.7777777777777778,
             "#fb9f3a"
            ],
            [
             0.8888888888888888,
             "#fdca26"
            ],
            [
             1,
             "#f0f921"
            ]
           ]
          },
          "colorway": [
           "#636efa",
           "#EF553B",
           "#00cc96",
           "#ab63fa",
           "#FFA15A",
           "#19d3f3",
           "#FF6692",
           "#B6E880",
           "#FF97FF",
           "#FECB52"
          ],
          "font": {
           "color": "#2a3f5f"
          },
          "geo": {
           "bgcolor": "white",
           "lakecolor": "white",
           "landcolor": "#E5ECF6",
           "showlakes": true,
           "showland": true,
           "subunitcolor": "white"
          },
          "hoverlabel": {
           "align": "left"
          },
          "hovermode": "closest",
          "mapbox": {
           "style": "light"
          },
          "paper_bgcolor": "white",
          "plot_bgcolor": "#E5ECF6",
          "polar": {
           "angularaxis": {
            "gridcolor": "white",
            "linecolor": "white",
            "ticks": ""
           },
           "bgcolor": "#E5ECF6",
           "radialaxis": {
            "gridcolor": "white",
            "linecolor": "white",
            "ticks": ""
           }
          },
          "scene": {
           "xaxis": {
            "backgroundcolor": "#E5ECF6",
            "gridcolor": "white",
            "gridwidth": 2,
            "linecolor": "white",
            "showbackground": true,
            "ticks": "",
            "zerolinecolor": "white"
           },
           "yaxis": {
            "backgroundcolor": "#E5ECF6",
            "gridcolor": "white",
            "gridwidth": 2,
            "linecolor": "white",
            "showbackground": true,
            "ticks": "",
            "zerolinecolor": "white"
           },
           "zaxis": {
            "backgroundcolor": "#E5ECF6",
            "gridcolor": "white",
            "gridwidth": 2,
            "linecolor": "white",
            "showbackground": true,
            "ticks": "",
            "zerolinecolor": "white"
           }
          },
          "shapedefaults": {
           "line": {
            "color": "#2a3f5f"
           }
          },
          "ternary": {
           "aaxis": {
            "gridcolor": "white",
            "linecolor": "white",
            "ticks": ""
           },
           "baxis": {
            "gridcolor": "white",
            "linecolor": "white",
            "ticks": ""
           },
           "bgcolor": "#E5ECF6",
           "caxis": {
            "gridcolor": "white",
            "linecolor": "white",
            "ticks": ""
           }
          },
          "title": {
           "x": 0.05
          },
          "xaxis": {
           "automargin": true,
           "gridcolor": "white",
           "linecolor": "white",
           "ticks": "",
           "title": {
            "standoff": 15
           },
           "zerolinecolor": "white",
           "zerolinewidth": 2
          },
          "yaxis": {
           "automargin": true,
           "gridcolor": "white",
           "linecolor": "white",
           "ticks": "",
           "title": {
            "standoff": 15
           },
           "zerolinecolor": "white",
           "zerolinewidth": 2
          }
         }
        },
        "title": {
         "text": "histogram of DFBETAS with feature(smoking)"
        },
        "xaxis": {
         "anchor": "y",
         "domain": [
          0,
          1
         ],
         "title": {
          "text": "value"
         }
        },
        "yaxis": {
         "anchor": "x",
         "domain": [
          0,
          1
         ],
         "title": {
          "text": "count"
         }
        }
       }
      },
      "text/html": [
       "<div>                            <div id=\"2d156f91-bd9a-430a-8723-02afa783892b\" class=\"plotly-graph-div\" style=\"height:525px; width:100%;\"></div>            <script type=\"text/javascript\">                require([\"plotly\"], function(Plotly) {                    window.PLOTLYENV=window.PLOTLYENV || {};                                    if (document.getElementById(\"2d156f91-bd9a-430a-8723-02afa783892b\")) {                    Plotly.newPlot(                        \"2d156f91-bd9a-430a-8723-02afa783892b\",                        [{\"alignmentgroup\":\"True\",\"bingroup\":\"x\",\"hovertemplate\":\"variable=0\\u003cbr\\u003evalue=%{x}\\u003cbr\\u003ecount=%{y}\\u003cextra\\u003e\\u003c\\u002fextra\\u003e\",\"legendgroup\":\"0\",\"marker\":{\"color\":\"#636efa\",\"pattern\":{\"shape\":\"\"}},\"name\":\"0\",\"offsetgroup\":\"0\",\"orientation\":\"v\",\"showlegend\":true,\"x\":[0.4101162125978871,-0.12529402060030703,0.17856678129328757,0.22969039395248958,-0.21080286453550057,-0.09020974523061999,0.08965562721183509,0.2203251029721205,-0.043700863016179176,-0.1737946335817935,-0.04213472802282632,0.11503748222358906,-0.045558807793410476,0.0687066715930725,0.10912302886916048,0.06860733210401845,-0.024417963185959148,-0.0479287964619711,0.030686918515650488,-0.006064221926471663,-0.0014935752702922669,-0.021744953988845624,0.011715640031885006,-0.02174662925875947,-0.01247332119069084,-0.03917449202026197,-0.09858730592539809,0.10500532068015954,0.13485910699896725,-0.029676346516677384,0.008226229535407912,-0.028175594748176328,-0.026552844085312968,0.02697962788039022,-0.026877449221502096,-0.06375119401655997,0.028371320838541114,0.02298525150474837,-0.026016042586799758,0.05705851898756463,-0.03267819406152098,0.08300967536377366,-0.022582461181933026,0.05335303528710202,0.03163947571791664,0.08282595220789489,-0.12737457245301864,-0.021739678145725725,0.02198392184625116,-0.04623736695633679,-0.03696706321611337,-0.03108044833691022,-0.019148646748981698,-0.01572203549491103,-0.017267117936445274,-0.024717952762624725,0.008132212746254433,-0.10712127128412774,0.02227732810179901,0.02467807342210677,0.012213899466228162,-0.10744395790417546,-0.01577016695128554,-0.05678395040658681,-0.00916419401526246,0.15511889971957216,-0.04644074123544561,-0.010944892933262002,-0.0050460412311238885,-0.0013684476987293119,0.012948976325422013,-0.0036369339497953007,0.01779452709039074,0.008934814053635767,0.05491826697432062,0.005318183796232121,-0.04152534515271575,-0.0054079213734032645,0.013641548632043914,-0.02128926314979754,-0.02018908390171247,0.0022112070565571866,0.00893481405361336,0.008783336183746623,-0.0037085714892611844,-0.0029880564794630845,0.03748837261797073,-0.027209822922182457,0.05675653339831608,-0.00404445256173434,0.02243096399440245,-0.05805188703873078,0.06442852078365174,0.016569141613768296,-0.031387596985367534,0.003848906578489938,-0.02916549789883042,0.022551767871870826,-0.040672403634217646,0.017524301902115284,0.013381811152611145,-0.0011489960859209706,-0.03563218042162845,0.011641848740946478,-0.042566631365553054,0.04450254655135838,0.03246015288311306,0.08145543731669025,0.03656095704285965,0.05130683928984938,0.11218733247627517,0.0933375494179773,-0.05162181577716759,0.0131082935298062,0.08936311473972774,0.06696864470172496,-0.016824287544927884,0.07481140565791033,-0.06875501360517122,0.022750762082451036,0.02886933102187837,0.047392135711622076,-0.0092760205592113,-0.015079145187920669,-0.020898995477540518,0.027455278046418716,0.06616365739907497,0.01663498687417641,-0.06946239127115386,-0.031909169318294524,-0.08368241261330134,-0.08963764467521516,0.09731990970915956,-0.031794730438410565,-0.023418923769950323,-0.09613422254117984,0.007680784671123101,0.06631259953176545,-0.06329046816296853,0.08665516550890126,-0.055756733343551745,0.04403167605329895,0.02992680254529024,0.06160555909825914,0.02817861914004936,-0.2578481188102494,-0.3218255839184024,0.10549331716704015,-0.16676567610380816,0.08869337769050872,-0.15709431612141825,0.10623035652130197,-0.23440592260080897,-0.2512700203084952],\"xaxis\":\"x\",\"yaxis\":\"y\",\"type\":\"histogram\"}],                        {\"template\":{\"data\":{\"histogram2dcontour\":[{\"type\":\"histogram2dcontour\",\"colorbar\":{\"outlinewidth\":0,\"ticks\":\"\"},\"colorscale\":[[0.0,\"#0d0887\"],[0.1111111111111111,\"#46039f\"],[0.2222222222222222,\"#7201a8\"],[0.3333333333333333,\"#9c179e\"],[0.4444444444444444,\"#bd3786\"],[0.5555555555555556,\"#d8576b\"],[0.6666666666666666,\"#ed7953\"],[0.7777777777777778,\"#fb9f3a\"],[0.8888888888888888,\"#fdca26\"],[1.0,\"#f0f921\"]]}],\"choropleth\":[{\"type\":\"choropleth\",\"colorbar\":{\"outlinewidth\":0,\"ticks\":\"\"}}],\"histogram2d\":[{\"type\":\"histogram2d\",\"colorbar\":{\"outlinewidth\":0,\"ticks\":\"\"},\"colorscale\":[[0.0,\"#0d0887\"],[0.1111111111111111,\"#46039f\"],[0.2222222222222222,\"#7201a8\"],[0.3333333333333333,\"#9c179e\"],[0.4444444444444444,\"#bd3786\"],[0.5555555555555556,\"#d8576b\"],[0.6666666666666666,\"#ed7953\"],[0.7777777777777778,\"#fb9f3a\"],[0.8888888888888888,\"#fdca26\"],[1.0,\"#f0f921\"]]}],\"heatmap\":[{\"type\":\"heatmap\",\"colorbar\":{\"outlinewidth\":0,\"ticks\":\"\"},\"colorscale\":[[0.0,\"#0d0887\"],[0.1111111111111111,\"#46039f\"],[0.2222222222222222,\"#7201a8\"],[0.3333333333333333,\"#9c179e\"],[0.4444444444444444,\"#bd3786\"],[0.5555555555555556,\"#d8576b\"],[0.6666666666666666,\"#ed7953\"],[0.7777777777777778,\"#fb9f3a\"],[0.8888888888888888,\"#fdca26\"],[1.0,\"#f0f921\"]]}],\"heatmapgl\":[{\"type\":\"heatmapgl\",\"colorbar\":{\"outlinewidth\":0,\"ticks\":\"\"},\"colorscale\":[[0.0,\"#0d0887\"],[0.1111111111111111,\"#46039f\"],[0.2222222222222222,\"#7201a8\"],[0.3333333333333333,\"#9c179e\"],[0.4444444444444444,\"#bd3786\"],[0.5555555555555556,\"#d8576b\"],[0.6666666666666666,\"#ed7953\"],[0.7777777777777778,\"#fb9f3a\"],[0.8888888888888888,\"#fdca26\"],[1.0,\"#f0f921\"]]}],\"contourcarpet\":[{\"type\":\"contourcarpet\",\"colorbar\":{\"outlinewidth\":0,\"ticks\":\"\"}}],\"contour\":[{\"type\":\"contour\",\"colorbar\":{\"outlinewidth\":0,\"ticks\":\"\"},\"colorscale\":[[0.0,\"#0d0887\"],[0.1111111111111111,\"#46039f\"],[0.2222222222222222,\"#7201a8\"],[0.3333333333333333,\"#9c179e\"],[0.4444444444444444,\"#bd3786\"],[0.5555555555555556,\"#d8576b\"],[0.6666666666666666,\"#ed7953\"],[0.7777777777777778,\"#fb9f3a\"],[0.8888888888888888,\"#fdca26\"],[1.0,\"#f0f921\"]]}],\"surface\":[{\"type\":\"surface\",\"colorbar\":{\"outlinewidth\":0,\"ticks\":\"\"},\"colorscale\":[[0.0,\"#0d0887\"],[0.1111111111111111,\"#46039f\"],[0.2222222222222222,\"#7201a8\"],[0.3333333333333333,\"#9c179e\"],[0.4444444444444444,\"#bd3786\"],[0.5555555555555556,\"#d8576b\"],[0.6666666666666666,\"#ed7953\"],[0.7777777777777778,\"#fb9f3a\"],[0.8888888888888888,\"#fdca26\"],[1.0,\"#f0f921\"]]}],\"mesh3d\":[{\"type\":\"mesh3d\",\"colorbar\":{\"outlinewidth\":0,\"ticks\":\"\"}}],\"scatter\":[{\"fillpattern\":{\"fillmode\":\"overlay\",\"size\":10,\"solidity\":0.2},\"type\":\"scatter\"}],\"parcoords\":[{\"type\":\"parcoords\",\"line\":{\"colorbar\":{\"outlinewidth\":0,\"ticks\":\"\"}}}],\"scatterpolargl\":[{\"type\":\"scatterpolargl\",\"marker\":{\"colorbar\":{\"outlinewidth\":0,\"ticks\":\"\"}}}],\"bar\":[{\"error_x\":{\"color\":\"#2a3f5f\"},\"error_y\":{\"color\":\"#2a3f5f\"},\"marker\":{\"line\":{\"color\":\"#E5ECF6\",\"width\":0.5},\"pattern\":{\"fillmode\":\"overlay\",\"size\":10,\"solidity\":0.2}},\"type\":\"bar\"}],\"scattergeo\":[{\"type\":\"scattergeo\",\"marker\":{\"colorbar\":{\"outlinewidth\":0,\"ticks\":\"\"}}}],\"scatterpolar\":[{\"type\":\"scatterpolar\",\"marker\":{\"colorbar\":{\"outlinewidth\":0,\"ticks\":\"\"}}}],\"histogram\":[{\"marker\":{\"pattern\":{\"fillmode\":\"overlay\",\"size\":10,\"solidity\":0.2}},\"type\":\"histogram\"}],\"scattergl\":[{\"type\":\"scattergl\",\"marker\":{\"colorbar\":{\"outlinewidth\":0,\"ticks\":\"\"}}}],\"scatter3d\":[{\"type\":\"scatter3d\",\"line\":{\"colorbar\":{\"outlinewidth\":0,\"ticks\":\"\"}},\"marker\":{\"colorbar\":{\"outlinewidth\":0,\"ticks\":\"\"}}}],\"scattermapbox\":[{\"type\":\"scattermapbox\",\"marker\":{\"colorbar\":{\"outlinewidth\":0,\"ticks\":\"\"}}}],\"scatterternary\":[{\"type\":\"scatterternary\",\"marker\":{\"colorbar\":{\"outlinewidth\":0,\"ticks\":\"\"}}}],\"scattercarpet\":[{\"type\":\"scattercarpet\",\"marker\":{\"colorbar\":{\"outlinewidth\":0,\"ticks\":\"\"}}}],\"carpet\":[{\"aaxis\":{\"endlinecolor\":\"#2a3f5f\",\"gridcolor\":\"white\",\"linecolor\":\"white\",\"minorgridcolor\":\"white\",\"startlinecolor\":\"#2a3f5f\"},\"baxis\":{\"endlinecolor\":\"#2a3f5f\",\"gridcolor\":\"white\",\"linecolor\":\"white\",\"minorgridcolor\":\"white\",\"startlinecolor\":\"#2a3f5f\"},\"type\":\"carpet\"}],\"table\":[{\"cells\":{\"fill\":{\"color\":\"#EBF0F8\"},\"line\":{\"color\":\"white\"}},\"header\":{\"fill\":{\"color\":\"#C8D4E3\"},\"line\":{\"color\":\"white\"}},\"type\":\"table\"}],\"barpolar\":[{\"marker\":{\"line\":{\"color\":\"#E5ECF6\",\"width\":0.5},\"pattern\":{\"fillmode\":\"overlay\",\"size\":10,\"solidity\":0.2}},\"type\":\"barpolar\"}],\"pie\":[{\"automargin\":true,\"type\":\"pie\"}]},\"layout\":{\"autotypenumbers\":\"strict\",\"colorway\":[\"#636efa\",\"#EF553B\",\"#00cc96\",\"#ab63fa\",\"#FFA15A\",\"#19d3f3\",\"#FF6692\",\"#B6E880\",\"#FF97FF\",\"#FECB52\"],\"font\":{\"color\":\"#2a3f5f\"},\"hovermode\":\"closest\",\"hoverlabel\":{\"align\":\"left\"},\"paper_bgcolor\":\"white\",\"plot_bgcolor\":\"#E5ECF6\",\"polar\":{\"bgcolor\":\"#E5ECF6\",\"angularaxis\":{\"gridcolor\":\"white\",\"linecolor\":\"white\",\"ticks\":\"\"},\"radialaxis\":{\"gridcolor\":\"white\",\"linecolor\":\"white\",\"ticks\":\"\"}},\"ternary\":{\"bgcolor\":\"#E5ECF6\",\"aaxis\":{\"gridcolor\":\"white\",\"linecolor\":\"white\",\"ticks\":\"\"},\"baxis\":{\"gridcolor\":\"white\",\"linecolor\":\"white\",\"ticks\":\"\"},\"caxis\":{\"gridcolor\":\"white\",\"linecolor\":\"white\",\"ticks\":\"\"}},\"coloraxis\":{\"colorbar\":{\"outlinewidth\":0,\"ticks\":\"\"}},\"colorscale\":{\"sequential\":[[0.0,\"#0d0887\"],[0.1111111111111111,\"#46039f\"],[0.2222222222222222,\"#7201a8\"],[0.3333333333333333,\"#9c179e\"],[0.4444444444444444,\"#bd3786\"],[0.5555555555555556,\"#d8576b\"],[0.6666666666666666,\"#ed7953\"],[0.7777777777777778,\"#fb9f3a\"],[0.8888888888888888,\"#fdca26\"],[1.0,\"#f0f921\"]],\"sequentialminus\":[[0.0,\"#0d0887\"],[0.1111111111111111,\"#46039f\"],[0.2222222222222222,\"#7201a8\"],[0.3333333333333333,\"#9c179e\"],[0.4444444444444444,\"#bd3786\"],[0.5555555555555556,\"#d8576b\"],[0.6666666666666666,\"#ed7953\"],[0.7777777777777778,\"#fb9f3a\"],[0.8888888888888888,\"#fdca26\"],[1.0,\"#f0f921\"]],\"diverging\":[[0,\"#8e0152\"],[0.1,\"#c51b7d\"],[0.2,\"#de77ae\"],[0.3,\"#f1b6da\"],[0.4,\"#fde0ef\"],[0.5,\"#f7f7f7\"],[0.6,\"#e6f5d0\"],[0.7,\"#b8e186\"],[0.8,\"#7fbc41\"],[0.9,\"#4d9221\"],[1,\"#276419\"]]},\"xaxis\":{\"gridcolor\":\"white\",\"linecolor\":\"white\",\"ticks\":\"\",\"title\":{\"standoff\":15},\"zerolinecolor\":\"white\",\"automargin\":true,\"zerolinewidth\":2},\"yaxis\":{\"gridcolor\":\"white\",\"linecolor\":\"white\",\"ticks\":\"\",\"title\":{\"standoff\":15},\"zerolinecolor\":\"white\",\"automargin\":true,\"zerolinewidth\":2},\"scene\":{\"xaxis\":{\"backgroundcolor\":\"#E5ECF6\",\"gridcolor\":\"white\",\"linecolor\":\"white\",\"showbackground\":true,\"ticks\":\"\",\"zerolinecolor\":\"white\",\"gridwidth\":2},\"yaxis\":{\"backgroundcolor\":\"#E5ECF6\",\"gridcolor\":\"white\",\"linecolor\":\"white\",\"showbackground\":true,\"ticks\":\"\",\"zerolinecolor\":\"white\",\"gridwidth\":2},\"zaxis\":{\"backgroundcolor\":\"#E5ECF6\",\"gridcolor\":\"white\",\"linecolor\":\"white\",\"showbackground\":true,\"ticks\":\"\",\"zerolinecolor\":\"white\",\"gridwidth\":2}},\"shapedefaults\":{\"line\":{\"color\":\"#2a3f5f\"}},\"annotationdefaults\":{\"arrowcolor\":\"#2a3f5f\",\"arrowhead\":0,\"arrowwidth\":1},\"geo\":{\"bgcolor\":\"white\",\"landcolor\":\"#E5ECF6\",\"subunitcolor\":\"white\",\"showland\":true,\"showlakes\":true,\"lakecolor\":\"white\"},\"title\":{\"x\":0.05},\"mapbox\":{\"style\":\"light\"}}},\"xaxis\":{\"anchor\":\"y\",\"domain\":[0.0,1.0],\"title\":{\"text\":\"value\"}},\"yaxis\":{\"anchor\":\"x\",\"domain\":[0.0,1.0],\"title\":{\"text\":\"count\"}},\"legend\":{\"title\":{\"text\":\"variable\"},\"tracegroupgap\":0},\"title\":{\"text\":\"histogram of DFBETAS with feature(smoking)\"},\"barmode\":\"relative\"},                        {\"responsive\": true}                    ).then(function(){\n",
       "                            \n",
       "var gd = document.getElementById('2d156f91-bd9a-430a-8723-02afa783892b');\n",
       "var x = new MutationObserver(function (mutations, observer) {{\n",
       "        var display = window.getComputedStyle(gd).display;\n",
       "        if (!display || display === 'none') {{\n",
       "            console.log([gd, 'removed!']);\n",
       "            Plotly.purge(gd);\n",
       "            observer.disconnect();\n",
       "        }}\n",
       "}});\n",
       "\n",
       "// Listen for the removal of the full notebook cells\n",
       "var notebookContainer = gd.closest('#notebook-container');\n",
       "if (notebookContainer) {{\n",
       "    x.observe(notebookContainer, {childList: true});\n",
       "}}\n",
       "\n",
       "// Listen for the clearing of the current output cell\n",
       "var outputEl = gd.closest('.output');\n",
       "if (outputEl) {{\n",
       "    x.observe(outputEl, {childList: true});\n",
       "}}\n",
       "\n",
       "                        })                };                });            </script>        </div>"
      ]
     },
     "metadata": {},
     "output_type": "display_data"
    }
   ],
   "source": [
    "from statsmodels.stats.outliers_influence import OLSInfluence\n",
    "\n",
    "\n",
    "params = log_w.conf_int().reset_index()['index'].tolist()\n",
    "\n",
    "changes = OLSInfluence(log_w).dfbetas\n",
    "\n",
    "for index, column_name in enumerate(params):\n",
    "    fig = px.histogram(changes[:, index], title=f'histogram of DFBETAS with feature({column_name})',\n",
    "                      labels={'x': 'df betas'})\n",
    "    fig.show()"
   ]
  },
  {
   "cell_type": "markdown",
   "id": "e4b8d1f8",
   "metadata": {},
   "source": [
    "Воспользуюсь таким способом аггрегации: возьму среднее модулей изменений параметров по всем признакам"
   ]
  },
  {
   "cell_type": "code",
   "execution_count": 126,
   "id": "0600e0e3",
   "metadata": {},
   "outputs": [],
   "source": [
    "aggregated = np.mean(np.abs(changes), axis=1)"
   ]
  },
  {
   "cell_type": "code",
   "execution_count": 127,
   "id": "59ebdb3a",
   "metadata": {},
   "outputs": [
    {
     "data": {
      "application/vnd.plotly.v1+json": {
       "config": {
        "plotlyServerURL": "https://plot.ly"
       },
       "data": [
        {
         "alignmentgroup": "True",
         "bingroup": "x",
         "hovertemplate": "variable=0<br>value=%{x}<br>count=%{y}<extra></extra>",
         "legendgroup": "0",
         "marker": {
          "color": "#636efa",
          "pattern": {
           "shape": ""
          }
         },
         "name": "0",
         "offsetgroup": "0",
         "orientation": "v",
         "showlegend": true,
         "type": "histogram",
         "x": [
          0.26916299979587144,
          0.1547458706078786,
          0.11711540064117157,
          0.12338507049677602,
          0.18299536202775607,
          0.12640561251878904,
          0.05599035221270967,
          0.16953074736957469,
          0.060818154938304045,
          0.13974234670175628,
          0.051106985676803066,
          0.06736129077789155,
          0.07545142152626078,
          0.10777869035151359,
          0.06339216145467269,
          0.06015792764352727,
          0.030525440102458973,
          0.03800145540206985,
          0.02261074110789685,
          0.00768389708256751,
          0.0011345003198044233,
          0.04219542469835952,
          0.007428116401645045,
          0.021193378464636564,
          0.01653216759001469,
          0.03694836241624409,
          0.08817564994515883,
          0.09596434531419233,
          0.12308367270861091,
          0.054146839561013516,
          0.009977940164034952,
          0.03303708299949416,
          0.03645818234469081,
          0.030244152247123145,
          0.03101031578697867,
          0.059722828785273005,
          0.030209647529267365,
          0.029892035192221673,
          0.04212125985374253,
          0.036671412142122516,
          0.021754931131230774,
          0.04436075722403422,
          0.029591895580681732,
          0.02855764609371894,
          0.02260543042440443,
          0.052274685843230764,
          0.10631029465245315,
          0.019836536114391113,
          0.020477182145011364,
          0.04292978568825737,
          0.037867058299978905,
          0.027797009339733204,
          0.03493821932378112,
          0.016897590275313817,
          0.046325058142879766,
          0.023360684383270745,
          0.005236128502080794,
          0.11796415781725414,
          0.02601778814012214,
          0.013115297532058081,
          0.02249568172432666,
          0.17923720779768498,
          0.015853930436012794,
          0.04878150617084277,
          0.008643429544719933,
          0.15242569649833906,
          0.043979704446954114,
          0.03293803581973073,
          0.005101978268400434,
          0.001225225840698106,
          0.011803872755780476,
          0.0052073910814546456,
          0.026158545405843437,
          0.010960438514997815,
          0.04896171419212203,
          0.0057158305505063695,
          0.02622466126865074,
          0.011982279871860261,
          0.018716563620663967,
          0.03189605941723919,
          0.015527271407194693,
          0.001979781929065612,
          0.010960438514973223,
          0.007075017763327163,
          0.009949534745600338,
          0.006620608277659777,
          0.03664665214796935,
          0.020688888598753986,
          0.03873125652129307,
          0.003787977681424867,
          0.028663519506199987,
          0.04648992183639106,
          0.04846286159422947,
          0.018145334695746924,
          0.03342136402855271,
          0.00551089518448643,
          0.037585198954891215,
          0.025587550474796862,
          0.03557866001599775,
          0.012801534361770759,
          0.01761005819934274,
          0.0015313524043452727,
          0.02853545969238826,
          0.018099906509633043,
          0.024875021177195762,
          0.0636146534803317,
          0.024349759752495204,
          0.07630836114591048,
          0.028542955958814797,
          0.03720414436275454,
          0.11491862998604882,
          0.10070165847928769,
          0.03890893207778836,
          0.033849398631822986,
          0.1054494548042649,
          0.0495042360583033,
          0.015355248509441538,
          0.05348371543752323,
          0.06404266476294358,
          0.0325747228847655,
          0.1795218349972061,
          0.05556929445586992,
          0.007878224001732145,
          0.016325952523617945,
          0.029388486508913486,
          0.03931068642209682,
          0.05520164341878,
          0.016718703226748018,
          0.070319718831348,
          0.02392788776776969,
          0.07581242854724408,
          0.05197198004331425,
          0.07447176045893951,
          0.025118364118378266,
          0.020969803026858722,
          0.056641834924353616,
          0.008491794363559665,
          0.07650929354161559,
          0.07980575434099384,
          0.11492379638303689,
          0.04803757671098054,
          0.03566041700424424,
          0.03172477549070255,
          0.05057506532813322,
          0.11145866271654603,
          0.17448654548809975,
          0.19930163137670137,
          0.09949855413995837,
          0.23295575992144194,
          0.11307097203243836,
          0.14325536329852875,
          0.09511227794652027,
          0.1599610718759846,
          0.3846895506445301
         ],
         "xaxis": "x",
         "yaxis": "y"
        }
       ],
       "layout": {
        "barmode": "relative",
        "legend": {
         "title": {
          "text": "variable"
         },
         "tracegroupgap": 0
        },
        "template": {
         "data": {
          "bar": [
           {
            "error_x": {
             "color": "#2a3f5f"
            },
            "error_y": {
             "color": "#2a3f5f"
            },
            "marker": {
             "line": {
              "color": "#E5ECF6",
              "width": 0.5
             },
             "pattern": {
              "fillmode": "overlay",
              "size": 10,
              "solidity": 0.2
             }
            },
            "type": "bar"
           }
          ],
          "barpolar": [
           {
            "marker": {
             "line": {
              "color": "#E5ECF6",
              "width": 0.5
             },
             "pattern": {
              "fillmode": "overlay",
              "size": 10,
              "solidity": 0.2
             }
            },
            "type": "barpolar"
           }
          ],
          "carpet": [
           {
            "aaxis": {
             "endlinecolor": "#2a3f5f",
             "gridcolor": "white",
             "linecolor": "white",
             "minorgridcolor": "white",
             "startlinecolor": "#2a3f5f"
            },
            "baxis": {
             "endlinecolor": "#2a3f5f",
             "gridcolor": "white",
             "linecolor": "white",
             "minorgridcolor": "white",
             "startlinecolor": "#2a3f5f"
            },
            "type": "carpet"
           }
          ],
          "choropleth": [
           {
            "colorbar": {
             "outlinewidth": 0,
             "ticks": ""
            },
            "type": "choropleth"
           }
          ],
          "contour": [
           {
            "colorbar": {
             "outlinewidth": 0,
             "ticks": ""
            },
            "colorscale": [
             [
              0,
              "#0d0887"
             ],
             [
              0.1111111111111111,
              "#46039f"
             ],
             [
              0.2222222222222222,
              "#7201a8"
             ],
             [
              0.3333333333333333,
              "#9c179e"
             ],
             [
              0.4444444444444444,
              "#bd3786"
             ],
             [
              0.5555555555555556,
              "#d8576b"
             ],
             [
              0.6666666666666666,
              "#ed7953"
             ],
             [
              0.7777777777777778,
              "#fb9f3a"
             ],
             [
              0.8888888888888888,
              "#fdca26"
             ],
             [
              1,
              "#f0f921"
             ]
            ],
            "type": "contour"
           }
          ],
          "contourcarpet": [
           {
            "colorbar": {
             "outlinewidth": 0,
             "ticks": ""
            },
            "type": "contourcarpet"
           }
          ],
          "heatmap": [
           {
            "colorbar": {
             "outlinewidth": 0,
             "ticks": ""
            },
            "colorscale": [
             [
              0,
              "#0d0887"
             ],
             [
              0.1111111111111111,
              "#46039f"
             ],
             [
              0.2222222222222222,
              "#7201a8"
             ],
             [
              0.3333333333333333,
              "#9c179e"
             ],
             [
              0.4444444444444444,
              "#bd3786"
             ],
             [
              0.5555555555555556,
              "#d8576b"
             ],
             [
              0.6666666666666666,
              "#ed7953"
             ],
             [
              0.7777777777777778,
              "#fb9f3a"
             ],
             [
              0.8888888888888888,
              "#fdca26"
             ],
             [
              1,
              "#f0f921"
             ]
            ],
            "type": "heatmap"
           }
          ],
          "heatmapgl": [
           {
            "colorbar": {
             "outlinewidth": 0,
             "ticks": ""
            },
            "colorscale": [
             [
              0,
              "#0d0887"
             ],
             [
              0.1111111111111111,
              "#46039f"
             ],
             [
              0.2222222222222222,
              "#7201a8"
             ],
             [
              0.3333333333333333,
              "#9c179e"
             ],
             [
              0.4444444444444444,
              "#bd3786"
             ],
             [
              0.5555555555555556,
              "#d8576b"
             ],
             [
              0.6666666666666666,
              "#ed7953"
             ],
             [
              0.7777777777777778,
              "#fb9f3a"
             ],
             [
              0.8888888888888888,
              "#fdca26"
             ],
             [
              1,
              "#f0f921"
             ]
            ],
            "type": "heatmapgl"
           }
          ],
          "histogram": [
           {
            "marker": {
             "pattern": {
              "fillmode": "overlay",
              "size": 10,
              "solidity": 0.2
             }
            },
            "type": "histogram"
           }
          ],
          "histogram2d": [
           {
            "colorbar": {
             "outlinewidth": 0,
             "ticks": ""
            },
            "colorscale": [
             [
              0,
              "#0d0887"
             ],
             [
              0.1111111111111111,
              "#46039f"
             ],
             [
              0.2222222222222222,
              "#7201a8"
             ],
             [
              0.3333333333333333,
              "#9c179e"
             ],
             [
              0.4444444444444444,
              "#bd3786"
             ],
             [
              0.5555555555555556,
              "#d8576b"
             ],
             [
              0.6666666666666666,
              "#ed7953"
             ],
             [
              0.7777777777777778,
              "#fb9f3a"
             ],
             [
              0.8888888888888888,
              "#fdca26"
             ],
             [
              1,
              "#f0f921"
             ]
            ],
            "type": "histogram2d"
           }
          ],
          "histogram2dcontour": [
           {
            "colorbar": {
             "outlinewidth": 0,
             "ticks": ""
            },
            "colorscale": [
             [
              0,
              "#0d0887"
             ],
             [
              0.1111111111111111,
              "#46039f"
             ],
             [
              0.2222222222222222,
              "#7201a8"
             ],
             [
              0.3333333333333333,
              "#9c179e"
             ],
             [
              0.4444444444444444,
              "#bd3786"
             ],
             [
              0.5555555555555556,
              "#d8576b"
             ],
             [
              0.6666666666666666,
              "#ed7953"
             ],
             [
              0.7777777777777778,
              "#fb9f3a"
             ],
             [
              0.8888888888888888,
              "#fdca26"
             ],
             [
              1,
              "#f0f921"
             ]
            ],
            "type": "histogram2dcontour"
           }
          ],
          "mesh3d": [
           {
            "colorbar": {
             "outlinewidth": 0,
             "ticks": ""
            },
            "type": "mesh3d"
           }
          ],
          "parcoords": [
           {
            "line": {
             "colorbar": {
              "outlinewidth": 0,
              "ticks": ""
             }
            },
            "type": "parcoords"
           }
          ],
          "pie": [
           {
            "automargin": true,
            "type": "pie"
           }
          ],
          "scatter": [
           {
            "fillpattern": {
             "fillmode": "overlay",
             "size": 10,
             "solidity": 0.2
            },
            "type": "scatter"
           }
          ],
          "scatter3d": [
           {
            "line": {
             "colorbar": {
              "outlinewidth": 0,
              "ticks": ""
             }
            },
            "marker": {
             "colorbar": {
              "outlinewidth": 0,
              "ticks": ""
             }
            },
            "type": "scatter3d"
           }
          ],
          "scattercarpet": [
           {
            "marker": {
             "colorbar": {
              "outlinewidth": 0,
              "ticks": ""
             }
            },
            "type": "scattercarpet"
           }
          ],
          "scattergeo": [
           {
            "marker": {
             "colorbar": {
              "outlinewidth": 0,
              "ticks": ""
             }
            },
            "type": "scattergeo"
           }
          ],
          "scattergl": [
           {
            "marker": {
             "colorbar": {
              "outlinewidth": 0,
              "ticks": ""
             }
            },
            "type": "scattergl"
           }
          ],
          "scattermapbox": [
           {
            "marker": {
             "colorbar": {
              "outlinewidth": 0,
              "ticks": ""
             }
            },
            "type": "scattermapbox"
           }
          ],
          "scatterpolar": [
           {
            "marker": {
             "colorbar": {
              "outlinewidth": 0,
              "ticks": ""
             }
            },
            "type": "scatterpolar"
           }
          ],
          "scatterpolargl": [
           {
            "marker": {
             "colorbar": {
              "outlinewidth": 0,
              "ticks": ""
             }
            },
            "type": "scatterpolargl"
           }
          ],
          "scatterternary": [
           {
            "marker": {
             "colorbar": {
              "outlinewidth": 0,
              "ticks": ""
             }
            },
            "type": "scatterternary"
           }
          ],
          "surface": [
           {
            "colorbar": {
             "outlinewidth": 0,
             "ticks": ""
            },
            "colorscale": [
             [
              0,
              "#0d0887"
             ],
             [
              0.1111111111111111,
              "#46039f"
             ],
             [
              0.2222222222222222,
              "#7201a8"
             ],
             [
              0.3333333333333333,
              "#9c179e"
             ],
             [
              0.4444444444444444,
              "#bd3786"
             ],
             [
              0.5555555555555556,
              "#d8576b"
             ],
             [
              0.6666666666666666,
              "#ed7953"
             ],
             [
              0.7777777777777778,
              "#fb9f3a"
             ],
             [
              0.8888888888888888,
              "#fdca26"
             ],
             [
              1,
              "#f0f921"
             ]
            ],
            "type": "surface"
           }
          ],
          "table": [
           {
            "cells": {
             "fill": {
              "color": "#EBF0F8"
             },
             "line": {
              "color": "white"
             }
            },
            "header": {
             "fill": {
              "color": "#C8D4E3"
             },
             "line": {
              "color": "white"
             }
            },
            "type": "table"
           }
          ]
         },
         "layout": {
          "annotationdefaults": {
           "arrowcolor": "#2a3f5f",
           "arrowhead": 0,
           "arrowwidth": 1
          },
          "autotypenumbers": "strict",
          "coloraxis": {
           "colorbar": {
            "outlinewidth": 0,
            "ticks": ""
           }
          },
          "colorscale": {
           "diverging": [
            [
             0,
             "#8e0152"
            ],
            [
             0.1,
             "#c51b7d"
            ],
            [
             0.2,
             "#de77ae"
            ],
            [
             0.3,
             "#f1b6da"
            ],
            [
             0.4,
             "#fde0ef"
            ],
            [
             0.5,
             "#f7f7f7"
            ],
            [
             0.6,
             "#e6f5d0"
            ],
            [
             0.7,
             "#b8e186"
            ],
            [
             0.8,
             "#7fbc41"
            ],
            [
             0.9,
             "#4d9221"
            ],
            [
             1,
             "#276419"
            ]
           ],
           "sequential": [
            [
             0,
             "#0d0887"
            ],
            [
             0.1111111111111111,
             "#46039f"
            ],
            [
             0.2222222222222222,
             "#7201a8"
            ],
            [
             0.3333333333333333,
             "#9c179e"
            ],
            [
             0.4444444444444444,
             "#bd3786"
            ],
            [
             0.5555555555555556,
             "#d8576b"
            ],
            [
             0.6666666666666666,
             "#ed7953"
            ],
            [
             0.7777777777777778,
             "#fb9f3a"
            ],
            [
             0.8888888888888888,
             "#fdca26"
            ],
            [
             1,
             "#f0f921"
            ]
           ],
           "sequentialminus": [
            [
             0,
             "#0d0887"
            ],
            [
             0.1111111111111111,
             "#46039f"
            ],
            [
             0.2222222222222222,
             "#7201a8"
            ],
            [
             0.3333333333333333,
             "#9c179e"
            ],
            [
             0.4444444444444444,
             "#bd3786"
            ],
            [
             0.5555555555555556,
             "#d8576b"
            ],
            [
             0.6666666666666666,
             "#ed7953"
            ],
            [
             0.7777777777777778,
             "#fb9f3a"
            ],
            [
             0.8888888888888888,
             "#fdca26"
            ],
            [
             1,
             "#f0f921"
            ]
           ]
          },
          "colorway": [
           "#636efa",
           "#EF553B",
           "#00cc96",
           "#ab63fa",
           "#FFA15A",
           "#19d3f3",
           "#FF6692",
           "#B6E880",
           "#FF97FF",
           "#FECB52"
          ],
          "font": {
           "color": "#2a3f5f"
          },
          "geo": {
           "bgcolor": "white",
           "lakecolor": "white",
           "landcolor": "#E5ECF6",
           "showlakes": true,
           "showland": true,
           "subunitcolor": "white"
          },
          "hoverlabel": {
           "align": "left"
          },
          "hovermode": "closest",
          "mapbox": {
           "style": "light"
          },
          "paper_bgcolor": "white",
          "plot_bgcolor": "#E5ECF6",
          "polar": {
           "angularaxis": {
            "gridcolor": "white",
            "linecolor": "white",
            "ticks": ""
           },
           "bgcolor": "#E5ECF6",
           "radialaxis": {
            "gridcolor": "white",
            "linecolor": "white",
            "ticks": ""
           }
          },
          "scene": {
           "xaxis": {
            "backgroundcolor": "#E5ECF6",
            "gridcolor": "white",
            "gridwidth": 2,
            "linecolor": "white",
            "showbackground": true,
            "ticks": "",
            "zerolinecolor": "white"
           },
           "yaxis": {
            "backgroundcolor": "#E5ECF6",
            "gridcolor": "white",
            "gridwidth": 2,
            "linecolor": "white",
            "showbackground": true,
            "ticks": "",
            "zerolinecolor": "white"
           },
           "zaxis": {
            "backgroundcolor": "#E5ECF6",
            "gridcolor": "white",
            "gridwidth": 2,
            "linecolor": "white",
            "showbackground": true,
            "ticks": "",
            "zerolinecolor": "white"
           }
          },
          "shapedefaults": {
           "line": {
            "color": "#2a3f5f"
           }
          },
          "ternary": {
           "aaxis": {
            "gridcolor": "white",
            "linecolor": "white",
            "ticks": ""
           },
           "baxis": {
            "gridcolor": "white",
            "linecolor": "white",
            "ticks": ""
           },
           "bgcolor": "#E5ECF6",
           "caxis": {
            "gridcolor": "white",
            "linecolor": "white",
            "ticks": ""
           }
          },
          "title": {
           "x": 0.05
          },
          "xaxis": {
           "automargin": true,
           "gridcolor": "white",
           "linecolor": "white",
           "ticks": "",
           "title": {
            "standoff": 15
           },
           "zerolinecolor": "white",
           "zerolinewidth": 2
          },
          "yaxis": {
           "automargin": true,
           "gridcolor": "white",
           "linecolor": "white",
           "ticks": "",
           "title": {
            "standoff": 15
           },
           "zerolinecolor": "white",
           "zerolinewidth": 2
          }
         }
        },
        "title": {
         "text": "histogram of aggregated DFBETAS"
        },
        "xaxis": {
         "anchor": "y",
         "domain": [
          0,
          1
         ],
         "title": {
          "text": "value"
         }
        },
        "yaxis": {
         "anchor": "x",
         "domain": [
          0,
          1
         ],
         "title": {
          "text": "count"
         }
        }
       }
      },
      "text/html": [
       "<div>                            <div id=\"e12918bf-5c96-4ebd-9c8f-da717088663d\" class=\"plotly-graph-div\" style=\"height:525px; width:100%;\"></div>            <script type=\"text/javascript\">                require([\"plotly\"], function(Plotly) {                    window.PLOTLYENV=window.PLOTLYENV || {};                                    if (document.getElementById(\"e12918bf-5c96-4ebd-9c8f-da717088663d\")) {                    Plotly.newPlot(                        \"e12918bf-5c96-4ebd-9c8f-da717088663d\",                        [{\"alignmentgroup\":\"True\",\"bingroup\":\"x\",\"hovertemplate\":\"variable=0\\u003cbr\\u003evalue=%{x}\\u003cbr\\u003ecount=%{y}\\u003cextra\\u003e\\u003c\\u002fextra\\u003e\",\"legendgroup\":\"0\",\"marker\":{\"color\":\"#636efa\",\"pattern\":{\"shape\":\"\"}},\"name\":\"0\",\"offsetgroup\":\"0\",\"orientation\":\"v\",\"showlegend\":true,\"x\":[0.26916299979587144,0.1547458706078786,0.11711540064117157,0.12338507049677602,0.18299536202775607,0.12640561251878904,0.05599035221270967,0.16953074736957469,0.060818154938304045,0.13974234670175628,0.051106985676803066,0.06736129077789155,0.07545142152626078,0.10777869035151359,0.06339216145467269,0.06015792764352727,0.030525440102458973,0.03800145540206985,0.02261074110789685,0.00768389708256751,0.0011345003198044233,0.04219542469835952,0.007428116401645045,0.021193378464636564,0.01653216759001469,0.03694836241624409,0.08817564994515883,0.09596434531419233,0.12308367270861091,0.054146839561013516,0.009977940164034952,0.03303708299949416,0.03645818234469081,0.030244152247123145,0.03101031578697867,0.059722828785273005,0.030209647529267365,0.029892035192221673,0.04212125985374253,0.036671412142122516,0.021754931131230774,0.04436075722403422,0.029591895580681732,0.02855764609371894,0.02260543042440443,0.052274685843230764,0.10631029465245315,0.019836536114391113,0.020477182145011364,0.04292978568825737,0.037867058299978905,0.027797009339733204,0.03493821932378112,0.016897590275313817,0.046325058142879766,0.023360684383270745,0.005236128502080794,0.11796415781725414,0.02601778814012214,0.013115297532058081,0.02249568172432666,0.17923720779768498,0.015853930436012794,0.04878150617084277,0.008643429544719933,0.15242569649833906,0.043979704446954114,0.03293803581973073,0.005101978268400434,0.001225225840698106,0.011803872755780476,0.0052073910814546456,0.026158545405843437,0.010960438514997815,0.04896171419212203,0.0057158305505063695,0.02622466126865074,0.011982279871860261,0.018716563620663967,0.03189605941723919,0.015527271407194693,0.001979781929065612,0.010960438514973223,0.007075017763327163,0.009949534745600338,0.006620608277659777,0.03664665214796935,0.020688888598753986,0.03873125652129307,0.003787977681424867,0.028663519506199987,0.04648992183639106,0.04846286159422947,0.018145334695746924,0.03342136402855271,0.00551089518448643,0.037585198954891215,0.025587550474796862,0.03557866001599775,0.012801534361770759,0.01761005819934274,0.0015313524043452727,0.02853545969238826,0.018099906509633043,0.024875021177195762,0.0636146534803317,0.024349759752495204,0.07630836114591048,0.028542955958814797,0.03720414436275454,0.11491862998604882,0.10070165847928769,0.03890893207778836,0.033849398631822986,0.1054494548042649,0.0495042360583033,0.015355248509441538,0.05348371543752323,0.06404266476294358,0.0325747228847655,0.1795218349972061,0.05556929445586992,0.007878224001732145,0.016325952523617945,0.029388486508913486,0.03931068642209682,0.05520164341878,0.016718703226748018,0.070319718831348,0.02392788776776969,0.07581242854724408,0.05197198004331425,0.07447176045893951,0.025118364118378266,0.020969803026858722,0.056641834924353616,0.008491794363559665,0.07650929354161559,0.07980575434099384,0.11492379638303689,0.04803757671098054,0.03566041700424424,0.03172477549070255,0.05057506532813322,0.11145866271654603,0.17448654548809975,0.19930163137670137,0.09949855413995837,0.23295575992144194,0.11307097203243836,0.14325536329852875,0.09511227794652027,0.1599610718759846,0.3846895506445301],\"xaxis\":\"x\",\"yaxis\":\"y\",\"type\":\"histogram\"}],                        {\"template\":{\"data\":{\"histogram2dcontour\":[{\"type\":\"histogram2dcontour\",\"colorbar\":{\"outlinewidth\":0,\"ticks\":\"\"},\"colorscale\":[[0.0,\"#0d0887\"],[0.1111111111111111,\"#46039f\"],[0.2222222222222222,\"#7201a8\"],[0.3333333333333333,\"#9c179e\"],[0.4444444444444444,\"#bd3786\"],[0.5555555555555556,\"#d8576b\"],[0.6666666666666666,\"#ed7953\"],[0.7777777777777778,\"#fb9f3a\"],[0.8888888888888888,\"#fdca26\"],[1.0,\"#f0f921\"]]}],\"choropleth\":[{\"type\":\"choropleth\",\"colorbar\":{\"outlinewidth\":0,\"ticks\":\"\"}}],\"histogram2d\":[{\"type\":\"histogram2d\",\"colorbar\":{\"outlinewidth\":0,\"ticks\":\"\"},\"colorscale\":[[0.0,\"#0d0887\"],[0.1111111111111111,\"#46039f\"],[0.2222222222222222,\"#7201a8\"],[0.3333333333333333,\"#9c179e\"],[0.4444444444444444,\"#bd3786\"],[0.5555555555555556,\"#d8576b\"],[0.6666666666666666,\"#ed7953\"],[0.7777777777777778,\"#fb9f3a\"],[0.8888888888888888,\"#fdca26\"],[1.0,\"#f0f921\"]]}],\"heatmap\":[{\"type\":\"heatmap\",\"colorbar\":{\"outlinewidth\":0,\"ticks\":\"\"},\"colorscale\":[[0.0,\"#0d0887\"],[0.1111111111111111,\"#46039f\"],[0.2222222222222222,\"#7201a8\"],[0.3333333333333333,\"#9c179e\"],[0.4444444444444444,\"#bd3786\"],[0.5555555555555556,\"#d8576b\"],[0.6666666666666666,\"#ed7953\"],[0.7777777777777778,\"#fb9f3a\"],[0.8888888888888888,\"#fdca26\"],[1.0,\"#f0f921\"]]}],\"heatmapgl\":[{\"type\":\"heatmapgl\",\"colorbar\":{\"outlinewidth\":0,\"ticks\":\"\"},\"colorscale\":[[0.0,\"#0d0887\"],[0.1111111111111111,\"#46039f\"],[0.2222222222222222,\"#7201a8\"],[0.3333333333333333,\"#9c179e\"],[0.4444444444444444,\"#bd3786\"],[0.5555555555555556,\"#d8576b\"],[0.6666666666666666,\"#ed7953\"],[0.7777777777777778,\"#fb9f3a\"],[0.8888888888888888,\"#fdca26\"],[1.0,\"#f0f921\"]]}],\"contourcarpet\":[{\"type\":\"contourcarpet\",\"colorbar\":{\"outlinewidth\":0,\"ticks\":\"\"}}],\"contour\":[{\"type\":\"contour\",\"colorbar\":{\"outlinewidth\":0,\"ticks\":\"\"},\"colorscale\":[[0.0,\"#0d0887\"],[0.1111111111111111,\"#46039f\"],[0.2222222222222222,\"#7201a8\"],[0.3333333333333333,\"#9c179e\"],[0.4444444444444444,\"#bd3786\"],[0.5555555555555556,\"#d8576b\"],[0.6666666666666666,\"#ed7953\"],[0.7777777777777778,\"#fb9f3a\"],[0.8888888888888888,\"#fdca26\"],[1.0,\"#f0f921\"]]}],\"surface\":[{\"type\":\"surface\",\"colorbar\":{\"outlinewidth\":0,\"ticks\":\"\"},\"colorscale\":[[0.0,\"#0d0887\"],[0.1111111111111111,\"#46039f\"],[0.2222222222222222,\"#7201a8\"],[0.3333333333333333,\"#9c179e\"],[0.4444444444444444,\"#bd3786\"],[0.5555555555555556,\"#d8576b\"],[0.6666666666666666,\"#ed7953\"],[0.7777777777777778,\"#fb9f3a\"],[0.8888888888888888,\"#fdca26\"],[1.0,\"#f0f921\"]]}],\"mesh3d\":[{\"type\":\"mesh3d\",\"colorbar\":{\"outlinewidth\":0,\"ticks\":\"\"}}],\"scatter\":[{\"fillpattern\":{\"fillmode\":\"overlay\",\"size\":10,\"solidity\":0.2},\"type\":\"scatter\"}],\"parcoords\":[{\"type\":\"parcoords\",\"line\":{\"colorbar\":{\"outlinewidth\":0,\"ticks\":\"\"}}}],\"scatterpolargl\":[{\"type\":\"scatterpolargl\",\"marker\":{\"colorbar\":{\"outlinewidth\":0,\"ticks\":\"\"}}}],\"bar\":[{\"error_x\":{\"color\":\"#2a3f5f\"},\"error_y\":{\"color\":\"#2a3f5f\"},\"marker\":{\"line\":{\"color\":\"#E5ECF6\",\"width\":0.5},\"pattern\":{\"fillmode\":\"overlay\",\"size\":10,\"solidity\":0.2}},\"type\":\"bar\"}],\"scattergeo\":[{\"type\":\"scattergeo\",\"marker\":{\"colorbar\":{\"outlinewidth\":0,\"ticks\":\"\"}}}],\"scatterpolar\":[{\"type\":\"scatterpolar\",\"marker\":{\"colorbar\":{\"outlinewidth\":0,\"ticks\":\"\"}}}],\"histogram\":[{\"marker\":{\"pattern\":{\"fillmode\":\"overlay\",\"size\":10,\"solidity\":0.2}},\"type\":\"histogram\"}],\"scattergl\":[{\"type\":\"scattergl\",\"marker\":{\"colorbar\":{\"outlinewidth\":0,\"ticks\":\"\"}}}],\"scatter3d\":[{\"type\":\"scatter3d\",\"line\":{\"colorbar\":{\"outlinewidth\":0,\"ticks\":\"\"}},\"marker\":{\"colorbar\":{\"outlinewidth\":0,\"ticks\":\"\"}}}],\"scattermapbox\":[{\"type\":\"scattermapbox\",\"marker\":{\"colorbar\":{\"outlinewidth\":0,\"ticks\":\"\"}}}],\"scatterternary\":[{\"type\":\"scatterternary\",\"marker\":{\"colorbar\":{\"outlinewidth\":0,\"ticks\":\"\"}}}],\"scattercarpet\":[{\"type\":\"scattercarpet\",\"marker\":{\"colorbar\":{\"outlinewidth\":0,\"ticks\":\"\"}}}],\"carpet\":[{\"aaxis\":{\"endlinecolor\":\"#2a3f5f\",\"gridcolor\":\"white\",\"linecolor\":\"white\",\"minorgridcolor\":\"white\",\"startlinecolor\":\"#2a3f5f\"},\"baxis\":{\"endlinecolor\":\"#2a3f5f\",\"gridcolor\":\"white\",\"linecolor\":\"white\",\"minorgridcolor\":\"white\",\"startlinecolor\":\"#2a3f5f\"},\"type\":\"carpet\"}],\"table\":[{\"cells\":{\"fill\":{\"color\":\"#EBF0F8\"},\"line\":{\"color\":\"white\"}},\"header\":{\"fill\":{\"color\":\"#C8D4E3\"},\"line\":{\"color\":\"white\"}},\"type\":\"table\"}],\"barpolar\":[{\"marker\":{\"line\":{\"color\":\"#E5ECF6\",\"width\":0.5},\"pattern\":{\"fillmode\":\"overlay\",\"size\":10,\"solidity\":0.2}},\"type\":\"barpolar\"}],\"pie\":[{\"automargin\":true,\"type\":\"pie\"}]},\"layout\":{\"autotypenumbers\":\"strict\",\"colorway\":[\"#636efa\",\"#EF553B\",\"#00cc96\",\"#ab63fa\",\"#FFA15A\",\"#19d3f3\",\"#FF6692\",\"#B6E880\",\"#FF97FF\",\"#FECB52\"],\"font\":{\"color\":\"#2a3f5f\"},\"hovermode\":\"closest\",\"hoverlabel\":{\"align\":\"left\"},\"paper_bgcolor\":\"white\",\"plot_bgcolor\":\"#E5ECF6\",\"polar\":{\"bgcolor\":\"#E5ECF6\",\"angularaxis\":{\"gridcolor\":\"white\",\"linecolor\":\"white\",\"ticks\":\"\"},\"radialaxis\":{\"gridcolor\":\"white\",\"linecolor\":\"white\",\"ticks\":\"\"}},\"ternary\":{\"bgcolor\":\"#E5ECF6\",\"aaxis\":{\"gridcolor\":\"white\",\"linecolor\":\"white\",\"ticks\":\"\"},\"baxis\":{\"gridcolor\":\"white\",\"linecolor\":\"white\",\"ticks\":\"\"},\"caxis\":{\"gridcolor\":\"white\",\"linecolor\":\"white\",\"ticks\":\"\"}},\"coloraxis\":{\"colorbar\":{\"outlinewidth\":0,\"ticks\":\"\"}},\"colorscale\":{\"sequential\":[[0.0,\"#0d0887\"],[0.1111111111111111,\"#46039f\"],[0.2222222222222222,\"#7201a8\"],[0.3333333333333333,\"#9c179e\"],[0.4444444444444444,\"#bd3786\"],[0.5555555555555556,\"#d8576b\"],[0.6666666666666666,\"#ed7953\"],[0.7777777777777778,\"#fb9f3a\"],[0.8888888888888888,\"#fdca26\"],[1.0,\"#f0f921\"]],\"sequentialminus\":[[0.0,\"#0d0887\"],[0.1111111111111111,\"#46039f\"],[0.2222222222222222,\"#7201a8\"],[0.3333333333333333,\"#9c179e\"],[0.4444444444444444,\"#bd3786\"],[0.5555555555555556,\"#d8576b\"],[0.6666666666666666,\"#ed7953\"],[0.7777777777777778,\"#fb9f3a\"],[0.8888888888888888,\"#fdca26\"],[1.0,\"#f0f921\"]],\"diverging\":[[0,\"#8e0152\"],[0.1,\"#c51b7d\"],[0.2,\"#de77ae\"],[0.3,\"#f1b6da\"],[0.4,\"#fde0ef\"],[0.5,\"#f7f7f7\"],[0.6,\"#e6f5d0\"],[0.7,\"#b8e186\"],[0.8,\"#7fbc41\"],[0.9,\"#4d9221\"],[1,\"#276419\"]]},\"xaxis\":{\"gridcolor\":\"white\",\"linecolor\":\"white\",\"ticks\":\"\",\"title\":{\"standoff\":15},\"zerolinecolor\":\"white\",\"automargin\":true,\"zerolinewidth\":2},\"yaxis\":{\"gridcolor\":\"white\",\"linecolor\":\"white\",\"ticks\":\"\",\"title\":{\"standoff\":15},\"zerolinecolor\":\"white\",\"automargin\":true,\"zerolinewidth\":2},\"scene\":{\"xaxis\":{\"backgroundcolor\":\"#E5ECF6\",\"gridcolor\":\"white\",\"linecolor\":\"white\",\"showbackground\":true,\"ticks\":\"\",\"zerolinecolor\":\"white\",\"gridwidth\":2},\"yaxis\":{\"backgroundcolor\":\"#E5ECF6\",\"gridcolor\":\"white\",\"linecolor\":\"white\",\"showbackground\":true,\"ticks\":\"\",\"zerolinecolor\":\"white\",\"gridwidth\":2},\"zaxis\":{\"backgroundcolor\":\"#E5ECF6\",\"gridcolor\":\"white\",\"linecolor\":\"white\",\"showbackground\":true,\"ticks\":\"\",\"zerolinecolor\":\"white\",\"gridwidth\":2}},\"shapedefaults\":{\"line\":{\"color\":\"#2a3f5f\"}},\"annotationdefaults\":{\"arrowcolor\":\"#2a3f5f\",\"arrowhead\":0,\"arrowwidth\":1},\"geo\":{\"bgcolor\":\"white\",\"landcolor\":\"#E5ECF6\",\"subunitcolor\":\"white\",\"showland\":true,\"showlakes\":true,\"lakecolor\":\"white\"},\"title\":{\"x\":0.05},\"mapbox\":{\"style\":\"light\"}}},\"xaxis\":{\"anchor\":\"y\",\"domain\":[0.0,1.0],\"title\":{\"text\":\"value\"}},\"yaxis\":{\"anchor\":\"x\",\"domain\":[0.0,1.0],\"title\":{\"text\":\"count\"}},\"legend\":{\"title\":{\"text\":\"variable\"},\"tracegroupgap\":0},\"title\":{\"text\":\"histogram of aggregated DFBETAS\"},\"barmode\":\"relative\"},                        {\"responsive\": true}                    ).then(function(){\n",
       "                            \n",
       "var gd = document.getElementById('e12918bf-5c96-4ebd-9c8f-da717088663d');\n",
       "var x = new MutationObserver(function (mutations, observer) {{\n",
       "        var display = window.getComputedStyle(gd).display;\n",
       "        if (!display || display === 'none') {{\n",
       "            console.log([gd, 'removed!']);\n",
       "            Plotly.purge(gd);\n",
       "            observer.disconnect();\n",
       "        }}\n",
       "}});\n",
       "\n",
       "// Listen for the removal of the full notebook cells\n",
       "var notebookContainer = gd.closest('#notebook-container');\n",
       "if (notebookContainer) {{\n",
       "    x.observe(notebookContainer, {childList: true});\n",
       "}}\n",
       "\n",
       "// Listen for the clearing of the current output cell\n",
       "var outputEl = gd.closest('.output');\n",
       "if (outputEl) {{\n",
       "    x.observe(outputEl, {childList: true});\n",
       "}}\n",
       "\n",
       "                        })                };                });            </script>        </div>"
      ]
     },
     "metadata": {},
     "output_type": "display_data"
    }
   ],
   "source": [
    "fig = px.histogram(aggregated, title=f'histogram of aggregated DFBETAS',\n",
    "                  labels={'x': 'df betas'})\n",
    "fig.show()"
   ]
  },
  {
   "cell_type": "markdown",
   "id": "59e7027f",
   "metadata": {},
   "source": [
    "Справедливо можно заметить, что 3 наблюдения \"больше\" 0.21 отделены от всех остальных. Их мы и возьмём"
   ]
  },
  {
   "cell_type": "code",
   "execution_count": 133,
   "id": "ceb78cf7",
   "metadata": {},
   "outputs": [],
   "source": [
    "df['dfbetas_outlier'] = (aggregated > 0.21).astype(int)"
   ]
  },
  {
   "cell_type": "markdown",
   "id": "028fe620",
   "metadata": {},
   "source": [
    "Получается, что также согласно dfbeta критерию, в выборке есть выбросы. "
   ]
  },
  {
   "cell_type": "markdown",
   "id": "044baac9",
   "metadata": {},
   "source": [
    "# Ex 7 "
   ]
  },
  {
   "cell_type": "markdown",
   "id": "7c4cbf12",
   "metadata": {},
   "source": [
    "### VIF"
   ]
  },
  {
   "cell_type": "markdown",
   "id": "881df954",
   "metadata": {},
   "source": [
    "Для начала протестируем наличие мультиколлинеарности с помощью раздувателя дисперсии (говорим по-русски)"
   ]
  },
  {
   "cell_type": "code",
   "execution_count": 135,
   "id": "87d33240",
   "metadata": {},
   "outputs": [],
   "source": [
    "from statsmodels.stats.outliers_influence import variance_inflation_factor"
   ]
  },
  {
   "cell_type": "code",
   "execution_count": 201,
   "id": "087708d5",
   "metadata": {},
   "outputs": [
    {
     "data": {
      "text/html": [
       "<div>\n",
       "<style scoped>\n",
       "    .dataframe tbody tr th:only-of-type {\n",
       "        vertical-align: middle;\n",
       "    }\n",
       "\n",
       "    .dataframe tbody tr th {\n",
       "        vertical-align: top;\n",
       "    }\n",
       "\n",
       "    .dataframe thead th {\n",
       "        text-align: right;\n",
       "    }\n",
       "</style>\n",
       "<table border=\"1\" class=\"dataframe\">\n",
       "  <thead>\n",
       "    <tr style=\"text-align: right;\">\n",
       "      <th></th>\n",
       "      <th>region</th>\n",
       "      <th>educ</th>\n",
       "      <th>age</th>\n",
       "      <th>is_female</th>\n",
       "      <th>industry</th>\n",
       "      <th>work_hours</th>\n",
       "      <th>wage</th>\n",
       "      <th>foreign_language</th>\n",
       "      <th>used_internet</th>\n",
       "      <th>use_alcohol</th>\n",
       "      <th>has_children</th>\n",
       "      <th>health_issues</th>\n",
       "      <th>weight</th>\n",
       "      <th>height</th>\n",
       "      <th>smoking</th>\n",
       "      <th>high_educ</th>\n",
       "      <th>wage_log</th>\n",
       "      <th>log_age</th>\n",
       "      <th>wage_fem</th>\n",
       "      <th>age_fem</th>\n",
       "      <th>high_educ_fem</th>\n",
       "      <th>smoking_fem</th>\n",
       "      <th>too_good_to_be_true</th>\n",
       "      <th>outliers_student</th>\n",
       "      <th>dfbetas</th>\n",
       "      <th>dfbetas_outlier</th>\n",
       "      <th>intercept</th>\n",
       "    </tr>\n",
       "  </thead>\n",
       "  <tbody>\n",
       "    <tr>\n",
       "      <th>2722</th>\n",
       "      <td>Томск</td>\n",
       "      <td>2</td>\n",
       "      <td>33.0</td>\n",
       "      <td>1</td>\n",
       "      <td>ТОРГОВЛЯ, БЫТОВОЕ ОБСЛУЖИВАНИЕ</td>\n",
       "      <td>8</td>\n",
       "      <td>280000.0</td>\n",
       "      <td>1</td>\n",
       "      <td>1</td>\n",
       "      <td>1</td>\n",
       "      <td>1</td>\n",
       "      <td>0</td>\n",
       "      <td>76.0</td>\n",
       "      <td>168.0</td>\n",
       "      <td>1</td>\n",
       "      <td>1</td>\n",
       "      <td>12.542545</td>\n",
       "      <td>3.496508</td>\n",
       "      <td>1</td>\n",
       "      <td>33.0</td>\n",
       "      <td>1</td>\n",
       "      <td>1</td>\n",
       "      <td>1</td>\n",
       "      <td>1</td>\n",
       "      <td>0.269163</td>\n",
       "      <td>1</td>\n",
       "      <td>1</td>\n",
       "    </tr>\n",
       "    <tr>\n",
       "      <th>3815</th>\n",
       "      <td>Томск</td>\n",
       "      <td>2</td>\n",
       "      <td>39.0</td>\n",
       "      <td>0</td>\n",
       "      <td>ДРУГАЯ ОТРАСЛЬ ТЯЖЕЛОЙ ПРОМЫШЛЕННОСТИ</td>\n",
       "      <td>12</td>\n",
       "      <td>200000.0</td>\n",
       "      <td>1</td>\n",
       "      <td>1</td>\n",
       "      <td>1</td>\n",
       "      <td>1</td>\n",
       "      <td>0</td>\n",
       "      <td>93.0</td>\n",
       "      <td>178.0</td>\n",
       "      <td>0</td>\n",
       "      <td>1</td>\n",
       "      <td>12.206073</td>\n",
       "      <td>3.663562</td>\n",
       "      <td>0</td>\n",
       "      <td>0.0</td>\n",
       "      <td>0</td>\n",
       "      <td>0</td>\n",
       "      <td>1</td>\n",
       "      <td>1</td>\n",
       "      <td>0.154746</td>\n",
       "      <td>0</td>\n",
       "      <td>1</td>\n",
       "    </tr>\n",
       "    <tr>\n",
       "      <th>3690</th>\n",
       "      <td>Томск</td>\n",
       "      <td>2</td>\n",
       "      <td>40.5</td>\n",
       "      <td>0</td>\n",
       "      <td>ОРГАНЫ УПРАВЛЕНИЯ</td>\n",
       "      <td>12</td>\n",
       "      <td>173000.0</td>\n",
       "      <td>1</td>\n",
       "      <td>1</td>\n",
       "      <td>1</td>\n",
       "      <td>1</td>\n",
       "      <td>0</td>\n",
       "      <td>83.0</td>\n",
       "      <td>183.0</td>\n",
       "      <td>1</td>\n",
       "      <td>1</td>\n",
       "      <td>12.061047</td>\n",
       "      <td>3.701302</td>\n",
       "      <td>0</td>\n",
       "      <td>0.0</td>\n",
       "      <td>0</td>\n",
       "      <td>0</td>\n",
       "      <td>1</td>\n",
       "      <td>1</td>\n",
       "      <td>0.117115</td>\n",
       "      <td>0</td>\n",
       "      <td>1</td>\n",
       "    </tr>\n",
       "    <tr>\n",
       "      <th>2454</th>\n",
       "      <td>Томск</td>\n",
       "      <td>2</td>\n",
       "      <td>39.5</td>\n",
       "      <td>1</td>\n",
       "      <td>ДЕРЕВООБРАБАТЫВАЮЩАЯ ПРОМЫШЛЕННОСТЬ, ЛЕСНОЕ ХОЗЯЙСТВО</td>\n",
       "      <td>8</td>\n",
       "      <td>120000.0</td>\n",
       "      <td>0</td>\n",
       "      <td>1</td>\n",
       "      <td>1</td>\n",
       "      <td>1</td>\n",
       "      <td>0</td>\n",
       "      <td>58.0</td>\n",
       "      <td>164.0</td>\n",
       "      <td>1</td>\n",
       "      <td>1</td>\n",
       "      <td>11.695247</td>\n",
       "      <td>3.676301</td>\n",
       "      <td>1</td>\n",
       "      <td>39.5</td>\n",
       "      <td>1</td>\n",
       "      <td>1</td>\n",
       "      <td>0</td>\n",
       "      <td>0</td>\n",
       "      <td>0.123385</td>\n",
       "      <td>0</td>\n",
       "      <td>1</td>\n",
       "    </tr>\n",
       "    <tr>\n",
       "      <th>4260</th>\n",
       "      <td>Томск</td>\n",
       "      <td>1</td>\n",
       "      <td>39.0</td>\n",
       "      <td>0</td>\n",
       "      <td>ЛЕГКАЯ, ПИЩЕВАЯ ПРОМЫШЛЕННОСТЬ</td>\n",
       "      <td>12</td>\n",
       "      <td>120000.0</td>\n",
       "      <td>0</td>\n",
       "      <td>1</td>\n",
       "      <td>1</td>\n",
       "      <td>1</td>\n",
       "      <td>1</td>\n",
       "      <td>90.0</td>\n",
       "      <td>174.0</td>\n",
       "      <td>0</td>\n",
       "      <td>0</td>\n",
       "      <td>11.695247</td>\n",
       "      <td>3.663562</td>\n",
       "      <td>0</td>\n",
       "      <td>0.0</td>\n",
       "      <td>0</td>\n",
       "      <td>0</td>\n",
       "      <td>1</td>\n",
       "      <td>1</td>\n",
       "      <td>0.182995</td>\n",
       "      <td>0</td>\n",
       "      <td>1</td>\n",
       "    </tr>\n",
       "    <tr>\n",
       "      <th>...</th>\n",
       "      <td>...</td>\n",
       "      <td>...</td>\n",
       "      <td>...</td>\n",
       "      <td>...</td>\n",
       "      <td>...</td>\n",
       "      <td>...</td>\n",
       "      <td>...</td>\n",
       "      <td>...</td>\n",
       "      <td>...</td>\n",
       "      <td>...</td>\n",
       "      <td>...</td>\n",
       "      <td>...</td>\n",
       "      <td>...</td>\n",
       "      <td>...</td>\n",
       "      <td>...</td>\n",
       "      <td>...</td>\n",
       "      <td>...</td>\n",
       "      <td>...</td>\n",
       "      <td>...</td>\n",
       "      <td>...</td>\n",
       "      <td>...</td>\n",
       "      <td>...</td>\n",
       "      <td>...</td>\n",
       "      <td>...</td>\n",
       "      <td>...</td>\n",
       "      <td>...</td>\n",
       "      <td>...</td>\n",
       "    </tr>\n",
       "    <tr>\n",
       "      <th>227</th>\n",
       "      <td>Томск</td>\n",
       "      <td>0</td>\n",
       "      <td>67.0</td>\n",
       "      <td>1</td>\n",
       "      <td>ТОРГОВЛЯ, БЫТОВОЕ ОБСЛУЖИВАНИЕ</td>\n",
       "      <td>2</td>\n",
       "      <td>10000.0</td>\n",
       "      <td>0</td>\n",
       "      <td>1</td>\n",
       "      <td>0</td>\n",
       "      <td>1</td>\n",
       "      <td>1</td>\n",
       "      <td>115.0</td>\n",
       "      <td>173.5</td>\n",
       "      <td>0</td>\n",
       "      <td>0</td>\n",
       "      <td>9.210340</td>\n",
       "      <td>4.204693</td>\n",
       "      <td>0</td>\n",
       "      <td>67.0</td>\n",
       "      <td>0</td>\n",
       "      <td>0</td>\n",
       "      <td>0</td>\n",
       "      <td>0</td>\n",
       "      <td>0.113071</td>\n",
       "      <td>0</td>\n",
       "      <td>1</td>\n",
       "    </tr>\n",
       "    <tr>\n",
       "      <th>1994</th>\n",
       "      <td>Томск</td>\n",
       "      <td>0</td>\n",
       "      <td>63.0</td>\n",
       "      <td>1</td>\n",
       "      <td>ТОРГОВЛЯ, БЫТОВОЕ ОБСЛУЖИВАНИЕ</td>\n",
       "      <td>7</td>\n",
       "      <td>10000.0</td>\n",
       "      <td>0</td>\n",
       "      <td>1</td>\n",
       "      <td>1</td>\n",
       "      <td>1</td>\n",
       "      <td>1</td>\n",
       "      <td>89.0</td>\n",
       "      <td>156.0</td>\n",
       "      <td>1</td>\n",
       "      <td>0</td>\n",
       "      <td>9.210340</td>\n",
       "      <td>4.143135</td>\n",
       "      <td>1</td>\n",
       "      <td>63.0</td>\n",
       "      <td>0</td>\n",
       "      <td>1</td>\n",
       "      <td>0</td>\n",
       "      <td>0</td>\n",
       "      <td>0.143255</td>\n",
       "      <td>0</td>\n",
       "      <td>1</td>\n",
       "    </tr>\n",
       "    <tr>\n",
       "      <th>1146</th>\n",
       "      <td>Томск</td>\n",
       "      <td>2</td>\n",
       "      <td>45.5</td>\n",
       "      <td>1</td>\n",
       "      <td>РЕКЛАМА, МАРКЕТИНГ</td>\n",
       "      <td>4</td>\n",
       "      <td>10000.0</td>\n",
       "      <td>1</td>\n",
       "      <td>1</td>\n",
       "      <td>1</td>\n",
       "      <td>1</td>\n",
       "      <td>0</td>\n",
       "      <td>60.0</td>\n",
       "      <td>160.0</td>\n",
       "      <td>0</td>\n",
       "      <td>1</td>\n",
       "      <td>9.210340</td>\n",
       "      <td>3.817712</td>\n",
       "      <td>0</td>\n",
       "      <td>45.5</td>\n",
       "      <td>1</td>\n",
       "      <td>0</td>\n",
       "      <td>0</td>\n",
       "      <td>0</td>\n",
       "      <td>0.095112</td>\n",
       "      <td>0</td>\n",
       "      <td>1</td>\n",
       "    </tr>\n",
       "    <tr>\n",
       "      <th>4542</th>\n",
       "      <td>Томск</td>\n",
       "      <td>1</td>\n",
       "      <td>50.5</td>\n",
       "      <td>1</td>\n",
       "      <td>ТОРГОВЛЯ, БЫТОВОЕ ОБСЛУЖИВАНИЕ</td>\n",
       "      <td>8</td>\n",
       "      <td>6500.0</td>\n",
       "      <td>0</td>\n",
       "      <td>1</td>\n",
       "      <td>0</td>\n",
       "      <td>1</td>\n",
       "      <td>1</td>\n",
       "      <td>83.0</td>\n",
       "      <td>160.0</td>\n",
       "      <td>1</td>\n",
       "      <td>0</td>\n",
       "      <td>8.779557</td>\n",
       "      <td>3.921973</td>\n",
       "      <td>1</td>\n",
       "      <td>50.5</td>\n",
       "      <td>0</td>\n",
       "      <td>1</td>\n",
       "      <td>0</td>\n",
       "      <td>0</td>\n",
       "      <td>0.159961</td>\n",
       "      <td>0</td>\n",
       "      <td>1</td>\n",
       "    </tr>\n",
       "    <tr>\n",
       "      <th>4252</th>\n",
       "      <td>Томск</td>\n",
       "      <td>0</td>\n",
       "      <td>26.0</td>\n",
       "      <td>1</td>\n",
       "      <td>ОБРАЗОВАНИЕ</td>\n",
       "      <td>10</td>\n",
       "      <td>5000.0</td>\n",
       "      <td>0</td>\n",
       "      <td>1</td>\n",
       "      <td>1</td>\n",
       "      <td>1</td>\n",
       "      <td>0</td>\n",
       "      <td>65.0</td>\n",
       "      <td>164.0</td>\n",
       "      <td>1</td>\n",
       "      <td>0</td>\n",
       "      <td>8.517193</td>\n",
       "      <td>3.258097</td>\n",
       "      <td>1</td>\n",
       "      <td>26.0</td>\n",
       "      <td>0</td>\n",
       "      <td>1</td>\n",
       "      <td>0</td>\n",
       "      <td>0</td>\n",
       "      <td>0.384690</td>\n",
       "      <td>1</td>\n",
       "      <td>1</td>\n",
       "    </tr>\n",
       "  </tbody>\n",
       "</table>\n",
       "<p>154 rows × 27 columns</p>\n",
       "</div>"
      ],
      "text/plain": [
       "     region  educ   age  is_female  \\\n",
       "2722  Томск     2  33.0          1   \n",
       "3815  Томск     2  39.0          0   \n",
       "3690  Томск     2  40.5          0   \n",
       "2454  Томск     2  39.5          1   \n",
       "4260  Томск     1  39.0          0   \n",
       "...     ...   ...   ...        ...   \n",
       "227   Томск     0  67.0          1   \n",
       "1994  Томск     0  63.0          1   \n",
       "1146  Томск     2  45.5          1   \n",
       "4542  Томск     1  50.5          1   \n",
       "4252  Томск     0  26.0          1   \n",
       "\n",
       "                                                   industry  work_hours  \\\n",
       "2722                         ТОРГОВЛЯ, БЫТОВОЕ ОБСЛУЖИВАНИЕ           8   \n",
       "3815                  ДРУГАЯ ОТРАСЛЬ ТЯЖЕЛОЙ ПРОМЫШЛЕННОСТИ          12   \n",
       "3690                                      ОРГАНЫ УПРАВЛЕНИЯ          12   \n",
       "2454  ДЕРЕВООБРАБАТЫВАЮЩАЯ ПРОМЫШЛЕННОСТЬ, ЛЕСНОЕ ХОЗЯЙСТВО           8   \n",
       "4260                         ЛЕГКАЯ, ПИЩЕВАЯ ПРОМЫШЛЕННОСТЬ          12   \n",
       "...                                                     ...         ...   \n",
       "227                          ТОРГОВЛЯ, БЫТОВОЕ ОБСЛУЖИВАНИЕ           2   \n",
       "1994                         ТОРГОВЛЯ, БЫТОВОЕ ОБСЛУЖИВАНИЕ           7   \n",
       "1146                                     РЕКЛАМА, МАРКЕТИНГ           4   \n",
       "4542                         ТОРГОВЛЯ, БЫТОВОЕ ОБСЛУЖИВАНИЕ           8   \n",
       "4252                                            ОБРАЗОВАНИЕ          10   \n",
       "\n",
       "          wage  foreign_language  used_internet  use_alcohol  has_children  \\\n",
       "2722  280000.0                 1              1            1             1   \n",
       "3815  200000.0                 1              1            1             1   \n",
       "3690  173000.0                 1              1            1             1   \n",
       "2454  120000.0                 0              1            1             1   \n",
       "4260  120000.0                 0              1            1             1   \n",
       "...        ...               ...            ...          ...           ...   \n",
       "227    10000.0                 0              1            0             1   \n",
       "1994   10000.0                 0              1            1             1   \n",
       "1146   10000.0                 1              1            1             1   \n",
       "4542    6500.0                 0              1            0             1   \n",
       "4252    5000.0                 0              1            1             1   \n",
       "\n",
       "      health_issues  weight  height  smoking  high_educ   wage_log   log_age  \\\n",
       "2722              0    76.0   168.0        1          1  12.542545  3.496508   \n",
       "3815              0    93.0   178.0        0          1  12.206073  3.663562   \n",
       "3690              0    83.0   183.0        1          1  12.061047  3.701302   \n",
       "2454              0    58.0   164.0        1          1  11.695247  3.676301   \n",
       "4260              1    90.0   174.0        0          0  11.695247  3.663562   \n",
       "...             ...     ...     ...      ...        ...        ...       ...   \n",
       "227               1   115.0   173.5        0          0   9.210340  4.204693   \n",
       "1994              1    89.0   156.0        1          0   9.210340  4.143135   \n",
       "1146              0    60.0   160.0        0          1   9.210340  3.817712   \n",
       "4542              1    83.0   160.0        1          0   8.779557  3.921973   \n",
       "4252              0    65.0   164.0        1          0   8.517193  3.258097   \n",
       "\n",
       "      wage_fem  age_fem  high_educ_fem  smoking_fem  too_good_to_be_true  \\\n",
       "2722         1     33.0              1            1                    1   \n",
       "3815         0      0.0              0            0                    1   \n",
       "3690         0      0.0              0            0                    1   \n",
       "2454         1     39.5              1            1                    0   \n",
       "4260         0      0.0              0            0                    1   \n",
       "...        ...      ...            ...          ...                  ...   \n",
       "227          0     67.0              0            0                    0   \n",
       "1994         1     63.0              0            1                    0   \n",
       "1146         0     45.5              1            0                    0   \n",
       "4542         1     50.5              0            1                    0   \n",
       "4252         1     26.0              0            1                    0   \n",
       "\n",
       "      outliers_student   dfbetas  dfbetas_outlier  intercept  \n",
       "2722                 1  0.269163                1          1  \n",
       "3815                 1  0.154746                0          1  \n",
       "3690                 1  0.117115                0          1  \n",
       "2454                 0  0.123385                0          1  \n",
       "4260                 1  0.182995                0          1  \n",
       "...                ...       ...              ...        ...  \n",
       "227                  0  0.113071                0          1  \n",
       "1994                 0  0.143255                0          1  \n",
       "1146                 0  0.095112                0          1  \n",
       "4542                 0  0.159961                0          1  \n",
       "4252                 0  0.384690                1          1  \n",
       "\n",
       "[154 rows x 27 columns]"
      ]
     },
     "execution_count": 201,
     "metadata": {},
     "output_type": "execute_result"
    }
   ],
   "source": [
    "df"
   ]
  },
  {
   "cell_type": "code",
   "execution_count": 198,
   "id": "c8f7dee3",
   "metadata": {},
   "outputs": [],
   "source": [
    "needed_columns = ['age', 'high_educ', 'is_female', 'smoking']\n",
    "df['intercept'] = 1"
   ]
  },
  {
   "cell_type": "code",
   "execution_count": 202,
   "id": "a5e737f1",
   "metadata": {},
   "outputs": [
    {
     "name": "stdout",
     "output_type": "stream",
     "text": [
      "for column(age) VIF(1.0315)\n",
      "for column(high_educ) VIF(1.1462)\n",
      "for column(is_female) VIF(1.0913)\n",
      "for column(smoking) VIF(1.1278)\n"
     ]
    }
   ],
   "source": [
    "for index, column in enumerate(needed_columns):\n",
    "    VIF = variance_inflation_factor(df[needed_columns + ['intercept']].values, index)\n",
    "    \n",
    "    print(f'for column({column}) VIF({VIF:.4f})')"
   ]
  },
  {
   "cell_type": "markdown",
   "id": "c219759e",
   "metadata": {},
   "source": [
    "Видим, что каждый отдельный признак не очень хорошо предсказывается остальными, но они вместо хорошо складываются в константу. Поэтому мультиколлинеарность присутствует "
   ]
  },
  {
   "cell_type": "markdown",
   "id": "ceedeaa5",
   "metadata": {},
   "source": [
    "### Можно посмотреть на распределения сингулярных чисел (на число обусловленности матрицы), чтобы обнаружить сильную зависимость между колонками."
   ]
  },
  {
   "cell_type": "markdown",
   "id": "b52e0413",
   "metadata": {},
   "source": [
    "Для начала давайте стандартизируем фичи: вычтем из каждой среднее и поделим на стандартное отклонение"
   ]
  },
  {
   "cell_type": "code",
   "execution_count": 210,
   "id": "9db6321f",
   "metadata": {},
   "outputs": [],
   "source": [
    "to_test = df[needed_columns].copy()\n",
    "\n",
    "for column in needed_columns:\n",
    "    to_test[column] = (to_test[column] - to_test[column].mean()) / to_test[column].std()"
   ]
  },
  {
   "cell_type": "code",
   "execution_count": 211,
   "id": "371ea43a",
   "metadata": {
    "scrolled": false
   },
   "outputs": [
    {
     "data": {
      "text/plain": [
       "array([15.2267, 12.4297, 11.2009, 10.0096])"
      ]
     },
     "execution_count": 211,
     "metadata": {},
     "output_type": "execute_result"
    }
   ],
   "source": [
    "np.linalg.svd(to_test)[1]"
   ]
  },
  {
   "cell_type": "code",
   "execution_count": 212,
   "id": "c1b7e705",
   "metadata": {
    "scrolled": true
   },
   "outputs": [
    {
     "name": "stdout",
     "output_type": "stream",
     "text": [
      "condition number(1.5212)\n"
     ]
    }
   ],
   "source": [
    "singular_values = np.linalg.svd(to_test)[1]\n",
    "\n",
    "condition_number = singular_values[0] / singular_values[-1]\n",
    "\n",
    "print(f'condition number({condition_number:.4f})')"
   ]
  },
  {
   "cell_type": "markdown",
   "id": "15854779",
   "metadata": {},
   "source": [
    "Относительно небольшое число обусловленности, сингулярные числа не говорят о том что в данных есть большая мультиколлинеарность (они не могут учитывать наличие intercept в данных так как его не отнормировать)."
   ]
  },
  {
   "cell_type": "markdown",
   "id": "4d13e76f",
   "metadata": {},
   "source": [
    "# Ex 8"
   ]
  },
  {
   "cell_type": "markdown",
   "id": "2efca1a4",
   "metadata": {},
   "source": [
    "Минусы - чуть тяжелее интерпретировать значения линейных признаков\n",
    "\n",
    "При этом плюсы - дисперсии бет становятся ниже (1), мы можем выкинуть шумовые признаки (2),\n",
    "избавиться от мультиколлинеарности - признаки становятся \"чище\" (3), снижается вычислительная сложность (4), данные можно взиуализировать (5d -> 3d или 3d).\n",
    "\n",
    "PCA всё же предназначен чтобы работать с непрерывными данными, а у меня все колонки кроме age - бинарные. Так же у нас нет проблемы с мультиколлинеарностью или вычислительными мощностями. Поэтому я бы не стал использовать PCA."
   ]
  },
  {
   "cell_type": "markdown",
   "id": "6ba6d3d8",
   "metadata": {},
   "source": [
    "Применю обычное SVD - так мне проще)"
   ]
  },
  {
   "cell_type": "code",
   "execution_count": 225,
   "id": "93fcfb36",
   "metadata": {},
   "outputs": [],
   "source": [
    "U, S, V_T = np.linalg.svd(to_test, full_matrices=False)"
   ]
  },
  {
   "cell_type": "markdown",
   "id": "8b981c3c",
   "metadata": {},
   "source": [
    "US = XV"
   ]
  },
  {
   "cell_type": "code",
   "execution_count": 228,
   "id": "27dd59fd",
   "metadata": {
    "scrolled": true
   },
   "outputs": [
    {
     "data": {
      "text/html": [
       "<div>\n",
       "<style scoped>\n",
       "    .dataframe tbody tr th:only-of-type {\n",
       "        vertical-align: middle;\n",
       "    }\n",
       "\n",
       "    .dataframe tbody tr th {\n",
       "        vertical-align: top;\n",
       "    }\n",
       "\n",
       "    .dataframe thead th {\n",
       "        text-align: right;\n",
       "    }\n",
       "</style>\n",
       "<table border=\"1\" class=\"dataframe\">\n",
       "  <thead>\n",
       "    <tr style=\"text-align: right;\">\n",
       "      <th></th>\n",
       "      <th>age</th>\n",
       "      <th>high_educ</th>\n",
       "      <th>is_female</th>\n",
       "      <th>smoking</th>\n",
       "    </tr>\n",
       "  </thead>\n",
       "  <tbody>\n",
       "    <tr>\n",
       "      <th>2722</th>\n",
       "      <td>-1.203195</td>\n",
       "      <td>0.983886</td>\n",
       "      <td>0.863209</td>\n",
       "      <td>1.230728</td>\n",
       "    </tr>\n",
       "    <tr>\n",
       "      <th>3815</th>\n",
       "      <td>-0.698885</td>\n",
       "      <td>0.983886</td>\n",
       "      <td>-1.150945</td>\n",
       "      <td>-0.807251</td>\n",
       "    </tr>\n",
       "    <tr>\n",
       "      <th>3690</th>\n",
       "      <td>-0.572807</td>\n",
       "      <td>0.983886</td>\n",
       "      <td>-1.150945</td>\n",
       "      <td>1.230728</td>\n",
       "    </tr>\n",
       "    <tr>\n",
       "      <th>2454</th>\n",
       "      <td>-0.656859</td>\n",
       "      <td>0.983886</td>\n",
       "      <td>0.863209</td>\n",
       "      <td>1.230728</td>\n",
       "    </tr>\n",
       "    <tr>\n",
       "      <th>4260</th>\n",
       "      <td>-0.698885</td>\n",
       "      <td>-1.009778</td>\n",
       "      <td>-1.150945</td>\n",
       "      <td>-0.807251</td>\n",
       "    </tr>\n",
       "    <tr>\n",
       "      <th>...</th>\n",
       "      <td>...</td>\n",
       "      <td>...</td>\n",
       "      <td>...</td>\n",
       "      <td>...</td>\n",
       "    </tr>\n",
       "    <tr>\n",
       "      <th>227</th>\n",
       "      <td>1.654564</td>\n",
       "      <td>-1.009778</td>\n",
       "      <td>0.863209</td>\n",
       "      <td>-0.807251</td>\n",
       "    </tr>\n",
       "    <tr>\n",
       "      <th>1994</th>\n",
       "      <td>1.318357</td>\n",
       "      <td>-1.009778</td>\n",
       "      <td>0.863209</td>\n",
       "      <td>1.230728</td>\n",
       "    </tr>\n",
       "    <tr>\n",
       "      <th>1146</th>\n",
       "      <td>-0.152548</td>\n",
       "      <td>0.983886</td>\n",
       "      <td>0.863209</td>\n",
       "      <td>-0.807251</td>\n",
       "    </tr>\n",
       "    <tr>\n",
       "      <th>4542</th>\n",
       "      <td>0.267710</td>\n",
       "      <td>-1.009778</td>\n",
       "      <td>0.863209</td>\n",
       "      <td>1.230728</td>\n",
       "    </tr>\n",
       "    <tr>\n",
       "      <th>4252</th>\n",
       "      <td>-1.791558</td>\n",
       "      <td>-1.009778</td>\n",
       "      <td>0.863209</td>\n",
       "      <td>1.230728</td>\n",
       "    </tr>\n",
       "  </tbody>\n",
       "</table>\n",
       "<p>154 rows × 4 columns</p>\n",
       "</div>"
      ],
      "text/plain": [
       "           age  high_educ  is_female   smoking\n",
       "2722 -1.203195   0.983886   0.863209  1.230728\n",
       "3815 -0.698885   0.983886  -1.150945 -0.807251\n",
       "3690 -0.572807   0.983886  -1.150945  1.230728\n",
       "2454 -0.656859   0.983886   0.863209  1.230728\n",
       "4260 -0.698885  -1.009778  -1.150945 -0.807251\n",
       "...        ...        ...        ...       ...\n",
       "227   1.654564  -1.009778   0.863209 -0.807251\n",
       "1994  1.318357  -1.009778   0.863209  1.230728\n",
       "1146 -0.152548   0.983886   0.863209 -0.807251\n",
       "4542  0.267710  -1.009778   0.863209  1.230728\n",
       "4252 -1.791558  -1.009778   0.863209  1.230728\n",
       "\n",
       "[154 rows x 4 columns]"
      ]
     },
     "execution_count": 228,
     "metadata": {},
     "output_type": "execute_result"
    }
   ],
   "source": [
    "to_test"
   ]
  },
  {
   "cell_type": "code",
   "execution_count": 229,
   "id": "69c81f92",
   "metadata": {},
   "outputs": [
    {
     "data": {
      "text/plain": [
       "array([[ 0.2465, -0.9082, -0.019 ,  0.3376],\n",
       "       [ 0.5717,  0.4167, -0.1182,  0.6969],\n",
       "       [ 0.5305,  0.0127,  0.7893, -0.3089],\n",
       "       [-0.5753,  0.0365,  0.6023,  0.5523]])"
      ]
     },
     "execution_count": 229,
     "metadata": {},
     "output_type": "execute_result"
    }
   ],
   "source": [
    "V_T.T"
   ]
  },
  {
   "cell_type": "markdown",
   "id": "d1a38503",
   "metadata": {},
   "source": [
    "**Получили такую матрицу**\n",
    "\n",
    "Первая главная компонента за мудрых женщин, которые отказались от курения\n",
    "\n",
    "Вторая за молодых людей с высшим образованием\n",
    "\n",
    "Третья за больше про курящих женщин\n",
    "\n",
    "Последняя про взрослых, образованных и курящих мужчин"
   ]
  },
  {
   "cell_type": "markdown",
   "id": "de59f43b",
   "metadata": {},
   "source": [
    "# Ex 9"
   ]
  },
  {
   "cell_type": "code",
   "execution_count": 239,
   "id": "6f16b34d",
   "metadata": {},
   "outputs": [
    {
     "data": {
      "application/vnd.plotly.v1+json": {
       "config": {
        "plotlyServerURL": "https://plot.ly"
       },
       "data": [
        {
         "hovertemplate": "residuals=%{x}<br>prediction=%{y}<extra></extra>",
         "legendgroup": "",
         "marker": {
          "color": "#636efa",
          "symbol": "circle"
         },
         "mode": "markers",
         "name": "",
         "orientation": "v",
         "showlegend": false,
         "type": "scatter",
         "x": [
          1.7541499806494478,
          1.0444346518284728,
          0.864471951409401,
          0.965670102376059,
          1.0337701115773257,
          0.9209957008093692,
          0.4297585633544436,
          1.3830929710460804,
          0.32768627283634366,
          0.8831197759215783,
          0.3603363915937301,
          0.8753296085283715,
          0.5277414176099668,
          0.6943512020243325,
          0.8100458402397237,
          0.2940898784425716,
          0.2593532646697465,
          0.6811066657261247,
          0.14028054620283115,
          0.05003201832894355,
          -0.007527210852874333,
          0.2672061061337896,
          0.05581523142353895,
          -0.11621610781214287,
          0.13487079237042465,
          0.5204285121259957,
          0.48120023035683523,
          0.6589129296302687,
          0.888798227959759,
          0.5775298846877028,
          -0.07044652449872402,
          0.33303807246133843,
          0.4658159558759607,
          0.24686802053475532,
          0.3210332306727288,
          0.3044272497165732,
          0.255916940859958,
          0.21972125955914912,
          0.48391379652636424,
          0.40974858638839073,
          -0.1537549394028659,
          0.3358653640925269,
          0.24641153753363731,
          0.225754087591163,
          0.2591554590666654,
          0.3211660145567876,
          0.8381661857900387,
          0.3380844374229195,
          0.19152786468333183,
          0.22194033288954174,
          0.16764681093833111,
          -0.13217927249007388,
          0.37343452834418756,
          0.19603022768245815,
          0.399630934999502,
          0.11758123276001697,
          0.0359078430709463,
          0.6252993769058133,
          -0.2287482052263936,
          0.10377474550996091,
          -0.147307922299575,
          0.9510605086130859,
          0.25182317794379827,
          -0.2455872929448013,
          0.12208087178669658,
          0.7603506087036056,
          0.2927372471834513,
          0.2686230866761985,
          0.0650223793591529,
          0.018651808685206106,
          -0.06277186531341705,
          0.06487530793039475,
          -0.17492108068745615,
          -0.10252971808584199,
          0.3626944370601901,
          -0.06633403678503313,
          -0.18271124808066297,
          0.11464436971900582,
          -0.1432498595492504,
          -0.21289060952462258,
          0.12066068957585507,
          -0.030138355484226054,
          -0.10252971808584199,
          0.05857700023143764,
          0.08597337614446054,
          0.06335107533145568,
          -0.1749534535921473,
          -0.2259329689391123,
          0.33322562817548906,
          -0.025185330604474032,
          -0.24963449119816694,
          0.3998337776825096,
          0.3648968493136966,
          -0.2043898895721572,
          -0.28307955987273026,
          -0.06865608469412798,
          0.15367215300441117,
          -0.27227930992029314,
          0.2649770173668138,
          0.11120804590921729,
          -0.23185568484658603,
          0.0058867092373997565,
          0.24568309785525244,
          -0.2137578441961825,
          -0.3241187356349631,
          -0.44902977265143384,
          -0.1896436836889297,
          -0.3887199308433722,
          0.20411684265672214,
          -0.2903077763140871,
          -0.5074818641189349,
          -0.8628602224305464,
          -0.3525634285285726,
          -0.29804070572304475,
          -0.9173709256237377,
          -0.3855386209706868,
          -0.11183365234814602,
          -0.41720984210889434,
          -0.5969294956809374,
          -0.40512832131534005,
          -0.6278054752172739,
          -0.5589599668437728,
          0.06778414816705158,
          0.11755320995566265,
          0.1763711920694746,
          -0.4885099302543914,
          -0.40557778763332486,
          0.08077680863146242,
          -0.4133679550265317,
          -0.2034713425572221,
          -0.7202384070282228,
          -0.6626958389232929,
          -0.5770109511466917,
          -0.17662109797132253,
          -0.12232757602011013,
          -0.7476816843935321,
          -0.06024388667569269,
          -0.7876293938488832,
          -0.45413740048892137,
          -0.9281841752792168,
          -0.2970792267158888,
          -0.3087275592628842,
          -0.23181173649866693,
          -0.4100723225427281,
          -0.7983179808537049,
          -0.9689887141005471,
          -1.3821595922439993,
          -1.3766914727598856,
          -1.5856115901567076,
          -0.7217198460974288,
          -0.8064258362548511,
          -1.416432716604115,
          -1.350320256412333,
          -1.83438306884727
         ],
         "xaxis": "x",
         "y": [
          10.788394901501938,
          11.161637993701701,
          11.196574922070514,
          10.729576919388125,
          10.661476910186858,
          10.748933512970524,
          11.178477081420109,
          10.206793535060276,
          11.234029356303317,
          10.62980568904865,
          11.152589073376499,
          10.637595856441857,
          10.985184047360262,
          10.818574262945896,
          10.619498015791454,
          11.056316657029882,
          11.030428648986272,
          10.608675247929893,
          11.124183559468898,
          11.175211374189503,
          11.232770603371321,
          10.958037286384657,
          11.169428161094908,
          11.300637505810336,
          11.02137972866107,
          10.6358220089055,
          10.67505029067466,
          10.497337591401227,
          10.238464756198484,
          10.504612664190072,
          11.152589073376499,
          10.68559107069411,
          10.536283885328277,
          10.755231820669483,
          10.68106661053151,
          10.697672591487665,
          10.74618290034428,
          10.782378581645089,
          10.518186044677874,
          10.592351254815847,
          11.155854780607104,
          10.666234477111711,
          10.72178675199492,
          10.725052459225525,
          10.682840458067867,
          10.611940955160499,
          10.094940783927248,
          10.577004026791688,
          10.723560599531275,
          10.693148131325065,
          10.747441653276276,
          11.047267736704681,
          10.504612664190072,
          10.662968769881106,
          10.459368062564062,
          10.702197051650266,
          10.783870441339337,
          10.19447890750447,
          11.048526489636677,
          10.716003538900322,
          10.967086206709858,
          9.868717775797197,
          10.567955106466485,
          11.065365577355085,
          10.6358220089055,
          9.976046066767626,
          10.421680521569005,
          10.445794682076258,
          10.649395389393304,
          10.626773088580299,
          10.684099210999863,
          10.531759425165678,
          10.771555813783529,
          10.699164451181915,
          10.233940296035883,
          10.662968769881106,
          10.779345981176736,
          10.481990363377067,
          10.739884592645323,
          10.809525342620695,
          10.475974043520218,
          10.626773088580299,
          10.699164451181915,
          10.538057732864635,
          10.459368062564062,
          10.481990363377067,
          10.72029489230067,
          10.69188937839307,
          10.12987771229606,
          10.488288671076024,
          10.712737831669717,
          10.06326956278904,
          10.098206491157853,
          10.667493230043707,
          10.74618290034428,
          10.531759425165678,
          10.280443650593888,
          10.67654215036891,
          10.10851416441505,
          10.197744614735075,
          10.540808345490879,
          10.303065951406893,
          10.06326956278904,
          10.522710504840475,
          10.633071396279256,
          10.757982433295727,
          10.498596344333222,
          10.697672591487665,
          10.084633110670051,
          10.530267565471428,
          10.747441653276276,
          11.102820011587887,
          10.556155573515039,
          10.463892522726663,
          11.044002029474075,
          10.512169724821025,
          10.238464756198484,
          10.543840945959232,
          10.723560599531275,
          10.531759425165678,
          10.754436579067612,
          10.68559107069411,
          10.01802496116303,
          9.96825589937442,
          9.909437917260608,
          10.531759425165678,
          10.448827282544611,
          9.962472686279824,
          10.456617449937818,
          10.202269074897675,
          10.719036139368676,
          10.614973555628852,
          10.480498503682819,
          10.08010865050745,
          10.025815128556237,
          10.65116923692966,
          9.96373143921182,
          10.68106661053151,
          10.306331658637498,
          10.726311212157519,
          10.043912969206641,
          10.049696182301238,
          9.97278035953702,
          10.090416323764646,
          10.414123460938052,
          10.584794194184894,
          10.774821521014136,
          10.6358220089055,
          10.795951962132891,
          9.932060218073612,
          10.016766208231035,
          10.626773088580299,
          10.12987771229606,
          10.351576260263508
         ],
         "yaxis": "y"
        }
       ],
       "layout": {
        "legend": {
         "tracegroupgap": 0
        },
        "template": {
         "data": {
          "bar": [
           {
            "error_x": {
             "color": "#2a3f5f"
            },
            "error_y": {
             "color": "#2a3f5f"
            },
            "marker": {
             "line": {
              "color": "#E5ECF6",
              "width": 0.5
             },
             "pattern": {
              "fillmode": "overlay",
              "size": 10,
              "solidity": 0.2
             }
            },
            "type": "bar"
           }
          ],
          "barpolar": [
           {
            "marker": {
             "line": {
              "color": "#E5ECF6",
              "width": 0.5
             },
             "pattern": {
              "fillmode": "overlay",
              "size": 10,
              "solidity": 0.2
             }
            },
            "type": "barpolar"
           }
          ],
          "carpet": [
           {
            "aaxis": {
             "endlinecolor": "#2a3f5f",
             "gridcolor": "white",
             "linecolor": "white",
             "minorgridcolor": "white",
             "startlinecolor": "#2a3f5f"
            },
            "baxis": {
             "endlinecolor": "#2a3f5f",
             "gridcolor": "white",
             "linecolor": "white",
             "minorgridcolor": "white",
             "startlinecolor": "#2a3f5f"
            },
            "type": "carpet"
           }
          ],
          "choropleth": [
           {
            "colorbar": {
             "outlinewidth": 0,
             "ticks": ""
            },
            "type": "choropleth"
           }
          ],
          "contour": [
           {
            "colorbar": {
             "outlinewidth": 0,
             "ticks": ""
            },
            "colorscale": [
             [
              0,
              "#0d0887"
             ],
             [
              0.1111111111111111,
              "#46039f"
             ],
             [
              0.2222222222222222,
              "#7201a8"
             ],
             [
              0.3333333333333333,
              "#9c179e"
             ],
             [
              0.4444444444444444,
              "#bd3786"
             ],
             [
              0.5555555555555556,
              "#d8576b"
             ],
             [
              0.6666666666666666,
              "#ed7953"
             ],
             [
              0.7777777777777778,
              "#fb9f3a"
             ],
             [
              0.8888888888888888,
              "#fdca26"
             ],
             [
              1,
              "#f0f921"
             ]
            ],
            "type": "contour"
           }
          ],
          "contourcarpet": [
           {
            "colorbar": {
             "outlinewidth": 0,
             "ticks": ""
            },
            "type": "contourcarpet"
           }
          ],
          "heatmap": [
           {
            "colorbar": {
             "outlinewidth": 0,
             "ticks": ""
            },
            "colorscale": [
             [
              0,
              "#0d0887"
             ],
             [
              0.1111111111111111,
              "#46039f"
             ],
             [
              0.2222222222222222,
              "#7201a8"
             ],
             [
              0.3333333333333333,
              "#9c179e"
             ],
             [
              0.4444444444444444,
              "#bd3786"
             ],
             [
              0.5555555555555556,
              "#d8576b"
             ],
             [
              0.6666666666666666,
              "#ed7953"
             ],
             [
              0.7777777777777778,
              "#fb9f3a"
             ],
             [
              0.8888888888888888,
              "#fdca26"
             ],
             [
              1,
              "#f0f921"
             ]
            ],
            "type": "heatmap"
           }
          ],
          "heatmapgl": [
           {
            "colorbar": {
             "outlinewidth": 0,
             "ticks": ""
            },
            "colorscale": [
             [
              0,
              "#0d0887"
             ],
             [
              0.1111111111111111,
              "#46039f"
             ],
             [
              0.2222222222222222,
              "#7201a8"
             ],
             [
              0.3333333333333333,
              "#9c179e"
             ],
             [
              0.4444444444444444,
              "#bd3786"
             ],
             [
              0.5555555555555556,
              "#d8576b"
             ],
             [
              0.6666666666666666,
              "#ed7953"
             ],
             [
              0.7777777777777778,
              "#fb9f3a"
             ],
             [
              0.8888888888888888,
              "#fdca26"
             ],
             [
              1,
              "#f0f921"
             ]
            ],
            "type": "heatmapgl"
           }
          ],
          "histogram": [
           {
            "marker": {
             "pattern": {
              "fillmode": "overlay",
              "size": 10,
              "solidity": 0.2
             }
            },
            "type": "histogram"
           }
          ],
          "histogram2d": [
           {
            "colorbar": {
             "outlinewidth": 0,
             "ticks": ""
            },
            "colorscale": [
             [
              0,
              "#0d0887"
             ],
             [
              0.1111111111111111,
              "#46039f"
             ],
             [
              0.2222222222222222,
              "#7201a8"
             ],
             [
              0.3333333333333333,
              "#9c179e"
             ],
             [
              0.4444444444444444,
              "#bd3786"
             ],
             [
              0.5555555555555556,
              "#d8576b"
             ],
             [
              0.6666666666666666,
              "#ed7953"
             ],
             [
              0.7777777777777778,
              "#fb9f3a"
             ],
             [
              0.8888888888888888,
              "#fdca26"
             ],
             [
              1,
              "#f0f921"
             ]
            ],
            "type": "histogram2d"
           }
          ],
          "histogram2dcontour": [
           {
            "colorbar": {
             "outlinewidth": 0,
             "ticks": ""
            },
            "colorscale": [
             [
              0,
              "#0d0887"
             ],
             [
              0.1111111111111111,
              "#46039f"
             ],
             [
              0.2222222222222222,
              "#7201a8"
             ],
             [
              0.3333333333333333,
              "#9c179e"
             ],
             [
              0.4444444444444444,
              "#bd3786"
             ],
             [
              0.5555555555555556,
              "#d8576b"
             ],
             [
              0.6666666666666666,
              "#ed7953"
             ],
             [
              0.7777777777777778,
              "#fb9f3a"
             ],
             [
              0.8888888888888888,
              "#fdca26"
             ],
             [
              1,
              "#f0f921"
             ]
            ],
            "type": "histogram2dcontour"
           }
          ],
          "mesh3d": [
           {
            "colorbar": {
             "outlinewidth": 0,
             "ticks": ""
            },
            "type": "mesh3d"
           }
          ],
          "parcoords": [
           {
            "line": {
             "colorbar": {
              "outlinewidth": 0,
              "ticks": ""
             }
            },
            "type": "parcoords"
           }
          ],
          "pie": [
           {
            "automargin": true,
            "type": "pie"
           }
          ],
          "scatter": [
           {
            "fillpattern": {
             "fillmode": "overlay",
             "size": 10,
             "solidity": 0.2
            },
            "type": "scatter"
           }
          ],
          "scatter3d": [
           {
            "line": {
             "colorbar": {
              "outlinewidth": 0,
              "ticks": ""
             }
            },
            "marker": {
             "colorbar": {
              "outlinewidth": 0,
              "ticks": ""
             }
            },
            "type": "scatter3d"
           }
          ],
          "scattercarpet": [
           {
            "marker": {
             "colorbar": {
              "outlinewidth": 0,
              "ticks": ""
             }
            },
            "type": "scattercarpet"
           }
          ],
          "scattergeo": [
           {
            "marker": {
             "colorbar": {
              "outlinewidth": 0,
              "ticks": ""
             }
            },
            "type": "scattergeo"
           }
          ],
          "scattergl": [
           {
            "marker": {
             "colorbar": {
              "outlinewidth": 0,
              "ticks": ""
             }
            },
            "type": "scattergl"
           }
          ],
          "scattermapbox": [
           {
            "marker": {
             "colorbar": {
              "outlinewidth": 0,
              "ticks": ""
             }
            },
            "type": "scattermapbox"
           }
          ],
          "scatterpolar": [
           {
            "marker": {
             "colorbar": {
              "outlinewidth": 0,
              "ticks": ""
             }
            },
            "type": "scatterpolar"
           }
          ],
          "scatterpolargl": [
           {
            "marker": {
             "colorbar": {
              "outlinewidth": 0,
              "ticks": ""
             }
            },
            "type": "scatterpolargl"
           }
          ],
          "scatterternary": [
           {
            "marker": {
             "colorbar": {
              "outlinewidth": 0,
              "ticks": ""
             }
            },
            "type": "scatterternary"
           }
          ],
          "surface": [
           {
            "colorbar": {
             "outlinewidth": 0,
             "ticks": ""
            },
            "colorscale": [
             [
              0,
              "#0d0887"
             ],
             [
              0.1111111111111111,
              "#46039f"
             ],
             [
              0.2222222222222222,
              "#7201a8"
             ],
             [
              0.3333333333333333,
              "#9c179e"
             ],
             [
              0.4444444444444444,
              "#bd3786"
             ],
             [
              0.5555555555555556,
              "#d8576b"
             ],
             [
              0.6666666666666666,
              "#ed7953"
             ],
             [
              0.7777777777777778,
              "#fb9f3a"
             ],
             [
              0.8888888888888888,
              "#fdca26"
             ],
             [
              1,
              "#f0f921"
             ]
            ],
            "type": "surface"
           }
          ],
          "table": [
           {
            "cells": {
             "fill": {
              "color": "#EBF0F8"
             },
             "line": {
              "color": "white"
             }
            },
            "header": {
             "fill": {
              "color": "#C8D4E3"
             },
             "line": {
              "color": "white"
             }
            },
            "type": "table"
           }
          ]
         },
         "layout": {
          "annotationdefaults": {
           "arrowcolor": "#2a3f5f",
           "arrowhead": 0,
           "arrowwidth": 1
          },
          "autotypenumbers": "strict",
          "coloraxis": {
           "colorbar": {
            "outlinewidth": 0,
            "ticks": ""
           }
          },
          "colorscale": {
           "diverging": [
            [
             0,
             "#8e0152"
            ],
            [
             0.1,
             "#c51b7d"
            ],
            [
             0.2,
             "#de77ae"
            ],
            [
             0.3,
             "#f1b6da"
            ],
            [
             0.4,
             "#fde0ef"
            ],
            [
             0.5,
             "#f7f7f7"
            ],
            [
             0.6,
             "#e6f5d0"
            ],
            [
             0.7,
             "#b8e186"
            ],
            [
             0.8,
             "#7fbc41"
            ],
            [
             0.9,
             "#4d9221"
            ],
            [
             1,
             "#276419"
            ]
           ],
           "sequential": [
            [
             0,
             "#0d0887"
            ],
            [
             0.1111111111111111,
             "#46039f"
            ],
            [
             0.2222222222222222,
             "#7201a8"
            ],
            [
             0.3333333333333333,
             "#9c179e"
            ],
            [
             0.4444444444444444,
             "#bd3786"
            ],
            [
             0.5555555555555556,
             "#d8576b"
            ],
            [
             0.6666666666666666,
             "#ed7953"
            ],
            [
             0.7777777777777778,
             "#fb9f3a"
            ],
            [
             0.8888888888888888,
             "#fdca26"
            ],
            [
             1,
             "#f0f921"
            ]
           ],
           "sequentialminus": [
            [
             0,
             "#0d0887"
            ],
            [
             0.1111111111111111,
             "#46039f"
            ],
            [
             0.2222222222222222,
             "#7201a8"
            ],
            [
             0.3333333333333333,
             "#9c179e"
            ],
            [
             0.4444444444444444,
             "#bd3786"
            ],
            [
             0.5555555555555556,
             "#d8576b"
            ],
            [
             0.6666666666666666,
             "#ed7953"
            ],
            [
             0.7777777777777778,
             "#fb9f3a"
            ],
            [
             0.8888888888888888,
             "#fdca26"
            ],
            [
             1,
             "#f0f921"
            ]
           ]
          },
          "colorway": [
           "#636efa",
           "#EF553B",
           "#00cc96",
           "#ab63fa",
           "#FFA15A",
           "#19d3f3",
           "#FF6692",
           "#B6E880",
           "#FF97FF",
           "#FECB52"
          ],
          "font": {
           "color": "#2a3f5f"
          },
          "geo": {
           "bgcolor": "white",
           "lakecolor": "white",
           "landcolor": "#E5ECF6",
           "showlakes": true,
           "showland": true,
           "subunitcolor": "white"
          },
          "hoverlabel": {
           "align": "left"
          },
          "hovermode": "closest",
          "mapbox": {
           "style": "light"
          },
          "paper_bgcolor": "white",
          "plot_bgcolor": "#E5ECF6",
          "polar": {
           "angularaxis": {
            "gridcolor": "white",
            "linecolor": "white",
            "ticks": ""
           },
           "bgcolor": "#E5ECF6",
           "radialaxis": {
            "gridcolor": "white",
            "linecolor": "white",
            "ticks": ""
           }
          },
          "scene": {
           "xaxis": {
            "backgroundcolor": "#E5ECF6",
            "gridcolor": "white",
            "gridwidth": 2,
            "linecolor": "white",
            "showbackground": true,
            "ticks": "",
            "zerolinecolor": "white"
           },
           "yaxis": {
            "backgroundcolor": "#E5ECF6",
            "gridcolor": "white",
            "gridwidth": 2,
            "linecolor": "white",
            "showbackground": true,
            "ticks": "",
            "zerolinecolor": "white"
           },
           "zaxis": {
            "backgroundcolor": "#E5ECF6",
            "gridcolor": "white",
            "gridwidth": 2,
            "linecolor": "white",
            "showbackground": true,
            "ticks": "",
            "zerolinecolor": "white"
           }
          },
          "shapedefaults": {
           "line": {
            "color": "#2a3f5f"
           }
          },
          "ternary": {
           "aaxis": {
            "gridcolor": "white",
            "linecolor": "white",
            "ticks": ""
           },
           "baxis": {
            "gridcolor": "white",
            "linecolor": "white",
            "ticks": ""
           },
           "bgcolor": "#E5ECF6",
           "caxis": {
            "gridcolor": "white",
            "linecolor": "white",
            "ticks": ""
           }
          },
          "title": {
           "x": 0.05
          },
          "xaxis": {
           "automargin": true,
           "gridcolor": "white",
           "linecolor": "white",
           "ticks": "",
           "title": {
            "standoff": 15
           },
           "zerolinecolor": "white",
           "zerolinewidth": 2
          },
          "yaxis": {
           "automargin": true,
           "gridcolor": "white",
           "linecolor": "white",
           "ticks": "",
           "title": {
            "standoff": 15
           },
           "zerolinecolor": "white",
           "zerolinewidth": 2
          }
         }
        },
        "title": {
         "text": "The \"residuals–forecasts\" chart"
        },
        "xaxis": {
         "anchor": "y",
         "domain": [
          0,
          1
         ],
         "title": {
          "text": "residuals"
         }
        },
        "yaxis": {
         "anchor": "x",
         "domain": [
          0,
          1
         ],
         "title": {
          "text": "prediction"
         }
        }
       }
      },
      "text/html": [
       "<div>                            <div id=\"adfd9921-6ba0-45b0-a1f8-cc5b78d3ed41\" class=\"plotly-graph-div\" style=\"height:525px; width:100%;\"></div>            <script type=\"text/javascript\">                require([\"plotly\"], function(Plotly) {                    window.PLOTLYENV=window.PLOTLYENV || {};                                    if (document.getElementById(\"adfd9921-6ba0-45b0-a1f8-cc5b78d3ed41\")) {                    Plotly.newPlot(                        \"adfd9921-6ba0-45b0-a1f8-cc5b78d3ed41\",                        [{\"hovertemplate\":\"residuals=%{x}\\u003cbr\\u003eprediction=%{y}\\u003cextra\\u003e\\u003c\\u002fextra\\u003e\",\"legendgroup\":\"\",\"marker\":{\"color\":\"#636efa\",\"symbol\":\"circle\"},\"mode\":\"markers\",\"name\":\"\",\"orientation\":\"v\",\"showlegend\":false,\"x\":[1.7541499806494478,1.0444346518284728,0.864471951409401,0.965670102376059,1.0337701115773257,0.9209957008093692,0.4297585633544436,1.3830929710460804,0.32768627283634366,0.8831197759215783,0.3603363915937301,0.8753296085283715,0.5277414176099668,0.6943512020243325,0.8100458402397237,0.2940898784425716,0.2593532646697465,0.6811066657261247,0.14028054620283115,0.05003201832894355,-0.007527210852874333,0.2672061061337896,0.05581523142353895,-0.11621610781214287,0.13487079237042465,0.5204285121259957,0.48120023035683523,0.6589129296302687,0.888798227959759,0.5775298846877028,-0.07044652449872402,0.33303807246133843,0.4658159558759607,0.24686802053475532,0.3210332306727288,0.3044272497165732,0.255916940859958,0.21972125955914912,0.48391379652636424,0.40974858638839073,-0.1537549394028659,0.3358653640925269,0.24641153753363731,0.225754087591163,0.2591554590666654,0.3211660145567876,0.8381661857900387,0.3380844374229195,0.19152786468333183,0.22194033288954174,0.16764681093833111,-0.13217927249007388,0.37343452834418756,0.19603022768245815,0.399630934999502,0.11758123276001697,0.0359078430709463,0.6252993769058133,-0.2287482052263936,0.10377474550996091,-0.147307922299575,0.9510605086130859,0.25182317794379827,-0.2455872929448013,0.12208087178669658,0.7603506087036056,0.2927372471834513,0.2686230866761985,0.0650223793591529,0.018651808685206106,-0.06277186531341705,0.06487530793039475,-0.17492108068745615,-0.10252971808584199,0.3626944370601901,-0.06633403678503313,-0.18271124808066297,0.11464436971900582,-0.1432498595492504,-0.21289060952462258,0.12066068957585507,-0.030138355484226054,-0.10252971808584199,0.05857700023143764,0.08597337614446054,0.06335107533145568,-0.1749534535921473,-0.2259329689391123,0.33322562817548906,-0.025185330604474032,-0.24963449119816694,0.3998337776825096,0.3648968493136966,-0.2043898895721572,-0.28307955987273026,-0.06865608469412798,0.15367215300441117,-0.27227930992029314,0.2649770173668138,0.11120804590921729,-0.23185568484658603,0.0058867092373997565,0.24568309785525244,-0.2137578441961825,-0.3241187356349631,-0.44902977265143384,-0.1896436836889297,-0.3887199308433722,0.20411684265672214,-0.2903077763140871,-0.5074818641189349,-0.8628602224305464,-0.3525634285285726,-0.29804070572304475,-0.9173709256237377,-0.3855386209706868,-0.11183365234814602,-0.41720984210889434,-0.5969294956809374,-0.40512832131534005,-0.6278054752172739,-0.5589599668437728,0.06778414816705158,0.11755320995566265,0.1763711920694746,-0.4885099302543914,-0.40557778763332486,0.08077680863146242,-0.4133679550265317,-0.2034713425572221,-0.7202384070282228,-0.6626958389232929,-0.5770109511466917,-0.17662109797132253,-0.12232757602011013,-0.7476816843935321,-0.06024388667569269,-0.7876293938488832,-0.45413740048892137,-0.9281841752792168,-0.2970792267158888,-0.3087275592628842,-0.23181173649866693,-0.4100723225427281,-0.7983179808537049,-0.9689887141005471,-1.3821595922439993,-1.3766914727598856,-1.5856115901567076,-0.7217198460974288,-0.8064258362548511,-1.416432716604115,-1.350320256412333,-1.83438306884727],\"xaxis\":\"x\",\"y\":[10.788394901501938,11.161637993701701,11.196574922070514,10.729576919388125,10.661476910186858,10.748933512970524,11.178477081420109,10.206793535060276,11.234029356303317,10.62980568904865,11.152589073376499,10.637595856441857,10.985184047360262,10.818574262945896,10.619498015791454,11.056316657029882,11.030428648986272,10.608675247929893,11.124183559468898,11.175211374189503,11.232770603371321,10.958037286384657,11.169428161094908,11.300637505810336,11.02137972866107,10.6358220089055,10.67505029067466,10.497337591401227,10.238464756198484,10.504612664190072,11.152589073376499,10.68559107069411,10.536283885328277,10.755231820669483,10.68106661053151,10.697672591487665,10.74618290034428,10.782378581645089,10.518186044677874,10.592351254815847,11.155854780607104,10.666234477111711,10.72178675199492,10.725052459225525,10.682840458067867,10.611940955160499,10.094940783927248,10.577004026791688,10.723560599531275,10.693148131325065,10.747441653276276,11.047267736704681,10.504612664190072,10.662968769881106,10.459368062564062,10.702197051650266,10.783870441339337,10.19447890750447,11.048526489636677,10.716003538900322,10.967086206709858,9.868717775797197,10.567955106466485,11.065365577355085,10.6358220089055,9.976046066767626,10.421680521569005,10.445794682076258,10.649395389393304,10.626773088580299,10.684099210999863,10.531759425165678,10.771555813783529,10.699164451181915,10.233940296035883,10.662968769881106,10.779345981176736,10.481990363377067,10.739884592645323,10.809525342620695,10.475974043520218,10.626773088580299,10.699164451181915,10.538057732864635,10.459368062564062,10.481990363377067,10.72029489230067,10.69188937839307,10.12987771229606,10.488288671076024,10.712737831669717,10.06326956278904,10.098206491157853,10.667493230043707,10.74618290034428,10.531759425165678,10.280443650593888,10.67654215036891,10.10851416441505,10.197744614735075,10.540808345490879,10.303065951406893,10.06326956278904,10.522710504840475,10.633071396279256,10.757982433295727,10.498596344333222,10.697672591487665,10.084633110670051,10.530267565471428,10.747441653276276,11.102820011587887,10.556155573515039,10.463892522726663,11.044002029474075,10.512169724821025,10.238464756198484,10.543840945959232,10.723560599531275,10.531759425165678,10.754436579067612,10.68559107069411,10.01802496116303,9.96825589937442,9.909437917260608,10.531759425165678,10.448827282544611,9.962472686279824,10.456617449937818,10.202269074897675,10.719036139368676,10.614973555628852,10.480498503682819,10.08010865050745,10.025815128556237,10.65116923692966,9.96373143921182,10.68106661053151,10.306331658637498,10.726311212157519,10.043912969206641,10.049696182301238,9.97278035953702,10.090416323764646,10.414123460938052,10.584794194184894,10.774821521014136,10.6358220089055,10.795951962132891,9.932060218073612,10.016766208231035,10.626773088580299,10.12987771229606,10.351576260263508],\"yaxis\":\"y\",\"type\":\"scatter\"}],                        {\"template\":{\"data\":{\"histogram2dcontour\":[{\"type\":\"histogram2dcontour\",\"colorbar\":{\"outlinewidth\":0,\"ticks\":\"\"},\"colorscale\":[[0.0,\"#0d0887\"],[0.1111111111111111,\"#46039f\"],[0.2222222222222222,\"#7201a8\"],[0.3333333333333333,\"#9c179e\"],[0.4444444444444444,\"#bd3786\"],[0.5555555555555556,\"#d8576b\"],[0.6666666666666666,\"#ed7953\"],[0.7777777777777778,\"#fb9f3a\"],[0.8888888888888888,\"#fdca26\"],[1.0,\"#f0f921\"]]}],\"choropleth\":[{\"type\":\"choropleth\",\"colorbar\":{\"outlinewidth\":0,\"ticks\":\"\"}}],\"histogram2d\":[{\"type\":\"histogram2d\",\"colorbar\":{\"outlinewidth\":0,\"ticks\":\"\"},\"colorscale\":[[0.0,\"#0d0887\"],[0.1111111111111111,\"#46039f\"],[0.2222222222222222,\"#7201a8\"],[0.3333333333333333,\"#9c179e\"],[0.4444444444444444,\"#bd3786\"],[0.5555555555555556,\"#d8576b\"],[0.6666666666666666,\"#ed7953\"],[0.7777777777777778,\"#fb9f3a\"],[0.8888888888888888,\"#fdca26\"],[1.0,\"#f0f921\"]]}],\"heatmap\":[{\"type\":\"heatmap\",\"colorbar\":{\"outlinewidth\":0,\"ticks\":\"\"},\"colorscale\":[[0.0,\"#0d0887\"],[0.1111111111111111,\"#46039f\"],[0.2222222222222222,\"#7201a8\"],[0.3333333333333333,\"#9c179e\"],[0.4444444444444444,\"#bd3786\"],[0.5555555555555556,\"#d8576b\"],[0.6666666666666666,\"#ed7953\"],[0.7777777777777778,\"#fb9f3a\"],[0.8888888888888888,\"#fdca26\"],[1.0,\"#f0f921\"]]}],\"heatmapgl\":[{\"type\":\"heatmapgl\",\"colorbar\":{\"outlinewidth\":0,\"ticks\":\"\"},\"colorscale\":[[0.0,\"#0d0887\"],[0.1111111111111111,\"#46039f\"],[0.2222222222222222,\"#7201a8\"],[0.3333333333333333,\"#9c179e\"],[0.4444444444444444,\"#bd3786\"],[0.5555555555555556,\"#d8576b\"],[0.6666666666666666,\"#ed7953\"],[0.7777777777777778,\"#fb9f3a\"],[0.8888888888888888,\"#fdca26\"],[1.0,\"#f0f921\"]]}],\"contourcarpet\":[{\"type\":\"contourcarpet\",\"colorbar\":{\"outlinewidth\":0,\"ticks\":\"\"}}],\"contour\":[{\"type\":\"contour\",\"colorbar\":{\"outlinewidth\":0,\"ticks\":\"\"},\"colorscale\":[[0.0,\"#0d0887\"],[0.1111111111111111,\"#46039f\"],[0.2222222222222222,\"#7201a8\"],[0.3333333333333333,\"#9c179e\"],[0.4444444444444444,\"#bd3786\"],[0.5555555555555556,\"#d8576b\"],[0.6666666666666666,\"#ed7953\"],[0.7777777777777778,\"#fb9f3a\"],[0.8888888888888888,\"#fdca26\"],[1.0,\"#f0f921\"]]}],\"surface\":[{\"type\":\"surface\",\"colorbar\":{\"outlinewidth\":0,\"ticks\":\"\"},\"colorscale\":[[0.0,\"#0d0887\"],[0.1111111111111111,\"#46039f\"],[0.2222222222222222,\"#7201a8\"],[0.3333333333333333,\"#9c179e\"],[0.4444444444444444,\"#bd3786\"],[0.5555555555555556,\"#d8576b\"],[0.6666666666666666,\"#ed7953\"],[0.7777777777777778,\"#fb9f3a\"],[0.8888888888888888,\"#fdca26\"],[1.0,\"#f0f921\"]]}],\"mesh3d\":[{\"type\":\"mesh3d\",\"colorbar\":{\"outlinewidth\":0,\"ticks\":\"\"}}],\"scatter\":[{\"fillpattern\":{\"fillmode\":\"overlay\",\"size\":10,\"solidity\":0.2},\"type\":\"scatter\"}],\"parcoords\":[{\"type\":\"parcoords\",\"line\":{\"colorbar\":{\"outlinewidth\":0,\"ticks\":\"\"}}}],\"scatterpolargl\":[{\"type\":\"scatterpolargl\",\"marker\":{\"colorbar\":{\"outlinewidth\":0,\"ticks\":\"\"}}}],\"bar\":[{\"error_x\":{\"color\":\"#2a3f5f\"},\"error_y\":{\"color\":\"#2a3f5f\"},\"marker\":{\"line\":{\"color\":\"#E5ECF6\",\"width\":0.5},\"pattern\":{\"fillmode\":\"overlay\",\"size\":10,\"solidity\":0.2}},\"type\":\"bar\"}],\"scattergeo\":[{\"type\":\"scattergeo\",\"marker\":{\"colorbar\":{\"outlinewidth\":0,\"ticks\":\"\"}}}],\"scatterpolar\":[{\"type\":\"scatterpolar\",\"marker\":{\"colorbar\":{\"outlinewidth\":0,\"ticks\":\"\"}}}],\"histogram\":[{\"marker\":{\"pattern\":{\"fillmode\":\"overlay\",\"size\":10,\"solidity\":0.2}},\"type\":\"histogram\"}],\"scattergl\":[{\"type\":\"scattergl\",\"marker\":{\"colorbar\":{\"outlinewidth\":0,\"ticks\":\"\"}}}],\"scatter3d\":[{\"type\":\"scatter3d\",\"line\":{\"colorbar\":{\"outlinewidth\":0,\"ticks\":\"\"}},\"marker\":{\"colorbar\":{\"outlinewidth\":0,\"ticks\":\"\"}}}],\"scattermapbox\":[{\"type\":\"scattermapbox\",\"marker\":{\"colorbar\":{\"outlinewidth\":0,\"ticks\":\"\"}}}],\"scatterternary\":[{\"type\":\"scatterternary\",\"marker\":{\"colorbar\":{\"outlinewidth\":0,\"ticks\":\"\"}}}],\"scattercarpet\":[{\"type\":\"scattercarpet\",\"marker\":{\"colorbar\":{\"outlinewidth\":0,\"ticks\":\"\"}}}],\"carpet\":[{\"aaxis\":{\"endlinecolor\":\"#2a3f5f\",\"gridcolor\":\"white\",\"linecolor\":\"white\",\"minorgridcolor\":\"white\",\"startlinecolor\":\"#2a3f5f\"},\"baxis\":{\"endlinecolor\":\"#2a3f5f\",\"gridcolor\":\"white\",\"linecolor\":\"white\",\"minorgridcolor\":\"white\",\"startlinecolor\":\"#2a3f5f\"},\"type\":\"carpet\"}],\"table\":[{\"cells\":{\"fill\":{\"color\":\"#EBF0F8\"},\"line\":{\"color\":\"white\"}},\"header\":{\"fill\":{\"color\":\"#C8D4E3\"},\"line\":{\"color\":\"white\"}},\"type\":\"table\"}],\"barpolar\":[{\"marker\":{\"line\":{\"color\":\"#E5ECF6\",\"width\":0.5},\"pattern\":{\"fillmode\":\"overlay\",\"size\":10,\"solidity\":0.2}},\"type\":\"barpolar\"}],\"pie\":[{\"automargin\":true,\"type\":\"pie\"}]},\"layout\":{\"autotypenumbers\":\"strict\",\"colorway\":[\"#636efa\",\"#EF553B\",\"#00cc96\",\"#ab63fa\",\"#FFA15A\",\"#19d3f3\",\"#FF6692\",\"#B6E880\",\"#FF97FF\",\"#FECB52\"],\"font\":{\"color\":\"#2a3f5f\"},\"hovermode\":\"closest\",\"hoverlabel\":{\"align\":\"left\"},\"paper_bgcolor\":\"white\",\"plot_bgcolor\":\"#E5ECF6\",\"polar\":{\"bgcolor\":\"#E5ECF6\",\"angularaxis\":{\"gridcolor\":\"white\",\"linecolor\":\"white\",\"ticks\":\"\"},\"radialaxis\":{\"gridcolor\":\"white\",\"linecolor\":\"white\",\"ticks\":\"\"}},\"ternary\":{\"bgcolor\":\"#E5ECF6\",\"aaxis\":{\"gridcolor\":\"white\",\"linecolor\":\"white\",\"ticks\":\"\"},\"baxis\":{\"gridcolor\":\"white\",\"linecolor\":\"white\",\"ticks\":\"\"},\"caxis\":{\"gridcolor\":\"white\",\"linecolor\":\"white\",\"ticks\":\"\"}},\"coloraxis\":{\"colorbar\":{\"outlinewidth\":0,\"ticks\":\"\"}},\"colorscale\":{\"sequential\":[[0.0,\"#0d0887\"],[0.1111111111111111,\"#46039f\"],[0.2222222222222222,\"#7201a8\"],[0.3333333333333333,\"#9c179e\"],[0.4444444444444444,\"#bd3786\"],[0.5555555555555556,\"#d8576b\"],[0.6666666666666666,\"#ed7953\"],[0.7777777777777778,\"#fb9f3a\"],[0.8888888888888888,\"#fdca26\"],[1.0,\"#f0f921\"]],\"sequentialminus\":[[0.0,\"#0d0887\"],[0.1111111111111111,\"#46039f\"],[0.2222222222222222,\"#7201a8\"],[0.3333333333333333,\"#9c179e\"],[0.4444444444444444,\"#bd3786\"],[0.5555555555555556,\"#d8576b\"],[0.6666666666666666,\"#ed7953\"],[0.7777777777777778,\"#fb9f3a\"],[0.8888888888888888,\"#fdca26\"],[1.0,\"#f0f921\"]],\"diverging\":[[0,\"#8e0152\"],[0.1,\"#c51b7d\"],[0.2,\"#de77ae\"],[0.3,\"#f1b6da\"],[0.4,\"#fde0ef\"],[0.5,\"#f7f7f7\"],[0.6,\"#e6f5d0\"],[0.7,\"#b8e186\"],[0.8,\"#7fbc41\"],[0.9,\"#4d9221\"],[1,\"#276419\"]]},\"xaxis\":{\"gridcolor\":\"white\",\"linecolor\":\"white\",\"ticks\":\"\",\"title\":{\"standoff\":15},\"zerolinecolor\":\"white\",\"automargin\":true,\"zerolinewidth\":2},\"yaxis\":{\"gridcolor\":\"white\",\"linecolor\":\"white\",\"ticks\":\"\",\"title\":{\"standoff\":15},\"zerolinecolor\":\"white\",\"automargin\":true,\"zerolinewidth\":2},\"scene\":{\"xaxis\":{\"backgroundcolor\":\"#E5ECF6\",\"gridcolor\":\"white\",\"linecolor\":\"white\",\"showbackground\":true,\"ticks\":\"\",\"zerolinecolor\":\"white\",\"gridwidth\":2},\"yaxis\":{\"backgroundcolor\":\"#E5ECF6\",\"gridcolor\":\"white\",\"linecolor\":\"white\",\"showbackground\":true,\"ticks\":\"\",\"zerolinecolor\":\"white\",\"gridwidth\":2},\"zaxis\":{\"backgroundcolor\":\"#E5ECF6\",\"gridcolor\":\"white\",\"linecolor\":\"white\",\"showbackground\":true,\"ticks\":\"\",\"zerolinecolor\":\"white\",\"gridwidth\":2}},\"shapedefaults\":{\"line\":{\"color\":\"#2a3f5f\"}},\"annotationdefaults\":{\"arrowcolor\":\"#2a3f5f\",\"arrowhead\":0,\"arrowwidth\":1},\"geo\":{\"bgcolor\":\"white\",\"landcolor\":\"#E5ECF6\",\"subunitcolor\":\"white\",\"showland\":true,\"showlakes\":true,\"lakecolor\":\"white\"},\"title\":{\"x\":0.05},\"mapbox\":{\"style\":\"light\"}}},\"xaxis\":{\"anchor\":\"y\",\"domain\":[0.0,1.0],\"title\":{\"text\":\"residuals\"}},\"yaxis\":{\"anchor\":\"x\",\"domain\":[0.0,1.0],\"title\":{\"text\":\"prediction\"}},\"legend\":{\"tracegroupgap\":0},\"title\":{\"text\":\"The \\\"residuals–forecasts\\\" chart\"}},                        {\"responsive\": true}                    ).then(function(){\n",
       "                            \n",
       "var gd = document.getElementById('adfd9921-6ba0-45b0-a1f8-cc5b78d3ed41');\n",
       "var x = new MutationObserver(function (mutations, observer) {{\n",
       "        var display = window.getComputedStyle(gd).display;\n",
       "        if (!display || display === 'none') {{\n",
       "            console.log([gd, 'removed!']);\n",
       "            Plotly.purge(gd);\n",
       "            observer.disconnect();\n",
       "        }}\n",
       "}});\n",
       "\n",
       "// Listen for the removal of the full notebook cells\n",
       "var notebookContainer = gd.closest('#notebook-container');\n",
       "if (notebookContainer) {{\n",
       "    x.observe(notebookContainer, {childList: true});\n",
       "}}\n",
       "\n",
       "// Listen for the clearing of the current output cell\n",
       "var outputEl = gd.closest('.output');\n",
       "if (outputEl) {{\n",
       "    x.observe(outputEl, {childList: true});\n",
       "}}\n",
       "\n",
       "                        })                };                });            </script>        </div>"
      ]
     },
     "metadata": {},
     "output_type": "display_data"
    }
   ],
   "source": [
    "px.scatter(x=log_w.resid, y=log_w.fittedvalues,\n",
    "          title='The \"residuals–forecasts\" chart',\n",
    "          labels={'x': 'residuals', 'y':'prediction'})"
   ]
  },
  {
   "cell_type": "markdown",
   "id": "d0d4227c",
   "metadata": {},
   "source": [
    "Выглядит как хорошее облако, я полагаю, что гомоскедостичность соблюдена)"
   ]
  },
  {
   "cell_type": "markdown",
   "id": "d230fbd0",
   "metadata": {},
   "source": [
    "# Ex 10"
   ]
  },
  {
   "cell_type": "markdown",
   "id": "5b5a19ca",
   "metadata": {},
   "source": [
    "### Есть ли гетероскедастичность?"
   ]
  },
  {
   "cell_type": "code",
   "execution_count": 309,
   "id": "7c16c845",
   "metadata": {},
   "outputs": [
    {
     "name": "stdout",
     "output_type": "stream",
     "text": [
      "Гетероскедастичность на месте\n"
     ]
    }
   ],
   "source": [
    "from statsmodels.stats.diagnostic import het_white\n",
    "\n",
    "to_test = df[needed_columns].copy()\n",
    "\n",
    "\n",
    "import statsmodels.api as sm\n",
    "\n",
    "X_with_const = sm.add_constant(to_test)\n",
    "\n",
    "\n",
    "lm_stat, lm_pvalue, f_stat, f_pvalue = het_white(log_w.resid ** 2, X_with_const)\n",
    "\n",
    "\n",
    "if f_pvalue < 0.05:\n",
    "    print(\"Гетероскедастичность на месте\")\n",
    "else:\n",
    "    print(\"Гомоскедастичность есть\")"
   ]
  },
  {
   "cell_type": "markdown",
   "id": "4046c23b",
   "metadata": {},
   "source": [
    "### Решаем"
   ]
  },
  {
   "cell_type": "code",
   "execution_count": 258,
   "id": "e2d1f01b",
   "metadata": {},
   "outputs": [
    {
     "name": "stdout",
     "output_type": "stream",
     "text": [
      "                            OLS Regression Results                            \n",
      "==============================================================================\n",
      "Dep. Variable:               wage_log   R-squared:                       0.256\n",
      "Model:                            OLS   Adj. R-squared:                  0.236\n",
      "Method:                 Least Squares   F-statistic:                     15.29\n",
      "Date:                Thu, 12 Dec 2024   Prob (F-statistic):           1.68e-10\n",
      "Time:                        21:59:38   Log-Likelihood:                -127.90\n",
      "No. Observations:                 154   AIC:                             265.8\n",
      "Df Residuals:                     149   BIC:                             281.0\n",
      "Df Model:                           4                                         \n",
      "Covariance Type:                  HC0                                         \n",
      "==============================================================================\n",
      "                 coef    std err          t      P>|t|      [0.025      0.975]\n",
      "------------------------------------------------------------------------------\n",
      "Intercept     11.0144      0.205     53.658      0.000      10.609      11.420\n",
      "age           -0.0090      0.004     -2.245      0.026      -0.017      -0.001\n",
      "high_educ      0.5002      0.092      5.413      0.000       0.318       0.683\n",
      "is_female     -0.4760      0.097     -4.905      0.000      -0.668      -0.284\n",
      "smoking        0.0485      0.100      0.483      0.630      -0.150       0.247\n",
      "==============================================================================\n",
      "Omnibus:                        8.827   Durbin-Watson:                   0.474\n",
      "Prob(Omnibus):                  0.012   Jarque-Bera (JB):               12.059\n",
      "Skew:                          -0.333   Prob(JB):                      0.00241\n",
      "Kurtosis:                       4.198   Cond. No.                         234.\n",
      "==============================================================================\n",
      "\n",
      "Notes:\n",
      "[1] Standard Errors are heteroscedasticity robust (HC0)\n"
     ]
    }
   ],
   "source": [
    "robust_model = log_w.get_robustcov_results(cov_type=\"HC0\")\n",
    "\n",
    "print(robust_model.summary())"
   ]
  },
  {
   "cell_type": "markdown",
   "id": "1cc3f91c",
   "metadata": {},
   "source": [
    "# Ex 11"
   ]
  },
  {
   "cell_type": "code",
   "execution_count": 308,
   "id": "7650f3ea",
   "metadata": {},
   "outputs": [
    {
     "name": "stdout",
     "output_type": "stream",
     "text": [
      "p-value(0.200704)\n",
      "модель в этом плане специфицирована правильно\n"
     ]
    }
   ],
   "source": [
    "from statsmodels.formula.api import ols\n",
    "\n",
    "df['wage_log'] = np.log(df['wage'])\n",
    "df['intercept'] = 1\n",
    "\n",
    "needed_columns = ['age', 'high_educ', 'is_female', 'smoking', 'intercept']\n",
    "\n",
    "log_w = sm.OLS(df['wage_log'].to_numpy(), \n",
    "            df[needed_columns].to_numpy()).fit()\n",
    "\n",
    "\n",
    "from statsmodels.stats.diagnostic import linear_reset\n",
    "\n",
    "reset = linear_reset(res=log_w, power=2, test_type=\"fitted\", use_f=True)\n",
    "\n",
    "p_value = reset.pvalue\n",
    "\n",
    "print(f'p-value({p_value:.6f})')\n",
    "\n",
    "if reset.pvalue < 0.05:\n",
    "    print(\"есть нелинейность по параметрам\")\n",
    "else:\n",
    "    print(\"модель в этом плане специфицирована правильно\")"
   ]
  },
  {
   "cell_type": "markdown",
   "id": "74736a52",
   "metadata": {},
   "source": [
    "# Ex 12"
   ]
  },
  {
   "cell_type": "code",
   "execution_count": 296,
   "id": "d67203fb",
   "metadata": {},
   "outputs": [
    {
     "name": "stdout",
     "output_type": "stream",
     "text": [
      "                            OLS Regression Results                            \n",
      "==============================================================================\n",
      "Dep. Variable:               wage_log   R-squared:                       0.256\n",
      "Model:                            OLS   Adj. R-squared:                  0.236\n",
      "Method:                 Least Squares   F-statistic:                     12.85\n",
      "Date:                Fri, 13 Dec 2024   Prob (F-statistic):           5.21e-09\n",
      "Time:                        09:32:03   Log-Likelihood:                -127.90\n",
      "No. Observations:                 154   AIC:                             265.8\n",
      "Df Residuals:                     149   BIC:                             281.0\n",
      "Df Model:                           4                                         \n",
      "Covariance Type:            nonrobust                                         \n",
      "==============================================================================\n",
      "                 coef    std err          t      P>|t|      [0.025      0.975]\n",
      "------------------------------------------------------------------------------\n",
      "Intercept     11.0144      0.211     52.123      0.000      10.597      11.432\n",
      "age           -0.0090      0.004     -2.323      0.022      -0.017      -0.001\n",
      "high_educ      0.5002      0.097      5.135      0.000       0.308       0.693\n",
      "is_female     -0.4760      0.096     -4.958      0.000      -0.666      -0.286\n",
      "smoking        0.0485      0.099      0.491      0.624      -0.147       0.244\n",
      "==============================================================================\n",
      "Omnibus:                        8.827   Durbin-Watson:                   0.474\n",
      "Prob(Omnibus):                  0.012   Jarque-Bera (JB):               12.059\n",
      "Skew:                          -0.333   Prob(JB):                      0.00241\n",
      "Kurtosis:                       4.198   Cond. No.                         234.\n",
      "==============================================================================\n",
      "\n",
      "Notes:\n",
      "[1] Standard Errors assume that the covariance matrix of the errors is correctly specified.\n"
     ]
    }
   ],
   "source": [
    "from statsmodels.formula.api import ols\n",
    "\n",
    "\n",
    "df['wage_log'] = np.log(df['wage'])\n",
    "\n",
    "needed_columns = ['age', 'high_educ', 'is_female', 'smoking']\n",
    "\n",
    "formula = 'wage_log ~ ' + ' + '.join(needed_columns)\n",
    "\n",
    "log_w = ols(formula, df).fit()\n",
    "print(log_w.summary())"
   ]
  },
  {
   "cell_type": "markdown",
   "id": "dbd9eb77",
   "metadata": {},
   "source": [
    "Smoking оказался незначимым. Поэтому уберём его из оценки"
   ]
  },
  {
   "cell_type": "code",
   "execution_count": 297,
   "id": "bd1812b3",
   "metadata": {},
   "outputs": [
    {
     "name": "stdout",
     "output_type": "stream",
     "text": [
      "                            OLS Regression Results                            \n",
      "==============================================================================\n",
      "Dep. Variable:               wage_log   R-squared:                       0.255\n",
      "Model:                            OLS   Adj. R-squared:                  0.240\n",
      "Method:                 Least Squares   F-statistic:                     17.13\n",
      "Date:                Fri, 13 Dec 2024   Prob (F-statistic):           1.28e-09\n",
      "Time:                        09:33:37   Log-Likelihood:                -128.03\n",
      "No. Observations:                 154   AIC:                             264.1\n",
      "Df Residuals:                     150   BIC:                             276.2\n",
      "Df Model:                           3                                         \n",
      "Covariance Type:            nonrobust                                         \n",
      "==============================================================================\n",
      "                 coef    std err          t      P>|t|      [0.025      0.975]\n",
      "------------------------------------------------------------------------------\n",
      "Intercept     11.0550      0.194     56.981      0.000      10.672      11.438\n",
      "age           -0.0093      0.004     -2.416      0.017      -0.017      -0.002\n",
      "high_educ      0.4876      0.094      5.202      0.000       0.302       0.673\n",
      "is_female     -0.4811      0.095     -5.052      0.000      -0.669      -0.293\n",
      "==============================================================================\n",
      "Omnibus:                        8.136   Durbin-Watson:                   0.480\n",
      "Prob(Omnibus):                  0.017   Jarque-Bera (JB):               11.216\n",
      "Skew:                          -0.297   Prob(JB):                      0.00367\n",
      "Kurtosis:                       4.181   Cond. No.                         210.\n",
      "==============================================================================\n",
      "\n",
      "Notes:\n",
      "[1] Standard Errors assume that the covariance matrix of the errors is correctly specified.\n"
     ]
    }
   ],
   "source": [
    "needed_columns = ['age', 'high_educ', 'is_female']\n",
    "\n",
    "formula = 'wage_log ~ ' + ' + '.join(needed_columns)\n",
    "\n",
    "simple = ols(formula, df).fit()\n",
    "print(simple.summary())"
   ]
  },
  {
   "cell_type": "markdown",
   "id": "aa385939",
   "metadata": {},
   "source": [
    "Нельзя сравнивать обычный $R^2$ потому что при добавлении любого признака (даже незначимого), то $R^2$ не уменьшится. Поэтому следует сравнивать другой признак, например, \"скорректированный\" $R^2$. Для модели с удалённым smoking он составил 0.24, с ним - 0.236, поэтому можно сказать, что короткая модель \"лучше\"."
   ]
  },
  {
   "cell_type": "markdown",
   "id": "0b28fd0f",
   "metadata": {},
   "source": [
    "# Ex 13"
   ]
  },
  {
   "cell_type": "markdown",
   "id": "d0f7269a",
   "metadata": {},
   "source": [
    "Интуитивно влияение возраста на доход нелинейное. На самом деле молодые получают мало из-за отсутствия высшего образовани и/или маленького опыта, люди предпенсионного и пенсионного возраста получают меньше из-за снижения работоспособности и приближения пенсии (работодатель понимает, что работник вскоре может уйти и ему придётся найти замену, поэтому предпочитает не нанимать таких сотрудников.\n",
    "\n",
    "Тогда в корректной функциональной форме зависимость будет не только от возраста, но и от квадрата возраста.\n",
    "\n",
    "Сформулируем гипотезу так: \n",
    "\n",
    "wage_log ~ age + high_educ + is_female + is_smoking + age^2\n",
    "\n",
    "H0: $ \\beta_5 = 0$\n",
    "\n",
    "H1: $ \\beta_5 \\ne 0$\n",
    "\n",
    "Проверить такую гипотезу можно обычным т-тестом"
   ]
  },
  {
   "cell_type": "markdown",
   "id": "3ab565de",
   "metadata": {},
   "source": [
    "### T-test"
   ]
  },
  {
   "cell_type": "code",
   "execution_count": 300,
   "id": "e8bc925a",
   "metadata": {},
   "outputs": [],
   "source": [
    "df['age_squared'] = df['age'] ** 2"
   ]
  },
  {
   "cell_type": "code",
   "execution_count": 301,
   "id": "664a92ca",
   "metadata": {},
   "outputs": [
    {
     "name": "stdout",
     "output_type": "stream",
     "text": [
      "                            OLS Regression Results                            \n",
      "==============================================================================\n",
      "Dep. Variable:               wage_log   R-squared:                       0.264\n",
      "Model:                            OLS   Adj. R-squared:                  0.239\n",
      "Method:                 Least Squares   F-statistic:                     10.63\n",
      "Date:                Fri, 13 Dec 2024   Prob (F-statistic):           9.77e-09\n",
      "Time:                        09:41:04   Log-Likelihood:                -127.10\n",
      "No. Observations:                 154   AIC:                             266.2\n",
      "Df Residuals:                     148   BIC:                             284.4\n",
      "Df Model:                           5                                         \n",
      "Covariance Type:            nonrobust                                         \n",
      "===============================================================================\n",
      "                  coef    std err          t      P>|t|      [0.025      0.975]\n",
      "-------------------------------------------------------------------------------\n",
      "Intercept      10.2154      0.674     15.149      0.000       8.883      11.548\n",
      "age             0.0263      0.029      0.920      0.359      -0.030       0.083\n",
      "high_educ       0.4831      0.098      4.921      0.000       0.289       0.677\n",
      "is_female      -0.4777      0.096     -4.984      0.000      -0.667      -0.288\n",
      "smoking         0.0390      0.099      0.394      0.694      -0.156       0.234\n",
      "age_squared    -0.0004      0.000     -1.247      0.214      -0.001       0.000\n",
      "==============================================================================\n",
      "Omnibus:                        7.717   Durbin-Watson:                   0.496\n",
      "Prob(Omnibus):                  0.021   Jarque-Bera (JB):               10.653\n",
      "Skew:                          -0.275   Prob(JB):                      0.00486\n",
      "Kurtosis:                       4.165   Cond. No.                     3.94e+04\n",
      "==============================================================================\n",
      "\n",
      "Notes:\n",
      "[1] Standard Errors assume that the covariance matrix of the errors is correctly specified.\n",
      "[2] The condition number is large, 3.94e+04. This might indicate that there are\n",
      "strong multicollinearity or other numerical problems.\n"
     ]
    }
   ],
   "source": [
    "needed_columns = ['age', 'high_educ', 'is_female', 'smoking', 'age_squared']\n",
    "\n",
    "formula = 'wage_log ~ ' + ' + '.join(needed_columns)\n",
    "\n",
    "simple = ols(formula, df).fit()\n",
    "print(simple.summary())"
   ]
  },
  {
   "cell_type": "markdown",
   "id": "b4ccf35f",
   "metadata": {},
   "source": [
    "### Давайте проверим ещё с помощью сравнения p-value тестов Рамсея по аналогии со слайдами лекции"
   ]
  },
  {
   "cell_type": "code",
   "execution_count": 307,
   "id": "ae410a3f",
   "metadata": {},
   "outputs": [
    {
     "name": "stdout",
     "output_type": "stream",
     "text": [
      "0.161927\n"
     ]
    }
   ],
   "source": [
    "from statsmodels.formula.api import ols\n",
    "\n",
    "df['intercept'] = 1\n",
    "\n",
    "needed_columns = ['age', 'high_educ', 'is_female', 'smoking', 'intercept', 'age_squared']\n",
    "\n",
    "log_w = sm.OLS(df['wage_log'].to_numpy(), \n",
    "            df[needed_columns].to_numpy()).fit()\n",
    "\n",
    "\n",
    "from statsmodels.stats.diagnostic import linear_reset\n",
    "\n",
    "reset = linear_reset(res=log_w, power=2, test_type=\"fitted\", use_f=True)\n",
    "\n",
    "p_value = reset.pvalue\n",
    "\n",
    "print(f'{p_value:.6f}')"
   ]
  },
  {
   "cell_type": "markdown",
   "id": "697bd923",
   "metadata": {},
   "source": [
    "p-value > 0.05 -> модель правильно специфицирована\n",
    "\n",
    "но p-value ниже, чем без age^2. Хз что это означать может"
   ]
  },
  {
   "cell_type": "markdown",
   "id": "2db5bdd4",
   "metadata": {},
   "source": [
    "# Ex 14"
   ]
  },
  {
   "cell_type": "markdown",
   "id": "4235302d",
   "metadata": {},
   "source": [
    "Мы выяснили, что у нас нет разной функциональной зависимости от остальных параметров для мужчин и для женщин, поэтому будем использовать обычную модель\n",
    "\n",
    "Мы будем использовать такую функциональную зависимость (она дала лучший скор - смотри пункт 4):\n",
    "\n",
    "wage_log ~ age + high_educ + is_female (модель без smoking оказалась лучше)\n",
    "\n",
    "В итоге мы выяснили, что в нашем датасете нет проблемы с мультиколлинеарности, поэтому не будем применять PCA (или другие методы борьбы с мультиколлинеарностью), но у нас нарушается предположение о гомоскедастичности, поэтому мы будем использовать робастные стандартные ошибки\n"
   ]
  },
  {
   "cell_type": "code",
   "execution_count": 318,
   "id": "56709669",
   "metadata": {},
   "outputs": [
    {
     "name": "stdout",
     "output_type": "stream",
     "text": [
      "                            OLS Regression Results                            \n",
      "==============================================================================\n",
      "Dep. Variable:               wage_log   R-squared:                       0.255\n",
      "Model:                            OLS   Adj. R-squared:                  0.240\n",
      "Method:                 Least Squares   F-statistic:                     17.13\n",
      "Date:                Fri, 13 Dec 2024   Prob (F-statistic):           1.28e-09\n",
      "Time:                        09:59:21   Log-Likelihood:                -128.03\n",
      "No. Observations:                 154   AIC:                             264.1\n",
      "Df Residuals:                     150   BIC:                             276.2\n",
      "Df Model:                           3                                         \n",
      "Covariance Type:            nonrobust                                         \n",
      "==============================================================================\n",
      "                 coef    std err          t      P>|t|      [0.025      0.975]\n",
      "------------------------------------------------------------------------------\n",
      "Intercept     11.0550      0.194     56.981      0.000      10.672      11.438\n",
      "age           -0.0093      0.004     -2.416      0.017      -0.017      -0.002\n",
      "high_educ      0.4876      0.094      5.202      0.000       0.302       0.673\n",
      "is_female     -0.4811      0.095     -5.052      0.000      -0.669      -0.293\n",
      "==============================================================================\n",
      "Omnibus:                        8.136   Durbin-Watson:                   0.480\n",
      "Prob(Omnibus):                  0.017   Jarque-Bera (JB):               11.216\n",
      "Skew:                          -0.297   Prob(JB):                      0.00367\n",
      "Kurtosis:                       4.181   Cond. No.                         210.\n",
      "==============================================================================\n",
      "\n",
      "Notes:\n",
      "[1] Standard Errors assume that the covariance matrix of the errors is correctly specified.\n"
     ]
    }
   ],
   "source": [
    "needed_columns = ['age', 'high_educ', 'is_female']\n",
    "\n",
    "formula = 'wage_log ~ ' + ' + '.join(needed_columns)\n",
    "\n",
    "final = ols(formula, df).fit()\n",
    "\n",
    "final.get_robustcov_results(cov_type=\"HC0\")\n",
    "print(final.summary())"
   ]
  },
  {
   "cell_type": "code",
   "execution_count": null,
   "id": "cad8d58b",
   "metadata": {},
   "outputs": [],
   "source": []
  }
 ],
 "metadata": {
  "kernelspec": {
   "display_name": "Python 3",
   "language": "python",
   "name": "python3"
  },
  "language_info": {
   "codemirror_mode": {
    "name": "ipython",
    "version": 3
   },
   "file_extension": ".py",
   "mimetype": "text/x-python",
   "name": "python",
   "nbconvert_exporter": "python",
   "pygments_lexer": "ipython3",
   "version": "3.12.6"
  }
 },
 "nbformat": 4,
 "nbformat_minor": 5
}
